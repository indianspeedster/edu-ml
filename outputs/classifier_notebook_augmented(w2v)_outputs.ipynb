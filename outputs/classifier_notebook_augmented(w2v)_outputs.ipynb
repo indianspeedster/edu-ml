{
  "nbformat": 4,
  "nbformat_minor": 0,
  "metadata": {
    "colab": {
      "provenance": [],
      "gpuType": "T4",
      "authorship_tag": "ABX9TyOuaqeCBaFlCcprxPIO4oNU",
      "include_colab_link": true
    },
    "kernelspec": {
      "name": "python3",
      "display_name": "Python 3"
    },
    "language_info": {
      "name": "python"
    },
    "accelerator": "GPU"
  },
  "cells": [
    {
      "cell_type": "markdown",
      "metadata": {
        "id": "view-in-github",
        "colab_type": "text"
      },
      "source": [
        "<a href=\"https://colab.research.google.com/github/indianspeedster/edu-ml/blob/main/outputs/classifier_notebook_augmented(w2v)_outputs.ipynb\" target=\"_parent\"><img src=\"https://colab.research.google.com/assets/colab-badge.svg\" alt=\"Open In Colab\"/></a>"
      ]
    },
    {
      "cell_type": "markdown",
      "source": [
        "### Install transformers"
      ],
      "metadata": {
        "id": "aAPaGylbT7pH"
      }
    },
    {
      "cell_type": "code",
      "execution_count": 7,
      "metadata": {
        "colab": {
          "base_uri": "https://localhost:8080/"
        },
        "id": "gzPoVi-cTxhb",
        "outputId": "568dc9c8-625a-4b56-8acd-742e9f6583cb"
      },
      "outputs": [
        {
          "output_type": "stream",
          "name": "stdout",
          "text": [
            "Defaulting to user installation because normal site-packages is not writeable\n",
            "Requirement already satisfied: transformers in ./.local/lib/python3.8/site-packages (4.30.2)\n",
            "Requirement already satisfied: filelock in /usr/lib/python3/dist-packages (from transformers) (3.0.12)\n",
            "Requirement already satisfied: huggingface-hub<1.0,>=0.14.1 in ./.local/lib/python3.8/site-packages (from transformers) (0.15.1)\n",
            "Requirement already satisfied: numpy>=1.17 in ./.local/lib/python3.8/site-packages (from transformers) (1.21.6)\n",
            "Requirement already satisfied: packaging>=20.0 in ./.local/lib/python3.8/site-packages (from transformers) (23.1)\n",
            "Requirement already satisfied: pyyaml>=5.1 in ./.local/lib/python3.8/site-packages (from transformers) (6.0)\n",
            "Requirement already satisfied: regex!=2019.12.17 in ./.local/lib/python3.8/site-packages (from transformers) (2023.6.3)\n",
            "Requirement already satisfied: requests in /usr/lib/python3/dist-packages (from transformers) (2.22.0)\n",
            "Requirement already satisfied: tokenizers!=0.11.3,<0.14,>=0.11.1 in ./.local/lib/python3.8/site-packages (from transformers) (0.13.3)\n",
            "Requirement already satisfied: safetensors>=0.3.1 in ./.local/lib/python3.8/site-packages (from transformers) (0.3.1)\n",
            "Requirement already satisfied: tqdm>=4.27 in ./.local/lib/python3.8/site-packages (from transformers) (4.65.0)\n",
            "Requirement already satisfied: fsspec in ./.local/lib/python3.8/site-packages (from huggingface-hub<1.0,>=0.14.1->transformers) (2023.6.0)\n",
            "Requirement already satisfied: typing-extensions>=3.7.4.3 in ./.local/lib/python3.8/site-packages (from huggingface-hub<1.0,>=0.14.1->transformers) (4.7.1)\n",
            "Defaulting to user installation because normal site-packages is not writeable\n",
            "Requirement already satisfied: datasets in ./.local/lib/python3.8/site-packages (2.13.1)\n",
            "Requirement already satisfied: numpy>=1.17 in ./.local/lib/python3.8/site-packages (from datasets) (1.21.6)\n",
            "Requirement already satisfied: pyarrow>=8.0.0 in ./.local/lib/python3.8/site-packages (from datasets) (12.0.1)\n",
            "Requirement already satisfied: dill<0.3.7,>=0.3.0 in ./.local/lib/python3.8/site-packages (from datasets) (0.3.6)\n",
            "Requirement already satisfied: pandas in ./.local/lib/python3.8/site-packages (from datasets) (1.3.5)\n",
            "Requirement already satisfied: requests>=2.19.0 in /usr/lib/python3/dist-packages (from datasets) (2.22.0)\n",
            "Requirement already satisfied: tqdm>=4.62.1 in ./.local/lib/python3.8/site-packages (from datasets) (4.65.0)\n",
            "Requirement already satisfied: xxhash in ./.local/lib/python3.8/site-packages (from datasets) (3.2.0)\n",
            "Requirement already satisfied: multiprocess in ./.local/lib/python3.8/site-packages (from datasets) (0.70.14)\n",
            "Requirement already satisfied: fsspec[http]>=2021.11.1 in ./.local/lib/python3.8/site-packages (from datasets) (2023.6.0)\n",
            "Requirement already satisfied: aiohttp in ./.local/lib/python3.8/site-packages (from datasets) (3.8.4)\n",
            "Requirement already satisfied: huggingface-hub<1.0.0,>=0.11.0 in ./.local/lib/python3.8/site-packages (from datasets) (0.15.1)\n",
            "Requirement already satisfied: packaging in ./.local/lib/python3.8/site-packages (from datasets) (23.1)\n",
            "Requirement already satisfied: pyyaml>=5.1 in ./.local/lib/python3.8/site-packages (from datasets) (6.0)\n",
            "Requirement already satisfied: attrs>=17.3.0 in ./.local/lib/python3.8/site-packages (from aiohttp->datasets) (23.1.0)\n",
            "Requirement already satisfied: charset-normalizer<4.0,>=2.0 in ./.local/lib/python3.8/site-packages (from aiohttp->datasets) (3.1.0)\n",
            "Requirement already satisfied: multidict<7.0,>=4.5 in ./.local/lib/python3.8/site-packages (from aiohttp->datasets) (6.0.4)\n",
            "Requirement already satisfied: async-timeout<5.0,>=4.0.0a3 in ./.local/lib/python3.8/site-packages (from aiohttp->datasets) (4.0.2)\n",
            "Requirement already satisfied: yarl<2.0,>=1.0 in ./.local/lib/python3.8/site-packages (from aiohttp->datasets) (1.9.2)\n",
            "Requirement already satisfied: frozenlist>=1.1.1 in ./.local/lib/python3.8/site-packages (from aiohttp->datasets) (1.3.3)\n",
            "Requirement already satisfied: aiosignal>=1.1.2 in ./.local/lib/python3.8/site-packages (from aiohttp->datasets) (1.3.1)\n",
            "Requirement already satisfied: filelock in /usr/lib/python3/dist-packages (from huggingface-hub<1.0.0,>=0.11.0->datasets) (3.0.12)\n",
            "Requirement already satisfied: typing-extensions>=3.7.4.3 in ./.local/lib/python3.8/site-packages (from huggingface-hub<1.0.0,>=0.11.0->datasets) (4.7.1)\n",
            "Requirement already satisfied: python-dateutil>=2.7.3 in ./.local/lib/python3.8/site-packages (from pandas->datasets) (2.8.2)\n",
            "Requirement already satisfied: pytz>=2017.3 in /usr/lib/python3/dist-packages (from pandas->datasets) (2019.3)\n",
            "Requirement already satisfied: six>=1.5 in ./.local/lib/python3.8/site-packages (from python-dateutil>=2.7.3->pandas->datasets) (1.16.0)\n",
            "Requirement already satisfied: idna>=2.0 in ./.local/lib/python3.8/site-packages (from yarl<2.0,>=1.0->aiohttp->datasets) (3.4)\n",
            "Defaulting to user installation because normal site-packages is not writeable\n",
            "Requirement already satisfied: accelerate in ./.local/lib/python3.8/site-packages (0.20.3)\n",
            "Requirement already satisfied: numpy>=1.17 in ./.local/lib/python3.8/site-packages (from accelerate) (1.21.6)\n",
            "Requirement already satisfied: packaging>=20.0 in ./.local/lib/python3.8/site-packages (from accelerate) (23.1)\n",
            "Requirement already satisfied: psutil in ./.local/lib/python3.8/site-packages (from accelerate) (5.9.5)\n",
            "Requirement already satisfied: pyyaml in ./.local/lib/python3.8/site-packages (from accelerate) (6.0)\n",
            "Requirement already satisfied: torch>=1.6.0 in ./.local/lib/python3.8/site-packages (from accelerate) (1.12.1+cu113)\n",
            "Requirement already satisfied: typing-extensions in ./.local/lib/python3.8/site-packages (from torch>=1.6.0->accelerate) (4.7.1)\n",
            "Defaulting to user installation because normal site-packages is not writeable\n",
            "Requirement already satisfied: nltk in ./.local/lib/python3.8/site-packages (3.8.1)\n",
            "Requirement already satisfied: click in /usr/lib/python3/dist-packages (from nltk) (7.0)\n",
            "Requirement already satisfied: joblib in ./.local/lib/python3.8/site-packages (from nltk) (1.3.1)\n",
            "Requirement already satisfied: regex>=2021.8.3 in ./.local/lib/python3.8/site-packages (from nltk) (2023.6.3)\n",
            "Requirement already satisfied: tqdm in ./.local/lib/python3.8/site-packages (from nltk) (4.65.0)\n",
            "Defaulting to user installation because normal site-packages is not writeable\n",
            "Collecting gensim\n",
            "  Downloading gensim-4.3.1-cp38-cp38-manylinux_2_17_x86_64.manylinux2014_x86_64.whl (26.5 MB)\n",
            "\u001b[2K     \u001b[90m━━━━━━━━━━━━━━━━━━━━━━━━━━━━━━━━━━━━━━━━\u001b[0m \u001b[32m26.5/26.5 MB\u001b[0m \u001b[31m32.3 MB/s\u001b[0m eta \u001b[36m0:00:00\u001b[0m\n",
            "\u001b[?25hRequirement already satisfied: numpy>=1.18.5 in ./.local/lib/python3.8/site-packages (from gensim) (1.21.6)\n",
            "Requirement already satisfied: scipy>=1.7.0 in ./.local/lib/python3.8/site-packages (from gensim) (1.7.3)\n",
            "Collecting smart-open>=1.8.1 (from gensim)\n",
            "  Downloading smart_open-6.3.0-py3-none-any.whl (56 kB)\n",
            "\u001b[2K     \u001b[90m━━━━━━━━━━━━━━━━━━━━━━━━━━━━━━━━━━━━━━━━\u001b[0m \u001b[32m56.8/56.8 kB\u001b[0m \u001b[31m25.6 MB/s\u001b[0m eta \u001b[36m0:00:00\u001b[0m\n",
            "\u001b[?25hInstalling collected packages: smart-open, gensim\n",
            "Successfully installed gensim-4.3.1 smart-open-6.3.0\n"
          ]
        }
      ],
      "source": [
        "!pip install transformers\n",
        "!pip install datasets\n",
        "!pip install accelerate -U\n",
        "!pip install nltk\n",
        "!pip install gensim"
      ]
    },
    {
      "cell_type": "code",
      "source": [
        "!pip install numpy==1.22.4\n"
      ],
      "metadata": {
        "colab": {
          "base_uri": "https://localhost:8080/"
        },
        "id": "uxr--tUX957u",
        "outputId": "aca47480-2e9b-4c1d-b76c-d8f46f4fa81e"
      },
      "execution_count": 17,
      "outputs": [
        {
          "output_type": "stream",
          "name": "stdout",
          "text": [
            "Defaulting to user installation because normal site-packages is not writeable\n",
            "Collecting numpy==1.22.4\n",
            "  Downloading numpy-1.22.4-cp38-cp38-manylinux_2_17_x86_64.manylinux2014_x86_64.whl (16.9 MB)\n",
            "\u001b[2K     \u001b[90m━━━━━━━━━━━━━━━━━━━━━━━━━━━━━━━━━━━━━━━━\u001b[0m \u001b[32m16.9/16.9 MB\u001b[0m \u001b[31m80.9 MB/s\u001b[0m eta \u001b[36m0:00:00\u001b[0m\n",
            "\u001b[?25hInstalling collected packages: numpy\n",
            "  Attempting uninstall: numpy\n",
            "    Found existing installation: numpy 1.20.3\n",
            "    Uninstalling numpy-1.20.3:\n",
            "      Successfully uninstalled numpy-1.20.3\n",
            "Successfully installed numpy-1.22.4\n"
          ]
        }
      ]
    },
    {
      "cell_type": "code",
      "source": [
        "import os\n",
        "os.kill(os.getpid(), 9)"
      ],
      "metadata": {
        "id": "UwfXINnFQo0N"
      },
      "execution_count": null,
      "outputs": []
    },
    {
      "cell_type": "markdown",
      "source": [
        "### Import relevent libraries"
      ],
      "metadata": {
        "id": "C7g7-E_sUQkb"
      }
    },
    {
      "cell_type": "code",
      "source": [
        "import pandas as pd\n",
        "import numpy as np\n",
        "import seaborn as sns\n",
        "import re\n",
        "import matplotlib.pyplot as plt\n",
        "from collections import defaultdict\n",
        "import csv\n",
        "import io\n",
        "import json\n",
        "import os\n",
        "import nltk\n",
        "nltk.download('stopwords')\n",
        "nltk.download('wordnet')\n",
        "from nltk.corpus import stopwords\n",
        "from nltk.corpus import wordnet\n",
        "import requests\n",
        "from tqdm import tqdm\n",
        "import random\n",
        "from sklearn.model_selection import train_test_split\n",
        "from sklearn.preprocessing import LabelEncoder\n",
        "\n",
        "import transformers\n",
        "from transformers import BertModel, BertTokenizerFast\n",
        "from transformers import AdamW, AdamWeightDecay, get_linear_schedule_with_warmup\n",
        "\n",
        "import torch\n",
        "from torch import optim, nn\n",
        "from torch.utils.data import DataLoader, Dataset\n",
        "import torch.nn.functional as F\n",
        "from statistics import median\n",
        "from sklearn.metrics import accuracy_score, precision_recall_fscore_support\n",
        "import gensim\n",
        "import gensim.downloader\n",
        "seed = 1331\n",
        "nltk.download('punkt')\n",
        "nltk.download('averaged_perceptron_tagger')"
      ],
      "metadata": {
        "colab": {
          "base_uri": "https://localhost:8080/"
        },
        "id": "jDq62UuMUQDz",
        "outputId": "5bae74c6-c95d-456a-cc18-4aa5c2726a7a"
      },
      "execution_count": 11,
      "outputs": [
        {
          "output_type": "stream",
          "name": "stderr",
          "text": [
            "[nltk_data] Downloading package stopwords to /home/cc/nltk_data...\n",
            "[nltk_data]   Package stopwords is already up-to-date!\n",
            "[nltk_data] Downloading package wordnet to /home/cc/nltk_data...\n",
            "[nltk_data]   Package wordnet is already up-to-date!\n",
            "[nltk_data] Downloading package punkt to /home/cc/nltk_data...\n",
            "[nltk_data]   Unzipping tokenizers/punkt.zip.\n",
            "[nltk_data] Downloading package averaged_perceptron_tagger to\n",
            "[nltk_data]     /home/cc/nltk_data...\n",
            "[nltk_data]   Unzipping taggers/averaged_perceptron_tagger.zip.\n"
          ]
        },
        {
          "output_type": "execute_result",
          "data": {
            "text/plain": [
              "True"
            ]
          },
          "metadata": {},
          "execution_count": 11
        }
      ]
    },
    {
      "cell_type": "code",
      "source": [
        "device=torch.device('cuda:0')\n",
        "torch.cuda.get_device_name(0)"
      ],
      "metadata": {
        "colab": {
          "base_uri": "https://localhost:8080/"
        },
        "id": "ApGFxJguhj3K",
        "outputId": "fbaba6b3-b875-4e23-91a2-5d199c829ce7"
      },
      "execution_count": 2,
      "outputs": [
        {
          "output_type": "execute_result",
          "data": {
            "text/plain": [
              "'Quadro RTX 6000'"
            ]
          },
          "metadata": {},
          "execution_count": 2
        }
      ]
    },
    {
      "cell_type": "markdown",
      "source": [
        "### Fetch and store the data"
      ],
      "metadata": {
        "id": "V-OcAgUuVVfR"
      }
    },
    {
      "cell_type": "code",
      "source": [
        "_HEADER = [\"text\", \"category\"]\n",
        "PATTERNS = {\n",
        "    \"train\": \"https://raw.githubusercontent.com/xliuhw/NLU-Evaluation-Data\"\n",
        "             \"/master/CrossValidation/autoGeneFromRealAnno/autoGene_2018_03_\"\n",
        "             \"22-13_01_25_169/CrossValidation/KFold_1/trainset/{f}\",\n",
        "    \"test\": \"https://raw.githubusercontent.com/xliuhw/NLU-Evaluation-Data/\"\n",
        "            \"master/CrossValidation/autoGeneFromRealAnno/autoGene_2018_03_\"\n",
        "            \"22-13_01_25_169/CrossValidation/KFold_1/testset/csv/{f}\"\n",
        "}\n",
        "\n",
        "LIST_OF_FILES = (\n",
        "    'alarm_query.csv\\nalarm_remove.csv\\nalarm_set.csv\\naudio_volum'\n",
        "    'e_down.csv\\naudio_volume_mute.csv\\naudio_volume_up.csv\\ncalend'\n",
        "    'ar_query.csv\\t\\ncalendar_remove.csv\\t\\ncalendar_set.csv\\t\\ncoo'\n",
        "    'king_recipe.csv\\t\\ndatetime_convert.csv\\t\\ndatetime_query.csv'\n",
        "    '\\t\\nemail_addcontact.csv\\t\\nemail_query.csv\\t\\nemail_querycon'\n",
        "    'tact.csv\\t\\nemail_sendemail.csv\\t\\ngeneral_affirm.csv\\t\\ngener'\n",
        "    'al_commandstop.csv\\t\\ngeneral_confirm.csv\\t\\ngeneral_dontcare.'\n",
        "    'csv\\t\\ngeneral_explain.csv\\t\\ngeneral_joke.csv\\t\\ngeneral_neg'\n",
        "    'ate.csv\\t\\ngeneral_praise.csv\\t\\ngeneral_quirky.csv\\t\\ngenera'\n",
        "    'l_repeat.csv\\t\\niot_cleaning.csv\\t\\niot_coffee.csv\\t\\niot_hue'\n",
        "    '_lightchange.csv\\t\\niot_hue_lightdim.csv\\t\\niot_hue_lightoff.'\n",
        "    'csv\\t\\niot_hue_lighton.csv\\t\\niot_hue_lightup.csv\\t\\niot_wemo_'\n",
        "    'off.csv\\t\\niot_wemo_on.csv\\t\\nlists_createoradd.csv\\t\\nlists_'\n",
        "    'query.csv\\t\\nlists_remove.csv\\t\\nmusic_likeness.csv\\t\\nmusic_q'\n",
        "    'uery.csv\\t\\nmusic_settings.csv\\t\\nnews_query.csv\\t\\nplay_audio'\n",
        "    'book.csv\\t\\nplay_game.csv\\t\\nplay_music.csv\\t\\nplay_podcasts.'\n",
        "    'csv\\t\\nplay_radio.csv\\t\\nqa_currency.csv\\t\\nqa_definition.csv'\n",
        "    '\\t\\nqa_factoid.csv\\t\\nqa_maths.csv\\t\\nqa_stock.csv\\t\\nrecomme'\n",
        "    'ndation_events.csv\\t\\nrecommendation_locations.csv\\t\\nrecomme'\n",
        "    'ndation_movies.csv\\t\\nsocial_post.csv\\t\\nsocial_query.csv\\t\\n'\n",
        "    'takeaway_order.csv\\t\\ntakeaway_query.csv\\t\\ntransport_query.c'\n",
        "    'sv\\t\\ntransport_taxi.csv\\t\\ntransport_ticket.csv\\t\\ntransport'\n",
        "    '_traffic.csv\\t\\nweather_query.csv\\t'.split())\n",
        "\n",
        "\n",
        "\n",
        "\n",
        "def _get_category_rows(fname: str, set_name: str):\n",
        "    pattern = PATTERNS[set_name]\n",
        "    url = pattern.format(f=fname)\n",
        "    request = requests.get(url)\n",
        "\n",
        "    reader = csv.reader(\n",
        "        io.StringIO(request.content.decode(\"utf-8\")), delimiter=\";\"\n",
        "    )\n",
        "    first_row = next(reader)\n",
        "    scenario_i, intent_i = first_row.index(\"scenario\"), first_row.index(\n",
        "        \"intent\")\n",
        "    answer_i = first_row.index(\"answer_from_anno\")\n",
        "\n",
        "    rows = []\n",
        "    for row in reader:\n",
        "        text = row[answer_i]\n",
        "        category = f\"{row[scenario_i]}_{row[intent_i]}\"\n",
        "        rows.append([text, category])\n",
        "    return rows\n",
        "\n",
        "\n",
        "def _get_final_rows(set_name: str):\n",
        "    final_rows = [_HEADER]\n",
        "    for f in tqdm(LIST_OF_FILES):\n",
        "        final_rows += _get_category_rows(f, set_name)\n",
        "    return final_rows\n",
        "\n",
        "\n",
        "def _write_data_into_file(path, rows):\n",
        "    with open(path, \"w\") as data_file:\n",
        "        writer = csv.writer(data_file, quoting=csv.QUOTE_ALL)\n",
        "        writer.writerows(rows)\n",
        "\n",
        "\n",
        "def _main():\n",
        "    data_dir = os.getcwd()\n",
        "\n",
        "    if not os.path.exists(data_dir):\n",
        "        os.mkdir(data_dir)\n",
        "\n",
        "    print(\"Getting train data\")\n",
        "    train_rows = _get_final_rows(set_name=\"train\")\n",
        "    _write_data_into_file(\n",
        "        path=os.path.join(data_dir, \"train.csv\"),\n",
        "        rows=train_rows\n",
        "    )\n",
        "\n",
        "    print(\"Getting test data\")\n",
        "    test_rows = _get_final_rows(set_name=\"test\")\n",
        "    _write_data_into_file(\n",
        "        path=os.path.join(data_dir, \"test.csv\"),\n",
        "        rows=test_rows\n",
        "    )\n",
        "\n",
        "    print(\"Creating categories.json file\")\n",
        "    _, train_cats = zip(*train_rows[1:])\n",
        "    _, test_cats = zip(*test_rows[1:])\n",
        "    categories = sorted(list(\n",
        "        set(train_cats) | set(test_cats)\n",
        "    ))\n",
        "    with open(os.path.join(data_dir, \"categories.json\"), \"w\") as f:\n",
        "        json.dump(categories, f)\n",
        "\n",
        "\n",
        "if __name__ == \"__main__\":\n",
        "    _main()\n"
      ],
      "metadata": {
        "colab": {
          "base_uri": "https://localhost:8080/"
        },
        "id": "qtLWmUuRVa4e",
        "outputId": "ff092a5e-00f5-4868-b0d7-d0515268caff"
      },
      "execution_count": null,
      "outputs": [
        {
          "output_type": "stream",
          "name": "stdout",
          "text": [
            "Getting train data\n"
          ]
        },
        {
          "output_type": "stream",
          "name": "stderr",
          "text": [
            "100%|███████████████████████████████████████████████████████████████████████████████████████████████████████████████████████| 64/64 [00:09<00:00,  6.74it/s]\n"
          ]
        },
        {
          "output_type": "stream",
          "name": "stdout",
          "text": [
            "Getting test data\n"
          ]
        },
        {
          "output_type": "stream",
          "name": "stderr",
          "text": [
            "100%|███████████████████████████████████████████████████████████████████████████████████████████████████████████████████████| 64/64 [00:08<00:00,  7.34it/s]"
          ]
        },
        {
          "output_type": "stream",
          "name": "stdout",
          "text": [
            "Creating categories.json file\n"
          ]
        },
        {
          "output_type": "stream",
          "name": "stderr",
          "text": [
            "\n"
          ]
        }
      ]
    },
    {
      "cell_type": "markdown",
      "source": [
        "### Load and visualize data"
      ],
      "metadata": {
        "id": "jFrJUS_AWJsT"
      }
    },
    {
      "cell_type": "code",
      "source": [
        "train_data = pd.read_csv(\"train.csv\")\n",
        "test_data = pd.read_csv(\"test.csv\")\n",
        "train_data.columns = [\"speech_text\",\"intent\"]\n",
        "test_data.columns = [\"speech_text\",\"intent\"]"
      ],
      "metadata": {
        "id": "UHQpOVhEWQsc"
      },
      "execution_count": 55,
      "outputs": []
    },
    {
      "cell_type": "code",
      "source": [
        "train_data.describe()"
      ],
      "metadata": {
        "colab": {
          "base_uri": "https://localhost:8080/",
          "height": 175
        },
        "id": "kROTZSnjXWd7",
        "outputId": "45c4b4ce-ec6e-4055-8193-9129098ac052"
      },
      "execution_count": 4,
      "outputs": [
        {
          "output_type": "execute_result",
          "data": {
            "text/plain": [
              "                                speech_text       intent\n",
              "count                                  9960         9960\n",
              "unique                                 9960           64\n",
              "top     what alarms do i have set right now  alarm_query\n",
              "freq                                      1          175"
            ],
            "text/html": [
              "<div>\n",
              "<style scoped>\n",
              "    .dataframe tbody tr th:only-of-type {\n",
              "        vertical-align: middle;\n",
              "    }\n",
              "\n",
              "    .dataframe tbody tr th {\n",
              "        vertical-align: top;\n",
              "    }\n",
              "\n",
              "    .dataframe thead th {\n",
              "        text-align: right;\n",
              "    }\n",
              "</style>\n",
              "<table border=\"1\" class=\"dataframe\">\n",
              "  <thead>\n",
              "    <tr style=\"text-align: right;\">\n",
              "      <th></th>\n",
              "      <th>speech_text</th>\n",
              "      <th>intent</th>\n",
              "    </tr>\n",
              "  </thead>\n",
              "  <tbody>\n",
              "    <tr>\n",
              "      <th>count</th>\n",
              "      <td>9960</td>\n",
              "      <td>9960</td>\n",
              "    </tr>\n",
              "    <tr>\n",
              "      <th>unique</th>\n",
              "      <td>9960</td>\n",
              "      <td>64</td>\n",
              "    </tr>\n",
              "    <tr>\n",
              "      <th>top</th>\n",
              "      <td>what alarms do i have set right now</td>\n",
              "      <td>alarm_query</td>\n",
              "    </tr>\n",
              "    <tr>\n",
              "      <th>freq</th>\n",
              "      <td>1</td>\n",
              "      <td>175</td>\n",
              "    </tr>\n",
              "  </tbody>\n",
              "</table>\n",
              "</div>"
            ]
          },
          "metadata": {},
          "execution_count": 4
        }
      ]
    },
    {
      "cell_type": "code",
      "source": [
        "intent_counts = train_data['intent'].value_counts()\n",
        "plt.figure(figsize=(10, 6))\n",
        "intent_counts.plot(kind='bar')\n",
        "plt.title('Intent Counts')\n",
        "plt.xlabel('Intent')\n",
        "plt.ylabel('Count')\n",
        "plt.show()"
      ],
      "metadata": {
        "colab": {
          "base_uri": "https://localhost:8080/",
          "height": 738
        },
        "id": "WEHJSnttXdO0",
        "outputId": "d5c1f3c2-bc7a-4333-a528-9ce6e9458468"
      },
      "execution_count": 5,
      "outputs": [
        {
          "output_type": "display_data",
          "data": {
            "text/plain": [
              "<Figure size 1000x600 with 1 Axes>"
            ],
            "image/png": "[encoded data removed]"
          },
          "metadata": {}
        }
      ]
    },
    {
      "cell_type": "markdown",
      "source": [
        "## Data Augmentation\n"
      ],
      "metadata": {
        "id": "u4FvY0rjuVW3"
      }
    },
    {
      "cell_type": "code",
      "source": [
        "#model_gn = gensim.downloader.load('word2vec-google-news-300')\n",
        "model_gn = gensim.models.KeyedVectors.load_word2vec_format(\"/home/cc/gensim-data/word2vec-google-news-300/word2vec-google-news-300.gz\", binary=True)\n"
      ],
      "metadata": {
        "id": "jgVhhvzv_-Fr"
      },
      "execution_count": 6,
      "outputs": []
    },
    {
      "cell_type": "markdown",
      "source": [
        "### function to implement the augmentation strategy"
      ],
      "metadata": {
        "id": "JtlHwOPixPXm"
      }
    },
    {
      "cell_type": "code",
      "source": [
        "stop_words = set(stopwords.words('english'))"
      ],
      "metadata": {
        "id": "LSV37Pe4uVBH"
      },
      "execution_count": 13,
      "outputs": []
    },
    {
      "cell_type": "code",
      "source": [
        "def get_pos_tags(sentence):\n",
        "    tokens = nltk.word_tokenize(sentence)\n",
        "    pos_tags = nltk.pos_tag(tokens)\n",
        "    return pos_tags"
      ],
      "metadata": {
        "id": "CSe0oVQs_1wA"
      },
      "execution_count": 7,
      "outputs": []
    },
    {
      "cell_type": "code",
      "source": [
        "def augmentation(sentence, threshold = 0.60):\n",
        "  pos_tag = get_pos_tags(sentence)\n",
        "  sentence = sentence.split(\" \")\n",
        "  ans = []\n",
        "  for i in sentence:\n",
        "    if i.lower() in stop_words:\n",
        "      ans.append(i)\n",
        "      continue\n",
        "    else:\n",
        "      try:\n",
        "        word = model_gn.most_similar(i, topn=2)[0]\n",
        "        if word[1]>= threshold:\n",
        "          ans.append(word[0])\n",
        "        else:\n",
        "          ans.append(i)\n",
        "      except KeyError:\n",
        "        ans.append(i)\n",
        "  pos_tag_1 = get_pos_tags(\" \".join(ans))\n",
        "  for i in range(len(sentence)):\n",
        "    if pos_tag[i][1] == pos_tag_1[i][1] :\n",
        "      sentence[i] = pos_tag_1[i][0]\n",
        "  return \" \".join(sentence)"
      ],
      "metadata": {
        "id": "hkQOM2tV_1rs"
      },
      "execution_count": 32,
      "outputs": []
    },
    {
      "cell_type": "code",
      "source": [
        "augmented_data = train_data.copy()\n",
        "augmented_data[\"speech_text\"] = augmented_data[\"speech_text\"].apply(augmentation, threshold=0.60)"
      ],
      "metadata": {
        "id": "XOq1D3Ctulpl"
      },
      "execution_count": 33,
      "outputs": []
    },
    {
      "cell_type": "code",
      "source": [
        "augmented_data.to_csv(\"augmented_data.csv\")"
      ],
      "metadata": {
        "id": "xCMDiI9XN6bK"
      },
      "execution_count": 34,
      "outputs": []
    },
    {
      "cell_type": "code",
      "source": [
        "train_data = pd.concat([train_data, augmented_data], axis=0)"
      ],
      "metadata": {
        "id": "sRnXIKlhulnB"
      },
      "execution_count": 56,
      "outputs": []
    },
    {
      "cell_type": "markdown",
      "source": [
        "### Plotting value counts post data augmentation"
      ],
      "metadata": {
        "id": "Ddqa6DLYxht9"
      }
    },
    {
      "cell_type": "code",
      "source": [
        "intent_counts = train_data['intent'].value_counts()\n",
        "plt.figure(figsize=(10, 6))\n",
        "intent_counts.plot(kind='bar')\n",
        "plt.title('Intent Counts')\n",
        "plt.xlabel('Intent')\n",
        "plt.ylabel('Count')\n",
        "plt.show()"
      ],
      "metadata": {
        "id": "QKDl_VoIuU44",
        "outputId": "ad3000ab-b71e-4e7d-91ac-b0f7e0935cdb",
        "colab": {
          "base_uri": "https://localhost:8080/",
          "height": 738
        }
      },
      "execution_count": 57,
      "outputs": [
        {
          "output_type": "display_data",
          "data": {
            "text/plain": [
              "<Figure size 1000x600 with 1 Axes>"
            ],
            "image/png": "[encoded data removed]"
          },
          "metadata": {}
        }
      ]
    },
    {
      "cell_type": "markdown",
      "source": [
        "#### Splitting the data into train and validation"
      ],
      "metadata": {
        "id": "fKS-3Yqk5fyF"
      }
    },
    {
      "cell_type": "code",
      "source": [
        "df_train,df_val=train_test_split(train_data,test_size=0.10 ,random_state=seed, shuffle=True)"
      ],
      "metadata": {
        "id": "_J3qMd6pvvYv"
      },
      "execution_count": 58,
      "outputs": []
    },
    {
      "cell_type": "code",
      "source": [
        "unique_labels = df_train['intent'].unique()\n",
        "sampled_df = pd.DataFrame()\n",
        "for label in unique_labels:\n",
        "    label_df = df_train[df_train['intent'] == label]\n",
        "    samples = label_df.sample(n=60, random_state=seed)\n",
        "    sampled_df = sampled_df.append(samples)\n",
        "sampled_df.reset_index(drop=True, inplace=True)"
      ],
      "metadata": {
        "id": "RzwWjBQqKWbr"
      },
      "execution_count": 59,
      "outputs": []
    },
    {
      "cell_type": "markdown",
      "source": [
        "### Creating different dataset of 10 samples each with different data points."
      ],
      "metadata": {
        "id": "YtEwpXLzxy68"
      }
    },
    {
      "cell_type": "code",
      "source": [
        "df = sampled_df\n",
        "df['sampled'] = False\n",
        "\n",
        "label_counts = df['intent'].value_counts()\n",
        "\n",
        "max_count = label_counts.max()\n",
        "min_count = label_counts.min()\n",
        "\n",
        "num_datasets = max_count // 10\n",
        "\n",
        "training_datasets = []\n",
        "\n",
        "for i in range(num_datasets):\n",
        "    dataset = pd.DataFrame()\n",
        "    for label in df['intent'].unique():\n",
        "        label_df = df[(df['intent'] == label) & (df['sampled'] == False)]\n",
        "        if len(label_df) >= 10:\n",
        "            samples = label_df.sample(n=10)\n",
        "            df.loc[samples.index, 'sampled'] = True\n",
        "            dataset = pd.concat([dataset, samples])\n",
        "        else:\n",
        "            samples = label_df\n",
        "            df.loc[samples.index, 'sampled'] = True\n",
        "            dataset = pd.concat([dataset, samples])\n",
        "    training_datasets.append(dataset)\n"
      ],
      "metadata": {
        "id": "vcwUuHgaTokI"
      },
      "execution_count": 60,
      "outputs": []
    },
    {
      "cell_type": "code",
      "source": [
        "val_data = df_val"
      ],
      "metadata": {
        "id": "KKj_LRgrKlqU"
      },
      "execution_count": 61,
      "outputs": []
    },
    {
      "cell_type": "markdown",
      "source": [
        "### Encode the labels"
      ],
      "metadata": {
        "id": "KbtyX2IlYM8-"
      }
    },
    {
      "cell_type": "code",
      "source": [
        "le=LabelEncoder()\n",
        "for train_data in training_datasets:\n",
        "  train_data['intent']=le.fit_transform(train_data['intent'])\n",
        "val_data['intent']=le.fit_transform(val_data['intent'])\n",
        "test_data['intent']=le.transform(test_data['intent'])"
      ],
      "metadata": {
        "id": "qHJENZoaYWzr"
      },
      "execution_count": 62,
      "outputs": []
    },
    {
      "cell_type": "code",
      "source": [
        "print(le.classes_)"
      ],
      "metadata": {
        "colab": {
          "base_uri": "https://localhost:8080/"
        },
        "id": "MIJ291jSYbFI",
        "outputId": "963a23fe-409c-445a-9236-c803087acc1c"
      },
      "execution_count": 63,
      "outputs": [
        {
          "output_type": "stream",
          "name": "stdout",
          "text": [
            "['alarm_query' 'alarm_remove' 'alarm_set' 'audio_volume_down'\n",
            " 'audio_volume_mute' 'audio_volume_up' 'calendar_query' 'calendar_remove'\n",
            " 'calendar_set' 'cooking_recipe' 'datetime_convert' 'datetime_query'\n",
            " 'email_addcontact' 'email_query' 'email_querycontact' 'email_sendemail'\n",
            " 'general_affirm' 'general_commandstop' 'general_confirm'\n",
            " 'general_dontcare' 'general_explain' 'general_joke' 'general_negate'\n",
            " 'general_praise' 'general_quirky' 'general_repeat' 'iot_cleaning'\n",
            " 'iot_coffee' 'iot_hue_lightchange' 'iot_hue_lightdim' 'iot_hue_lightoff'\n",
            " 'iot_hue_lighton' 'iot_hue_lightup' 'iot_wemo_off' 'iot_wemo_on'\n",
            " 'lists_createoradd' 'lists_query' 'lists_remove' 'music_likeness'\n",
            " 'music_query' 'music_settings' 'news_query' 'play_audiobook' 'play_game'\n",
            " 'play_music' 'play_podcasts' 'play_radio' 'qa_currency' 'qa_definition'\n",
            " 'qa_factoid' 'qa_maths' 'qa_stock' 'recommendation_events'\n",
            " 'recommendation_locations' 'recommendation_movies' 'social_post'\n",
            " 'social_query' 'takeaway_order' 'takeaway_query' 'transport_query'\n",
            " 'transport_taxi' 'transport_ticket' 'transport_traffic' 'weather_query']\n"
          ]
        }
      ]
    },
    {
      "cell_type": "markdown",
      "source": [
        "### Setting up BERT Tokenizer"
      ],
      "metadata": {
        "id": "NXXdnJzPYq1G"
      }
    },
    {
      "cell_type": "code",
      "source": [
        "from transformers import AutoTokenizer, TrainingArguments, Trainer"
      ],
      "metadata": {
        "id": "z6HkDe9BRORB"
      },
      "execution_count": 64,
      "outputs": []
    },
    {
      "cell_type": "code",
      "source": [
        "pre_trained_BERTmodel='bert-large-uncased'\n",
        "BERT_tokenizer=AutoTokenizer.from_pretrained(pre_trained_BERTmodel)"
      ],
      "metadata": {
        "id": "_or5GgMEYvzj"
      },
      "execution_count": 65,
      "outputs": []
    },
    {
      "cell_type": "code",
      "source": [
        "import datasets\n",
        "def tokenize_data(example):\n",
        "    encoded_input = BERT_tokenizer(example[\"speech_text\"], padding=\"max_length\", truncation=True)\n",
        "    return {\"input_ids\": encoded_input[\"input_ids\"], \"attention_mask\": encoded_input[\"attention_mask\"], \"labels\": example[\"intent\"]}"
      ],
      "metadata": {
        "id": "7XFx0d7FZldv"
      },
      "execution_count": 66,
      "outputs": []
    },
    {
      "cell_type": "code",
      "source": [
        "train_dataset=[]\n",
        "for train_data_ in training_datasets:\n",
        "  traindataset = datasets.Dataset.from_pandas(train_data_)\n",
        "  train_dataset.append(traindataset.map(tokenize_data))"
      ],
      "metadata": {
        "colab": {
          "base_uri": "https://localhost:8080/"
        },
        "id": "s2YhVeYqwru7",
        "outputId": "ff87ffcb-2985-42c8-a1e8-9565db485973"
      },
      "execution_count": 67,
      "outputs": [
        {
          "output_type": "stream",
          "name": "stderr",
          "text": []
        }
      ]
    },
    {
      "cell_type": "code",
      "source": [
        "testdataset = datasets.Dataset.from_pandas(test_data)\n",
        "test_dataset = testdataset.map(tokenize_data)"
      ],
      "metadata": {
        "colab": {
          "base_uri": "https://localhost:8080/"
        },
        "id": "TV7of-Rewrqj",
        "outputId": "1b74184f-d14a-4205-f94e-85aa08cbbc5a"
      },
      "execution_count": 68,
      "outputs": [
        {
          "output_type": "stream",
          "name": "stderr",
          "text": []
        }
      ]
    },
    {
      "cell_type": "code",
      "source": [
        "valdataset = datasets.Dataset.from_pandas(val_data)\n",
        "eval_dataset = valdataset.map(tokenize_data)"
      ],
      "metadata": {
        "colab": {
          "base_uri": "https://localhost:8080/"
        },
        "id": "yUFItjw4iAtD",
        "outputId": "361b1033-fc6f-460d-8c7e-ab079dd98586"
      },
      "execution_count": 69,
      "outputs": [
        {
          "output_type": "stream",
          "name": "stderr",
          "text": []
        }
      ]
    },
    {
      "cell_type": "code",
      "source": [
        "test_dataset"
      ],
      "metadata": {
        "colab": {
          "base_uri": "https://localhost:8080/"
        },
        "id": "z5g96GoOiNl9",
        "outputId": "c82f979b-9ec3-43c5-aea3-45c89cef1304"
      },
      "execution_count": 70,
      "outputs": [
        {
          "output_type": "execute_result",
          "data": {
            "text/plain": [
              "Dataset({\n",
              "    features: ['speech_text', 'intent', 'input_ids', 'attention_mask', 'labels'],\n",
              "    num_rows: 1076\n",
              "})"
            ]
          },
          "metadata": {},
          "execution_count": 70
        }
      ]
    },
    {
      "cell_type": "code",
      "source": [
        "train_dataset"
      ],
      "metadata": {
        "colab": {
          "base_uri": "https://localhost:8080/"
        },
        "id": "_Sw_q0BQa1bi",
        "outputId": "78ab8d86-8821-4bc5-d38c-7862f4b216bf"
      },
      "execution_count": 71,
      "outputs": [
        {
          "output_type": "execute_result",
          "data": {
            "text/plain": [
              "[Dataset({\n",
              "     features: ['speech_text', 'intent', 'sampled', '__index_level_0__', 'input_ids', 'attention_mask', 'labels'],\n",
              "     num_rows: 640\n",
              " }),\n",
              " Dataset({\n",
              "     features: ['speech_text', 'intent', 'sampled', '__index_level_0__', 'input_ids', 'attention_mask', 'labels'],\n",
              "     num_rows: 640\n",
              " }),\n",
              " Dataset({\n",
              "     features: ['speech_text', 'intent', 'sampled', '__index_level_0__', 'input_ids', 'attention_mask', 'labels'],\n",
              "     num_rows: 640\n",
              " }),\n",
              " Dataset({\n",
              "     features: ['speech_text', 'intent', 'sampled', '__index_level_0__', 'input_ids', 'attention_mask', 'labels'],\n",
              "     num_rows: 640\n",
              " }),\n",
              " Dataset({\n",
              "     features: ['speech_text', 'intent', 'sampled', '__index_level_0__', 'input_ids', 'attention_mask', 'labels'],\n",
              "     num_rows: 640\n",
              " }),\n",
              " Dataset({\n",
              "     features: ['speech_text', 'intent', 'sampled', '__index_level_0__', 'input_ids', 'attention_mask', 'labels'],\n",
              "     num_rows: 640\n",
              " })]"
            ]
          },
          "metadata": {},
          "execution_count": 71
        }
      ]
    },
    {
      "cell_type": "code",
      "source": [
        "args = TrainingArguments(\n",
        "        output_dir=\"./output\",\n",
        "        evaluation_strategy=\"epoch\",\n",
        "        save_strategy=\"epoch\",\n",
        "        learning_rate=3e-5,\n",
        "        per_device_train_batch_size=8 ,\n",
        "        per_device_eval_batch_size=8 ,\n",
        "        num_train_epochs=20,\n",
        "        warmup_ratio= 0.1,\n",
        "        weight_decay= 0.001,\n",
        "        load_best_model_at_end=True,\n",
        "        metric_for_best_model=\"accuracy\",\n",
        "        save_total_limit=1,\n",
        "            )"
      ],
      "metadata": {
        "id": "Qlq2dPDtVD9k"
      },
      "execution_count": 72,
      "outputs": []
    },
    {
      "cell_type": "code",
      "source": [
        "from transformers import (\n",
        "    AutoModelForSequenceClassification,\n",
        "    AutoModelForSeq2SeqLM,\n",
        "    AutoConfig,\n",
        "    BertModel,\n",
        ")\n",
        "\n",
        "import torch.nn as nn\n",
        "from transformers.modeling_outputs import SequenceClassifierOutput\n",
        "\n",
        "\n",
        "class BertModelWithCustomLossFunction(nn.Module):\n",
        "    def __init__(self):\n",
        "        super(BertModelWithCustomLossFunction, self).__init__()\n",
        "        self.num_labels = len(df_train[\"intent\"].unique())\n",
        "        self.bert = BertModel.from_pretrained(\n",
        "            pre_trained_BERTmodel, num_labels=self.num_labels\n",
        "        )\n",
        "        self.dropout = nn.Dropout(0.1)\n",
        "        self.classifier = nn.Linear(1024, self.num_labels)\n",
        "\n",
        "    def forward(self, input_ids, attention_mask, labels=None):\n",
        "        outputs = self.bert(\n",
        "            input_ids=input_ids,\n",
        "            attention_mask=attention_mask,\n",
        "        )\n",
        "\n",
        "        output = self.dropout(outputs.pooler_output)\n",
        "        logits = self.classifier(output)\n",
        "\n",
        "        loss = None\n",
        "        if labels is not None:\n",
        "            # you can define any loss function here yourself\n",
        "            # see https://pytorch.org/docs/stable/nn.html#loss-functions for an overview\n",
        "            loss_fct = nn.CrossEntropyLoss()\n",
        "            # next, compute the loss based on logits + ground-truth labels\n",
        "            loss = loss_fct(logits.view(-1, self.num_labels), labels)\n",
        "\n",
        "        return SequenceClassifierOutput(\n",
        "            loss=loss,\n",
        "            logits=logits,\n",
        "            hidden_states=outputs.hidden_states,\n",
        "            attentions=outputs.attentions,\n",
        "        )"
      ],
      "metadata": {
        "id": "FJG9eMfveJKL"
      },
      "execution_count": 73,
      "outputs": []
    },
    {
      "cell_type": "code",
      "source": [
        "def compute_metrics(pred):\n",
        "    labels = pred.label_ids\n",
        "    preds = pred.predictions.argmax(-1)\n",
        "    accuracy = accuracy_score(labels, preds)\n",
        "    precision, recall, f1, _ = precision_recall_fscore_support(labels, preds, average='weighted')\n",
        "\n",
        "    return {\n",
        "        'accuracy': accuracy,\n",
        "        'precision': precision,\n",
        "        'recall': recall,\n",
        "        'f1': f1\n",
        "    }"
      ],
      "metadata": {
        "id": "3khfKK4tYqit"
      },
      "execution_count": 74,
      "outputs": []
    },
    {
      "cell_type": "code",
      "source": [
        "best_accuracy = 0\n",
        "i = 1\n",
        "for train_dat in train_dataset:\n",
        "  BERT_model = BertModelWithCustomLossFunction()\n",
        "  trainer = Trainer(\n",
        "        model = BERT_model,\n",
        "        args = args,\n",
        "        train_dataset=train_dat,\n",
        "        eval_dataset=eval_dataset,\n",
        "        tokenizer=BERT_tokenizer,\n",
        "        compute_metrics=compute_metrics,)\n",
        "  trainer.train()\n",
        "  evaluation_metrics = trainer.predict(test_dataset)\n",
        "  accuracy = evaluation_metrics.metrics['test_accuracy']\n",
        "  test_data[f\"prediction_{i}\"] = [np.argmax(evaluation_metrics.predictions[i]) for i in range(len(evaluation_metrics.predictions))]\n",
        "  test_data.to_csv(f\"prediction_on_non_augmented_{i}.csv\")\n",
        "  best_accuracy = max(accuracy, best_accuracy)\n",
        "  print(f\"Best Test Accuracy for this training dataset: {accuracy}\")\n",
        "  torch.cuda.empty_cache()\n",
        "  i += 1"
      ],
      "metadata": {
        "colab": {
          "base_uri": "https://localhost:8080/",
          "height": 1000
        },
        "id": "WisPqKEdVDn6",
        "outputId": "e924f7b7-335b-440e-da43-71f2e8841361"
      },
      "execution_count": null,
      "outputs": [
        {
          "output_type": "stream",
          "name": "stderr",
          "text": [
            "Some weights of the model checkpoint at bert-large-uncased were not used when initializing BertModel: ['cls.seq_relationship.weight', 'cls.predictions.transform.LayerNorm.weight', 'cls.predictions.transform.dense.bias', 'cls.predictions.transform.dense.weight', 'cls.predictions.bias', 'cls.predictions.transform.LayerNorm.bias', 'cls.seq_relationship.bias']\n",
            "- This IS expected if you are initializing BertModel from the checkpoint of a model trained on another task or with another architecture (e.g. initializing a BertForSequenceClassification model from a BertForPreTraining model).\n",
            "- This IS NOT expected if you are initializing BertModel from the checkpoint of a model that you expect to be exactly identical (initializing a BertForSequenceClassification model from a BertForSequenceClassification model).\n",
            "/home/cc/.local/lib/python3.8/site-packages/transformers/optimization.py:411: FutureWarning: This implementation of AdamW is deprecated and will be removed in a future version. Use the PyTorch implementation torch.optim.AdamW instead, or set `no_deprecation_warning=True` to disable this warning\n",
            "  warnings.warn(\n",
            "You're using a BertTokenizerFast tokenizer. Please note that with a fast tokenizer, using the `__call__` method is faster than using a method to encode the text followed by a call to the `pad` method to get a padded encoding.\n"
          ]
        },
        {
          "output_type": "display_data",
          "data": {
            "text/plain": [
              "<IPython.core.display.HTML object>"
            ],
            "text/html": [
              "\n",
              "    <div>\n",
              "      \n",
              "      <progress value='1600' max='1600' style='width:300px; height:20px; vertical-align: middle;'></progress>\n",
              "      [1600/1600 48:40, Epoch 20/20]\n",
              "    </div>\n",
              "    <table border=\"1\" class=\"dataframe\">\n",
              "  <thead>\n",
              " <tr style=\"text-align: left;\">\n",
              "      <th>Epoch</th>\n",
              "      <th>Training Loss</th>\n",
              "      <th>Validation Loss</th>\n",
              "      <th>Accuracy</th>\n",
              "      <th>Precision</th>\n",
              "      <th>Recall</th>\n",
              "      <th>F1</th>\n",
              "    </tr>\n",
              "  </thead>\n",
              "  <tbody>\n",
              "    <tr>\n",
              "      <td>1</td>\n",
              "      <td>No log</td>\n",
              "      <td>4.114191</td>\n",
              "      <td>0.048695</td>\n",
              "      <td>0.023689</td>\n",
              "      <td>0.048695</td>\n",
              "      <td>0.022492</td>\n",
              "    </tr>\n",
              "    <tr>\n",
              "      <td>2</td>\n",
              "      <td>No log</td>\n",
              "      <td>3.806388</td>\n",
              "      <td>0.130020</td>\n",
              "      <td>0.188506</td>\n",
              "      <td>0.130020</td>\n",
              "      <td>0.097526</td>\n",
              "    </tr>\n",
              "    <tr>\n",
              "      <td>3</td>\n",
              "      <td>No log</td>\n",
              "      <td>3.153686</td>\n",
              "      <td>0.377510</td>\n",
              "      <td>0.440742</td>\n",
              "      <td>0.377510</td>\n",
              "      <td>0.333676</td>\n",
              "    </tr>\n",
              "    <tr>\n",
              "      <td>4</td>\n",
              "      <td>No log</td>\n",
              "      <td>2.361499</td>\n",
              "      <td>0.546687</td>\n",
              "      <td>0.581800</td>\n",
              "      <td>0.546687</td>\n",
              "      <td>0.511517</td>\n",
              "    </tr>\n",
              "    <tr>\n",
              "      <td>5</td>\n",
              "      <td>No log</td>\n",
              "      <td>1.682758</td>\n",
              "      <td>0.679217</td>\n",
              "      <td>0.712171</td>\n",
              "      <td>0.679217</td>\n",
              "      <td>0.665006</td>\n",
              "    </tr>\n",
              "    <tr>\n",
              "      <td>6</td>\n",
              "      <td>No log</td>\n",
              "      <td>1.332668</td>\n",
              "      <td>0.731928</td>\n",
              "      <td>0.751186</td>\n",
              "      <td>0.731928</td>\n",
              "      <td>0.717181</td>\n",
              "    </tr>\n",
              "    <tr>\n",
              "      <td>7</td>\n",
              "      <td>2.902100</td>\n",
              "      <td>1.000320</td>\n",
              "      <td>0.776104</td>\n",
              "      <td>0.786392</td>\n",
              "      <td>0.776104</td>\n",
              "      <td>0.770456</td>\n",
              "    </tr>\n",
              "    <tr>\n",
              "      <td>8</td>\n",
              "      <td>2.902100</td>\n",
              "      <td>0.855574</td>\n",
              "      <td>0.797691</td>\n",
              "      <td>0.808898</td>\n",
              "      <td>0.797691</td>\n",
              "      <td>0.796137</td>\n",
              "    </tr>\n",
              "    <tr>\n",
              "      <td>9</td>\n",
              "      <td>2.902100</td>\n",
              "      <td>0.813430</td>\n",
              "      <td>0.798193</td>\n",
              "      <td>0.814834</td>\n",
              "      <td>0.798193</td>\n",
              "      <td>0.795941</td>\n",
              "    </tr>\n",
              "    <tr>\n",
              "      <td>10</td>\n",
              "      <td>2.902100</td>\n",
              "      <td>0.792398</td>\n",
              "      <td>0.797189</td>\n",
              "      <td>0.808103</td>\n",
              "      <td>0.797189</td>\n",
              "      <td>0.794738</td>\n",
              "    </tr>\n",
              "    <tr>\n",
              "      <td>11</td>\n",
              "      <td>2.902100</td>\n",
              "      <td>0.774458</td>\n",
              "      <td>0.808735</td>\n",
              "      <td>0.819133</td>\n",
              "      <td>0.808735</td>\n",
              "      <td>0.806629</td>\n",
              "    </tr>\n",
              "    <tr>\n",
              "      <td>12</td>\n",
              "      <td>2.902100</td>\n",
              "      <td>0.783550</td>\n",
              "      <td>0.812751</td>\n",
              "      <td>0.820619</td>\n",
              "      <td>0.812751</td>\n",
              "      <td>0.810900</td>\n",
              "    </tr>\n",
              "    <tr>\n",
              "      <td>13</td>\n",
              "      <td>0.220700</td>\n",
              "      <td>0.800698</td>\n",
              "      <td>0.814257</td>\n",
              "      <td>0.823555</td>\n",
              "      <td>0.814257</td>\n",
              "      <td>0.812945</td>\n",
              "    </tr>\n",
              "    <tr>\n",
              "      <td>14</td>\n",
              "      <td>0.220700</td>\n",
              "      <td>0.808075</td>\n",
              "      <td>0.815261</td>\n",
              "      <td>0.823742</td>\n",
              "      <td>0.815261</td>\n",
              "      <td>0.813666</td>\n",
              "    </tr>\n",
              "    <tr>\n",
              "      <td>15</td>\n",
              "      <td>0.220700</td>\n",
              "      <td>0.817894</td>\n",
              "      <td>0.814759</td>\n",
              "      <td>0.822868</td>\n",
              "      <td>0.814759</td>\n",
              "      <td>0.813062</td>\n",
              "    </tr>\n",
              "    <tr>\n",
              "      <td>16</td>\n",
              "      <td>0.220700</td>\n",
              "      <td>0.824054</td>\n",
              "      <td>0.813755</td>\n",
              "      <td>0.822264</td>\n",
              "      <td>0.813755</td>\n",
              "      <td>0.812026</td>\n",
              "    </tr>\n",
              "    <tr>\n",
              "      <td>17</td>\n",
              "      <td>0.220700</td>\n",
              "      <td>0.832932</td>\n",
              "      <td>0.813755</td>\n",
              "      <td>0.822615</td>\n",
              "      <td>0.813755</td>\n",
              "      <td>0.812101</td>\n",
              "    </tr>\n",
              "    <tr>\n",
              "      <td>18</td>\n",
              "      <td>0.220700</td>\n",
              "      <td>0.836845</td>\n",
              "      <td>0.811747</td>\n",
              "      <td>0.819475</td>\n",
              "      <td>0.811747</td>\n",
              "      <td>0.809941</td>\n",
              "    </tr>\n",
              "    <tr>\n",
              "      <td>19</td>\n",
              "      <td>0.014600</td>\n",
              "      <td>0.838393</td>\n",
              "      <td>0.813755</td>\n",
              "      <td>0.821362</td>\n",
              "      <td>0.813755</td>\n",
              "      <td>0.811960</td>\n",
              "    </tr>\n",
              "    <tr>\n",
              "      <td>20</td>\n",
              "      <td>0.014600</td>\n",
              "      <td>0.839345</td>\n",
              "      <td>0.814257</td>\n",
              "      <td>0.822120</td>\n",
              "      <td>0.814257</td>\n",
              "      <td>0.812467</td>\n",
              "    </tr>\n",
              "  </tbody>\n",
              "</table><p>"
            ]
          },
          "metadata": {}
        },
        {
          "output_type": "stream",
          "name": "stderr",
          "text": [
            "/home/cc/.local/lib/python3.8/site-packages/sklearn/metrics/_classification.py:1318: UndefinedMetricWarning: Precision and F-score are ill-defined and being set to 0.0 in labels with no predicted samples. Use `zero_division` parameter to control this behavior.\n",
            "  _warn_prf(average, modifier, msg_start, len(result))\n",
            "/home/cc/.local/lib/python3.8/site-packages/sklearn/metrics/_classification.py:1318: UndefinedMetricWarning: Precision and F-score are ill-defined and being set to 0.0 in labels with no predicted samples. Use `zero_division` parameter to control this behavior.\n",
            "  _warn_prf(average, modifier, msg_start, len(result))\n",
            "/home/cc/.local/lib/python3.8/site-packages/sklearn/metrics/_classification.py:1318: UndefinedMetricWarning: Precision and F-score are ill-defined and being set to 0.0 in labels with no predicted samples. Use `zero_division` parameter to control this behavior.\n",
            "  _warn_prf(average, modifier, msg_start, len(result))\n",
            "/home/cc/.local/lib/python3.8/site-packages/sklearn/metrics/_classification.py:1318: UndefinedMetricWarning: Precision and F-score are ill-defined and being set to 0.0 in labels with no predicted samples. Use `zero_division` parameter to control this behavior.\n",
            "  _warn_prf(average, modifier, msg_start, len(result))\n"
          ]
        },
        {
          "output_type": "display_data",
          "data": {
            "text/plain": [
              "<IPython.core.display.HTML object>"
            ],
            "text/html": []
          },
          "metadata": {}
        },
        {
          "output_type": "stream",
          "name": "stdout",
          "text": [
            "Best Test Accuracy for this training dataset: 0.8401486988847584\n"
          ]
        },
        {
          "output_type": "stream",
          "name": "stderr",
          "text": [
            "Some weights of the model checkpoint at bert-large-uncased were not used when initializing BertModel: ['cls.seq_relationship.weight', 'cls.predictions.transform.LayerNorm.weight', 'cls.predictions.transform.dense.bias', 'cls.predictions.transform.dense.weight', 'cls.predictions.bias', 'cls.predictions.transform.LayerNorm.bias', 'cls.seq_relationship.bias']\n",
            "- This IS expected if you are initializing BertModel from the checkpoint of a model trained on another task or with another architecture (e.g. initializing a BertForSequenceClassification model from a BertForPreTraining model).\n",
            "- This IS NOT expected if you are initializing BertModel from the checkpoint of a model that you expect to be exactly identical (initializing a BertForSequenceClassification model from a BertForSequenceClassification model).\n",
            "/home/cc/.local/lib/python3.8/site-packages/transformers/optimization.py:411: FutureWarning: This implementation of AdamW is deprecated and will be removed in a future version. Use the PyTorch implementation torch.optim.AdamW instead, or set `no_deprecation_warning=True` to disable this warning\n",
            "  warnings.warn(\n"
          ]
        },
        {
          "output_type": "display_data",
          "data": {
            "text/plain": [
              "<IPython.core.display.HTML object>"
            ],
            "text/html": [
              "\n",
              "    <div>\n",
              "      \n",
              "      <progress value='1600' max='1600' style='width:300px; height:20px; vertical-align: middle;'></progress>\n",
              "      [1600/1600 48:43, Epoch 20/20]\n",
              "    </div>\n",
              "    <table border=\"1\" class=\"dataframe\">\n",
              "  <thead>\n",
              " <tr style=\"text-align: left;\">\n",
              "      <th>Epoch</th>\n",
              "      <th>Training Loss</th>\n",
              "      <th>Validation Loss</th>\n",
              "      <th>Accuracy</th>\n",
              "      <th>Precision</th>\n",
              "      <th>Recall</th>\n",
              "      <th>F1</th>\n",
              "    </tr>\n",
              "  </thead>\n",
              "  <tbody>\n",
              "    <tr>\n",
              "      <td>1</td>\n",
              "      <td>No log</td>\n",
              "      <td>4.105210</td>\n",
              "      <td>0.031124</td>\n",
              "      <td>0.021853</td>\n",
              "      <td>0.031124</td>\n",
              "      <td>0.016405</td>\n",
              "    </tr>\n",
              "    <tr>\n",
              "      <td>2</td>\n",
              "      <td>No log</td>\n",
              "      <td>3.931891</td>\n",
              "      <td>0.087349</td>\n",
              "      <td>0.214102</td>\n",
              "      <td>0.087349</td>\n",
              "      <td>0.076655</td>\n",
              "    </tr>\n",
              "    <tr>\n",
              "      <td>3</td>\n",
              "      <td>No log</td>\n",
              "      <td>3.105507</td>\n",
              "      <td>0.477410</td>\n",
              "      <td>0.539545</td>\n",
              "      <td>0.477410</td>\n",
              "      <td>0.450125</td>\n",
              "    </tr>\n",
              "    <tr>\n",
              "      <td>4</td>\n",
              "      <td>No log</td>\n",
              "      <td>2.440660</td>\n",
              "      <td>0.597892</td>\n",
              "      <td>0.657233</td>\n",
              "      <td>0.597892</td>\n",
              "      <td>0.579497</td>\n",
              "    </tr>\n",
              "    <tr>\n",
              "      <td>5</td>\n",
              "      <td>No log</td>\n",
              "      <td>1.827868</td>\n",
              "      <td>0.671185</td>\n",
              "      <td>0.711946</td>\n",
              "      <td>0.671185</td>\n",
              "      <td>0.649696</td>\n",
              "    </tr>\n",
              "    <tr>\n",
              "      <td>6</td>\n",
              "      <td>No log</td>\n",
              "      <td>1.497696</td>\n",
              "      <td>0.697289</td>\n",
              "      <td>0.717092</td>\n",
              "      <td>0.697289</td>\n",
              "      <td>0.679781</td>\n",
              "    </tr>\n",
              "    <tr>\n",
              "      <td>7</td>\n",
              "      <td>2.885400</td>\n",
              "      <td>1.233049</td>\n",
              "      <td>0.733936</td>\n",
              "      <td>0.754082</td>\n",
              "      <td>0.733936</td>\n",
              "      <td>0.728082</td>\n",
              "    </tr>\n",
              "    <tr>\n",
              "      <td>8</td>\n",
              "      <td>2.885400</td>\n",
              "      <td>0.989030</td>\n",
              "      <td>0.772088</td>\n",
              "      <td>0.781493</td>\n",
              "      <td>0.772088</td>\n",
              "      <td>0.768800</td>\n",
              "    </tr>\n",
              "    <tr>\n",
              "      <td>9</td>\n",
              "      <td>2.885400</td>\n",
              "      <td>0.922445</td>\n",
              "      <td>0.776104</td>\n",
              "      <td>0.790970</td>\n",
              "      <td>0.776104</td>\n",
              "      <td>0.773081</td>\n",
              "    </tr>\n",
              "    <tr>\n",
              "      <td>10</td>\n",
              "      <td>2.885400</td>\n",
              "      <td>0.819396</td>\n",
              "      <td>0.800703</td>\n",
              "      <td>0.808674</td>\n",
              "      <td>0.800703</td>\n",
              "      <td>0.796482</td>\n",
              "    </tr>\n",
              "    <tr>\n",
              "      <td>11</td>\n",
              "      <td>2.885400</td>\n",
              "      <td>0.783642</td>\n",
              "      <td>0.807229</td>\n",
              "      <td>0.814941</td>\n",
              "      <td>0.807229</td>\n",
              "      <td>0.804824</td>\n",
              "    </tr>\n",
              "    <tr>\n",
              "      <td>12</td>\n",
              "      <td>2.885400</td>\n",
              "      <td>0.784526</td>\n",
              "      <td>0.809739</td>\n",
              "      <td>0.819675</td>\n",
              "      <td>0.809739</td>\n",
              "      <td>0.808074</td>\n",
              "    </tr>\n",
              "    <tr>\n",
              "      <td>13</td>\n",
              "      <td>0.333100</td>\n",
              "      <td>0.791232</td>\n",
              "      <td>0.820281</td>\n",
              "      <td>0.825309</td>\n",
              "      <td>0.820281</td>\n",
              "      <td>0.818110</td>\n",
              "    </tr>\n",
              "    <tr>\n",
              "      <td>14</td>\n",
              "      <td>0.333100</td>\n",
              "      <td>0.793084</td>\n",
              "      <td>0.819277</td>\n",
              "      <td>0.823782</td>\n",
              "      <td>0.819277</td>\n",
              "      <td>0.816985</td>\n",
              "    </tr>\n",
              "    <tr>\n",
              "      <td>15</td>\n",
              "      <td>0.333100</td>\n",
              "      <td>0.806084</td>\n",
              "      <td>0.819277</td>\n",
              "      <td>0.822907</td>\n",
              "      <td>0.819277</td>\n",
              "      <td>0.816887</td>\n",
              "    </tr>\n",
              "    <tr>\n",
              "      <td>16</td>\n",
              "      <td>0.333100</td>\n",
              "      <td>0.817308</td>\n",
              "      <td>0.819779</td>\n",
              "      <td>0.824782</td>\n",
              "      <td>0.819779</td>\n",
              "      <td>0.817989</td>\n",
              "    </tr>\n",
              "    <tr>\n",
              "      <td>17</td>\n",
              "      <td>0.333100</td>\n",
              "      <td>0.822348</td>\n",
              "      <td>0.820281</td>\n",
              "      <td>0.826115</td>\n",
              "      <td>0.820281</td>\n",
              "      <td>0.818634</td>\n",
              "    </tr>\n",
              "    <tr>\n",
              "      <td>18</td>\n",
              "      <td>0.333100</td>\n",
              "      <td>0.833114</td>\n",
              "      <td>0.815763</td>\n",
              "      <td>0.820525</td>\n",
              "      <td>0.815763</td>\n",
              "      <td>0.813620</td>\n",
              "    </tr>\n",
              "    <tr>\n",
              "      <td>19</td>\n",
              "      <td>0.021500</td>\n",
              "      <td>0.829661</td>\n",
              "      <td>0.818775</td>\n",
              "      <td>0.824083</td>\n",
              "      <td>0.818775</td>\n",
              "      <td>0.817127</td>\n",
              "    </tr>\n",
              "    <tr>\n",
              "      <td>20</td>\n",
              "      <td>0.021500</td>\n",
              "      <td>0.829951</td>\n",
              "      <td>0.819277</td>\n",
              "      <td>0.824793</td>\n",
              "      <td>0.819277</td>\n",
              "      <td>0.817659</td>\n",
              "    </tr>\n",
              "  </tbody>\n",
              "</table><p>"
            ]
          },
          "metadata": {}
        },
        {
          "output_type": "stream",
          "name": "stderr",
          "text": [
            "/home/cc/.local/lib/python3.8/site-packages/sklearn/metrics/_classification.py:1318: UndefinedMetricWarning: Precision and F-score are ill-defined and being set to 0.0 in labels with no predicted samples. Use `zero_division` parameter to control this behavior.\n",
            "  _warn_prf(average, modifier, msg_start, len(result))\n",
            "/home/cc/.local/lib/python3.8/site-packages/sklearn/metrics/_classification.py:1318: UndefinedMetricWarning: Precision and F-score are ill-defined and being set to 0.0 in labels with no predicted samples. Use `zero_division` parameter to control this behavior.\n",
            "  _warn_prf(average, modifier, msg_start, len(result))\n",
            "/home/cc/.local/lib/python3.8/site-packages/sklearn/metrics/_classification.py:1318: UndefinedMetricWarning: Precision and F-score are ill-defined and being set to 0.0 in labels with no predicted samples. Use `zero_division` parameter to control this behavior.\n",
            "  _warn_prf(average, modifier, msg_start, len(result))\n",
            "/home/cc/.local/lib/python3.8/site-packages/sklearn/metrics/_classification.py:1318: UndefinedMetricWarning: Precision and F-score are ill-defined and being set to 0.0 in labels with no predicted samples. Use `zero_division` parameter to control this behavior.\n",
            "  _warn_prf(average, modifier, msg_start, len(result))\n",
            "/home/cc/.local/lib/python3.8/site-packages/sklearn/metrics/_classification.py:1318: UndefinedMetricWarning: Precision and F-score are ill-defined and being set to 0.0 in labels with no predicted samples. Use `zero_division` parameter to control this behavior.\n",
            "  _warn_prf(average, modifier, msg_start, len(result))\n",
            "/home/cc/.local/lib/python3.8/site-packages/sklearn/metrics/_classification.py:1318: UndefinedMetricWarning: Precision and F-score are ill-defined and being set to 0.0 in labels with no predicted samples. Use `zero_division` parameter to control this behavior.\n",
            "  _warn_prf(average, modifier, msg_start, len(result))\n"
          ]
        },
        {
          "output_type": "display_data",
          "data": {
            "text/plain": [
              "<IPython.core.display.HTML object>"
            ],
            "text/html": []
          },
          "metadata": {}
        },
        {
          "output_type": "stream",
          "name": "stdout",
          "text": [
            "Best Test Accuracy for this training dataset: 0.8522304832713755\n"
          ]
        },
        {
          "output_type": "stream",
          "name": "stderr",
          "text": [
            "Some weights of the model checkpoint at bert-large-uncased were not used when initializing BertModel: ['cls.seq_relationship.weight', 'cls.predictions.transform.LayerNorm.weight', 'cls.predictions.transform.dense.bias', 'cls.predictions.transform.dense.weight', 'cls.predictions.bias', 'cls.predictions.transform.LayerNorm.bias', 'cls.seq_relationship.bias']\n",
            "- This IS expected if you are initializing BertModel from the checkpoint of a model trained on another task or with another architecture (e.g. initializing a BertForSequenceClassification model from a BertForPreTraining model).\n",
            "- This IS NOT expected if you are initializing BertModel from the checkpoint of a model that you expect to be exactly identical (initializing a BertForSequenceClassification model from a BertForSequenceClassification model).\n",
            "/home/cc/.local/lib/python3.8/site-packages/transformers/optimization.py:411: FutureWarning: This implementation of AdamW is deprecated and will be removed in a future version. Use the PyTorch implementation torch.optim.AdamW instead, or set `no_deprecation_warning=True` to disable this warning\n",
            "  warnings.warn(\n"
          ]
        },
        {
          "output_type": "display_data",
          "data": {
            "text/plain": [
              "<IPython.core.display.HTML object>"
            ],
            "text/html": [
              "\n",
              "    <div>\n",
              "      \n",
              "      <progress value='1600' max='1600' style='width:300px; height:20px; vertical-align: middle;'></progress>\n",
              "      [1600/1600 48:40, Epoch 20/20]\n",
              "    </div>\n",
              "    <table border=\"1\" class=\"dataframe\">\n",
              "  <thead>\n",
              " <tr style=\"text-align: left;\">\n",
              "      <th>Epoch</th>\n",
              "      <th>Training Loss</th>\n",
              "      <th>Validation Loss</th>\n",
              "      <th>Accuracy</th>\n",
              "      <th>Precision</th>\n",
              "      <th>Recall</th>\n",
              "      <th>F1</th>\n",
              "    </tr>\n",
              "  </thead>\n",
              "  <tbody>\n",
              "    <tr>\n",
              "      <td>1</td>\n",
              "      <td>No log</td>\n",
              "      <td>4.113783</td>\n",
              "      <td>0.025602</td>\n",
              "      <td>0.014693</td>\n",
              "      <td>0.025602</td>\n",
              "      <td>0.011815</td>\n",
              "    </tr>\n",
              "    <tr>\n",
              "      <td>2</td>\n",
              "      <td>No log</td>\n",
              "      <td>3.640521</td>\n",
              "      <td>0.218373</td>\n",
              "      <td>0.269473</td>\n",
              "      <td>0.218373</td>\n",
              "      <td>0.188504</td>\n",
              "    </tr>\n",
              "    <tr>\n",
              "      <td>3</td>\n",
              "      <td>No log</td>\n",
              "      <td>2.728708</td>\n",
              "      <td>0.592871</td>\n",
              "      <td>0.647055</td>\n",
              "      <td>0.592871</td>\n",
              "      <td>0.567653</td>\n",
              "    </tr>\n",
              "    <tr>\n",
              "      <td>4</td>\n",
              "      <td>No log</td>\n",
              "      <td>1.981624</td>\n",
              "      <td>0.683735</td>\n",
              "      <td>0.703614</td>\n",
              "      <td>0.683735</td>\n",
              "      <td>0.662853</td>\n",
              "    </tr>\n",
              "    <tr>\n",
              "      <td>5</td>\n",
              "      <td>No log</td>\n",
              "      <td>1.403901</td>\n",
              "      <td>0.754518</td>\n",
              "      <td>0.781996</td>\n",
              "      <td>0.754518</td>\n",
              "      <td>0.741255</td>\n",
              "    </tr>\n",
              "    <tr>\n",
              "      <td>6</td>\n",
              "      <td>No log</td>\n",
              "      <td>1.079844</td>\n",
              "      <td>0.780120</td>\n",
              "      <td>0.791866</td>\n",
              "      <td>0.780120</td>\n",
              "      <td>0.766824</td>\n",
              "    </tr>\n",
              "    <tr>\n",
              "      <td>7</td>\n",
              "      <td>2.556100</td>\n",
              "      <td>0.898037</td>\n",
              "      <td>0.796185</td>\n",
              "      <td>0.809735</td>\n",
              "      <td>0.796185</td>\n",
              "      <td>0.794854</td>\n",
              "    </tr>\n",
              "    <tr>\n",
              "      <td>8</td>\n",
              "      <td>2.556100</td>\n",
              "      <td>0.816851</td>\n",
              "      <td>0.801707</td>\n",
              "      <td>0.816899</td>\n",
              "      <td>0.801707</td>\n",
              "      <td>0.799256</td>\n",
              "    </tr>\n",
              "    <tr>\n",
              "      <td>9</td>\n",
              "      <td>2.556100</td>\n",
              "      <td>0.793327</td>\n",
              "      <td>0.805221</td>\n",
              "      <td>0.818056</td>\n",
              "      <td>0.805221</td>\n",
              "      <td>0.803217</td>\n",
              "    </tr>\n",
              "    <tr>\n",
              "      <td>10</td>\n",
              "      <td>2.556100</td>\n",
              "      <td>0.789856</td>\n",
              "      <td>0.808735</td>\n",
              "      <td>0.823697</td>\n",
              "      <td>0.808735</td>\n",
              "      <td>0.807636</td>\n",
              "    </tr>\n",
              "    <tr>\n",
              "      <td>11</td>\n",
              "      <td>2.556100</td>\n",
              "      <td>0.796710</td>\n",
              "      <td>0.813253</td>\n",
              "      <td>0.824942</td>\n",
              "      <td>0.813253</td>\n",
              "      <td>0.812367</td>\n",
              "    </tr>\n",
              "    <tr>\n",
              "      <td>12</td>\n",
              "      <td>2.556100</td>\n",
              "      <td>0.801480</td>\n",
              "      <td>0.809739</td>\n",
              "      <td>0.822256</td>\n",
              "      <td>0.809739</td>\n",
              "      <td>0.808959</td>\n",
              "    </tr>\n",
              "    <tr>\n",
              "      <td>13</td>\n",
              "      <td>0.134100</td>\n",
              "      <td>0.807038</td>\n",
              "      <td>0.815763</td>\n",
              "      <td>0.826984</td>\n",
              "      <td>0.815763</td>\n",
              "      <td>0.814808</td>\n",
              "    </tr>\n",
              "    <tr>\n",
              "      <td>14</td>\n",
              "      <td>0.134100</td>\n",
              "      <td>0.821010</td>\n",
              "      <td>0.812751</td>\n",
              "      <td>0.824962</td>\n",
              "      <td>0.812751</td>\n",
              "      <td>0.811704</td>\n",
              "    </tr>\n",
              "    <tr>\n",
              "      <td>15</td>\n",
              "      <td>0.134100</td>\n",
              "      <td>0.833230</td>\n",
              "      <td>0.811245</td>\n",
              "      <td>0.823909</td>\n",
              "      <td>0.811245</td>\n",
              "      <td>0.810348</td>\n",
              "    </tr>\n",
              "    <tr>\n",
              "      <td>16</td>\n",
              "      <td>0.134100</td>\n",
              "      <td>0.841019</td>\n",
              "      <td>0.810743</td>\n",
              "      <td>0.822451</td>\n",
              "      <td>0.810743</td>\n",
              "      <td>0.809625</td>\n",
              "    </tr>\n",
              "    <tr>\n",
              "      <td>17</td>\n",
              "      <td>0.134100</td>\n",
              "      <td>0.845932</td>\n",
              "      <td>0.811747</td>\n",
              "      <td>0.823442</td>\n",
              "      <td>0.811747</td>\n",
              "      <td>0.810694</td>\n",
              "    </tr>\n",
              "    <tr>\n",
              "      <td>18</td>\n",
              "      <td>0.134100</td>\n",
              "      <td>0.851155</td>\n",
              "      <td>0.812751</td>\n",
              "      <td>0.824261</td>\n",
              "      <td>0.812751</td>\n",
              "      <td>0.811530</td>\n",
              "    </tr>\n",
              "    <tr>\n",
              "      <td>19</td>\n",
              "      <td>0.011600</td>\n",
              "      <td>0.852212</td>\n",
              "      <td>0.811747</td>\n",
              "      <td>0.823590</td>\n",
              "      <td>0.811747</td>\n",
              "      <td>0.810641</td>\n",
              "    </tr>\n",
              "    <tr>\n",
              "      <td>20</td>\n",
              "      <td>0.011600</td>\n",
              "      <td>0.852934</td>\n",
              "      <td>0.811747</td>\n",
              "      <td>0.823590</td>\n",
              "      <td>0.811747</td>\n",
              "      <td>0.810641</td>\n",
              "    </tr>\n",
              "  </tbody>\n",
              "</table><p>"
            ]
          },
          "metadata": {}
        },
        {
          "output_type": "stream",
          "name": "stderr",
          "text": [
            "/home/cc/.local/lib/python3.8/site-packages/sklearn/metrics/_classification.py:1318: UndefinedMetricWarning: Precision and F-score are ill-defined and being set to 0.0 in labels with no predicted samples. Use `zero_division` parameter to control this behavior.\n",
            "  _warn_prf(average, modifier, msg_start, len(result))\n",
            "/home/cc/.local/lib/python3.8/site-packages/sklearn/metrics/_classification.py:1318: UndefinedMetricWarning: Precision and F-score are ill-defined and being set to 0.0 in labels with no predicted samples. Use `zero_division` parameter to control this behavior.\n",
            "  _warn_prf(average, modifier, msg_start, len(result))\n",
            "/home/cc/.local/lib/python3.8/site-packages/sklearn/metrics/_classification.py:1318: UndefinedMetricWarning: Precision and F-score are ill-defined and being set to 0.0 in labels with no predicted samples. Use `zero_division` parameter to control this behavior.\n",
            "  _warn_prf(average, modifier, msg_start, len(result))\n",
            "/home/cc/.local/lib/python3.8/site-packages/sklearn/metrics/_classification.py:1318: UndefinedMetricWarning: Precision and F-score are ill-defined and being set to 0.0 in labels with no predicted samples. Use `zero_division` parameter to control this behavior.\n",
            "  _warn_prf(average, modifier, msg_start, len(result))\n"
          ]
        },
        {
          "output_type": "display_data",
          "data": {
            "text/plain": [
              "<IPython.core.display.HTML object>"
            ],
            "text/html": []
          },
          "metadata": {}
        },
        {
          "output_type": "stream",
          "name": "stdout",
          "text": [
            "Best Test Accuracy for this training dataset: 0.837360594795539\n"
          ]
        },
        {
          "output_type": "stream",
          "name": "stderr",
          "text": [
            "Some weights of the model checkpoint at bert-large-uncased were not used when initializing BertModel: ['cls.seq_relationship.weight', 'cls.predictions.transform.LayerNorm.weight', 'cls.predictions.transform.dense.bias', 'cls.predictions.transform.dense.weight', 'cls.predictions.bias', 'cls.predictions.transform.LayerNorm.bias', 'cls.seq_relationship.bias']\n",
            "- This IS expected if you are initializing BertModel from the checkpoint of a model trained on another task or with another architecture (e.g. initializing a BertForSequenceClassification model from a BertForPreTraining model).\n",
            "- This IS NOT expected if you are initializing BertModel from the checkpoint of a model that you expect to be exactly identical (initializing a BertForSequenceClassification model from a BertForSequenceClassification model).\n",
            "/home/cc/.local/lib/python3.8/site-packages/transformers/optimization.py:411: FutureWarning: This implementation of AdamW is deprecated and will be removed in a future version. Use the PyTorch implementation torch.optim.AdamW instead, or set `no_deprecation_warning=True` to disable this warning\n",
            "  warnings.warn(\n"
          ]
        },
        {
          "output_type": "display_data",
          "data": {
            "text/plain": [
              "<IPython.core.display.HTML object>"
            ],
            "text/html": [
              "\n",
              "    <div>\n",
              "      \n",
              "      <progress value='1600' max='1600' style='width:300px; height:20px; vertical-align: middle;'></progress>\n",
              "      [1600/1600 48:40, Epoch 20/20]\n",
              "    </div>\n",
              "    <table border=\"1\" class=\"dataframe\">\n",
              "  <thead>\n",
              " <tr style=\"text-align: left;\">\n",
              "      <th>Epoch</th>\n",
              "      <th>Training Loss</th>\n",
              "      <th>Validation Loss</th>\n",
              "      <th>Accuracy</th>\n",
              "      <th>Precision</th>\n",
              "      <th>Recall</th>\n",
              "      <th>F1</th>\n",
              "    </tr>\n",
              "  </thead>\n",
              "  <tbody>\n",
              "    <tr>\n",
              "      <td>1</td>\n",
              "      <td>No log</td>\n",
              "      <td>4.115595</td>\n",
              "      <td>0.028112</td>\n",
              "      <td>0.012068</td>\n",
              "      <td>0.028112</td>\n",
              "      <td>0.010802</td>\n",
              "    </tr>\n",
              "    <tr>\n",
              "      <td>2</td>\n",
              "      <td>No log</td>\n",
              "      <td>4.038762</td>\n",
              "      <td>0.052209</td>\n",
              "      <td>0.068724</td>\n",
              "      <td>0.052209</td>\n",
              "      <td>0.030965</td>\n",
              "    </tr>\n",
              "    <tr>\n",
              "      <td>3</td>\n",
              "      <td>No log</td>\n",
              "      <td>3.386777</td>\n",
              "      <td>0.338855</td>\n",
              "      <td>0.428587</td>\n",
              "      <td>0.338855</td>\n",
              "      <td>0.304804</td>\n",
              "    </tr>\n",
              "    <tr>\n",
              "      <td>4</td>\n",
              "      <td>No log</td>\n",
              "      <td>2.366557</td>\n",
              "      <td>0.602912</td>\n",
              "      <td>0.665201</td>\n",
              "      <td>0.602912</td>\n",
              "      <td>0.568232</td>\n",
              "    </tr>\n",
              "    <tr>\n",
              "      <td>5</td>\n",
              "      <td>No log</td>\n",
              "      <td>1.638518</td>\n",
              "      <td>0.721386</td>\n",
              "      <td>0.757658</td>\n",
              "      <td>0.721386</td>\n",
              "      <td>0.701226</td>\n",
              "    </tr>\n",
              "    <tr>\n",
              "      <td>6</td>\n",
              "      <td>No log</td>\n",
              "      <td>1.188877</td>\n",
              "      <td>0.792169</td>\n",
              "      <td>0.797893</td>\n",
              "      <td>0.792169</td>\n",
              "      <td>0.787244</td>\n",
              "    </tr>\n",
              "    <tr>\n",
              "      <td>7</td>\n",
              "      <td>2.919000</td>\n",
              "      <td>0.933928</td>\n",
              "      <td>0.801205</td>\n",
              "      <td>0.817263</td>\n",
              "      <td>0.801205</td>\n",
              "      <td>0.795691</td>\n",
              "    </tr>\n",
              "    <tr>\n",
              "      <td>8</td>\n",
              "      <td>2.919000</td>\n",
              "      <td>0.829112</td>\n",
              "      <td>0.813755</td>\n",
              "      <td>0.824542</td>\n",
              "      <td>0.813755</td>\n",
              "      <td>0.812633</td>\n",
              "    </tr>\n",
              "    <tr>\n",
              "      <td>9</td>\n",
              "      <td>2.919000</td>\n",
              "      <td>0.754853</td>\n",
              "      <td>0.817269</td>\n",
              "      <td>0.830454</td>\n",
              "      <td>0.817269</td>\n",
              "      <td>0.816096</td>\n",
              "    </tr>\n",
              "    <tr>\n",
              "      <td>10</td>\n",
              "      <td>2.919000</td>\n",
              "      <td>0.729292</td>\n",
              "      <td>0.828815</td>\n",
              "      <td>0.836013</td>\n",
              "      <td>0.828815</td>\n",
              "      <td>0.828846</td>\n",
              "    </tr>\n",
              "    <tr>\n",
              "      <td>11</td>\n",
              "      <td>2.919000</td>\n",
              "      <td>0.731839</td>\n",
              "      <td>0.828815</td>\n",
              "      <td>0.838496</td>\n",
              "      <td>0.828815</td>\n",
              "      <td>0.829512</td>\n",
              "    </tr>\n",
              "    <tr>\n",
              "      <td>12</td>\n",
              "      <td>2.919000</td>\n",
              "      <td>0.759463</td>\n",
              "      <td>0.824799</td>\n",
              "      <td>0.836172</td>\n",
              "      <td>0.824799</td>\n",
              "      <td>0.826408</td>\n",
              "    </tr>\n",
              "    <tr>\n",
              "      <td>13</td>\n",
              "      <td>0.193700</td>\n",
              "      <td>0.757330</td>\n",
              "      <td>0.826305</td>\n",
              "      <td>0.834821</td>\n",
              "      <td>0.826305</td>\n",
              "      <td>0.826930</td>\n",
              "    </tr>\n",
              "    <tr>\n",
              "      <td>14</td>\n",
              "      <td>0.193700</td>\n",
              "      <td>0.768567</td>\n",
              "      <td>0.829819</td>\n",
              "      <td>0.838216</td>\n",
              "      <td>0.829819</td>\n",
              "      <td>0.830497</td>\n",
              "    </tr>\n",
              "    <tr>\n",
              "      <td>15</td>\n",
              "      <td>0.193700</td>\n",
              "      <td>0.775497</td>\n",
              "      <td>0.828815</td>\n",
              "      <td>0.837149</td>\n",
              "      <td>0.828815</td>\n",
              "      <td>0.829574</td>\n",
              "    </tr>\n",
              "    <tr>\n",
              "      <td>16</td>\n",
              "      <td>0.193700</td>\n",
              "      <td>0.780165</td>\n",
              "      <td>0.828815</td>\n",
              "      <td>0.837001</td>\n",
              "      <td>0.828815</td>\n",
              "      <td>0.829370</td>\n",
              "    </tr>\n",
              "    <tr>\n",
              "      <td>17</td>\n",
              "      <td>0.193700</td>\n",
              "      <td>0.785722</td>\n",
              "      <td>0.828313</td>\n",
              "      <td>0.836526</td>\n",
              "      <td>0.828313</td>\n",
              "      <td>0.828710</td>\n",
              "    </tr>\n",
              "    <tr>\n",
              "      <td>18</td>\n",
              "      <td>0.193700</td>\n",
              "      <td>0.789404</td>\n",
              "      <td>0.829819</td>\n",
              "      <td>0.838000</td>\n",
              "      <td>0.829819</td>\n",
              "      <td>0.830303</td>\n",
              "    </tr>\n",
              "    <tr>\n",
              "      <td>19</td>\n",
              "      <td>0.012900</td>\n",
              "      <td>0.790854</td>\n",
              "      <td>0.828815</td>\n",
              "      <td>0.837119</td>\n",
              "      <td>0.828815</td>\n",
              "      <td>0.829348</td>\n",
              "    </tr>\n",
              "    <tr>\n",
              "      <td>20</td>\n",
              "      <td>0.012900</td>\n",
              "      <td>0.791388</td>\n",
              "      <td>0.829317</td>\n",
              "      <td>0.837686</td>\n",
              "      <td>0.829317</td>\n",
              "      <td>0.829883</td>\n",
              "    </tr>\n",
              "  </tbody>\n",
              "</table><p>"
            ]
          },
          "metadata": {}
        },
        {
          "output_type": "stream",
          "name": "stderr",
          "text": [
            "/home/cc/.local/lib/python3.8/site-packages/sklearn/metrics/_classification.py:1318: UndefinedMetricWarning: Precision and F-score are ill-defined and being set to 0.0 in labels with no predicted samples. Use `zero_division` parameter to control this behavior.\n",
            "  _warn_prf(average, modifier, msg_start, len(result))\n",
            "/home/cc/.local/lib/python3.8/site-packages/sklearn/metrics/_classification.py:1318: UndefinedMetricWarning: Precision and F-score are ill-defined and being set to 0.0 in labels with no predicted samples. Use `zero_division` parameter to control this behavior.\n",
            "  _warn_prf(average, modifier, msg_start, len(result))\n",
            "/home/cc/.local/lib/python3.8/site-packages/sklearn/metrics/_classification.py:1318: UndefinedMetricWarning: Precision and F-score are ill-defined and being set to 0.0 in labels with no predicted samples. Use `zero_division` parameter to control this behavior.\n",
            "  _warn_prf(average, modifier, msg_start, len(result))\n",
            "/home/cc/.local/lib/python3.8/site-packages/sklearn/metrics/_classification.py:1318: UndefinedMetricWarning: Precision and F-score are ill-defined and being set to 0.0 in labels with no predicted samples. Use `zero_division` parameter to control this behavior.\n",
            "  _warn_prf(average, modifier, msg_start, len(result))\n"
          ]
        },
        {
          "output_type": "display_data",
          "data": {
            "text/plain": [
              "<IPython.core.display.HTML object>"
            ],
            "text/html": []
          },
          "metadata": {}
        },
        {
          "output_type": "stream",
          "name": "stdout",
          "text": [
            "Best Test Accuracy for this training dataset: 0.8382899628252788\n"
          ]
        },
        {
          "output_type": "stream",
          "name": "stderr",
          "text": [
            "Some weights of the model checkpoint at bert-large-uncased were not used when initializing BertModel: ['cls.seq_relationship.weight', 'cls.predictions.transform.LayerNorm.weight', 'cls.predictions.transform.dense.bias', 'cls.predictions.transform.dense.weight', 'cls.predictions.bias', 'cls.predictions.transform.LayerNorm.bias', 'cls.seq_relationship.bias']\n",
            "- This IS expected if you are initializing BertModel from the checkpoint of a model trained on another task or with another architecture (e.g. initializing a BertForSequenceClassification model from a BertForPreTraining model).\n",
            "- This IS NOT expected if you are initializing BertModel from the checkpoint of a model that you expect to be exactly identical (initializing a BertForSequenceClassification model from a BertForSequenceClassification model).\n",
            "/home/cc/.local/lib/python3.8/site-packages/transformers/optimization.py:411: FutureWarning: This implementation of AdamW is deprecated and will be removed in a future version. Use the PyTorch implementation torch.optim.AdamW instead, or set `no_deprecation_warning=True` to disable this warning\n",
            "  warnings.warn(\n"
          ]
        },
        {
          "output_type": "display_data",
          "data": {
            "text/plain": [
              "<IPython.core.display.HTML object>"
            ],
            "text/html": [
              "\n",
              "    <div>\n",
              "      \n",
              "      <progress value='369' max='1600' style='width:300px; height:20px; vertical-align: middle;'></progress>\n",
              "      [ 369/1600 10:23 < 34:52, 0.59 it/s, Epoch 4.60/20]\n",
              "    </div>\n",
              "    <table border=\"1\" class=\"dataframe\">\n",
              "  <thead>\n",
              " <tr style=\"text-align: left;\">\n",
              "      <th>Epoch</th>\n",
              "      <th>Training Loss</th>\n",
              "      <th>Validation Loss</th>\n",
              "      <th>Accuracy</th>\n",
              "      <th>Precision</th>\n",
              "      <th>Recall</th>\n",
              "      <th>F1</th>\n",
              "    </tr>\n",
              "  </thead>\n",
              "  <tbody>\n",
              "    <tr>\n",
              "      <td>1</td>\n",
              "      <td>No log</td>\n",
              "      <td>4.068842</td>\n",
              "      <td>0.044177</td>\n",
              "      <td>0.039663</td>\n",
              "      <td>0.044177</td>\n",
              "      <td>0.016668</td>\n",
              "    </tr>\n",
              "    <tr>\n",
              "      <td>2</td>\n",
              "      <td>No log</td>\n",
              "      <td>3.616140</td>\n",
              "      <td>0.205321</td>\n",
              "      <td>0.305798</td>\n",
              "      <td>0.205321</td>\n",
              "      <td>0.176310</td>\n",
              "    </tr>\n",
              "    <tr>\n",
              "      <td>3</td>\n",
              "      <td>No log</td>\n",
              "      <td>2.788473</td>\n",
              "      <td>0.564257</td>\n",
              "      <td>0.656512</td>\n",
              "      <td>0.564257</td>\n",
              "      <td>0.534578</td>\n",
              "    </tr>\n",
              "    <tr>\n",
              "      <td>4</td>\n",
              "      <td>No log</td>\n",
              "      <td>1.956667</td>\n",
              "      <td>0.706325</td>\n",
              "      <td>0.747265</td>\n",
              "      <td>0.706325</td>\n",
              "      <td>0.693427</td>\n",
              "    </tr>\n",
              "  </tbody>\n",
              "</table><p>"
            ]
          },
          "metadata": {}
        },
        {
          "output_type": "stream",
          "name": "stderr",
          "text": [
            "/home/cc/.local/lib/python3.8/site-packages/sklearn/metrics/_classification.py:1318: UndefinedMetricWarning: Precision and F-score are ill-defined and being set to 0.0 in labels with no predicted samples. Use `zero_division` parameter to control this behavior.\n",
            "  _warn_prf(average, modifier, msg_start, len(result))\n",
            "/home/cc/.local/lib/python3.8/site-packages/sklearn/metrics/_classification.py:1318: UndefinedMetricWarning: Precision and F-score are ill-defined and being set to 0.0 in labels with no predicted samples. Use `zero_division` parameter to control this behavior.\n",
            "  _warn_prf(average, modifier, msg_start, len(result))\n"
          ]
        }
      ]
    },
    {
      "cell_type": "code",
      "source": [
        "best_accuracy"
      ],
      "metadata": {
        "id": "G-O5e5LvgrPN",
        "outputId": "1da05561-16e3-40cf-8a8c-1114ce8838f5",
        "colab": {
          "base_uri": "https://localhost:8080/"
        }
      },
      "execution_count": null,
      "outputs": [
        {
          "output_type": "execute_result",
          "data": {
            "text/plain": [
              "0.8531598513011153"
            ]
          },
          "metadata": {},
          "execution_count": 28
        }
      ]
    },
    {
      "cell_type": "code",
      "source": [
        "accuracy_list = [0.8252788104089219, 0.8531598513011153,  0.8299256505576208, 0.8355018587360595, 0.8475836431226765, 0.8420074349442379]"
      ],
      "metadata": {
        "id": "6u-we3-8iTls"
      },
      "execution_count": null,
      "outputs": []
    },
    {
      "cell_type": "code",
      "source": [
        "import statistics\n",
        "statistics.stdev(accuracy_list)"
      ],
      "metadata": {
        "id": "ubDAri55DcDh",
        "outputId": "ae1655b8-810b-482a-adb7-4b676691bd50",
        "colab": {
          "base_uri": "https://localhost:8080/"
        }
      },
      "execution_count": null,
      "outputs": [
        {
          "output_type": "execute_result",
          "data": {
            "text/plain": [
              "0.01063980958985297"
            ]
          },
          "metadata": {},
          "execution_count": 30
        }
      ]
    },
    {
      "cell_type": "code",
      "source": [
        "statistics.mean(accuracy_list)"
      ],
      "metadata": {
        "id": "4T1vh98QDm_R",
        "outputId": "039f4bc0-aa5b-4a90-e9c1-f5d8a29dbb6e",
        "colab": {
          "base_uri": "https://localhost:8080/"
        }
      },
      "execution_count": null,
      "outputs": [
        {
          "output_type": "execute_result",
          "data": {
            "text/plain": [
              "0.838909541511772"
            ]
          },
          "metadata": {},
          "execution_count": 31
        }
      ]
    },
    {
      "cell_type": "code",
      "source": [
        "df_n = pd.read_csv(\"prediction_on_non_augmented6.csv\")"
      ],
      "metadata": {
        "id": "gpevIgCuqCon"
      },
      "execution_count": null,
      "outputs": []
    },
    {
      "cell_type": "code",
      "source": [
        "df_n.head()"
      ],
      "metadata": {
        "colab": {
          "base_uri": "https://localhost:8080/",
          "height": 206
        },
        "id": "hbixl9qRqIvJ",
        "outputId": "3a7851ab-09a4-4385-dfe5-2db140ec038c"
      },
      "execution_count": null,
      "outputs": [
        {
          "output_type": "execute_result",
          "data": {
            "text/plain": [
              "   Unnamed: 0                                        speech_text  intent  \\\n",
              "0           0                      tell me time of alarm you set       0   \n",
              "1           1                              list all of my alarms       0   \n",
              "2           2                                     alarm settings       0   \n",
              "3           3                      what alarms are set for today       0   \n",
              "4           4  please see see for me the alarms that you have...       0   \n",
              "\n",
              "   prediction_1  prediction_2  prediction_3  prediction_4  prediction_5  \\\n",
              "0             0             0             0             0             0   \n",
              "1             0             0             0             0             0   \n",
              "2             0             0             2             2             1   \n",
              "3             0             0             0             0             0   \n",
              "4             0             0             0             0             0   \n",
              "\n",
              "   prediction_6  \n",
              "0             0  \n",
              "1             0  \n",
              "2             2  \n",
              "3             0  \n",
              "4             0  "
            ],
            "text/html": [
              "<div>\n",
              "<style scoped>\n",
              "    .dataframe tbody tr th:only-of-type {\n",
              "        vertical-align: middle;\n",
              "    }\n",
              "\n",
              "    .dataframe tbody tr th {\n",
              "        vertical-align: top;\n",
              "    }\n",
              "\n",
              "    .dataframe thead th {\n",
              "        text-align: right;\n",
              "    }\n",
              "</style>\n",
              "<table border=\"1\" class=\"dataframe\">\n",
              "  <thead>\n",
              "    <tr style=\"text-align: right;\">\n",
              "      <th></th>\n",
              "      <th>Unnamed: 0</th>\n",
              "      <th>speech_text</th>\n",
              "      <th>intent</th>\n",
              "      <th>prediction_1</th>\n",
              "      <th>prediction_2</th>\n",
              "      <th>prediction_3</th>\n",
              "      <th>prediction_4</th>\n",
              "      <th>prediction_5</th>\n",
              "      <th>prediction_6</th>\n",
              "    </tr>\n",
              "  </thead>\n",
              "  <tbody>\n",
              "    <tr>\n",
              "      <th>0</th>\n",
              "      <td>0</td>\n",
              "      <td>tell me time of alarm you set</td>\n",
              "      <td>0</td>\n",
              "      <td>0</td>\n",
              "      <td>0</td>\n",
              "      <td>0</td>\n",
              "      <td>0</td>\n",
              "      <td>0</td>\n",
              "      <td>0</td>\n",
              "    </tr>\n",
              "    <tr>\n",
              "      <th>1</th>\n",
              "      <td>1</td>\n",
              "      <td>list all of my alarms</td>\n",
              "      <td>0</td>\n",
              "      <td>0</td>\n",
              "      <td>0</td>\n",
              "      <td>0</td>\n",
              "      <td>0</td>\n",
              "      <td>0</td>\n",
              "      <td>0</td>\n",
              "    </tr>\n",
              "    <tr>\n",
              "      <th>2</th>\n",
              "      <td>2</td>\n",
              "      <td>alarm settings</td>\n",
              "      <td>0</td>\n",
              "      <td>0</td>\n",
              "      <td>0</td>\n",
              "      <td>2</td>\n",
              "      <td>2</td>\n",
              "      <td>1</td>\n",
              "      <td>2</td>\n",
              "    </tr>\n",
              "    <tr>\n",
              "      <th>3</th>\n",
              "      <td>3</td>\n",
              "      <td>what alarms are set for today</td>\n",
              "      <td>0</td>\n",
              "      <td>0</td>\n",
              "      <td>0</td>\n",
              "      <td>0</td>\n",
              "      <td>0</td>\n",
              "      <td>0</td>\n",
              "      <td>0</td>\n",
              "    </tr>\n",
              "    <tr>\n",
              "      <th>4</th>\n",
              "      <td>4</td>\n",
              "      <td>please see see for me the alarms that you have...</td>\n",
              "      <td>0</td>\n",
              "      <td>0</td>\n",
              "      <td>0</td>\n",
              "      <td>0</td>\n",
              "      <td>0</td>\n",
              "      <td>0</td>\n",
              "      <td>0</td>\n",
              "    </tr>\n",
              "  </tbody>\n",
              "</table>\n",
              "</div>"
            ]
          },
          "metadata": {},
          "execution_count": 31
        }
      ]
    },
    {
      "cell_type": "code",
      "source": [],
      "metadata": {
        "id": "RqOZv9wFqMJY"
      },
      "execution_count": null,
      "outputs": []
    }
  ]
}