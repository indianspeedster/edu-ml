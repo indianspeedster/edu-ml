{
 "cells": [
  {
   "cell_type": "markdown",
   "metadata": {},
   "source": [
    "# Run a single user notebook server on Chameleon\n",
    "\n",
    "This notebook describes how to run a single user Jupyter notebook server on Chameleon. This allows you to run experiments requiring bare metal access, storage, memory, GPU and compute resources on Chameleon using a Jupyter notebook interface.\n",
    "\n",
    "> This notebook assumes that you already have completed [Hello, Chameleon](https://github.com/teaching-on-testbeds/hello-chameleon/blob/main/hello_chameleon.ipynb)"
   ],
   "id": "88b5c326-d737-47ff-b731-eaf2083fadb5"
  },
  {
   "cell_type": "markdown",
   "metadata": {},
   "source": [
    "## Provision the resource"
   ],
   "id": "5da0165a-ed21-4bdd-8c67-dfa5bd8c7fd5"
  },
  {
   "cell_type": "markdown",
   "metadata": {},
   "source": [
    "### Check resource availability"
   ],
   "id": "0481b103-7c80-4ded-a8f6-0f3e8546bc67"
  },
  {
   "cell_type": "markdown",
   "metadata": {},
   "source": [
    "This notebook will try to reserve a bare metal Ubuntu on <CHI@UC> - pending availability. Before you begin, you should check the host calendar at <https://chi.uc.chameleoncloud.org/project/leases/calendar/host/> to see what node types are available."
   ],
   "id": "a0736c54-af56-4b9a-b1ee-0b26d0970bb4"
  },
  {
   "cell_type": "markdown",
   "metadata": {},
   "source": [
    "### Chameleon configuration\n",
    "\n",
    "You can change your Chameleon project name (if not using the one that is automatically configured in the JupyterHub environment) and the site on which to reserve resources (depending on availability) in the following cell."
   ],
   "id": "a571fcfe-6133-447f-9dfb-8444c59f7abf"
  },
  {
   "cell_type": "code",
   "execution_count": null,
   "metadata": {},
   "outputs": [],
   "source": [
    "import chi, os\n",
    "\n",
    "PROJECT_NAME = os.getenv('OS_PROJECT_NAME')\n",
    "chi.use_site(\"CHI@UC\")\n",
    "chi.set(\"project_name\", PROJECT_NAME)"
   ],
   "id": "f20c605c-9750-43bc-880a-311097c42d73"
  },
  {
   "cell_type": "markdown",
   "metadata": {},
   "source": [
    "If you need to change the details of the Chameleon server, e.g. use a different OS image, or a different node type depending on availability, you can do that in the following cell."
   ],
   "id": "48f0d234-bb09-4666-8958-1aa25703218b"
  },
  {
   "cell_type": "code",
   "execution_count": null,
   "metadata": {},
   "outputs": [],
   "source": [
    "chi.set(\"image\", \"CC-Ubuntu20.04\")\n",
    "NODE_TYPE = \"gpu_rtx_6000\""
   ],
   "id": "4b7fccfd-4c79-4f02-9893-1c7351c12810"
  },
  {
   "cell_type": "markdown",
   "metadata": {},
   "source": [
    "### Reservation\n",
    "\n",
    "The following cell will create a reservation that begins now, and ends in 8 hours. You can modify the start and end date as needed."
   ],
   "id": "22d500e7-84ce-493d-8b25-5a9457fde592"
  },
  {
   "cell_type": "code",
   "execution_count": null,
   "metadata": {},
   "outputs": [],
   "source": [
    "from chi import lease\n",
    "\n",
    "\n",
    "res = []\n",
    "lease.add_node_reservation(res, node_type=NODE_TYPE, count=1)\n",
    "lease.add_fip_reservation(res, count=1)\n",
    "start_date, end_date = lease.lease_duration(days=0, hours=8)\n",
    "\n",
    "l = lease.create_lease(f\"{os.getenv('USER')}-edu-ml\", res, start_date=start_date, end_date=end_date)\n",
    "l = lease.wait_for_active(l[\"id\"])"
   ],
   "id": "6e8e1135-c719-4c29-bef5-cbe5da2d0d46"
  },
  {
   "cell_type": "markdown",
   "metadata": {},
   "source": [
    "### Provisioning resources\n",
    "\n",
    "This cell provisions resources. It will take approximately 10 minutes. You can check on its status in the Chameleon web-based UI: <https://chi.uc.chameleoncloud.org/project/instances/>, then come back here when it is in the READY state."
   ],
   "id": "e0e5770d-7baa-48ec-b92b-93bed4950912"
  },
  {
   "cell_type": "code",
   "execution_count": null,
   "metadata": {},
   "outputs": [],
   "source": [
    "from chi import server\n",
    "\n",
    "reservation_id = lease.get_node_reservation(l[\"id\"])\n",
    "server.create_server(\n",
    "    f\"{os.getenv('USER')}-edu-ml\", \n",
    "    reservation_id=reservation_id,\n",
    "    image_name=chi.get(\"image\")\n",
    ")\n",
    "server_id = server.get_server_id(f\"{os.getenv('USER')}-edu-ml\")\n",
    "server.wait_for_active(server_id)"
   ],
   "id": "68af9304-23b3-4dc0-b71e-371dad9344c8"
  },
  {
   "cell_type": "markdown",
   "metadata": {},
   "source": [
    "Associate an IP address with this server:"
   ],
   "id": "abc07eb0-7469-4688-bd0a-0f26b9e5cf60"
  },
  {
   "cell_type": "code",
   "execution_count": null,
   "metadata": {},
   "outputs": [],
   "source": [
    "reserved_fip = lease.get_reserved_floating_ips(l[\"id\"])[0]\n",
    "server.associate_floating_ip(server_id,reserved_fip)"
   ],
   "id": "12076f1e-8592-4ca7-a4bf-43e0caeb2194"
  },
  {
   "cell_type": "markdown",
   "metadata": {},
   "source": [
    "and wait for it to come up:"
   ],
   "id": "a64b26f1-9f87-4211-8e48-3b42db3e8ee2"
  },
  {
   "cell_type": "code",
   "execution_count": null,
   "metadata": {},
   "outputs": [],
   "source": [
    "server.wait_for_tcp(reserved_fip, port=22)"
   ],
   "id": "d3ebe211-2e8d-459e-bc2e-f4426fff14b9"
  },
  {
   "cell_type": "markdown",
   "metadata": {},
   "source": [
    "## Install stuff"
   ],
   "id": "ea8e4930-4c66-41b4-b092-97f2ba2657cd"
  },
  {
   "cell_type": "markdown",
   "metadata": {},
   "source": [
    "The following cells will install some basic packages on your Chameleon server."
   ],
   "id": "3ec32a0c-9cfa-4c8a-a49f-aa821f29f5bb"
  },
  {
   "cell_type": "code",
   "execution_count": null,
   "metadata": {},
   "outputs": [],
   "source": [
    "from chi import ssh\n",
    "\n",
    "node = ssh.Remote(reserved_fip)"
   ],
   "id": "af2d012f-6012-4d9c-89bc-5357d559d42b"
  },
  {
   "cell_type": "code",
   "execution_count": null,
   "metadata": {},
   "outputs": [],
   "source": [
    "node.run('sudo apt update')\n",
    "node.run('sudo apt -y install python3-pip python3-dev')\n",
    "node.run('sudo pip3 install --upgrade pip')"
   ],
   "id": "cf1069be-f192-4ca3-8589-d6bfbf4edf71"
  },
  {
   "cell_type": "markdown",
   "metadata": {},
   "source": [
    "### Install CUDA and Nvidia Drivers"
   ],
   "id": "8819e9f4-3807-4345-95e9-941967d168b2"
  },
  {
   "cell_type": "code",
   "execution_count": null,
   "metadata": {},
   "outputs": [],
   "source": [
    "node.run('wget https://developer.download.nvidia.com/compute/cuda/repos/ubuntu2004/x86_64/cuda-keyring_1.0-1_all.deb')\n",
    "node.run('sudo dpkg -i cuda-keyring_1.0-1_all.deb')\n",
    "node.run('sudo apt update')\n",
    "node.run('sudo apt -y install linux-headers-$(uname -r)')\n",
    "node.run('sudo apt-mark hold cuda-toolkit-12-config-common nvidia-driver-535') \n",
    "node.run('sudo apt -y install nvidia-driver-520') "
   ],
   "id": "6ac10229-df05-416c-a566-011d761940a0"
  },
  {
   "cell_type": "code",
   "execution_count": null,
   "metadata": {},
   "outputs": [],
   "source": [
    "try:\n",
    "    node.run('sudo reboot') # reboot and wait for it to come up\n",
    "except:\n",
    "    pass\n",
    "server.wait_for_tcp(reserved_fip, port=22)\n",
    "node = ssh.Remote(reserved_fip) \n"
   ],
   "id": "c0ebf23b-af29-4241-9552-a024e3e5e3c5"
  },
  {
   "cell_type": "code",
   "execution_count": null,
   "metadata": {},
   "outputs": [],
   "source": [
    "node.run('sudo apt -y install cuda-11-8 cuda-runtime-11-8 cuda-drivers=520.61.05-1')\n",
    "node.run('sudo apt -y install nvidia-gds-11-8') \n",
    "node.run('sudo apt -y install libcudnn8=8.9.3.28-1+cuda11.8 nvidia-cuda-toolkit') \n"
   ],
   "id": "4eec9a39-1dd2-40f6-a96b-92907d995312"
  },
  {
   "cell_type": "code",
   "execution_count": null,
   "metadata": {},
   "outputs": [],
   "source": [
    "node.run(\"echo 'PATH=\\\"/usr/local/cuda-11.8/bin:/usr/local/sbin:/usr/local/bin:/usr/sbin:/usr/bin:/sbin:/bin:/snap/bin\\\"' | sudo tee /etc/environment\")\n"
   ],
   "id": "ae59c4e4-c872-4b5b-b1ed-b5c736a51f2b"
  },
  {
   "cell_type": "markdown",
   "metadata": {},
   "source": [
    "Now we have to reboot, and make sure we have the specified CUDA:"
   ],
   "id": "2e5a32e1-e54f-46c7-b65b-ae4786d67350"
  },
  {
   "cell_type": "code",
   "execution_count": null,
   "metadata": {},
   "outputs": [],
   "source": [
    "try:\n",
    "    node.run('sudo reboot')\n",
    "except:\n",
    "    pass\n",
    "server.wait_for_tcp(reserved_fip, port=22)\n",
    "node = ssh.Remote(reserved_fip) # note: need a new SSH session to get new PATH\n",
    "node.run('nvidia-smi')\n",
    "node.run('nvcc --version')\n"
   ],
   "id": "84d8e489-6ff9-4f0b-bace-a49764ea6fd0"
  },
  {
   "cell_type": "markdown",
   "metadata": {},
   "source": [
    "### Install libraries"
   ],
   "id": "ced23080-0270-40a5-851d-30f996e7d948"
  },
  {
   "cell_type": "markdown",
   "metadata": {},
   "source": [
    "Install standard deep learning libraries"
   ],
   "id": "e123d443-5809-4665-85c6-863c403ed07e"
  },
  {
   "cell_type": "code",
   "execution_count": null,
   "metadata": {},
   "outputs": [],
   "source": [
    "node.run('python3 -m pip install --user Cython==0.29.32')\n",
    "node.run('wget https://raw.githubusercontent.com/teaching-on-testbeds/colab/main/requirements_chameleon_dl.txt -O requirements_chameleon_dl.txt')\n",
    "node.run('wget https://raw.githubusercontent.com/teaching-on-testbeds/colab/main/requirements_chameleon.txt -O requirements_chameleon.txt')\n",
    "node.run('python3 -m pip install --user -r requirements_chameleon_dl.txt --extra-index-url https://download.pytorch.org/whl/cu113 -f https://storage.googleapis.com/jax-releases/jax_cuda_releases.html')\n"
   ],
   "id": "20d1a711-01fd-4b5a-84fa-50f2025f5874"
  },
  {
   "cell_type": "markdown",
   "metadata": {},
   "source": [
    "Install libraries specific to this project"
   ],
   "id": "d937093b-7cc4-4ebd-a3b5-e7bc1b922e4b"
  },
  {
   "cell_type": "code",
   "execution_count": null,
   "metadata": {},
   "outputs": [],
   "source": [
    "node.run('pip install transformers')\n",
    "node.run('pip install datasets')\n",
    "node.run('pip install accelerate -U')\n",
    "node.run('pip install nltk')\n"
   ],
   "id": "4dd4053e-bc18-4d64-993f-e2e447331fc4"
  },
  {
   "cell_type": "markdown",
   "metadata": {},
   "source": [
    "### Set up Jupyter on server"
   ],
   "id": "981d695c-699d-48af-9c3e-7960ac7a55c6"
  },
  {
   "cell_type": "markdown",
   "metadata": {},
   "source": [
    "Install Jupyter:"
   ],
   "id": "9901a95e-dc3b-41db-bade-87ccd7d2b4d1"
  },
  {
   "cell_type": "code",
   "execution_count": null,
   "metadata": {},
   "outputs": [],
   "source": [
    "node.run('python3 -m pip install --user  jupyter-core jupyter-client jupyter -U --force-reinstall')"
   ],
   "id": "ee0b1ecc-ad2b-4368-9f34-17228aa22599"
  },
  {
   "cell_type": "markdown",
   "metadata": {},
   "source": [
    "### Retrieve the materials\n",
    "\n",
    "Finally, get a copy of the notebooks that you will run:"
   ],
   "id": "685e470a-7404-416b-a450-016ebb499109"
  },
  {
   "cell_type": "code",
   "execution_count": null,
   "metadata": {},
   "outputs": [],
   "source": [
    "node.run('git clone https://github.com/indianspeedster/edu-ml.git')"
   ],
   "id": "25cc803d-dd61-4479-87a6-3b80f8fdcde1"
  },
  {
   "cell_type": "markdown",
   "metadata": {},
   "source": [
    "## Run a JupyterHub server"
   ],
   "id": "438bdd79-6990-46bc-aea5-3f7c980295ad"
  },
  {
   "cell_type": "markdown",
   "metadata": {},
   "source": [
    "Run the following cell:"
   ],
   "id": "ff1e5a2f-0391-45fa-9e5a-1ebed7265fac"
  },
  {
   "cell_type": "code",
   "execution_count": null,
   "metadata": {},
   "outputs": [],
   "source": [
    "print('ssh -L 127.0.0.1:8888:127.0.0.1:8888 cc@' + reserved_fip) "
   ],
   "id": "03bae2be-7fa2-4358-8b0d-a3954ab268c7"
  },
  {
   "cell_type": "markdown",
   "metadata": {},
   "source": [
    "then paste its output into a *local* terminal on your own device, to set up a tunnel to the Jupyter server. If your Chameleon key is not in the default location, you should also specify the path to your key as an argument, using `-i`. Leave this SSH session open."
   ],
   "id": "60ef8a67-8521-40fa-a134-fca7487fc92d"
  },
  {
   "cell_type": "markdown",
   "metadata": {},
   "source": [
    "Then, run the following cell, which will start a command that does not terminate:"
   ],
   "id": "1a31c7aa-149e-454a-b5e4-e5c45dbc3416"
  },
  {
   "cell_type": "code",
   "execution_count": null,
   "metadata": {},
   "outputs": [],
   "source": [
    "node.run(\"/home/cc/.local/bin/jupyter notebook --port=8888 --notebook-dir='/home/cc/edu-ml/notebooks'\")"
   ],
   "id": "7beb83dc-c16f-4bf1-92df-d028ada1998a"
  },
  {
   "cell_type": "markdown",
   "metadata": {},
   "source": [
    "In the output of the cell above, look for a URL in this format:\n",
    "\n",
    "    http://localhost:8888/?token=XXXXXXXXXXXXXXXXXXXXXXXXXXXXXXXXX"
   ],
   "id": "0393e9df-4b8d-4874-9bfb-e7bbb10fd896"
  },
  {
   "cell_type": "markdown",
   "metadata": {},
   "source": [
    "Copy this URL and open it in a browser. Then, you can run the sequence of notebooks that you'll see there, in order."
   ],
   "id": "48fac854-40f2-499a-8cf4-9a1135b7ff02"
  },
  {
   "cell_type": "markdown",
   "metadata": {},
   "source": [
    "If you need to stop and re-start your Jupyter server,\n",
    "\n",
    "-   Use Kernel \\> Interrupt Kernel *twice* to stop the cell above\n",
    "-   Then run the following cell to kill whatever may be left running in the background."
   ],
   "id": "ee72dfa2-7c7b-4b9e-975b-25297196896f"
  },
  {
   "cell_type": "code",
   "execution_count": null,
   "metadata": {},
   "outputs": [],
   "source": [
    "node.run(\"sudo killall jupyter-notebook\")"
   ],
   "id": "4e0c58fe-27e9-497d-8f78-60be265638fb"
  },
  {
   "cell_type": "markdown",
   "metadata": {},
   "source": [
    "## Release resources\n",
    "\n",
    "If you finish with your experimentation before your lease expires,release your resources and tear down your environment by running the following (commented out to prevent accidental deletions).\n",
    "\n",
    "This section is designed to work as a \"standalone\" portion - you can come back to this notebook, ignore the top part, and just run this section to delete your reasources."
   ],
   "id": "2e002a0b-1dec-47cd-abc6-fac6f17ef7ee"
  },
  {
   "cell_type": "code",
   "execution_count": null,
   "metadata": {},
   "outputs": [],
   "source": [
    "# setup environment - if you made any changes in the top part, make the same changes here\n",
    "import chi, os\n",
    "from chi import lease, server\n",
    "\n",
    "PROJECT_NAME = os.getenv('OS_PROJECT_NAME')\n",
    "chi.use_site(\"CHI@UC\")\n",
    "chi.set(\"project_name\", PROJECT_NAME)\n",
    "\n",
    "lease = chi.lease.get_lease(f\"{os.getenv('USER')}-edu-ml\")"
   ],
   "id": "edb9db7b-154d-4448-99f8-e37093756596"
  },
  {
   "cell_type": "code",
   "execution_count": null,
   "metadata": {},
   "outputs": [],
   "source": [
    "DELETE = False\n",
    "# DELETE = True \n",
    "\n",
    "if DELETE:\n",
    "    # delete server\n",
    "    server_id = chi.server.get_server_id(f\"{os.getenv('USER')}-edu-ml\")\n",
    "    chi.server.delete_server(server_id)\n",
    "\n",
    "    # release floating IP\n",
    "    reserved_fip =  chi.lease.get_reserved_floating_ips(lease[\"id\"])[0]\n",
    "    ip_info = chi.network.get_floating_ip(reserved_fip)\n",
    "    chi.neutron().delete_floatingip(ip_info[\"id\"])\n",
    "\n",
    "    # delete lease\n",
    "    chi.lease.delete_lease(lease[\"id\"])"
   ],
   "id": "c2ae0ba0-e359-4af8-ba19-2731e75f3240"
  }
 ],
 "nbformat": 4,
 "nbformat_minor": 5,
 "metadata": {}
}
