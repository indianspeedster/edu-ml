{
 "cells": [
  {
   "cell_type": "markdown",
   "metadata": {},
   "source": [
    "# Run a single user notebook server on Chameleon\n",
    "\n",
    "This notebook describes how to run a single user Jupyter notebook server on Chameleon. This allows you to run experiments requiring bare metal access, storage, memory, GPU and compute resources on Chameleon using a Jupyter notebook interface.\n",
    "\n",
    "> This notebook assumes that you already have completed [Hello, Chameleon](https://github.com/teaching-on-testbeds/hello-chameleon/blob/main/hello_chameleon.ipynb)"
   ],
   "id": "a546a076-d2ad-4b04-8c0e-28ca06afebde"
  },
  {
   "cell_type": "markdown",
   "metadata": {},
   "source": [
    "## Provision the resource"
   ],
   "id": "5239a622-4a86-4f1d-a115-37f09cefc66f"
  },
  {
   "cell_type": "markdown",
   "metadata": {},
   "source": [
    "### Check resource availability"
   ],
   "id": "12cf9501-1d3b-4df7-bc10-7b416e971e3c"
  },
  {
   "cell_type": "markdown",
   "metadata": {},
   "source": [
    "This notebook will try to reserve a bare metal Ubuntu on <CHI@UC> - pending availability. Before you begin, you should check the host calendar at <https://chi.uc.chameleoncloud.org/project/leases/calendar/host/> to see what node types are available."
   ],
   "id": "c01c7800-fa9c-4e32-bac1-4db7830e54a4"
  },
  {
   "cell_type": "markdown",
   "metadata": {},
   "source": [
    "### Chameleon configuration\n",
    "\n",
    "You can change your Chameleon project name (if not using the one that is automatically configured in the JupyterHub environment) and the site on which to reserve resources (depending on availability) in the following cell."
   ],
   "id": "9695ad3e-4671-4ac1-9aea-142cb68464fa"
  },
  {
   "cell_type": "code",
   "execution_count": null,
   "metadata": {},
   "outputs": [],
   "source": [
    "import chi, os\n",
    "\n",
    "PROJECT_NAME = os.getenv('OS_PROJECT_NAME')\n",
    "chi.use_site(\"CHI@UC\")\n",
    "chi.set(\"project_name\", PROJECT_NAME)"
   ],
   "id": "bb0199fe-0e4c-45f0-9de0-9c8da74aba8c"
  },
  {
   "cell_type": "markdown",
   "metadata": {},
   "source": [
    "If you need to change the details of the Chameleon server, e.g. use a different OS image, or a different node type depending on availability, you can do that in the following cell."
   ],
   "id": "04fdc064-c9f3-47b4-a95e-c9a5706d5d5a"
  },
  {
   "cell_type": "code",
   "execution_count": null,
   "metadata": {},
   "outputs": [],
   "source": [
    "chi.set(\"image\", \"CC-Ubuntu20.04\")\n",
    "NODE_TYPE = \"gpu_rtx_6000\""
   ],
   "id": "9fe31c1a-478a-4ae4-93a5-7dd627fee958"
  },
  {
   "cell_type": "markdown",
   "metadata": {},
   "source": [
    "### Reservation\n",
    "\n",
    "The following cell will create a reservation that begins now, and ends in 8 hours. You can modify the start and end date as needed."
   ],
   "id": "e39ecd43-c014-41a7-a81c-09fa64526826"
  },
  {
   "cell_type": "code",
   "execution_count": null,
   "metadata": {},
   "outputs": [],
   "source": [
    "from chi import lease\n",
    "\n",
    "\n",
    "res = []\n",
    "lease.add_node_reservation(res, node_type=NODE_TYPE, count=1)\n",
    "lease.add_fip_reservation(res, count=1)\n",
    "start_date, end_date = lease.lease_duration(days=0, hours=8)\n",
    "\n",
    "l = lease.create_lease(f\"{os.getenv('USER')}-edu-ml\", res, start_date=start_date, end_date=end_date)\n",
    "l = lease.wait_for_active(l[\"id\"])"
   ],
   "id": "d484c9c7-c4ef-457d-a107-97f253dbe0b0"
  },
  {
   "cell_type": "markdown",
   "metadata": {},
   "source": [
    "### Provisioning resources\n",
    "\n",
    "This cell provisions resources. It will take approximately 10 minutes. You can check on its status in the Chameleon web-based UI: <https://chi.uc.chameleoncloud.org/project/instances/>, then come back here when it is in the READY state."
   ],
   "id": "a94d712f-a847-48b4-a7dd-a74bf4274795"
  },
  {
   "cell_type": "code",
   "execution_count": null,
   "metadata": {},
   "outputs": [],
   "source": [
    "from chi import server\n",
    "\n",
    "reservation_id = lease.get_node_reservation(l[\"id\"])\n",
    "server.create_server(\n",
    "    f\"{os.getenv('USER')}-edu-ml\", \n",
    "    reservation_id=reservation_id,\n",
    "    image_name=chi.get(\"image\")\n",
    ")\n",
    "server_id = server.get_server_id(f\"{os.getenv('USER')}-edu-ml\")\n",
    "server.wait_for_active(server_id)"
   ],
   "id": "9adf23f5-5c3f-4f4d-a530-10ab73ce6566"
  },
  {
   "cell_type": "markdown",
   "metadata": {},
   "source": [
    "Associate an IP address with this server:"
   ],
   "id": "18f20ae0-8644-44fa-8835-cfe80e10cea4"
  },
  {
   "cell_type": "code",
   "execution_count": null,
   "metadata": {},
   "outputs": [],
   "source": [
    "reserved_fip = lease.get_reserved_floating_ips(l[\"id\"])[0]\n",
    "server.associate_floating_ip(server_id,reserved_fip)"
   ],
   "id": "ff96ef1a-8b11-4313-93e2-9ec80c0ceff7"
  },
  {
   "cell_type": "markdown",
   "metadata": {},
   "source": [
    "and wait for it to come up:"
   ],
   "id": "b8fafda7-5884-4e32-bda1-594dc10f33d2"
  },
  {
   "cell_type": "code",
   "execution_count": null,
   "metadata": {},
   "outputs": [],
   "source": [
    "server.wait_for_tcp(reserved_fip, port=22)"
   ],
   "id": "9d4299b9-b501-427a-a8af-bfddc7324aae"
  },
  {
   "cell_type": "markdown",
   "metadata": {},
   "source": [
    "## Install stuff"
   ],
   "id": "2e13b29f-16d2-42db-9203-2384e598ae6b"
  },
  {
   "cell_type": "markdown",
   "metadata": {},
   "source": [
    "The following cells will install some basic packages on your Chameleon server."
   ],
   "id": "1b60cef7-4f90-4e15-ad35-204b06e66307"
  },
  {
   "cell_type": "code",
   "execution_count": null,
   "metadata": {},
   "outputs": [],
   "source": [
    "from chi import ssh\n",
    "\n",
    "node = ssh.Remote(reserved_fip)"
   ],
   "id": "b9b4f3a5-619e-4f9a-b321-9087dd0ad742"
  },
  {
   "cell_type": "code",
   "execution_count": null,
   "metadata": {},
   "outputs": [],
   "source": [
    "node.run('sudo apt update')\n",
    "node.run('sudo apt -y install python3-pip python3-dev')\n",
    "node.run('sudo pip3 install --upgrade pip')"
   ],
   "id": "38293f91-5a0f-4c6c-a8fd-8a86afcfea1d"
  },
  {
   "cell_type": "markdown",
   "metadata": {},
   "source": [
    "### Install CUDA and Nvidia Drivers"
   ],
   "id": "bb5ff8be-8ada-4025-9523-bbe1719f727a"
  },
  {
   "cell_type": "code",
   "execution_count": null,
   "metadata": {},
   "outputs": [],
   "source": [
    "node.run('wget https://developer.download.nvidia.com/compute/cuda/repos/ubuntu2004/x86_64/cuda-keyring_1.0-1_all.deb')\n",
    "node.run('sudo dpkg -i cuda-keyring_1.0-1_all.deb')\n",
    "node.run('sudo apt update')\n",
    "node.run('sudo apt -y install linux-headers-$(uname -r)')\n",
    "node.run('sudo apt-mark hold cuda-toolkit-12-config-common nvidia-driver-535') \n",
    "node.run('sudo apt -y install nvidia-driver-520') "
   ],
   "id": "bfcaca95-ffaa-4340-b94b-48b62a66ca6e"
  },
  {
   "cell_type": "code",
   "execution_count": null,
   "metadata": {},
   "outputs": [],
   "source": [
    "try:\n",
    "    node.run('sudo reboot') # reboot and wait for it to come up\n",
    "except:\n",
    "    pass\n",
    "server.wait_for_tcp(reserved_fip, port=22)\n",
    "node = ssh.Remote(reserved_fip) \n"
   ],
   "id": "a9ee41a9-7f03-41ab-98f7-b12e0e84e77b"
  },
  {
   "cell_type": "code",
   "execution_count": null,
   "metadata": {},
   "outputs": [],
   "source": [
    "node.run('sudo apt -y install cuda-11-8 cuda-runtime-11-8 cuda-drivers=520.61.05-1')\n",
    "node.run('sudo apt -y install nvidia-gds-11-8') \n",
    "node.run('sudo apt -y install libcudnn8=8.9.3.28-1+cuda11.8 nvidia-cuda-toolkit') \n"
   ],
   "id": "30757e51-d28e-4506-97a7-d7e2398ce2d2"
  },
  {
   "cell_type": "code",
   "execution_count": null,
   "metadata": {},
   "outputs": [],
   "source": [
    "node.run(\"echo 'PATH=\\\"/usr/local/cuda-11.8/bin:/usr/local/sbin:/usr/local/bin:/usr/sbin:/usr/bin:/sbin:/bin:/snap/bin\\\"' | sudo tee /etc/environment\")\n"
   ],
   "id": "30a262c0-cbde-4f91-b92d-4502044bed4a"
  },
  {
   "cell_type": "markdown",
   "metadata": {},
   "source": [
    "Now we have to reboot, and make sure we have the specified CUDA:"
   ],
   "id": "3d1c824b-d878-4190-ada2-f08bad750243"
  },
  {
   "cell_type": "code",
   "execution_count": null,
   "metadata": {},
   "outputs": [],
   "source": [
    "try:\n",
    "    node.run('sudo reboot')\n",
    "except:\n",
    "    pass\n",
    "server.wait_for_tcp(reserved_fip, port=22)\n",
    "node = ssh.Remote(reserved_fip) # note: need a new SSH session to get new PATH\n",
    "node.run('nvidia-smi')\n",
    "node.run('nvcc --version')\n"
   ],
   "id": "bdd144a9-474b-466f-9718-b187503202bf"
  },
  {
   "cell_type": "markdown",
   "metadata": {},
   "source": [
    "Install standard deep learning libraries"
   ],
   "id": "d8d80ae0-5cd1-4b41-9f43-0a0b357177b5"
  },
  {
   "cell_type": "code",
   "execution_count": null,
   "metadata": {},
   "outputs": [],
   "source": [
    "node.run('python3 -m pip install --user Cython==0.29.32')\n",
    "node.run('wget https://raw.githubusercontent.com/teaching-on-testbeds/colab/main/requirements_chameleon_dl.txt -O requirements_chameleon_dl.txt')\n",
    "node.run('wget https://raw.githubusercontent.com/teaching-on-testbeds/colab/main/requirements_chameleon.txt -O requirements_chameleon.txt')\n",
    "node.run('python3 -m pip install --user -r requirements_chameleon_dl.txt --extra-index-url https://download.pytorch.org/whl/cu113 -f https://storage.googleapis.com/jax-releases/jax_cuda_releases.html')\n"
   ],
   "id": "e382cf83-102f-42e6-8fc9-938dd4fd8978"
  },
  {
   "cell_type": "markdown",
   "metadata": {},
   "source": [
    "Install libraries specific to this project"
   ],
   "id": "9d6cf53d-8dd0-406b-b1a3-972983b1545b"
  },
  {
   "cell_type": "code",
   "execution_count": null,
   "metadata": {},
   "outputs": [],
   "source": [
    "node.run('pip install transformers')\n",
    "node.run('pip install datasets')\n",
    "node.run('pip install accelerate -U')\n",
    "node.run('pip install nltk')\n"
   ],
   "id": "bda6e3a4-8239-417f-9332-233526331ae5"
  },
  {
   "cell_type": "markdown",
   "metadata": {},
   "source": [
    "### Set up Jupyter on server"
   ],
   "id": "8f7514cc-8903-4a24-9638-55443f9ba4c0"
  },
  {
   "cell_type": "markdown",
   "metadata": {},
   "source": [
    "Install Jupyter:"
   ],
   "id": "fe11c385-3cde-4365-b6db-1b205d82c2aa"
  },
  {
   "cell_type": "code",
   "execution_count": null,
   "metadata": {},
   "outputs": [],
   "source": [
    "node.run('python3 -m pip install --user  jupyter-core jupyter-client jupyter -U --force-reinstall')"
   ],
   "id": "7375fa2a-794f-4894-b3f0-a5eb4af3d324"
  },
  {
   "cell_type": "markdown",
   "metadata": {},
   "source": [
    "### Retrieve the materials\n",
    "\n",
    "Finally, get a copy of the notebooks that you will run:"
   ],
   "id": "be268bde-348f-4ac7-9684-1718f16cd6f4"
  },
  {
   "cell_type": "code",
   "execution_count": null,
   "metadata": {},
   "outputs": [],
   "source": [
    "node.run('git clone https://github.com/indianspeedster/edu-ml.git')"
   ],
   "id": "7932f67b-2dac-45da-84a3-54ebbeafd945"
  },
  {
   "cell_type": "markdown",
   "metadata": {},
   "source": [
    "## Run a JupyterHub server"
   ],
   "id": "96410e5c-913f-45d0-9cac-3bff8e18bcd1"
  },
  {
   "cell_type": "markdown",
   "metadata": {},
   "source": [
    "Run the following cell:"
   ],
   "id": "c338c82f-cad5-4038-8601-7866e2d3138c"
  },
  {
   "cell_type": "code",
   "execution_count": null,
   "metadata": {},
   "outputs": [],
   "source": [
    "print('ssh -L 127.0.0.1:8888:127.0.0.1:8888 cc@' + reserved_fip) "
   ],
   "id": "f5f2caae-4818-40b6-9b13-059e1f4a4b7b"
  },
  {
   "cell_type": "markdown",
   "metadata": {},
   "source": [
    "then paste its output into a *local* terminal on your own device, to set up a tunnel to the Jupyter server. If your Chameleon key is not in the default location, you should also specify the path to your key as an argument, using `-i`. Leave this SSH session open."
   ],
   "id": "af956d61-1559-47ea-bd33-610917dfe2f7"
  },
  {
   "cell_type": "markdown",
   "metadata": {},
   "source": [
    "Then, run the following cell, which will start a command that does not terminate:"
   ],
   "id": "4c9bd983-275d-4769-9f3f-f1b8fbdd36c9"
  },
  {
   "cell_type": "code",
   "execution_count": null,
   "metadata": {},
   "outputs": [],
   "source": [
    "node.run(\"/home/cc/.local/bin/jupyter notebook --port=8888 --notebook-dir='/home/cc/edu-ml/notebooks'\")"
   ],
   "id": "2b58b325-91ff-46b6-8543-be97cea6c8bd"
  },
  {
   "cell_type": "markdown",
   "metadata": {},
   "source": [
    "In the output of the cell above, look for a URL in this format:\n",
    "\n",
    "    http://localhost:8888/?token=XXXXXXXXXXXXXXXXXXXXXXXXXXXXXXXXX"
   ],
   "id": "6cd4c7f6-e944-400f-9860-6f4e92509c9f"
  },
  {
   "cell_type": "markdown",
   "metadata": {},
   "source": [
    "Copy this URL and open it in a browser. Then, you can run the sequence of notebooks that you'll see there, in order."
   ],
   "id": "ffa8d1d4-ac0e-4903-86f0-7df214152c98"
  },
  {
   "cell_type": "markdown",
   "metadata": {},
   "source": [
    "If you need to stop and re-start your Jupyter server,\n",
    "\n",
    "-   Use Kernel \\> Interrupt Kernel *twice* to stop the cell above\n",
    "-   Then run the following cell to kill whatever may be left running in the background."
   ],
   "id": "a1fe98be-7b6a-4f9d-a92c-ad330f5dd74e"
  },
  {
   "cell_type": "code",
   "execution_count": null,
   "metadata": {},
   "outputs": [],
   "source": [
    "node.run(\"sudo killall jupyter-notebook\")"
   ],
   "id": "35d94728-cc1e-4b4e-bc4c-878724a68845"
  },
  {
   "cell_type": "markdown",
   "metadata": {},
   "source": [
    "## Release resources\n",
    "\n",
    "If you finish with your experimentation before your lease expires,release your resources and tear down your environment by running the following (commented out to prevent accidental deletions).\n",
    "\n",
    "This section is designed to work as a \"standalone\" portion - you can come back to this notebook, ignore the top part, and just run this section to delete your reasources."
   ],
   "id": "a75233e0-47c1-451c-b7c4-f03017d588f1"
  },
  {
   "cell_type": "code",
   "execution_count": null,
   "metadata": {},
   "outputs": [],
   "source": [
    "# setup environment - if you made any changes in the top part, make the same changes here\n",
    "import chi, os\n",
    "from chi import lease, server\n",
    "\n",
    "PROJECT_NAME = os.getenv('OS_PROJECT_NAME')\n",
    "chi.use_site(\"CHI@UC\")\n",
    "chi.set(\"project_name\", PROJECT_NAME)\n",
    "\n",
    "lease = chi.lease.get_lease(f\"{os.getenv('USER')}-edu-ml\")"
   ],
   "id": "0ace6fc1-eae4-4299-b5af-5129a424981d"
  },
  {
   "cell_type": "code",
   "execution_count": null,
   "metadata": {},
   "outputs": [],
   "source": [
    "DELETE = False\n",
    "# DELETE = True \n",
    "\n",
    "if DELETE:\n",
    "    # delete server\n",
    "    server_id = chi.server.get_server_id(f\"{os.getenv('USER')}-edu-ml\")\n",
    "    chi.server.delete_server(server_id)\n",
    "\n",
    "    # release floating IP\n",
    "    reserved_fip =  chi.lease.get_reserved_floating_ips(lease[\"id\"])[0]\n",
    "    ip_info = chi.network.get_floating_ip(reserved_fip)\n",
    "    chi.neutron().delete_floatingip(ip_info[\"id\"])\n",
    "\n",
    "    # delete lease\n",
    "    chi.lease.delete_lease(lease[\"id\"])"
   ],
   "id": "2e8896aa-beaa-44cc-81f3-edfa7b1c0c24"
  }
 ],
 "nbformat": 4,
 "nbformat_minor": 5,
 "metadata": {}
}
