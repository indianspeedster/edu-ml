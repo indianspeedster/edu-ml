{
 "cells": [
  {
   "cell_type": "markdown",
   "metadata": {},
   "source": [
    "# Run a single user notebook server on Chameleon\n",
    "\n",
    "This notebook describes how to run a single user Jupyter notebook server on Chameleon. This allows you to run experiments requiring bare metal access, storage, memory, GPU and compute resources on Chameleon using a Jupyter notebook interface.\n",
    "\n",
    "> This notebook assumes that you already have completed [Hello, Chameleon](https://github.com/teaching-on-testbeds/hello-chameleon/blob/main/hello_chameleon.ipynb)"
   ],
   "id": "966a0c98-67a1-4c0a-95aa-6d80a0e22d67"
  },
  {
   "cell_type": "markdown",
   "metadata": {},
   "source": [
    "## Provision the resource"
   ],
   "id": "10be1d11-b6e5-4135-869d-37b158a081a2"
  },
  {
   "cell_type": "markdown",
   "metadata": {},
   "source": [
    "### Check resource availability"
   ],
   "id": "4e43d789-e6bb-4f90-bb0b-b6f189482e38"
  },
  {
   "cell_type": "markdown",
   "metadata": {},
   "source": [
    "This notebook will try to reserve a bare metal Ubuntu on <CHI@UC> - pending availability. Before you begin, you should check the host calendar at <https://chi.uc.chameleoncloud.org/project/leases/calendar/host/> to see what node types are available."
   ],
   "id": "39b8cc1d-3b67-4c8c-be90-e89d09bae22f"
  },
  {
   "cell_type": "markdown",
   "metadata": {},
   "source": [
    "### Chameleon configuration\n",
    "\n",
    "You can change your Chameleon project name (if not using the one that is automatically configured in the JupyterHub environment) and the site on which to reserve resources (depending on availability) in the following cell."
   ],
   "id": "ffb2b565-3577-4356-afdf-0a41e3006fa8"
  },
  {
   "cell_type": "code",
   "execution_count": null,
   "metadata": {},
   "outputs": [],
   "source": [
    "import chi, os\n",
    "\n",
    "PROJECT_NAME = os.getenv('OS_PROJECT_NAME')\n",
    "chi.use_site(\"CHI@UC\")\n",
    "chi.set(\"project_name\", PROJECT_NAME)"
   ],
   "id": "01246e40-3ee4-41bf-b230-8d73f8217362"
  },
  {
   "cell_type": "markdown",
   "metadata": {},
   "source": [
    "If you need to change the details of the Chameleon server, e.g. use a different OS image, or a different node type depending on availability, you can do that in the following cell."
   ],
   "id": "1978381c-7170-411f-b4ec-31db9435152c"
  },
  {
   "cell_type": "code",
   "execution_count": null,
   "metadata": {},
   "outputs": [],
   "source": [
    "chi.set(\"image\", \"CC-Ubuntu20.04\")\n",
    "NODE_TYPE = \"gpu_rtx_6000\""
   ],
   "id": "a205722d-6d72-4358-ac5a-4097257357fd"
  },
  {
   "cell_type": "markdown",
   "metadata": {},
   "source": [
    "### Reservation\n",
    "\n",
    "The following cell will create a reservation that begins now, and ends in 8 hours. You can modify the start and end date as needed."
   ],
   "id": "43233cf0-f325-498d-8a4e-857ed203c20f"
  },
  {
   "cell_type": "code",
   "execution_count": null,
   "metadata": {},
   "outputs": [],
   "source": [
    "from chi import lease\n",
    "\n",
    "\n",
    "res = []\n",
    "lease.add_node_reservation(res, node_type=NODE_TYPE, count=1)\n",
    "lease.add_fip_reservation(res, count=1)\n",
    "start_date, end_date = lease.lease_duration(days=0, hours=8)\n",
    "\n",
    "l = lease.create_lease(f\"{os.getenv('USER')}-edu-ml\", res, start_date=start_date, end_date=end_date)\n",
    "l = lease.wait_for_active(l[\"id\"])"
   ],
   "id": "09f3bdf0-6fd2-4cba-ab08-7e54863c207b"
  },
  {
   "cell_type": "markdown",
   "metadata": {},
   "source": [
    "### Provisioning resources\n",
    "\n",
    "This cell provisions resources. It will take approximately 10 minutes. You can check on its status in the Chameleon web-based UI: <https://chi.uc.chameleoncloud.org/project/instances/>, then come back here when it is in the READY state."
   ],
   "id": "44b9f4cb-7116-4f77-818d-32696c6b6ee3"
  },
  {
   "cell_type": "code",
   "execution_count": null,
   "metadata": {},
   "outputs": [],
   "source": [
    "from chi import server\n",
    "\n",
    "reservation_id = lease.get_node_reservation(l[\"id\"])\n",
    "server.create_server(\n",
    "    f\"{os.getenv('USER')}-edu-ml\", \n",
    "    reservation_id=reservation_id,\n",
    "    image_name=chi.get(\"image\")\n",
    ")\n",
    "server_id = server.get_server_id(f\"{os.getenv('USER')}-edu-ml\")\n",
    "server.wait_for_active(server_id)"
   ],
   "id": "3e600d04-d09f-4d2b-a724-a191644f56e6"
  },
  {
   "cell_type": "markdown",
   "metadata": {},
   "source": [
    "Associate an IP address with this server:"
   ],
   "id": "3f3cd3e4-f0ba-4727-91bd-0a835c224b1a"
  },
  {
   "cell_type": "code",
   "execution_count": null,
   "metadata": {},
   "outputs": [],
   "source": [
    "reserved_fip = lease.get_reserved_floating_ips(l[\"id\"])[0]\n",
    "server.associate_floating_ip(server_id,reserved_fip)"
   ],
   "id": "98c55f93-d672-4f54-8d4a-3d6d4d3012e0"
  },
  {
   "cell_type": "markdown",
   "metadata": {},
   "source": [
    "and wait for it to come up:"
   ],
   "id": "8cc71b50-6db9-4c2f-8a2f-f0d6c76a9090"
  },
  {
   "cell_type": "code",
   "execution_count": null,
   "metadata": {},
   "outputs": [],
   "source": [
    "server.wait_for_tcp(reserved_fip, port=22)"
   ],
   "id": "15423c5b-5ab0-49be-a7b4-a67f34b4ad39"
  },
  {
   "cell_type": "markdown",
   "metadata": {},
   "source": [
    "## Install stuff"
   ],
   "id": "13f67198-2f76-4946-b959-aa3f0ea9cc79"
  },
  {
   "cell_type": "markdown",
   "metadata": {},
   "source": [
    "The following cells will install some basic packages on your Chameleon server."
   ],
   "id": "f21dc5cb-b341-402b-aa35-18d86f24d6c7"
  },
  {
   "cell_type": "code",
   "execution_count": null,
   "metadata": {},
   "outputs": [],
   "source": [
    "from chi import ssh\n",
    "\n",
    "node = ssh.Remote(reserved_fip)"
   ],
   "id": "32c6afa6-f0f4-4835-ba43-b55b291cf07f"
  },
  {
   "cell_type": "code",
   "execution_count": null,
   "metadata": {},
   "outputs": [],
   "source": [
    "node.run('sudo apt update')\n",
    "node.run('sudo apt -y install python3-pip python3-dev')\n",
    "node.run('sudo pip3 install --upgrade pip')"
   ],
   "id": "344dd5a5-9f7e-46db-844d-a595fd38b667"
  },
  {
   "cell_type": "markdown",
   "metadata": {},
   "source": [
    "### Install CUDA and Nvidia Drivers"
   ],
   "id": "de168759-d907-4687-8cdd-0f6250f15069"
  },
  {
   "cell_type": "code",
   "execution_count": null,
   "metadata": {},
   "outputs": [],
   "source": [
    "node.run('wget https://developer.download.nvidia.com/compute/cuda/repos/ubuntu2004/x86_64/cuda-keyring_1.0-1_all.deb')\n",
    "node.run('sudo dpkg -i cuda-keyring_1.0-1_all.deb')\n",
    "node.run('sudo apt update')\n",
    "node.run('sudo apt -y install linux-headers-$(uname -r)')\n",
    "node.run('sudo apt-mark hold cuda-toolkit-12-config-common nvidia-driver-535') \n",
    "node.run('sudo apt -y install nvidia-driver-520') "
   ],
   "id": "8d4e0845-2245-4480-ab37-a7cae8ff2804"
  },
  {
   "cell_type": "code",
   "execution_count": null,
   "metadata": {},
   "outputs": [],
   "source": [
    "try:\n",
    "    node.run('sudo reboot') # reboot and wait for it to come up\n",
    "except:\n",
    "    pass\n",
    "server.wait_for_tcp(reserved_fip, port=22)\n",
    "node = ssh.Remote(reserved_fip) \n"
   ],
   "id": "33626fe1-0503-4f44-b5e0-5c738a07b477"
  },
  {
   "cell_type": "code",
   "execution_count": null,
   "metadata": {},
   "outputs": [],
   "source": [
    "node.run('sudo apt -y install cuda-11-8 cuda-runtime-11-8 cuda-drivers=520.61.05-1')\n",
    "node.run('sudo apt -y install nvidia-gds-11-8') \n",
    "node.run('sudo apt -y install libcudnn8=8.9.3.28-1+cuda11.8 nvidia-cuda-toolkit') \n"
   ],
   "id": "4c2bfae9-f2f3-453b-974e-d057e0216418"
  },
  {
   "cell_type": "code",
   "execution_count": null,
   "metadata": {},
   "outputs": [],
   "source": [
    "node.run(\"echo 'PATH=\\\"/usr/local/cuda-11.8/bin:/usr/local/sbin:/usr/local/bin:/usr/sbin:/usr/bin:/sbin:/bin:/snap/bin\\\"' | sudo tee /etc/environment\")\n"
   ],
   "id": "d2cc8f3e-5f5a-4a31-a408-35665df777a3"
  },
  {
   "cell_type": "markdown",
   "metadata": {},
   "source": [
    "Now we have to reboot, and make sure we have the specified CUDA:"
   ],
   "id": "1297d417-1cd4-4fa2-97f3-f36a932f62fd"
  },
  {
   "cell_type": "code",
   "execution_count": null,
   "metadata": {},
   "outputs": [],
   "source": [
    "try:\n",
    "    node.run('sudo reboot')\n",
    "except:\n",
    "    pass\n",
    "server.wait_for_tcp(reserved_fip, port=22)\n",
    "node = ssh.Remote(reserved_fip) # note: need a new SSH session to get new PATH\n",
    "node.run('nvidia-smi')\n",
    "node.run('nvcc --version')\n"
   ],
   "id": "959342a8-d1b8-48a9-a833-89479c2bceab"
  },
  {
   "cell_type": "markdown",
   "metadata": {},
   "source": [
    "Install standard deep learning libraries"
   ],
   "id": "ea624e60-3502-47ff-bfb7-3eeb35565d4e"
  },
  {
   "cell_type": "code",
   "execution_count": null,
   "metadata": {},
   "outputs": [],
   "source": [
    "node.run('python3 -m pip install --user Cython==0.29.32')\n",
    "node.run('wget https://raw.githubusercontent.com/teaching-on-testbeds/colab/main/requirements_chameleon_dl.txt -O requirements_chameleon_dl.txt')\n",
    "node.run('wget https://raw.githubusercontent.com/teaching-on-testbeds/colab/main/requirements_chameleon.txt -O requirements_chameleon.txt')\n",
    "node.run('python3 -m pip install --user -r requirements_chameleon_dl.txt --extra-index-url https://download.pytorch.org/whl/cu113 -f https://storage.googleapis.com/jax-releases/jax_cuda_releases.html')\n"
   ],
   "id": "dd6c0f1e-2249-427f-bb85-910064e4dcfb"
  },
  {
   "cell_type": "markdown",
   "metadata": {},
   "source": [
    "Install libraries specific to this project"
   ],
   "id": "7278d452-949a-424b-9a0c-78fcaf7d0e78"
  },
  {
   "cell_type": "code",
   "execution_count": null,
   "metadata": {},
   "outputs": [],
   "source": [
    "node.run('pip install transformers')\n",
    "node.run('pip install datasets')\n",
    "node.run('pip install accelerate -U')\n",
    "node.run('pip install nltk')\n"
   ],
   "id": "24ad092a-eadf-44e5-9cec-1e081915c904"
  },
  {
   "cell_type": "markdown",
   "metadata": {},
   "source": [
    "### Set up Jupyter on server"
   ],
   "id": "2f7eadad-b6a5-4a86-91e2-d9334eafef08"
  },
  {
   "cell_type": "markdown",
   "metadata": {},
   "source": [
    "Install Jupyter:"
   ],
   "id": "f45fe562-f323-44f5-95d6-efc12390173a"
  },
  {
   "cell_type": "code",
   "execution_count": null,
   "metadata": {},
   "outputs": [],
   "source": [
    "node.run('python3 -m pip install --user  jupyter-core jupyter-client jupyter -U --force-reinstall')"
   ],
   "id": "653b352d-6d6c-49f4-8ed8-8712420dc76f"
  },
  {
   "cell_type": "markdown",
   "metadata": {},
   "source": [
    "### Retrieve the materials\n",
    "\n",
    "Finally, get a copy of the notebooks that you will run:"
   ],
   "id": "62d6afc5-27be-4966-856a-8a0682830946"
  },
  {
   "cell_type": "code",
   "execution_count": null,
   "metadata": {},
   "outputs": [],
   "source": [
    "node.run('git clone https://github.com/indianspeedster/edu-ml.git')"
   ],
   "id": "3aa62db5-acaf-4622-b35e-8a2ccdd00bc5"
  },
  {
   "cell_type": "markdown",
   "metadata": {},
   "source": [
    "## Run a JupyterHub server"
   ],
   "id": "2cf3d9ee-8a16-4fb9-af11-17be7dfe6952"
  },
  {
   "cell_type": "markdown",
   "metadata": {},
   "source": [
    "Run the following cell:"
   ],
   "id": "23bc9cb8-aa76-46bd-89fb-916c10f1fda0"
  },
  {
   "cell_type": "code",
   "execution_count": null,
   "metadata": {},
   "outputs": [],
   "source": [
    "print('ssh -L 127.0.0.1:8888:127.0.0.1:8888 cc@' + reserved_fip) "
   ],
   "id": "367da987-db8b-4ff1-b4d0-dea040797ed6"
  },
  {
   "cell_type": "markdown",
   "metadata": {},
   "source": [
    "then paste its output into a *local* terminal on your own device, to set up a tunnel to the Jupyter server. If your Chameleon key is not in the default location, you should also specify the path to your key as an argument, using `-i`. Leave this SSH session open."
   ],
   "id": "05618d16-13ec-4979-b09c-b021c1d4f2a8"
  },
  {
   "cell_type": "markdown",
   "metadata": {},
   "source": [
    "Then, run the following cell, which will start a command that does not terminate:"
   ],
   "id": "c02094c6-20f8-416f-87fb-4f536f7dc2c6"
  },
  {
   "cell_type": "code",
   "execution_count": null,
   "metadata": {},
   "outputs": [],
   "source": [
    "node.run(\"/home/cc/.local/bin/jupyter notebook --port=8888 --notebook-dir='/home/cc/edu-ml/notebooks'\")"
   ],
   "id": "0c77460a-4b7c-496a-9e97-fbec73ccc46c"
  },
  {
   "cell_type": "markdown",
   "metadata": {},
   "source": [
    "In the output of the cell above, look for a URL in this format:\n",
    "\n",
    "    http://localhost:8888/?token=XXXXXXXXXXXXXXXXXXXXXXXXXXXXXXXXX"
   ],
   "id": "94a4dd6b-8658-4a95-b8b0-86d519c40d5b"
  },
  {
   "cell_type": "markdown",
   "metadata": {},
   "source": [
    "Copy this URL and open it in a browser. Then, you can run the sequence of notebooks that you'll see there, in order."
   ],
   "id": "8e99e7c8-2eff-4fbc-812c-614a003dd031"
  },
  {
   "cell_type": "markdown",
   "metadata": {},
   "source": [
    "If you need to stop and re-start your Jupyter server,\n",
    "\n",
    "-   Use Kernel \\> Interrupt Kernel *twice* to stop the cell above\n",
    "-   Then run the following cell to kill whatever may be left running in the background."
   ],
   "id": "ff7d6b30-4bec-429c-a3a2-d7389070121e"
  },
  {
   "cell_type": "code",
   "execution_count": null,
   "metadata": {},
   "outputs": [],
   "source": [
    "node.run(\"sudo killall jupyter-notebook\")"
   ],
   "id": "56d6e8ca-139b-4de8-9f4e-918ef8928e97"
  },
  {
   "cell_type": "markdown",
   "metadata": {},
   "source": [
    "## Release resources\n",
    "\n",
    "If you finish with your experimentation before your lease expires,release your resources and tear down your environment by running the following (commented out to prevent accidental deletions).\n",
    "\n",
    "This section is designed to work as a \"standalone\" portion - you can come back to this notebook, ignore the top part, and just run this section to delete your reasources."
   ],
   "id": "fb5ba09f-fec9-4282-aebe-043800784a67"
  },
  {
   "cell_type": "code",
   "execution_count": null,
   "metadata": {},
   "outputs": [],
   "source": [
    "# setup environment - if you made any changes in the top part, make the same changes here\n",
    "import chi, os\n",
    "from chi import lease, server\n",
    "\n",
    "PROJECT_NAME = os.getenv('OS_PROJECT_NAME')\n",
    "chi.use_site(\"CHI@UC\")\n",
    "chi.set(\"project_name\", PROJECT_NAME)\n",
    "\n",
    "lease = chi.lease.get_lease(f\"{os.getenv('USER')}-edu-ml\")"
   ],
   "id": "f3e2134d-45ba-4c2b-9f8b-802e7ade1aff"
  },
  {
   "cell_type": "code",
   "execution_count": null,
   "metadata": {},
   "outputs": [],
   "source": [
    "DELETE = False\n",
    "# DELETE = True \n",
    "\n",
    "if DELETE:\n",
    "    # delete server\n",
    "    server_id = chi.server.get_server_id(f\"{os.getenv('USER')}-edu-ml\")\n",
    "    chi.server.delete_server(server_id)\n",
    "\n",
    "    # release floating IP\n",
    "    reserved_fip =  chi.lease.get_reserved_floating_ips(lease[\"id\"])[0]\n",
    "    ip_info = chi.network.get_floating_ip(reserved_fip)\n",
    "    chi.neutron().delete_floatingip(ip_info[\"id\"])\n",
    "\n",
    "    # delete lease\n",
    "    chi.lease.delete_lease(lease[\"id\"])"
   ],
   "id": "e7ff433d-7265-4b12-9d7a-4eba6f8708ab"
  }
 ],
 "nbformat": 4,
 "nbformat_minor": 5,
 "metadata": {}
}
