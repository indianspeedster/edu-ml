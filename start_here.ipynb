{
 "cells": [
  {
   "cell_type": "markdown",
   "metadata": {},
   "source": [
    "# Reproducibility with Incomplete Methodology Descriptions\n",
    "\n",
    "To order of notebooks to run this experiment are mentioned as below :\n",
    "\n",
    "-   Read the fictitious research paper [Impact of Data Augmentation on Full few shot learning for intent classification.](/paper_draft.md)\n",
    "\n",
    "-   Reserve resources on [Chameleon](/notebooks/0_reserve_resources.ipynb)\n",
    "\n",
    "-   Introduction [Notebook](/notebooks/1_introduction.ipynb)\n",
    "\n",
    "-   Data collection\n",
    "\n",
    "    -   [Notebook (Choice 1)](/notebooks/2_dataset_1.ipynb)\n",
    "    -   [Notebook (Choice 2)](/notebooks/2_dataset_2.ipynb)\n",
    "\n",
    "-   Data Prerocessing and Augmentation\n",
    "\n",
    "    -   [Notebook (Choice 1)](/notebooks/3_data_preprocessing_1.ipynb)\n",
    "    -   [Notebook (Choice 2)](/notebooks/3_data_preprocessing_2.ipynb)\n",
    "\n",
    "-   Setting up Training Arguments\n",
    "\n",
    "    -   [Notebook (Choice 1)](/notebooks/4_train_args_1.ipynb)\n",
    "    -   [Notebook (Choice 2)](/notebooks/4_train_args_2.ipynb)\n",
    "\n",
    "-   Model Training\n",
    "\n",
    "    -   [Notebook (Choice 1)](/notebooks/5_model_training_1.ipynb)\n",
    "    -   [Notebook (Choice 2)](/notebooks/5_model_training_2.ipynb)\n",
    "\n",
    "The choices for the next step are mentioned and explained at the bottom of each notebook."
   ],
   "id": "8a27f9e8-f8c6-4af6-8a98-f141a0577b51"
  }
 ],
 "nbformat": 4,
 "nbformat_minor": 5,
 "metadata": {}
}
