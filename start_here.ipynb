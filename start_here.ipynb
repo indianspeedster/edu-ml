{
 "cells": [
  {
   "cell_type": "markdown",
   "metadata": {},
   "source": [
    "# Reproducibility with Incomplete Methodology Descriptions\n",
    "\n",
    "To order of notebooks to run this experiment are mentioned as below :\n",
    "\n",
    "-   Read the fictitious research paper [Impact of Data Augmentation on Full few shot learning for intent classification.](/paper_draft.md)\n",
    "\n",
    "-   Reserve resources on [Chameleon](/notebooks/0_reserve_resources.ipynb)\n",
    "\n",
    "-   Introduction [Notebook](/notebooks/1_introduction.ipynb)\n",
    "\n",
    "From Introduction onwards all the next step to be decided while implementation. Every notebook ends with two choices to pick from and then the choices will to take to the respective notebook."
   ],
   "id": "ca472f9c-5f7f-44d2-9925-bf087463dc10"
  }
 ],
 "nbformat": 4,
 "nbformat_minor": 5,
 "metadata": {}
}
