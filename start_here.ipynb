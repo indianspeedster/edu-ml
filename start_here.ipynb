{
 "cells": [
  {
   "cell_type": "markdown",
   "metadata": {},
   "source": [
    "# Reproducibility with Incomplete Methodology Descriptions\n",
    "\n",
    "To order of notebooks to run this experiment are mentioned as below :\n",
    "\n",
    "-   Read the fictitious research paper [Impact of Data Augmentation on Full few shot learning for intent classification.](/edu-ml/paper_draft.md)"
   ],
   "id": "15cb5471-c21b-4874-971a-6dbb89a5b09e"
  }
 ],
 "nbformat": 4,
 "nbformat_minor": 5,
 "metadata": {}
}
