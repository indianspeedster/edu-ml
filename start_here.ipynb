{
 "cells": [
  {
   "cell_type": "markdown",
   "metadata": {},
   "source": [
    "# Reproducibility with Incomplete Methodology Descriptions\n",
    "\n",
    "To order of notebooks to run this experiment are mentioned as below :\n",
    "\n",
    "-   Read the fictitious research paper [Impact of Data Augmentation on Full few shot learning for intent classification.](/paper_draft.md)"
   ],
   "id": "b4f673cd-825e-4f96-8790-1def4e5be0d7"
  }
 ],
 "nbformat": 4,
 "nbformat_minor": 5,
 "metadata": {}
}
