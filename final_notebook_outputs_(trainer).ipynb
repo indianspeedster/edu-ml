{
  "nbformat": 4,
  "nbformat_minor": 0,
  "metadata": {
    "colab": {
      "provenance": [],
      "gpuType": "T4",
      "authorship_tag": "ABX9TyODgKA6Qm6tGgKmjlrJmnKM",
      "include_colab_link": true
    },
    "kernelspec": {
      "name": "python3",
      "display_name": "Python 3"
    },
    "language_info": {
      "name": "python"
    },
    "accelerator": "GPU"
  },
  "cells": [
    {
      "cell_type": "markdown",
      "metadata": {
        "id": "view-in-github",
        "colab_type": "text"
      },
      "source": [
        "<a href=\"https://colab.research.google.com/github/indianspeedster/edu-ml/blob/main/final_notebook_outputs_(trainer).ipynb\" target=\"_parent\"><img src=\"https://colab.research.google.com/assets/colab-badge.svg\" alt=\"Open In Colab\"/></a>"
      ]
    },
    {
      "cell_type": "markdown",
      "source": [
        "### Install transformers"
      ],
      "metadata": {
        "id": "aAPaGylbT7pH"
      }
    },
    {
      "cell_type": "code",
      "execution_count": 1,
      "metadata": {
        "colab": {
          "base_uri": "https://localhost:8080/"
        },
        "id": "gzPoVi-cTxhb",
        "outputId": "447ab025-9ed1-4743-c50e-b4d8c15e8b5e"
      },
      "outputs": [
        {
          "output_type": "stream",
          "name": "stdout",
          "text": [
            "Looking in indexes: https://pypi.org/simple, https://us-python.pkg.dev/colab-wheels/public/simple/\n",
            "Collecting transformers\n",
            "  Downloading transformers-4.30.2-py3-none-any.whl (7.2 MB)\n",
            "\u001b[2K     \u001b[90m━━━━━━━━━━━━━━━━━━━━━━━━━━━━━━━━━━━━━━━━\u001b[0m \u001b[32m7.2/7.2 MB\u001b[0m \u001b[31m44.2 MB/s\u001b[0m eta \u001b[36m0:00:00\u001b[0m\n",
            "\u001b[?25hRequirement already satisfied: filelock in /usr/local/lib/python3.10/dist-packages (from transformers) (3.12.0)\n",
            "Collecting huggingface-hub<1.0,>=0.14.1 (from transformers)\n",
            "  Downloading huggingface_hub-0.15.1-py3-none-any.whl (236 kB)\n",
            "\u001b[2K     \u001b[90m━━━━━━━━━━━━━━━━━━━━━━━━━━━━━━━━━━━━━━\u001b[0m \u001b[32m236.8/236.8 kB\u001b[0m \u001b[31m29.2 MB/s\u001b[0m eta \u001b[36m0:00:00\u001b[0m\n",
            "\u001b[?25hRequirement already satisfied: numpy>=1.17 in /usr/local/lib/python3.10/dist-packages (from transformers) (1.22.4)\n",
            "Requirement already satisfied: packaging>=20.0 in /usr/local/lib/python3.10/dist-packages (from transformers) (23.1)\n",
            "Requirement already satisfied: pyyaml>=5.1 in /usr/local/lib/python3.10/dist-packages (from transformers) (6.0)\n",
            "Requirement already satisfied: regex!=2019.12.17 in /usr/local/lib/python3.10/dist-packages (from transformers) (2022.10.31)\n",
            "Requirement already satisfied: requests in /usr/local/lib/python3.10/dist-packages (from transformers) (2.27.1)\n",
            "Collecting tokenizers!=0.11.3,<0.14,>=0.11.1 (from transformers)\n",
            "  Downloading tokenizers-0.13.3-cp310-cp310-manylinux_2_17_x86_64.manylinux2014_x86_64.whl (7.8 MB)\n",
            "\u001b[2K     \u001b[90m━━━━━━━━━━━━━━━━━━━━━━━━━━━━━━━━━━━━━━━━\u001b[0m \u001b[32m7.8/7.8 MB\u001b[0m \u001b[31m83.0 MB/s\u001b[0m eta \u001b[36m0:00:00\u001b[0m\n",
            "\u001b[?25hCollecting safetensors>=0.3.1 (from transformers)\n",
            "  Downloading safetensors-0.3.1-cp310-cp310-manylinux_2_17_x86_64.manylinux2014_x86_64.whl (1.3 MB)\n",
            "\u001b[2K     \u001b[90m━━━━━━━━━━━━━━━━━━━━━━━━━━━━━━━━━━━━━━━━\u001b[0m \u001b[32m1.3/1.3 MB\u001b[0m \u001b[31m72.3 MB/s\u001b[0m eta \u001b[36m0:00:00\u001b[0m\n",
            "\u001b[?25hRequirement already satisfied: tqdm>=4.27 in /usr/local/lib/python3.10/dist-packages (from transformers) (4.65.0)\n",
            "Requirement already satisfied: fsspec in /usr/local/lib/python3.10/dist-packages (from huggingface-hub<1.0,>=0.14.1->transformers) (2023.4.0)\n",
            "Requirement already satisfied: typing-extensions>=3.7.4.3 in /usr/local/lib/python3.10/dist-packages (from huggingface-hub<1.0,>=0.14.1->transformers) (4.5.0)\n",
            "Requirement already satisfied: urllib3<1.27,>=1.21.1 in /usr/local/lib/python3.10/dist-packages (from requests->transformers) (1.26.15)\n",
            "Requirement already satisfied: certifi>=2017.4.17 in /usr/local/lib/python3.10/dist-packages (from requests->transformers) (2022.12.7)\n",
            "Requirement already satisfied: charset-normalizer~=2.0.0 in /usr/local/lib/python3.10/dist-packages (from requests->transformers) (2.0.12)\n",
            "Requirement already satisfied: idna<4,>=2.5 in /usr/local/lib/python3.10/dist-packages (from requests->transformers) (3.4)\n",
            "Installing collected packages: tokenizers, safetensors, huggingface-hub, transformers\n",
            "Successfully installed huggingface-hub-0.15.1 safetensors-0.3.1 tokenizers-0.13.3 transformers-4.30.2\n"
          ]
        }
      ],
      "source": [
        "!pip install transformers\n",
        "!pip install datasets"
      ]
    },
    {
      "cell_type": "markdown",
      "source": [
        "### Import relevent libraries"
      ],
      "metadata": {
        "id": "C7g7-E_sUQkb"
      }
    },
    {
      "cell_type": "code",
      "source": [
        "import pandas as pd\n",
        "import numpy as np\n",
        "import seaborn as sns\n",
        "import re\n",
        "import matplotlib.pyplot as plt\n",
        "from collections import defaultdict\n",
        "import csv\n",
        "import io\n",
        "import json\n",
        "import os\n",
        "\n",
        "import requests\n",
        "from tqdm import tqdm\n",
        "\n",
        "from sklearn.model_selection import train_test_split\n",
        "from sklearn.preprocessing import LabelEncoder\n",
        "\n",
        "import transformers\n",
        "from transformers import BertModel, BertTokenizerFast\n",
        "from transformers import AdamW, AdamWeightDecay, get_linear_schedule_with_warmup\n",
        "\n",
        "import torch\n",
        "from torch import optim, nn\n",
        "from torch.utils.data import DataLoader, Dataset\n",
        "import torch.nn.functional as F\n",
        "seed = 1331"
      ],
      "metadata": {
        "colab": {
          "base_uri": "https://localhost:8080/"
        },
        "id": "jDq62UuMUQDz",
        "outputId": "b26449fb-dc9d-4093-e29f-57a64910ce01"
      },
      "execution_count": 1,
      "outputs": [
        {
          "output_type": "stream",
          "name": "stderr",
          "text": [
            "/home/cc/.local/lib/python3.8/site-packages/tqdm/auto.py:21: TqdmWarning: IProgress not found. Please update jupyter and ipywidgets. See https://ipywidgets.readthedocs.io/en/stable/user_install.html\n",
            "  from .autonotebook import tqdm as notebook_tqdm\n"
          ]
        }
      ]
    },
    {
      "cell_type": "code",
      "source": [
        "device=torch.device('cuda:0')\n",
        "torch.cuda.get_device_name(0)"
      ],
      "metadata": {
        "colab": {
          "base_uri": "https://localhost:8080/"
        },
        "id": "ApGFxJguhj3K",
        "outputId": "c5ec3013-2126-4090-9cda-9517202518a0"
      },
      "execution_count": 2,
      "outputs": [
        {
          "output_type": "execute_result",
          "data": {
            "text/plain": [
              "'Quadro RTX 6000'"
            ]
          },
          "metadata": {},
          "execution_count": 2
        }
      ]
    },
    {
      "cell_type": "markdown",
      "source": [
        "### Fetch and store the data"
      ],
      "metadata": {
        "id": "V-OcAgUuVVfR"
      }
    },
    {
      "cell_type": "code",
      "source": [
        "_HEADER = [\"text\", \"category\"]\n",
        "PATTERNS = {\n",
        "    \"train\": \"https://raw.githubusercontent.com/xliuhw/NLU-Evaluation-Data\"\n",
        "             \"/master/CrossValidation/autoGeneFromRealAnno/autoGene_2018_03_\"\n",
        "             \"22-13_01_25_169/CrossValidation/KFold_1/trainset/{f}\",\n",
        "    \"test\": \"https://raw.githubusercontent.com/xliuhw/NLU-Evaluation-Data/\"\n",
        "            \"master/CrossValidation/autoGeneFromRealAnno/autoGene_2018_03_\"\n",
        "            \"22-13_01_25_169/CrossValidation/KFold_1/testset/csv/{f}\"\n",
        "}\n",
        "\n",
        "LIST_OF_FILES = (\n",
        "    'alarm_query.csv\\nalarm_remove.csv\\nalarm_set.csv\\naudio_volum'\n",
        "    'e_down.csv\\naudio_volume_mute.csv\\naudio_volume_up.csv\\ncalend'\n",
        "    'ar_query.csv\\t\\ncalendar_remove.csv\\t\\ncalendar_set.csv\\t\\ncoo'\n",
        "    'king_recipe.csv\\t\\ndatetime_convert.csv\\t\\ndatetime_query.csv'\n",
        "    '\\t\\nemail_addcontact.csv\\t\\nemail_query.csv\\t\\nemail_querycon'\n",
        "    'tact.csv\\t\\nemail_sendemail.csv\\t\\ngeneral_affirm.csv\\t\\ngener'\n",
        "    'al_commandstop.csv\\t\\ngeneral_confirm.csv\\t\\ngeneral_dontcare.'\n",
        "    'csv\\t\\ngeneral_explain.csv\\t\\ngeneral_joke.csv\\t\\ngeneral_neg'\n",
        "    'ate.csv\\t\\ngeneral_praise.csv\\t\\ngeneral_quirky.csv\\t\\ngenera'\n",
        "    'l_repeat.csv\\t\\niot_cleaning.csv\\t\\niot_coffee.csv\\t\\niot_hue'\n",
        "    '_lightchange.csv\\t\\niot_hue_lightdim.csv\\t\\niot_hue_lightoff.'\n",
        "    'csv\\t\\niot_hue_lighton.csv\\t\\niot_hue_lightup.csv\\t\\niot_wemo_'\n",
        "    'off.csv\\t\\niot_wemo_on.csv\\t\\nlists_createoradd.csv\\t\\nlists_'\n",
        "    'query.csv\\t\\nlists_remove.csv\\t\\nmusic_likeness.csv\\t\\nmusic_q'\n",
        "    'uery.csv\\t\\nmusic_settings.csv\\t\\nnews_query.csv\\t\\nplay_audio'\n",
        "    'book.csv\\t\\nplay_game.csv\\t\\nplay_music.csv\\t\\nplay_podcasts.'\n",
        "    'csv\\t\\nplay_radio.csv\\t\\nqa_currency.csv\\t\\nqa_definition.csv'\n",
        "    '\\t\\nqa_factoid.csv\\t\\nqa_maths.csv\\t\\nqa_stock.csv\\t\\nrecomme'\n",
        "    'ndation_events.csv\\t\\nrecommendation_locations.csv\\t\\nrecomme'\n",
        "    'ndation_movies.csv\\t\\nsocial_post.csv\\t\\nsocial_query.csv\\t\\n'\n",
        "    'takeaway_order.csv\\t\\ntakeaway_query.csv\\t\\ntransport_query.c'\n",
        "    'sv\\t\\ntransport_taxi.csv\\t\\ntransport_ticket.csv\\t\\ntransport'\n",
        "    '_traffic.csv\\t\\nweather_query.csv\\t'.split())\n",
        "\n",
        "\n",
        "\n",
        "\n",
        "def _get_category_rows(fname: str, set_name: str):\n",
        "    pattern = PATTERNS[set_name]\n",
        "    url = pattern.format(f=fname)\n",
        "    request = requests.get(url)\n",
        "\n",
        "    reader = csv.reader(\n",
        "        io.StringIO(request.content.decode(\"utf-8\")), delimiter=\";\"\n",
        "    )\n",
        "    first_row = next(reader)\n",
        "    scenario_i, intent_i = first_row.index(\"scenario\"), first_row.index(\n",
        "        \"intent\")\n",
        "    answer_i = first_row.index(\"answer_from_anno\")\n",
        "\n",
        "    rows = []\n",
        "    for row in reader:\n",
        "        text = row[answer_i]\n",
        "        category = f\"{row[scenario_i]}_{row[intent_i]}\"\n",
        "        rows.append([text, category])\n",
        "    return rows\n",
        "\n",
        "\n",
        "def _get_final_rows(set_name: str):\n",
        "    final_rows = [_HEADER]\n",
        "    for f in tqdm(LIST_OF_FILES):\n",
        "        final_rows += _get_category_rows(f, set_name)\n",
        "    return final_rows\n",
        "\n",
        "\n",
        "def _write_data_into_file(path, rows):\n",
        "    with open(path, \"w\") as data_file:\n",
        "        writer = csv.writer(data_file, quoting=csv.QUOTE_ALL)\n",
        "        writer.writerows(rows)\n",
        "\n",
        "\n",
        "def _main():\n",
        "    data_dir = os.getcwd()\n",
        "\n",
        "    if not os.path.exists(data_dir):\n",
        "        os.mkdir(data_dir)\n",
        "\n",
        "    print(\"Getting train data\")\n",
        "    train_rows = _get_final_rows(set_name=\"train\")\n",
        "    _write_data_into_file(\n",
        "        path=os.path.join(data_dir, \"train.csv\"),\n",
        "        rows=train_rows\n",
        "    )\n",
        "\n",
        "    print(\"Getting test data\")\n",
        "    test_rows = _get_final_rows(set_name=\"test\")\n",
        "    _write_data_into_file(\n",
        "        path=os.path.join(data_dir, \"test.csv\"),\n",
        "        rows=test_rows\n",
        "    )\n",
        "\n",
        "    print(\"Creating categories.json file\")\n",
        "    _, train_cats = zip(*train_rows[1:])\n",
        "    _, test_cats = zip(*test_rows[1:])\n",
        "    categories = sorted(list(\n",
        "        set(train_cats) | set(test_cats)\n",
        "    ))\n",
        "    with open(os.path.join(data_dir, \"categories.json\"), \"w\") as f:\n",
        "        json.dump(categories, f)\n",
        "\n",
        "\n",
        "if __name__ == \"__main__\":\n",
        "    _main()\n"
      ],
      "metadata": {
        "colab": {
          "base_uri": "https://localhost:8080/"
        },
        "id": "qtLWmUuRVa4e",
        "outputId": "dc34c7b8-ec00-4065-fb1a-59cef4785849"
      },
      "execution_count": 4,
      "outputs": [
        {
          "output_type": "stream",
          "name": "stdout",
          "text": [
            "Getting train data\n"
          ]
        },
        {
          "output_type": "stream",
          "name": "stderr",
          "text": [
            "100%|██████████| 64/64 [00:16<00:00,  3.93it/s]\n"
          ]
        },
        {
          "output_type": "stream",
          "name": "stdout",
          "text": [
            "Getting test data\n"
          ]
        },
        {
          "output_type": "stream",
          "name": "stderr",
          "text": [
            "100%|██████████| 64/64 [00:14<00:00,  4.46it/s]"
          ]
        },
        {
          "output_type": "stream",
          "name": "stdout",
          "text": [
            "Creating categories.json file\n"
          ]
        },
        {
          "output_type": "stream",
          "name": "stderr",
          "text": [
            "\n"
          ]
        }
      ]
    },
    {
      "cell_type": "markdown",
      "source": [
        "### Load and visualize data"
      ],
      "metadata": {
        "id": "jFrJUS_AWJsT"
      }
    },
    {
      "cell_type": "code",
      "source": [
        "train_data = pd.read_csv(\"train.csv\")\n",
        "test_data = pd.read_csv(\"test.csv\")\n",
        "train_data.columns = [\"speech_text\",\"intent\"]\n",
        "test_data.columns = [\"speech_text\",\"intent\"]"
      ],
      "metadata": {
        "id": "UHQpOVhEWQsc"
      },
      "execution_count": 21,
      "outputs": []
    },
    {
      "cell_type": "code",
      "source": [
        "train_data.describe()\n"
      ],
      "metadata": {
        "colab": {
          "base_uri": "https://localhost:8080/",
          "height": 175
        },
        "id": "kROTZSnjXWd7",
        "outputId": "ee71cc26-a9dc-4408-d837-1b048739c5fa"
      },
      "execution_count": 22,
      "outputs": [
        {
          "output_type": "execute_result",
          "data": {
            "text/plain": [
              "                                speech_text       intent\n",
              "count                                  9960         9960\n",
              "unique                                 9960           64\n",
              "top     what alarms do i have set right now  alarm_query\n",
              "freq                                      1          175"
            ],
            "text/html": [
              "<div>\n",
              "<style scoped>\n",
              "    .dataframe tbody tr th:only-of-type {\n",
              "        vertical-align: middle;\n",
              "    }\n",
              "\n",
              "    .dataframe tbody tr th {\n",
              "        vertical-align: top;\n",
              "    }\n",
              "\n",
              "    .dataframe thead th {\n",
              "        text-align: right;\n",
              "    }\n",
              "</style>\n",
              "<table border=\"1\" class=\"dataframe\">\n",
              "  <thead>\n",
              "    <tr style=\"text-align: right;\">\n",
              "      <th></th>\n",
              "      <th>speech_text</th>\n",
              "      <th>intent</th>\n",
              "    </tr>\n",
              "  </thead>\n",
              "  <tbody>\n",
              "    <tr>\n",
              "      <th>count</th>\n",
              "      <td>9960</td>\n",
              "      <td>9960</td>\n",
              "    </tr>\n",
              "    <tr>\n",
              "      <th>unique</th>\n",
              "      <td>9960</td>\n",
              "      <td>64</td>\n",
              "    </tr>\n",
              "    <tr>\n",
              "      <th>top</th>\n",
              "      <td>what alarms do i have set right now</td>\n",
              "      <td>alarm_query</td>\n",
              "    </tr>\n",
              "    <tr>\n",
              "      <th>freq</th>\n",
              "      <td>1</td>\n",
              "      <td>175</td>\n",
              "    </tr>\n",
              "  </tbody>\n",
              "</table>\n",
              "</div>"
            ]
          },
          "metadata": {},
          "execution_count": 22
        }
      ]
    },
    {
      "cell_type": "code",
      "source": [
        "intent_counts = train_data['intent'].value_counts()\n",
        "plt.figure(figsize=(10, 6))\n",
        "intent_counts.plot(kind='bar')\n",
        "plt.title('Intent Counts')\n",
        "plt.xlabel('Intent')\n",
        "plt.ylabel('Count')\n",
        "plt.show()"
      ],
      "metadata": {
        "colab": {
          "base_uri": "https://localhost:8080/",
          "height": 738
        },
        "id": "WEHJSnttXdO0",
        "outputId": "c1f656de-b4f5-433d-8d82-20e045bee7bd"
      },
      "execution_count": 5,
      "outputs": [
        {
          "output_type": "display_data",
          "data": {
            "text/plain": [
              "<Figure size 1000x600 with 1 Axes>"
            ],
            "image/png": "[encoded data removed]"
          },
          "metadata": {}
        }
      ]
    },
    {
      "cell_type": "code",
      "source": [
        "df_train,df_val=train_test_split(train_data,test_size=0.10 ,random_state=seed)"
      ],
      "metadata": {
        "id": "_J3qMd6pvvYv"
      },
      "execution_count": 23,
      "outputs": []
    },
    {
      "cell_type": "code",
      "source": [
        "unique_labels = df_train['intent'].unique()\n",
        "sampled_df = pd.DataFrame()\n",
        "for label in unique_labels:\n",
        "    label_df = df_train[df_train['intent'] == label]\n",
        "    samples = label_df.sample(n=10, random_state=42)\n",
        "    sampled_df = sampled_df.append(samples)\n",
        "sampled_df.reset_index(drop=True, inplace=True)\n"
      ],
      "metadata": {
        "id": "RzwWjBQqKWbr"
      },
      "execution_count": 24,
      "outputs": []
    },
    {
      "cell_type": "code",
      "source": [
        "train_data = sampled_df\n",
        "val_data = df_val"
      ],
      "metadata": {
        "id": "KKj_LRgrKlqU"
      },
      "execution_count": 25,
      "outputs": []
    },
    {
      "cell_type": "markdown",
      "source": [
        "### Encode the labels"
      ],
      "metadata": {
        "id": "KbtyX2IlYM8-"
      }
    },
    {
      "cell_type": "code",
      "source": [
        "le=LabelEncoder()\n",
        "train_data['intent']=le.fit_transform(train_data['intent'])\n",
        "val_data['intent']=le.fit_transform(val_data['intent'])\n",
        "test_data['intent']=le.transform(test_data['intent'])"
      ],
      "metadata": {
        "id": "qHJENZoaYWzr"
      },
      "execution_count": 26,
      "outputs": []
    },
    {
      "cell_type": "code",
      "source": [
        "print(le.classes_)"
      ],
      "metadata": {
        "colab": {
          "base_uri": "https://localhost:8080/"
        },
        "id": "MIJ291jSYbFI",
        "outputId": "f59bcc0b-b956-4f41-bbe3-83a0dc5b8acb"
      },
      "execution_count": 29,
      "outputs": [
        {
          "output_type": "stream",
          "name": "stdout",
          "text": [
            "['alarm_query' 'alarm_remove' 'alarm_set' 'audio_volume_down'\n",
            " 'audio_volume_mute' 'audio_volume_up' 'calendar_query' 'calendar_remove'\n",
            " 'calendar_set' 'cooking_recipe' 'datetime_convert' 'datetime_query'\n",
            " 'email_addcontact' 'email_query' 'email_querycontact' 'email_sendemail'\n",
            " 'general_affirm' 'general_commandstop' 'general_confirm'\n",
            " 'general_dontcare' 'general_explain' 'general_joke' 'general_negate'\n",
            " 'general_praise' 'general_quirky' 'general_repeat' 'iot_cleaning'\n",
            " 'iot_coffee' 'iot_hue_lightchange' 'iot_hue_lightdim' 'iot_hue_lightoff'\n",
            " 'iot_hue_lighton' 'iot_hue_lightup' 'iot_wemo_off' 'iot_wemo_on'\n",
            " 'lists_createoradd' 'lists_query' 'lists_remove' 'music_likeness'\n",
            " 'music_query' 'music_settings' 'news_query' 'play_audiobook' 'play_game'\n",
            " 'play_music' 'play_podcasts' 'play_radio' 'qa_currency' 'qa_definition'\n",
            " 'qa_factoid' 'qa_maths' 'qa_stock' 'recommendation_events'\n",
            " 'recommendation_locations' 'recommendation_movies' 'social_post'\n",
            " 'social_query' 'takeaway_order' 'takeaway_query' 'transport_query'\n",
            " 'transport_taxi' 'transport_ticket' 'transport_traffic' 'weather_query']\n"
          ]
        }
      ]
    },
    {
      "cell_type": "markdown",
      "source": [
        "### Setting up BERT Tokenizer"
      ],
      "metadata": {
        "id": "NXXdnJzPYq1G"
      }
    },
    {
      "cell_type": "code",
      "source": [
        "from transformers import AutoTokenizer, TrainingArguments, Trainer"
      ],
      "metadata": {
        "id": "z6HkDe9BRORB"
      },
      "execution_count": 27,
      "outputs": []
    },
    {
      "cell_type": "code",
      "source": [
        "pre_trained_BERTmodel='bert-large-uncased'\n",
        "BERT_tokenizer=AutoTokenizer.from_pretrained(pre_trained_BERTmodel)"
      ],
      "metadata": {
        "id": "_or5GgMEYvzj"
      },
      "execution_count": 28,
      "outputs": []
    },
    {
      "cell_type": "code",
      "source": [
        "import datasets\n",
        "\n",
        "\n",
        "\n",
        "\n",
        "\n",
        "def tokenize_data(example):\n",
        "    encoded_input = BERT_tokenizer(example[\"speech_text\"], padding=\"max_length\", truncation=True)\n",
        "    return {\"input_ids\": encoded_input[\"input_ids\"], \"attention_mask\": encoded_input[\"attention_mask\"], \"labels\": example[\"intent\"]}\n",
        "\n",
        "\n",
        "\n",
        "\n"
      ],
      "metadata": {
        "id": "7XFx0d7FZldv"
      },
      "execution_count": 29,
      "outputs": []
    },
    {
      "cell_type": "code",
      "source": [
        "traindataset = datasets.Dataset.from_pandas(train_data)\n",
        "train_dataset = traindataset.map(tokenize_data)"
      ],
      "metadata": {
        "colab": {
          "base_uri": "https://localhost:8080/"
        },
        "id": "s2YhVeYqwru7",
        "outputId": "388599a2-aa97-4109-f9b6-bb3aec833126"
      },
      "execution_count": 30,
      "outputs": [
        {
          "output_type": "stream",
          "name": "stderr",
          "text": []
        }
      ]
    },
    {
      "cell_type": "code",
      "source": [
        "testdataset = datasets.Dataset.from_pandas(test_data)\n",
        "test_dataset = testdataset.map(tokenize_data)"
      ],
      "metadata": {
        "colab": {
          "base_uri": "https://localhost:8080/"
        },
        "id": "TV7of-Rewrqj",
        "outputId": "2d6ece48-5605-4666-fd2c-4fe37c70e5ab"
      },
      "execution_count": 31,
      "outputs": [
        {
          "output_type": "stream",
          "name": "stderr",
          "text": []
        }
      ]
    },
    {
      "cell_type": "code",
      "source": [
        "valdataset = datasets.Dataset.from_pandas(val_data)\n",
        "eval_dataset = valdataset.map(tokenize_data)"
      ],
      "metadata": {
        "colab": {
          "base_uri": "https://localhost:8080/"
        },
        "id": "yUFItjw4iAtD",
        "outputId": "3b1afc2a-4bc0-4ccb-dd8d-f64d4a2d17a2"
      },
      "execution_count": 32,
      "outputs": [
        {
          "output_type": "stream",
          "name": "stderr",
          "text": []
        }
      ]
    },
    {
      "cell_type": "code",
      "source": [
        "test_dataset"
      ],
      "metadata": {
        "colab": {
          "base_uri": "https://localhost:8080/"
        },
        "id": "z5g96GoOiNl9",
        "outputId": "815f3f3f-e631-4526-f866-4da07c09c337"
      },
      "execution_count": 33,
      "outputs": [
        {
          "output_type": "execute_result",
          "data": {
            "text/plain": [
              "Dataset({\n",
              "    features: ['speech_text', 'intent', 'input_ids', 'attention_mask', 'labels'],\n",
              "    num_rows: 1076\n",
              "})"
            ]
          },
          "metadata": {},
          "execution_count": 33
        }
      ]
    },
    {
      "cell_type": "code",
      "source": [
        "train_dataset"
      ],
      "metadata": {
        "colab": {
          "base_uri": "https://localhost:8080/"
        },
        "id": "_Sw_q0BQa1bi",
        "outputId": "38053df1-8daa-4952-9b9b-e31aaaf5519b"
      },
      "execution_count": 34,
      "outputs": [
        {
          "output_type": "execute_result",
          "data": {
            "text/plain": [
              "Dataset({\n",
              "    features: ['speech_text', 'intent', 'input_ids', 'attention_mask', 'labels'],\n",
              "    num_rows: 640\n",
              "})"
            ]
          },
          "metadata": {},
          "execution_count": 34
        }
      ]
    },
    {
      "cell_type": "code",
      "source": [
        "eval_dataset"
      ],
      "metadata": {
        "colab": {
          "base_uri": "https://localhost:8080/"
        },
        "id": "loFksXk1w_eU",
        "outputId": "e9893f3f-b885-4b9f-c0ef-c7495a26cbcb"
      },
      "execution_count": 35,
      "outputs": [
        {
          "output_type": "execute_result",
          "data": {
            "text/plain": [
              "Dataset({\n",
              "    features: ['speech_text', 'intent', '__index_level_0__', 'input_ids', 'attention_mask', 'labels'],\n",
              "    num_rows: 996\n",
              "})"
            ]
          },
          "metadata": {},
          "execution_count": 35
        }
      ]
    },
    {
      "cell_type": "code",
      "source": [
        "args = TrainingArguments(\n",
        "        output_dir=\"./output\",\n",
        "        evaluation_strategy=\"epoch\",\n",
        "        save_strategy=\"epoch\",\n",
        "        learning_rate=3e-5,\n",
        "        per_device_train_batch_size=8 ,\n",
        "        per_device_eval_batch_size=8 ,\n",
        "        num_train_epochs=20,\n",
        "        warmup_ratio= 0.1,\n",
        "        weight_decay= 0.001,\n",
        "        load_best_model_at_end=True,\n",
        "        metric_for_best_model=\"accuracy\",\n",
        "        save_total_limit=1,\n",
        "\n",
        "    )"
      ],
      "metadata": {
        "id": "Qlq2dPDtVD9k"
      },
      "execution_count": 37,
      "outputs": []
    },
    {
      "cell_type": "code",
      "source": [
        "from transformers import (\n",
        "    AutoModelForSequenceClassification,\n",
        "    AutoModelForSeq2SeqLM,\n",
        "    AutoConfig,\n",
        "    BertModel,\n",
        ")\n",
        "\n",
        "import torch.nn as nn\n",
        "from transformers.modeling_outputs import SequenceClassifierOutput\n",
        "\n",
        "\n",
        "class BertModelWithCustomLossFunction(nn.Module):\n",
        "    def __init__(self):\n",
        "        super(BertModelWithCustomLossFunction, self).__init__()\n",
        "        self.num_labels = len(train_data[\"intent\"].unique())\n",
        "        self.bert = BertModel.from_pretrained(\n",
        "            pre_trained_BERTmodel, num_labels=self.num_labels\n",
        "        )\n",
        "        self.dropout = nn.Dropout(0.1)\n",
        "        self.classifier = nn.Linear(1024, self.num_labels)\n",
        "\n",
        "    def forward(self, input_ids, attention_mask, labels=None):\n",
        "        outputs = self.bert(\n",
        "            input_ids=input_ids,\n",
        "            attention_mask=attention_mask,\n",
        "        )\n",
        "\n",
        "        output = self.dropout(outputs.pooler_output)\n",
        "        logits = self.classifier(output)\n",
        "\n",
        "        loss = None\n",
        "        if labels is not None:\n",
        "            # you can define any loss function here yourself\n",
        "            # see https://pytorch.org/docs/stable/nn.html#loss-functions for an overview\n",
        "            loss_fct = nn.CrossEntropyLoss()\n",
        "            # next, compute the loss based on logits + ground-truth labels\n",
        "            loss = loss_fct(logits.view(-1, self.num_labels), labels)\n",
        "\n",
        "        return SequenceClassifierOutput(\n",
        "            loss=loss,\n",
        "            logits=logits,\n",
        "            hidden_states=outputs.hidden_states,\n",
        "            attentions=outputs.attentions,\n",
        "        )"
      ],
      "metadata": {
        "id": "FJG9eMfveJKL"
      },
      "execution_count": 38,
      "outputs": []
    },
    {
      "cell_type": "code",
      "source": [
        "BERT_model = BertModelWithCustomLossFunction()\n",
        "\n"
      ],
      "metadata": {
        "colab": {
          "base_uri": "https://localhost:8080/"
        },
        "id": "kDYBOMA3VD4d",
        "outputId": "587d72c4-2e81-4b8e-8d6b-56a076371681"
      },
      "execution_count": 39,
      "outputs": [
        {
          "output_type": "stream",
          "name": "stderr",
          "text": [
            "Some weights of the model checkpoint at bert-large-uncased were not used when initializing BertModel: ['cls.predictions.transform.LayerNorm.weight', 'cls.predictions.transform.dense.weight', 'cls.predictions.transform.LayerNorm.bias', 'cls.predictions.transform.dense.bias', 'cls.predictions.bias', 'cls.seq_relationship.weight', 'cls.seq_relationship.bias']\n",
            "- This IS expected if you are initializing BertModel from the checkpoint of a model trained on another task or with another architecture (e.g. initializing a BertForSequenceClassification model from a BertForPreTraining model).\n",
            "- This IS NOT expected if you are initializing BertModel from the checkpoint of a model that you expect to be exactly identical (initializing a BertForSequenceClassification model from a BertForSequenceClassification model).\n"
          ]
        }
      ]
    },
    {
      "cell_type": "code",
      "source": [
        "from sklearn.metrics import accuracy_score, precision_recall_fscore_support"
      ],
      "metadata": {
        "id": "kg_QCh51VDqn"
      },
      "execution_count": 40,
      "outputs": []
    },
    {
      "cell_type": "code",
      "source": [
        "def compute_metrics(pred):\n",
        "    labels = pred.label_ids\n",
        "    preds = pred.predictions.argmax(-1)\n",
        "    accuracy = accuracy_score(labels, preds)\n",
        "    precision, recall, f1, _ = precision_recall_fscore_support(labels, preds, average='weighted')\n",
        "\n",
        "    return {\n",
        "        'accuracy': accuracy,\n",
        "        'precision': precision,\n",
        "        'recall': recall,\n",
        "        'f1': f1\n",
        "    }"
      ],
      "metadata": {
        "id": "3khfKK4tYqit"
      },
      "execution_count": 41,
      "outputs": []
    },
    {
      "cell_type": "code",
      "source": [
        "trainer = Trainer(\n",
        "        model = BERT_model,\n",
        "        args = args,\n",
        "        train_dataset=train_dataset,\n",
        "        eval_dataset=eval_dataset,\n",
        "        tokenizer=BERT_tokenizer,\n",
        "        compute_metrics=compute_metrics,)\n",
        "trainer.train()"
      ],
      "metadata": {
        "colab": {
          "base_uri": "https://localhost:8080/",
          "height": 996
        },
        "id": "WisPqKEdVDn6",
        "outputId": "a9d3f457-1a07-446f-feb3-27fb7a6a42ad"
      },
      "execution_count": 42,
      "outputs": [
        {
          "output_type": "stream",
          "name": "stderr",
          "text": [
            "/home/cc/.local/lib/python3.8/site-packages/transformers/optimization.py:411: FutureWarning: This implementation of AdamW is deprecated and will be removed in a future version. Use the PyTorch implementation torch.optim.AdamW instead, or set `no_deprecation_warning=True` to disable this warning\n",
            "  warnings.warn(\n",
            "You're using a BertTokenizerFast tokenizer. Please note that with a fast tokenizer, using the `__call__` method is faster than using a method to encode the text followed by a call to the `pad` method to get a padded encoding.\n"
          ]
        },
        {
          "output_type": "display_data",
          "data": {
            "text/plain": [
              "<IPython.core.display.HTML object>"
            ],
            "text/html": [
              "\n",
              "    <div>\n",
              "      \n",
              "      <progress value='1600' max='1600' style='width:300px; height:20px; vertical-align: middle;'></progress>\n",
              "      [1600/1600 36:55, Epoch 20/20]\n",
              "    </div>\n",
              "    <table border=\"1\" class=\"dataframe\">\n",
              "  <thead>\n",
              " <tr style=\"text-align: left;\">\n",
              "      <th>Epoch</th>\n",
              "      <th>Training Loss</th>\n",
              "      <th>Validation Loss</th>\n",
              "      <th>Accuracy</th>\n",
              "      <th>Precision</th>\n",
              "      <th>Recall</th>\n",
              "      <th>F1</th>\n",
              "    </tr>\n",
              "  </thead>\n",
              "  <tbody>\n",
              "    <tr>\n",
              "      <td>1</td>\n",
              "      <td>No log</td>\n",
              "      <td>4.057505</td>\n",
              "      <td>0.049197</td>\n",
              "      <td>0.038592</td>\n",
              "      <td>0.049197</td>\n",
              "      <td>0.027093</td>\n",
              "    </tr>\n",
              "    <tr>\n",
              "      <td>2</td>\n",
              "      <td>No log</td>\n",
              "      <td>3.943385</td>\n",
              "      <td>0.090361</td>\n",
              "      <td>0.083441</td>\n",
              "      <td>0.090361</td>\n",
              "      <td>0.063902</td>\n",
              "    </tr>\n",
              "    <tr>\n",
              "      <td>3</td>\n",
              "      <td>No log</td>\n",
              "      <td>3.351818</td>\n",
              "      <td>0.380522</td>\n",
              "      <td>0.447788</td>\n",
              "      <td>0.380522</td>\n",
              "      <td>0.339346</td>\n",
              "    </tr>\n",
              "    <tr>\n",
              "      <td>4</td>\n",
              "      <td>No log</td>\n",
              "      <td>2.379764</td>\n",
              "      <td>0.621486</td>\n",
              "      <td>0.662304</td>\n",
              "      <td>0.621486</td>\n",
              "      <td>0.585831</td>\n",
              "    </tr>\n",
              "    <tr>\n",
              "      <td>5</td>\n",
              "      <td>No log</td>\n",
              "      <td>1.581481</td>\n",
              "      <td>0.771084</td>\n",
              "      <td>0.812856</td>\n",
              "      <td>0.771084</td>\n",
              "      <td>0.756164</td>\n",
              "    </tr>\n",
              "    <tr>\n",
              "      <td>6</td>\n",
              "      <td>No log</td>\n",
              "      <td>1.192094</td>\n",
              "      <td>0.756024</td>\n",
              "      <td>0.785533</td>\n",
              "      <td>0.756024</td>\n",
              "      <td>0.740142</td>\n",
              "    </tr>\n",
              "    <tr>\n",
              "      <td>7</td>\n",
              "      <td>2.878300</td>\n",
              "      <td>0.871368</td>\n",
              "      <td>0.818273</td>\n",
              "      <td>0.843871</td>\n",
              "      <td>0.818273</td>\n",
              "      <td>0.810388</td>\n",
              "    </tr>\n",
              "    <tr>\n",
              "      <td>8</td>\n",
              "      <td>2.878300</td>\n",
              "      <td>0.756022</td>\n",
              "      <td>0.817269</td>\n",
              "      <td>0.841295</td>\n",
              "      <td>0.817269</td>\n",
              "      <td>0.813222</td>\n",
              "    </tr>\n",
              "    <tr>\n",
              "      <td>9</td>\n",
              "      <td>2.878300</td>\n",
              "      <td>0.650675</td>\n",
              "      <td>0.838353</td>\n",
              "      <td>0.851532</td>\n",
              "      <td>0.838353</td>\n",
              "      <td>0.835076</td>\n",
              "    </tr>\n",
              "    <tr>\n",
              "      <td>10</td>\n",
              "      <td>2.878300</td>\n",
              "      <td>0.704684</td>\n",
              "      <td>0.827309</td>\n",
              "      <td>0.841646</td>\n",
              "      <td>0.827309</td>\n",
              "      <td>0.823102</td>\n",
              "    </tr>\n",
              "    <tr>\n",
              "      <td>11</td>\n",
              "      <td>2.878300</td>\n",
              "      <td>0.655839</td>\n",
              "      <td>0.844378</td>\n",
              "      <td>0.857050</td>\n",
              "      <td>0.844378</td>\n",
              "      <td>0.841422</td>\n",
              "    </tr>\n",
              "    <tr>\n",
              "      <td>12</td>\n",
              "      <td>2.878300</td>\n",
              "      <td>0.653510</td>\n",
              "      <td>0.844378</td>\n",
              "      <td>0.855641</td>\n",
              "      <td>0.844378</td>\n",
              "      <td>0.841886</td>\n",
              "    </tr>\n",
              "    <tr>\n",
              "      <td>13</td>\n",
              "      <td>0.165200</td>\n",
              "      <td>0.672859</td>\n",
              "      <td>0.841365</td>\n",
              "      <td>0.858840</td>\n",
              "      <td>0.841365</td>\n",
              "      <td>0.838176</td>\n",
              "    </tr>\n",
              "    <tr>\n",
              "      <td>14</td>\n",
              "      <td>0.165200</td>\n",
              "      <td>0.681485</td>\n",
              "      <td>0.841365</td>\n",
              "      <td>0.858159</td>\n",
              "      <td>0.841365</td>\n",
              "      <td>0.838489</td>\n",
              "    </tr>\n",
              "    <tr>\n",
              "      <td>15</td>\n",
              "      <td>0.165200</td>\n",
              "      <td>0.686237</td>\n",
              "      <td>0.841365</td>\n",
              "      <td>0.859044</td>\n",
              "      <td>0.841365</td>\n",
              "      <td>0.838521</td>\n",
              "    </tr>\n",
              "    <tr>\n",
              "      <td>16</td>\n",
              "      <td>0.165200</td>\n",
              "      <td>0.696081</td>\n",
              "      <td>0.840361</td>\n",
              "      <td>0.856881</td>\n",
              "      <td>0.840361</td>\n",
              "      <td>0.837351</td>\n",
              "    </tr>\n",
              "    <tr>\n",
              "      <td>17</td>\n",
              "      <td>0.165200</td>\n",
              "      <td>0.697226</td>\n",
              "      <td>0.840361</td>\n",
              "      <td>0.857118</td>\n",
              "      <td>0.840361</td>\n",
              "      <td>0.837409</td>\n",
              "    </tr>\n",
              "    <tr>\n",
              "      <td>18</td>\n",
              "      <td>0.165200</td>\n",
              "      <td>0.695273</td>\n",
              "      <td>0.842369</td>\n",
              "      <td>0.858257</td>\n",
              "      <td>0.842369</td>\n",
              "      <td>0.839613</td>\n",
              "    </tr>\n",
              "    <tr>\n",
              "      <td>19</td>\n",
              "      <td>0.012000</td>\n",
              "      <td>0.699013</td>\n",
              "      <td>0.842369</td>\n",
              "      <td>0.858508</td>\n",
              "      <td>0.842369</td>\n",
              "      <td>0.839427</td>\n",
              "    </tr>\n",
              "    <tr>\n",
              "      <td>20</td>\n",
              "      <td>0.012000</td>\n",
              "      <td>0.700306</td>\n",
              "      <td>0.841365</td>\n",
              "      <td>0.857767</td>\n",
              "      <td>0.841365</td>\n",
              "      <td>0.838492</td>\n",
              "    </tr>\n",
              "  </tbody>\n",
              "</table><p>"
            ]
          },
          "metadata": {}
        },
        {
          "output_type": "stream",
          "name": "stderr",
          "text": [
            "/home/cc/.local/lib/python3.8/site-packages/sklearn/metrics/_classification.py:1318: UndefinedMetricWarning: Precision and F-score are ill-defined and being set to 0.0 in labels with no predicted samples. Use `zero_division` parameter to control this behavior.\n",
            "  _warn_prf(average, modifier, msg_start, len(result))\n",
            "/home/cc/.local/lib/python3.8/site-packages/sklearn/metrics/_classification.py:1318: UndefinedMetricWarning: Precision and F-score are ill-defined and being set to 0.0 in labels with no predicted samples. Use `zero_division` parameter to control this behavior.\n",
            "  _warn_prf(average, modifier, msg_start, len(result))\n",
            "/home/cc/.local/lib/python3.8/site-packages/sklearn/metrics/_classification.py:1318: UndefinedMetricWarning: Precision and F-score are ill-defined and being set to 0.0 in labels with no predicted samples. Use `zero_division` parameter to control this behavior.\n",
            "  _warn_prf(average, modifier, msg_start, len(result))\n",
            "/home/cc/.local/lib/python3.8/site-packages/sklearn/metrics/_classification.py:1318: UndefinedMetricWarning: Precision and F-score are ill-defined and being set to 0.0 in labels with no predicted samples. Use `zero_division` parameter to control this behavior.\n",
            "  _warn_prf(average, modifier, msg_start, len(result))\n",
            "/home/cc/.local/lib/python3.8/site-packages/sklearn/metrics/_classification.py:1318: UndefinedMetricWarning: Precision and F-score are ill-defined and being set to 0.0 in labels with no predicted samples. Use `zero_division` parameter to control this behavior.\n",
            "  _warn_prf(average, modifier, msg_start, len(result))\n"
          ]
        },
        {
          "output_type": "execute_result",
          "data": {
            "text/plain": [
              "TrainOutput(global_step=1600, training_loss=0.955415575131774, metrics={'train_runtime': 2215.5072, 'train_samples_per_second': 5.777, 'train_steps_per_second': 0.722, 'total_flos': 0.0, 'train_loss': 0.955415575131774, 'epoch': 20.0})"
            ]
          },
          "metadata": {},
          "execution_count": 42
        }
      ]
    },
    {
      "cell_type": "code",
      "source": [
        "trainer.predict(test_dataset)"
      ],
      "metadata": {
        "id": "hWZqlnfHNp_n",
        "colab": {
          "base_uri": "https://localhost:8080/",
          "height": 291
        },
        "outputId": "c18ddd78-5641-4513-bc10-fab654a39dc5"
      },
      "execution_count": 43,
      "outputs": [
        {
          "output_type": "display_data",
          "data": {
            "text/plain": [
              "<IPython.core.display.HTML object>"
            ],
            "text/html": []
          },
          "metadata": {}
        },
        {
          "output_type": "execute_result",
          "data": {
            "text/plain": [
              "PredictionOutput(predictions=array([[ 3.0418813e+00,  2.2847939e+00,  7.1036892e+00, ...,\n",
              "         6.9977939e-02,  4.7351891e-01,  4.7073236e-01],\n",
              "       [ 7.4101081e+00,  2.5634553e+00,  3.5522981e+00, ...,\n",
              "         4.8027061e-02,  2.0265959e-01, -9.4214134e-02],\n",
              "       [ 1.9070115e+00,  2.9888432e+00,  8.4658499e+00, ...,\n",
              "         2.5389883e-01,  2.6605549e-01, -1.5548807e-01],\n",
              "       ...,\n",
              "       [ 4.0542561e-01,  3.2148734e-01,  6.6144580e-01, ...,\n",
              "         4.7626105e-01,  6.7100573e-01,  4.2084455e+00],\n",
              "       [ 2.5652450e-01, -5.7067230e-02, -1.4687020e-01, ...,\n",
              "         1.8752125e-01, -8.5096313e-03,  8.5991344e+00],\n",
              "       [ 2.7794216e+00,  3.6879611e-01,  6.2738127e-01, ...,\n",
              "         9.7445332e-02,  1.6805193e+00,  6.0069466e+00]], dtype=float32), label_ids=array([ 0,  0,  0, ..., 63, 63, 63]), metrics={'test_loss': 0.6748518943786621, 'test_accuracy': 0.8382899628252788, 'test_precision': 0.8453896996381416, 'test_recall': 0.8382899628252788, 'test_f1': 0.8356089762733068, 'test_runtime': 37.8339, 'test_samples_per_second': 28.44, 'test_steps_per_second': 3.568})"
            ]
          },
          "metadata": {},
          "execution_count": 43
        }
      ]
    },
    {
      "cell_type": "code",
      "source": [
        "trainer.evaluate()"
      ],
      "metadata": {
        "colab": {
          "base_uri": "https://localhost:8080/",
          "height": 201
        },
        "id": "6u-we3-8iTls",
        "outputId": "522cd1f0-6e9e-492c-cbe0-a360d2dc080d"
      },
      "execution_count": 44,
      "outputs": [
        {
          "output_type": "display_data",
          "data": {
            "text/plain": [
              "<IPython.core.display.HTML object>"
            ],
            "text/html": [
              "\n",
              "    <div>\n",
              "      \n",
              "      <progress value='125' max='125' style='width:300px; height:20px; vertical-align: middle;'></progress>\n",
              "      [125/125 00:33]\n",
              "    </div>\n",
              "    "
            ]
          },
          "metadata": {}
        },
        {
          "output_type": "execute_result",
          "data": {
            "text/plain": [
              "{'eval_loss': 0.6558387875556946,\n",
              " 'eval_accuracy': 0.8443775100401606,\n",
              " 'eval_precision': 0.8570499267337782,\n",
              " 'eval_recall': 0.8443775100401606,\n",
              " 'eval_f1': 0.8414215741722207,\n",
              " 'eval_runtime': 34.2179,\n",
              " 'eval_samples_per_second': 29.108,\n",
              " 'eval_steps_per_second': 3.653,\n",
              " 'epoch': 20.0}"
            ]
          },
          "metadata": {},
          "execution_count": 44
        }
      ]
    },
    {
      "cell_type": "code",
      "source": [],
      "metadata": {
        "id": "Cq-xTCg_jHkj"
      },
      "execution_count": null,
      "outputs": []
    }
  ]
}