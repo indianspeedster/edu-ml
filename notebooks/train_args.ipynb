{
 "cells": [
  {
   "cell_type": "markdown",
   "metadata": {},
   "source": [
    "## Implementation"
   ],
   "id": "fa4b43c8-c77c-4998-b1c3-902f5d9926c8"
  },
  {
   "cell_type": "markdown",
   "metadata": {},
   "source": [
    "#### Importing relevent Library"
   ],
   "id": "54339389-8c62-4e65-8324-340fa0eeef23"
  },
  {
   "cell_type": "code",
   "execution_count": null,
   "metadata": {},
   "outputs": [],
   "source": [
    "import json\n"
   ],
   "id": "046330f2-83b4-4d00-8358-f15c0c90ead9"
  },
  {
   "cell_type": "markdown",
   "metadata": {},
   "source": [
    "#### Setting up the training arguments"
   ],
   "id": "f7b18822-6ff2-4472-8d81-023901ecf7e6"
  },
  {
   "cell_type": "code",
   "execution_count": null,
   "metadata": {},
   "outputs": [],
   "source": [
    "args = {\n",
    "    \"output_dir\": \"./output\",\n",
    "    \"evaluation_strategy\": \"epoch\",\n",
    "    \"save_strategy\": \"epoch\",\n",
    "    \"per_device_train_batch_size\": 8,\n",
    "    \"per_device_eval_batch_size\": 8,\n",
    "    \"num_train_epochs\": 10,\n",
    "    \"warmup_ratio\": 0.1,\n",
    "    \"weight_decay\": 0.001,\n",
    "    \"load_best_model_at_end\": True,\n",
    "    \"metric_for_best_model\": \"accuracy\",\n",
    "    \"save_total_limit\"=1,\n",
    "    \"logging_dir\": \"./logs\",\n",
    "    \"optimizer\": \"sgd\"\n",
    "}\n",
    "\n"
   ],
   "id": "a0d7f0b8-089d-47f8-879d-494f68af583c"
  },
  {
   "cell_type": "markdown",
   "metadata": {},
   "source": [
    "#### Storing the dictionary to a json file"
   ],
   "id": "d2d4b316-5103-457a-8f6d-d108bb36c0e0"
  },
  {
   "cell_type": "code",
   "execution_count": null,
   "metadata": {},
   "outputs": [],
   "source": [
    "\n",
    "with open('args.json', 'w') as args_file:\n",
    "    json.dump(args, args_file, indent=4)\n"
   ],
   "id": "70ffe58b-e5bf-4e79-9ee2-4421e3380f60"
  }
 ],
 "nbformat": 4,
 "nbformat_minor": 5,
 "metadata": {}
}
