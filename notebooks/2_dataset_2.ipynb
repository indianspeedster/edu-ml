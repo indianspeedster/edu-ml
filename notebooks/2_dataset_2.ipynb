{
 "cells": [
  {
   "cell_type": "markdown",
   "metadata": {},
   "source": [
    "## Getting Data\n",
    "\n",
    "If you are on this notebook then you have made a choice in the previous section to go ahead with **Collected-Original-Data**. Your intuition might have said that since Bert large uncased is a case unsensitive model and annotating the data might not help to make a model better.\n",
    "\n",
    "This directory contains collected original data with normalization for numbers/date etc which contain the pre-designed human-robot interaction questions and the user answers. Entire data is in CSV format and is stored\n",
    "\n",
    "------------------------------------------------------------------------"
   ],
   "id": "46be787e-b06d-4449-98d2-2cb0e6ee1bfc"
  },
  {
   "cell_type": "markdown",
   "metadata": {},
   "source": [
    "### importing libraries"
   ],
   "id": "99295d8a-8e20-4891-a261-86f14d73756b"
  },
  {
   "cell_type": "code",
   "execution_count": null,
   "metadata": {},
   "outputs": [],
   "source": [
    "import pandas as pd\n",
    "from sklearn.model_selection import train_test_split\n",
    "seed = 123"
   ],
   "id": "df9075b8-0e5c-4cdf-97f4-395b6c91d7ce"
  },
  {
   "cell_type": "markdown",
   "metadata": {},
   "source": [
    "### Fetching and storing the data"
   ],
   "id": "da9dac8e-1087-4aa0-96ff-d7d5b8f52d54"
  },
  {
   "cell_type": "code",
   "execution_count": null,
   "metadata": {},
   "outputs": [],
   "source": [
    "url = \"https://raw.githubusercontent.com/xliuhw/NLU-Evaluation-Data/master/Collected-Original-Data/paraphrases_and_intents_26k_normalised_all.csv\"\n",
    "dataframe = pd.read_csv(url, delimiter=\";\")"
   ],
   "id": "11892f08-7207-481f-a8ac-2247476819ad"
  },
  {
   "cell_type": "markdown",
   "metadata": {},
   "source": [
    "### Extracting the relevent columns"
   ],
   "id": "3a64101a-fca9-426e-92e8-d35db1bf60df"
  },
  {
   "cell_type": "code",
   "execution_count": null,
   "metadata": {},
   "outputs": [],
   "source": [
    "dataframe[\"merged\"] = dataframe[\"scenario\"] + \"_\" + dataframe[\"intent\"]\n",
    "new_df = dataframe[[\"answer\", \"merged\"]]\n",
    "new_df.columns = [\"speech_text\",\"intent\"]"
   ],
   "id": "ff7de440-3125-4e68-998b-41f64b3ca7da"
  },
  {
   "cell_type": "code",
   "execution_count": null,
   "metadata": {},
   "outputs": [],
   "source": [
    "train, test = train_test_split(new_df, test_size=0.10, random_state = seed)"
   ],
   "id": "86fae76e-0cc4-4d62-a604-971f708742e1"
  },
  {
   "cell_type": "markdown",
   "metadata": {},
   "source": [
    "### Extracting exact number of samples as mentioned in the paper"
   ],
   "id": "add24528-c975-4218-a77c-5c7ae1464adc"
  },
  {
   "cell_type": "code",
   "execution_count": null,
   "metadata": {},
   "outputs": [],
   "source": [
    "train = train.sample(9960, random_state=seed)\n",
    "test = test.sample(1076, random_state=seed)\n",
    "train = train.reset_index(drop=True)\n",
    "test = test.reset_index(drop=True)"
   ],
   "id": "78f46abf-6cc0-4d5e-bec5-96a3b67f1b92"
  },
  {
   "cell_type": "markdown",
   "metadata": {},
   "source": [
    "### Exporting the data to csv"
   ],
   "id": "71bcce1f-4a1d-46c4-aab5-d6c6cc85ea82"
  },
  {
   "cell_type": "code",
   "execution_count": null,
   "metadata": {},
   "outputs": [],
   "source": [
    "train.to_csv(\"train.csv\")\n",
    "test.to_csv(\"test.csv\")"
   ],
   "id": "2bb7b4c9-2b15-4945-b55a-309c6a077893"
  },
  {
   "cell_type": "markdown",
   "metadata": {},
   "source": [
    "The above cell will produce two csv files as output.\n",
    "\n",
    "-   train.csv\n",
    "\n",
    "-   test.csv\n",
    "\n",
    "------------------------------------------------------------------------"
   ],
   "id": "43f5866d-dcf8-4cba-a25c-e5b41a5f6cdc"
  },
  {
   "cell_type": "markdown",
   "metadata": {},
   "source": [
    "Once we have the data ready, then we can now focus on Augmenting the data.\n",
    "\n",
    "As discussed in the paper, the Authors are following synonym replacement strategy with a special formulae n = α \\* l where n is the number of words that is going to be replaced, α is a constant whose value lies between 0 and 1 and l is the length of the sentence."
   ],
   "id": "f76f05e2-53d0-4914-926c-b039ebe93548"
  },
  {
   "cell_type": "markdown",
   "metadata": {},
   "source": [
    "Now let’s understand how this synonym replacement works.\n",
    "\n",
    "Suppose we have a sentence “is there an alarm for ten am” Step 1 is to remove the stopwords from the sentence, so now the sentence would be “there alarm ten am”.\n",
    "\n",
    "The length of the sentence now is 4 which is l.\n",
    "\n",
    "Let’s take alpha as 0.6, So, now when we perform calculation we get n = 0.75\\*4, which is equal to 3, So now we will pick three random words and replace then with their synonyms."
   ],
   "id": "7b28a74b-6395-4e7d-b084-5d87f18ab85a"
  },
  {
   "cell_type": "markdown",
   "metadata": {},
   "source": [
    "Now when calculating n, there is high probability that the value will be a decimal value and since n can be only an integer, the author never specified that which value of n we are supposed to pick. ie (ceil or floor). Intent classification task has less number of words as input and even if there is difference of one word in the the augmented text due to this ceil, floor confusion, then it may lead to different results.\n",
    "\n",
    "For the data preprocessing we have two notebooks which will focus on both the scenarios taking a ceil value for n and taking a floor value for n.\n",
    "\n",
    "-   [Notebook(DataPreProcess_floor(n))](/3_data_preprocessing_1.ipynb)\n",
    "\n",
    "-   [Notebook(DataPreProcess_ceil(n))](/3_data_preprocessing_2.ipynb)"
   ],
   "id": "2022f12a-9fa0-43d5-879a-eaba413cbb6c"
  }
 ],
 "nbformat": 4,
 "nbformat_minor": 5,
 "metadata": {}
}
