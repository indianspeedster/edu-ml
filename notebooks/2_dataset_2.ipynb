{
  "cells": [
    {
      "cell_type": "markdown",
      "metadata": {
        "id": "dd1ec64e-1a1f-454d-986f-ebf069535f29"
      },
      "source": [
        "## Getting Data"
      ],
      "id": "dd1ec64e-1a1f-454d-986f-ebf069535f29"
    },
    {
      "cell_type": "markdown",
      "metadata": {
        "id": "dc98b303-fd13-4aa9-910b-5d15be9a06f5"
      },
      "source": [
        "### importing libraries"
      ],
      "id": "dc98b303-fd13-4aa9-910b-5d15be9a06f5"
    },
    {
      "cell_type": "code",
      "execution_count": null,
      "metadata": {
        "id": "66335e50-d9ac-41dc-9666-85af4233d6fb"
      },
      "outputs": [],
      "source": [
        "import pandas as pd\n",
        "from sklearn.model_selection import train_test_split\n",
        "seed = 123"
      ],
      "id": "66335e50-d9ac-41dc-9666-85af4233d6fb"
    },
    {
      "cell_type": "markdown",
      "metadata": {
        "id": "ef98cc04-9dff-4ddb-9b49-a34c5291b8e9"
      },
      "source": [
        "### Fetching and storing the data"
      ],
      "id": "ef98cc04-9dff-4ddb-9b49-a34c5291b8e9"
    },
    {
      "cell_type": "code",
      "execution_count": null,
      "metadata": {
        "id": "19fba2ac-6a49-4144-9904-2fc68f40429c"
      },
      "outputs": [],
      "source": [
        "url = \"https://raw.githubusercontent.com/xliuhw/NLU-Evaluation-Data/master/Collected-Original-Data/paraphrases_and_intents_26k_normalised_all.csv\"\n",
        "dataframe = pd.read_csv(url, delimiter=\";\")\n"
      ],
      "id": "19fba2ac-6a49-4144-9904-2fc68f40429c"
    },
    {
      "cell_type": "markdown",
      "metadata": {
        "id": "6a836463-e2ac-4fae-94d0-0587887a89df"
      },
      "source": [
        "### Extracting the relevent columns"
      ],
      "id": "6a836463-e2ac-4fae-94d0-0587887a89df"
    },
    {
      "cell_type": "code",
      "execution_count": null,
      "metadata": {
        "id": "3b53cd05-8ba4-4864-abf7-31fd39c78210"
      },
      "outputs": [],
      "source": [
        "dataframe[\"merged\"] = dataframe[\"scenario\"] + \"_\" + dataframe[\"intent\"]\n",
        "new_df = dataframe[[\"answer\", \"merged\"]]\n",
        "new_df.columns = [\"speech_text\",\"intent\"]\n"
      ],
      "id": "3b53cd05-8ba4-4864-abf7-31fd39c78210"
    },
    {
      "cell_type": "code",
      "execution_count": null,
      "metadata": {
        "id": "f57cac79-6947-4144-a878-ec898375cebc"
      },
      "outputs": [],
      "source": [
        "train, test = train_test_split(new_df, test_size=0.10, random_state = seed)\n"
      ],
      "id": "f57cac79-6947-4144-a878-ec898375cebc"
    },
    {
      "cell_type": "markdown",
      "metadata": {
        "id": "ebc08da2-de8a-4925-8887-e17283d98cb7"
      },
      "source": [
        "### Extracting exact number of samples as mentioned in the paper"
      ],
      "id": "ebc08da2-de8a-4925-8887-e17283d98cb7"
    },
    {
      "cell_type": "code",
      "execution_count": null,
      "metadata": {
        "id": "aaa22741-e316-439b-a047-f256064cf844"
      },
      "outputs": [],
      "source": [
        "train = train.sample(9960, random_state=seed)\n",
        "test = test.sample(1076, random_state=seed)\n",
        "train = train.reset_index(drop=True)\n",
        "test = test.reset_index(drop=True)\n"
      ],
      "id": "aaa22741-e316-439b-a047-f256064cf844"
    },
    {
      "cell_type": "markdown",
      "metadata": {
        "id": "8fb0e8ff-d5a6-4ce7-9b95-8a9590a1893a"
      },
      "source": [
        "### Exporting the data to csv"
      ],
      "id": "8fb0e8ff-d5a6-4ce7-9b95-8a9590a1893a"
    },
    {
      "cell_type": "code",
      "execution_count": null,
      "metadata": {
        "id": "6c4ec7f1-aa74-4d7a-932c-696db6d93a89"
      },
      "outputs": [],
      "source": [
        "train.to_csv(\"train.csv\")\n",
        "test.to_csv(\"test.csv\")\n"
      ],
      "id": "6c4ec7f1-aa74-4d7a-932c-696db6d93a89"
    }
  ],
  "nbformat": 4,
  "nbformat_minor": 5,
  "metadata": {
    "colab": {
      "provenance": []
    },
    "language_info": {
      "name": "python"
    },
    "kernelspec": {
      "name": "python3",
      "display_name": "Python 3"
    }
  }
}
