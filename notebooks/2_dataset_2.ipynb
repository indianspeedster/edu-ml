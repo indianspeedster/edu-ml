{
 "cells": [
  {
   "cell_type": "markdown",
   "metadata": {},
   "source": [
    "## Getting Data\n",
    "\n",
    "If you are on this notebook then you have made a choice in the previous section to go ahead with **Collected-Original-Data**. Your intuition might have said that since Bert large uncased is a case unsensitive model and annotating the data might not help to make a model better.\n",
    "\n",
    "This directory contains collected original data with normalization for numbers/date etc which contain the pre-designed human-robot interaction questions and the user answers. Entire data is in CSV format and is stored\n",
    "\n",
    "------------------------------------------------------------------------"
   ],
   "id": "ca9db4f2-3303-4808-b3ec-37d4360c24ef"
  },
  {
   "cell_type": "markdown",
   "metadata": {},
   "source": [
    "### importing libraries"
   ],
   "id": "62e00c98-63ff-4296-ad18-a41e94355885"
  },
  {
   "cell_type": "code",
   "execution_count": null,
   "metadata": {},
   "outputs": [],
   "source": [
    "import pandas as pd\n",
    "from sklearn.model_selection import train_test_split\n",
    "seed = 123"
   ],
   "id": "97e334c9-621e-4e6c-9725-ae37555fbf2b"
  },
  {
   "cell_type": "markdown",
   "metadata": {},
   "source": [
    "### Fetching and storing the data"
   ],
   "id": "4f4a25de-0085-43b7-bd46-d4554a371262"
  },
  {
   "cell_type": "code",
   "execution_count": null,
   "metadata": {},
   "outputs": [],
   "source": [
    "url = \"https://raw.githubusercontent.com/xliuhw/NLU-Evaluation-Data/master/Collected-Original-Data/paraphrases_and_intents_26k_normalised_all.csv\"\n",
    "dataframe = pd.read_csv(url, delimiter=\";\")"
   ],
   "id": "a6c736c5-e576-491d-88c6-27a16c044d85"
  },
  {
   "cell_type": "markdown",
   "metadata": {},
   "source": [
    "### Extracting the relevent columns"
   ],
   "id": "d35c9d2a-ae6d-46a1-a3bc-2b8de3b32917"
  },
  {
   "cell_type": "code",
   "execution_count": null,
   "metadata": {},
   "outputs": [],
   "source": [
    "dataframe[\"merged\"] = dataframe[\"scenario\"] + \"_\" + dataframe[\"intent\"]\n",
    "new_df = dataframe[[\"answer\", \"merged\"]]\n",
    "new_df.columns = [\"speech_text\",\"intent\"]"
   ],
   "id": "eeb1f47d-4333-4082-9dd3-b401bada6c4a"
  },
  {
   "cell_type": "code",
   "execution_count": null,
   "metadata": {},
   "outputs": [],
   "source": [
    "train, test = train_test_split(new_df, test_size=0.10, random_state = seed)"
   ],
   "id": "93b7fb1c-ce93-40ed-9ac8-039df8cbfb9c"
  },
  {
   "cell_type": "markdown",
   "metadata": {},
   "source": [
    "### Extracting exact number of samples as mentioned in the paper"
   ],
   "id": "81af3fc0-b9ca-4b9a-9db6-11b706ba689e"
  },
  {
   "cell_type": "code",
   "execution_count": null,
   "metadata": {},
   "outputs": [],
   "source": [
    "train = train.sample(9960, random_state=seed)\n",
    "test = test.sample(1076, random_state=seed)\n",
    "train = train.reset_index(drop=True)\n",
    "test = test.reset_index(drop=True)"
   ],
   "id": "bcb9b2e9-784c-4c02-b285-adfa86048482"
  },
  {
   "cell_type": "markdown",
   "metadata": {},
   "source": [
    "### Exporting the data to csv"
   ],
   "id": "50032cee-29cd-4065-bafe-d9652e8e4d8d"
  },
  {
   "cell_type": "code",
   "execution_count": null,
   "metadata": {},
   "outputs": [],
   "source": [
    "train.to_csv(\"train.csv\")\n",
    "test.to_csv(\"test.csv\")"
   ],
   "id": "45bdb936-f4a6-471d-b6a9-b2d9c1dae9af"
  },
  {
   "cell_type": "markdown",
   "metadata": {},
   "source": [
    "The above cell will produce two csv files as output.\n",
    "\n",
    "-   train.csv\n",
    "\n",
    "-   test.csv\n",
    "\n",
    "------------------------------------------------------------------------"
   ],
   "id": "3e675058-0575-4d26-89c7-2449122ed7c5"
  },
  {
   "cell_type": "markdown",
   "metadata": {},
   "source": [
    "Once we have the data ready, then we can now focus on Augmenting the data.\n",
    "\n",
    "As discussed in the paper, the Authors are following synonym replacement strategy with a special formulae n = α \\* l where n is the number of words that is going to be replaced, α is a constant whose value lies between 0 and 1 and l is the length of the sentence."
   ],
   "id": "d6ac1625-102f-4b69-8d3f-fcd690891347"
  },
  {
   "cell_type": "markdown",
   "metadata": {},
   "source": [
    "Now let’s understand how this synonym replacement works.\n",
    "\n",
    "Suppose we have a sentence “is there an alarm for ten am” Step 1 is to remove the stopwords from the sentence, so now the sentence would be “there alarm ten am”.\n",
    "\n",
    "The length of the sentence now is 4 which is l.\n",
    "\n",
    "Let’s take alpha as 0.6, So, now when we perform calculation we get n = 0.75\\*4, which is equal to 3, So now we will pick three random words and replace then with their synonyms."
   ],
   "id": "154e5550-e432-4d3a-9ac5-8bdd80eda896"
  },
  {
   "cell_type": "markdown",
   "metadata": {},
   "source": [
    "Now when calculating n, there is high probability that the value will be a decimal value and since n can be only an integer, the author never specified that which value of n we are supposed to pick. ie (ceil or floor). Intent classification task has less number of words as input and even if there is difference of one word in the the augmented text due to this ceil, floor confusion, then it may lead to different results.\n",
    "\n",
    "For the data preprocessing we have two notebooks which will focus on both the scenarios taking a ceil value for n and taking a floor value for n.\n",
    "\n",
    "-   [Notebook(DataPreProcess_floor(n))](/3_data_preprocessing_1.ipynb)\n",
    "\n",
    "-   [Notebook(DataPreProcess_ceil(n))](/3_data_preprocessing_2.ipynb)"
   ],
   "id": "cc78447b-7c98-4258-b66f-93623782f529"
  }
 ],
 "nbformat": 4,
 "nbformat_minor": 5,
 "metadata": {}
}
