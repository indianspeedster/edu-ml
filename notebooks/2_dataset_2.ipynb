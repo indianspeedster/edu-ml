{
 "cells": [
  {
   "cell_type": "markdown",
   "metadata": {},
   "source": [
    "## Getting Data\n",
    "\n",
    "In the world of machine learning, the data you use is like the building blocks of your model. Good data can help your model perform really well and give useful results, while not-so-good data can lead to results that don’t really make sense or aren’t very accurate. So, having good, reliable data is super important because it’s what your model learns from and it can make a big difference in how well your model works and the results it gives you.\n",
    "\n",
    "Likewise, when it comes to **reproducing** any kind of result, the role of data is incredibly crucial. If you’re not using the exact same data as the original study, it becomes quite challenging to achieve precisely the same outcome. Data forms the foundation for outcomes, and even small differences in the data used can lead to variations in results. Therefore, the accuracy and similarity of data used for reproduction play a vital role in ensuring the consistency and reliability of the outcomes.\n",
    "\n",
    "------------------------------------------------------------------------"
   ],
   "id": "d83cb80c-652d-4f64-86d0-f4fc8b04beb5"
  },
  {
   "cell_type": "markdown",
   "metadata": {},
   "source": [
    "### importing libraries"
   ],
   "id": "b713201c-98fa-418a-8376-5697c950f9de"
  },
  {
   "cell_type": "code",
   "execution_count": null,
   "metadata": {},
   "outputs": [],
   "source": [
    "import pandas as pd\n",
    "from sklearn.model_selection import train_test_split\n",
    "seed = 123"
   ],
   "id": "d86dde4b-3f90-441c-a749-e513b10f88f1"
  },
  {
   "cell_type": "markdown",
   "metadata": {},
   "source": [
    "### Fetching and storing the data"
   ],
   "id": "d925040b-c852-40d4-b21b-2b052b4df508"
  },
  {
   "cell_type": "code",
   "execution_count": null,
   "metadata": {},
   "outputs": [],
   "source": [
    "url = \"https://raw.githubusercontent.com/xliuhw/NLU-Evaluation-Data/master/Collected-Original-Data/paraphrases_and_intents_26k_normalised_all.csv\"\n",
    "dataframe = pd.read_csv(url, delimiter=\";\")"
   ],
   "id": "e5899206-624d-4ada-8a0b-cfcb0ee39668"
  },
  {
   "cell_type": "markdown",
   "metadata": {},
   "source": [
    "### Extracting the relevent columns"
   ],
   "id": "e7b31671-556b-45be-a679-47921529c425"
  },
  {
   "cell_type": "code",
   "execution_count": null,
   "metadata": {},
   "outputs": [],
   "source": [
    "dataframe[\"merged\"] = dataframe[\"scenario\"] + \"_\" + dataframe[\"intent\"]\n",
    "new_df = dataframe[[\"answer\", \"merged\"]]\n",
    "new_df.columns = [\"speech_text\",\"intent\"]"
   ],
   "id": "5008b7ed-3689-4057-a53e-3076fcbe203c"
  },
  {
   "cell_type": "code",
   "execution_count": null,
   "metadata": {},
   "outputs": [],
   "source": [
    "train, test = train_test_split(new_df, test_size=0.10, random_state = seed)"
   ],
   "id": "57909958-0631-4d8b-884e-1addd8a3c5b6"
  },
  {
   "cell_type": "markdown",
   "metadata": {},
   "source": [
    "### Extracting exact number of samples as mentioned in the paper"
   ],
   "id": "15cd9f04-87ba-45c9-8785-da9cd54e6ad7"
  },
  {
   "cell_type": "code",
   "execution_count": null,
   "metadata": {},
   "outputs": [],
   "source": [
    "train = train.sample(9960, random_state=seed)\n",
    "test = test.sample(1076, random_state=seed)\n",
    "train = train.reset_index(drop=True)\n",
    "test = test.reset_index(drop=True)"
   ],
   "id": "adb2834d-35dd-4f3a-a5ac-7a26ee744abd"
  },
  {
   "cell_type": "markdown",
   "metadata": {},
   "source": [
    "### Exporting the data to csv"
   ],
   "id": "5df37f7e-58ce-4411-a4c4-346af9199dd8"
  },
  {
   "cell_type": "code",
   "execution_count": null,
   "metadata": {},
   "outputs": [],
   "source": [
    "train.to_csv(\"train.csv\")\n",
    "test.to_csv(\"test.csv\")"
   ],
   "id": "42d2336f-6b04-4604-89b2-6a4456a54305"
  },
  {
   "cell_type": "markdown",
   "metadata": {},
   "source": [
    "Once we have the data ready, then we can now focus on Augmenting the data.\n",
    "\n",
    "As discussed in the paper, the Authors are following synonym replacement strategy with a special formulae n = α \\* l where n is the number of words that is going to be replaced, α is a constant whose value lies between 0 and 1 and l is the length of the sentence.\n",
    "\n",
    "Now when calculating n, there is high probability that the value will be a decimal value and since n can be only an integer, the author never specified that which value of n we are supposed to pick. ie (ceil or floor). Intent classification task has less number of words as input and even if there is difference of one word in the the augmented text due to this ceil, floor confusion, then it may lead to different results.\n",
    "\n",
    "For the data preprocessing we have two notebooks which will focus on both the scenarios taking a ceil value for n and taking a floor value for n.\n",
    "\n",
    "-   [Notebook(DataPreProcess_floor(n))](/)\n",
    "\n",
    "-   [Notebook(DataPreProcess_ceil(n))](/)"
   ],
   "id": "ffaa212c-8cef-4a8a-8403-45052cd1814c"
  }
 ],
 "nbformat": 4,
 "nbformat_minor": 5,
 "metadata": {}
}
