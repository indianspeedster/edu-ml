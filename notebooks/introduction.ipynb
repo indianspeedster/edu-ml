{
 "cells": [
  {
   "cell_type": "markdown",
   "metadata": {},
   "source": [
    "## Reproducing the paper “Full few shot learning for intent classification.”"
   ],
   "id": "abb74ba6-90b0-4113-b81d-fb98ebe513bf"
  },
  {
   "cell_type": "markdown",
   "metadata": {},
   "source": [
    "### Few shot learning"
   ],
   "id": "382532ec-bedb-416e-91e3-66c45ebf3164"
  },
  {
   "cell_type": "markdown",
   "metadata": {},
   "source": [
    "### Full few shot learning"
   ],
   "id": "923c972c-5ebb-40ec-998d-72ff949f3383"
  },
  {
   "cell_type": "markdown",
   "metadata": {},
   "source": [
    "### Intent classification"
   ],
   "id": "a1b19018-a984-4a3d-b518-a3eb5ccbe4eb"
  },
  {
   "cell_type": "markdown",
   "metadata": {},
   "source": [
    "### BERT (Bidirectional Encoder Representation for Transformers)"
   ],
   "id": "bbfc3574-5688-4422-b443-ab45c11f2cd2"
  },
  {
   "cell_type": "markdown",
   "metadata": {},
   "source": [
    "### Datasets\n",
    "\n",
    "-   HWU64"
   ],
   "id": "3d3c3f36-0f1c-4738-a01a-3f3a74871fb5"
  },
  {
   "cell_type": "markdown",
   "metadata": {},
   "source": [
    "### Requirements\n",
    "\n",
    "Below are some of the libraries that are mandatory to install.\n",
    "\n",
    "-   [transformers](https://pypi.org/project/transformers/)\n",
    "\n",
    "-   [datasets](https://pypi.org/project/datasets/)\n",
    "\n",
    "-   [accelerate](https://pypi.org/project/accelerate/)\n",
    "\n",
    "-   [nltk](https://pypi.org/project/nltk/)"
   ],
   "id": "3ad80da8-aa94-4a8f-82f0-05d100249d61"
  },
  {
   "cell_type": "code",
   "execution_count": null,
   "metadata": {},
   "outputs": [],
   "source": [
    "!pip install transformers\n",
    "!pip install datasets\n",
    "!pip install accelerate -U\n",
    "!pip install nltk"
   ],
   "id": "05d5a147-15eb-4e35-af64-aaece42dfebd"
  }
 ],
 "nbformat": 4,
 "nbformat_minor": 5,
 "metadata": {}
}
