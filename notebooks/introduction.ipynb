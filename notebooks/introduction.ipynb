{
 "cells": [
  {
   "cell_type": "markdown",
   "metadata": {},
   "source": [
    "## Reproducing the paper “Full few shot learning for intent classification.”"
   ],
   "id": "3725ea4d-986d-4cba-97bd-990e01367b99"
  },
  {
   "cell_type": "markdown",
   "metadata": {},
   "source": [
    "### Few shot learning"
   ],
   "id": "4eb508b9-4b4e-430c-af3a-943d87a62213"
  },
  {
   "cell_type": "markdown",
   "metadata": {},
   "source": [
    "### Full few shot learning"
   ],
   "id": "915d0607-3932-4a11-ad59-85f05e4bbf09"
  },
  {
   "cell_type": "markdown",
   "metadata": {},
   "source": [
    "### Intent classification"
   ],
   "id": "ae59cea0-c739-4402-a171-51fdb63df6ef"
  },
  {
   "cell_type": "markdown",
   "metadata": {},
   "source": [
    "### BERT (Bidirectional Encoder Representation for Transformers)"
   ],
   "id": "3c3484bf-f94b-4501-8cd8-b4c9ea3eb757"
  },
  {
   "cell_type": "markdown",
   "metadata": {},
   "source": [
    "### Requirements\n",
    "\n",
    "Below are some of the libraries that are mandatory to install.\n",
    "\n",
    "-   [transformers](https://pypi.org/project/transformers/)\n",
    "\n",
    "-   [datasets](https://pypi.org/project/datasets/)\n",
    "\n",
    "-   [accelerate](https://pypi.org/project/accelerate/)\n",
    "\n",
    "-   [nltk](https://pypi.org/project/nltk/)"
   ],
   "id": "085dfd7f-6480-4380-b5a1-73affc73e16b"
  },
  {
   "cell_type": "code",
   "execution_count": null,
   "metadata": {},
   "outputs": [],
   "source": [
    "!pip install transformers\n",
    "!pip install datasets\n",
    "!pip install accelerate -U\n",
    "!pip install nltk"
   ],
   "id": "a41d838f-7a27-4740-a3be-1429904de25d"
  },
  {
   "cell_type": "markdown",
   "metadata": {},
   "source": [
    "### Datasets\n",
    "\n",
    "[HWU64](https://github.com/xliuhw/NLU-Evaluation-Data/) dataset is used by the paper we are going to reproduce and it contains natural language data for human-robot interaction in home domain which was collected and annotated for evaluating NLU Services/platforms.\n",
    "\n",
    "The above github link contains\n",
    "\n",
    "-   [AnnotatedData](https://github.com/xliuhw/NLU-Evaluation-Data/tree/master/AnnotatedData)\n",
    "\n",
    "-   [Collected-Original-Data](https://github.com/xliuhw/NLU-Evaluation-Data/tree/master/Collected-Original-Data)\n",
    "\n",
    "-   [CrossValidation-Data](https://github.com/xliuhw/NLU-Evaluation-Data/tree/master/CrossValidation/autoGeneFromRealAnno/autoGene_2018_03_22-13_01_25_169/CrossValidation)\n",
    "\n",
    "In the paper it’s given that the author used a given number of training and test data but you are not sure that from which of the above data they obtained that number.\n",
    "\n",
    "Below we have 3 notebooks that have code to load data from any of all three datafolder and you can give a try to all the 3 and see through which data we are able to get equivalent results to what the author mentioned.\n",
    "\n",
    "-   [Notebook(AnnotedData)](/)\n",
    "\n",
    "-   [Notebook(Collected-Original-Data)](/)\n",
    "\n",
    "-   [Notebook(CrossValidation-Data)](/)"
   ],
   "id": "4e1b3f1c-e332-45b7-a6f4-91942f6685c5"
  }
 ],
 "nbformat": 4,
 "nbformat_minor": 5,
 "metadata": {}
}
