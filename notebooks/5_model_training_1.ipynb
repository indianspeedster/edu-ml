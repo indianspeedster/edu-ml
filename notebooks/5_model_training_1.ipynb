{
 "cells": [
  {
   "cell_type": "markdown",
   "metadata": {},
   "source": [
    "## Model training\n",
    "\n",
    "Here we are at the Stage where we are ready with the data and in the stage where we have to train the model but before that we need to make some modification to the Bert Large model as mentioned in the training and evaluation section in the paper. Bert large uncased model can be finetuned for specific tasks and in our case we are trying to implement a classification model with 64 classes.\n",
    "\n",
    "The code in the notebook will be performing the following steps:\n",
    "\n",
    "-   Load the dataset\n",
    "\n",
    "-   Load BERT Large uncased model from Huggingface’s transformer library\n",
    "\n",
    "-   Modify the architecture of the model\n",
    "\n",
    "-   set up the metrics for evaluating the model\n",
    "\n",
    "-   Train the model with three different datasets\n",
    "\n",
    "This notebook uses hyper parameter tuning for all three models and the results produced may have different hyperparameter for all three models."
   ],
   "id": "36bea851-9e99-4148-992e-d7319ff61f3f"
  },
  {
   "cell_type": "code",
   "execution_count": null,
   "metadata": {},
   "outputs": [],
   "source": [
    "from transformers import TrainingArguments, Trainer\n",
    "import pickle\n",
    "from transformers import (\n",
    "    AutoModelForSequenceClassification,\n",
    "    AutoModelForSeq2SeqLM,\n",
    "    AutoConfig,\n",
    "    BertModel,\n",
    ")\n",
    "from transformers import AutoTokenizer\n",
    "from sklearn.metrics import accuracy_score, precision_recall_fscore_support\n",
    "import torch\n",
    "import torch.nn as nn\n",
    "from transformers.modeling_outputs import SequenceClassifierOutput\n",
    "from transformers import AdamW\n",
    "import torch.optim as optim "
   ],
   "id": "f58321ea-54d1-4cdd-a550-644c7d14f675"
  },
  {
   "cell_type": "markdown",
   "metadata": {},
   "source": [
    "### Loading the data"
   ],
   "id": "f8b09e58-b76b-4dd1-b907-200791eb3404"
  },
  {
   "cell_type": "code",
   "execution_count": null,
   "metadata": {},
   "outputs": [],
   "source": [
    "with open('train_dataset_tokenized.pkl', 'rb') as file:\n",
    "    train_dataset = pickle.load(file)\n",
    "\n",
    "with open('val_data_tokenized.pkl', 'rb') as file:\n",
    "    val_dataset = pickle.load(file)\n",
    "\n",
    "with open('test_data_tokenized.pkl', 'rb') as file:\n",
    "    test_dataset = pickle.load(file)\n",
    "\n",
    "with open('train_dataset_full_tokenized.pkl', 'rb') as file:\n",
    "    train_dataset_full = [pickle.load(file)]\n",
    "\n",
    "with open('augmented_train_dataset_tokenized.pkl', 'rb') as file:\n",
    "    train_dataset_augmented = pickle.load(file)\n",
    "\n",
    "with open('function_pickle.pkl', 'rb') as f:\n",
    "    create_training_arguments_and_optimizer = pickle.load(f)"
   ],
   "id": "b0ad4bb0-caf2-48e9-8caa-92759967fca5"
  },
  {
   "cell_type": "markdown",
   "metadata": {},
   "source": [
    "### Setting up the training arguments"
   ],
   "id": "5fb399e2-ccd7-4ece-8f3d-cefdd957da12"
  },
  {
   "cell_type": "code",
   "execution_count": null,
   "metadata": {},
   "outputs": [],
   "source": [
    "learning_rates = [5e-5, 4e-5, 3e-5, 2e-5]\n",
    "\n",
    "pre_trained_BERTmodel='bert-large-uncased'\n",
    "BERT_tokenizer=AutoTokenizer.from_pretrained(pre_trained_BERTmodel)"
   ],
   "id": "841d3d61-08b7-435c-875b-a3073a497c6f"
  },
  {
   "cell_type": "markdown",
   "metadata": {},
   "source": [
    "### Modifying Bert for our classification Task"
   ],
   "id": "e61e4f03-714c-4550-9a04-83e2e6a437d3"
  },
  {
   "cell_type": "code",
   "execution_count": null,
   "metadata": {},
   "outputs": [],
   "source": [
    "class BertModelWithCustomLossFunction(nn.Module):\n",
    "    def __init__(self):\n",
    "        super(BertModelWithCustomLossFunction, self).__init__()\n",
    "        self.num_labels = 64\n",
    "        self.bert = BertModel.from_pretrained(\n",
    "            pre_trained_BERTmodel, num_labels=self.num_labels\n",
    "        )\n",
    "        self.dropout = nn.Dropout(0.1)\n",
    "        self.classifier = nn.Linear(1024, self.num_labels)\n",
    "\n",
    "    def forward(self, input_ids, attention_mask, labels=None):\n",
    "        outputs = self.bert(\n",
    "            input_ids=input_ids,\n",
    "            attention_mask=attention_mask,\n",
    "        )\n",
    "\n",
    "        output = self.dropout(outputs.pooler_output)\n",
    "        logits = self.classifier(output)\n",
    "\n",
    "        loss = None\n",
    "        if labels is not None:\n",
    "            loss_fct = nn.CrossEntropyLoss()\n",
    "            loss = loss_fct(logits.view(-1, self.num_labels), labels)\n",
    "\n",
    "        return SequenceClassifierOutput(\n",
    "            loss=loss,\n",
    "            logits=logits,\n",
    "            hidden_states=outputs.hidden_states,\n",
    "            attentions=outputs.attentions,\n",
    "        )"
   ],
   "id": "b905ab13-93ec-4bf5-a940-38d3061b3f20"
  },
  {
   "cell_type": "markdown",
   "metadata": {},
   "source": [
    "### Create train_model function"
   ],
   "id": "2b61dba9-8815-4b6f-8ac4-488f952dc768"
  },
  {
   "cell_type": "code",
   "execution_count": null,
   "metadata": {},
   "outputs": [],
   "source": [
    "def train_model(train_data, args, val_dataset, test_dataset):\n",
    "    BERT_model = BertModelWithCustomLossFunction()\n",
    "    optimizer = AdamW(BERT_model.parameters(), lr=args.learning_rate, weight_decay=args.weight_decay)\n",
    "    trainer = Trainer(\n",
    "        model=BERT_model,\n",
    "        args=args,\n",
    "        train_dataset=train_data,\n",
    "        eval_dataset=val_dataset,\n",
    "        tokenizer=BERT_tokenizer,\n",
    "        compute_metrics=compute_metrics,\n",
    "        optimizers=(optimizer,),\n",
    "    )\n",
    "    trainer.train()\n",
    "    evaluation_metrics = trainer.predict(test_dataset)\n",
    "    accuracy = evaluation_metrics.metrics['test_accuracy']\n",
    "    torch.cuda.empty_cache()\n",
    "    return accuracy"
   ],
   "id": "e25438eb-b2bd-43df-9a55-757d1e7e8db1"
  },
  {
   "cell_type": "markdown",
   "metadata": {},
   "source": [
    "### Setting up metrics for accuracy, precision, recall and f1"
   ],
   "id": "fcf66ced-494e-4b28-848a-8c4f049d6ded"
  },
  {
   "cell_type": "code",
   "execution_count": null,
   "metadata": {},
   "outputs": [],
   "source": [
    "def compute_metrics(pred):\n",
    "    labels = pred.label_ids\n",
    "    preds = pred.predictions.argmax(-1)\n",
    "    accuracy = accuracy_score(labels, preds)\n",
    "    precision, recall, f1, _ = precision_recall_fscore_support(labels, preds, average='weighted')\n",
    "\n",
    "    return {\n",
    "        'accuracy': accuracy,\n",
    "        'precision': precision,\n",
    "        'recall': recall,\n",
    "        'f1': f1\n",
    "    }"
   ],
   "id": "253af740-451a-4cb0-b779-cdad2b3d7eaf"
  },
  {
   "cell_type": "markdown",
   "metadata": {},
   "source": [
    "### Training the model"
   ],
   "id": "06ed3c51-62d6-4759-bb9b-5dd2c3f25a57"
  },
  {
   "cell_type": "code",
   "execution_count": null,
   "metadata": {},
   "outputs": [],
   "source": [
    "import warnings\n",
    "warnings.filterwarnings(\"ignore\")"
   ],
   "id": "00d07e09-95bf-46be-8895-910ae0a73403"
  },
  {
   "cell_type": "markdown",
   "metadata": {},
   "source": [
    "#### Training Full dataset Model"
   ],
   "id": "db99eecf-a864-4666-98a5-2d32828fc1ee"
  },
  {
   "cell_type": "code",
   "execution_count": null,
   "metadata": {},
   "outputs": [],
   "source": [
    "for train_data in train_dataset_full:\n",
    "    best_accuracy = 0\n",
    "    best_lr = learning_rates[0]\n",
    "    for lr in learning_rates:\n",
    "        args = create_training_arguments(lr)\n",
    "        accuracy = train_model(train_data, args, val_dataset, test_dataset)\n",
    "        if accuracy>best_accuracy:\n",
    "          best_lr = lr\n",
    "          best_accuracy = max(accuracy, best_accuracy)\n",
    "print(f\"Best Accuracy:{best_accuracy}\\n Best Learning Rate: {best_lr}\")"
   ],
   "id": "ee7e682e-3d71-420a-aa1c-f1a03f4e3361"
  },
  {
   "cell_type": "markdown",
   "metadata": {},
   "source": [
    "#### Training full few shot dataset model"
   ],
   "id": "1836b24b-232e-4a53-8bc2-25989a989998"
  },
  {
   "cell_type": "code",
   "execution_count": null,
   "metadata": {},
   "outputs": [],
   "source": [
    "for train_data in train_dataset:\n",
    "    best_accuracy = 0\n",
    "    best_lr = learning_rates[0]\n",
    "    for lr in learning_rates:\n",
    "        args, optimizer = create_training_arguments(lr)\n",
    "        accuracy = train_model(train_data, args, val_dataset, test_dataset)\n",
    "        if accuracy>best_accuracy:\n",
    "          best_lr = lr\n",
    "          best_accuracy = max(accuracy, best_accuracy)\n",
    "print(f\"Best Accuracy:{best_accuracy}\\n Best Learning Rate: {best_lr}\")"
   ],
   "id": "db625127-4a7e-4ad4-b6c4-ff72f8b5ad3f"
  },
  {
   "cell_type": "markdown",
   "metadata": {},
   "source": [
    "#### Training Model on Full few shot + Augmented dataset"
   ],
   "id": "d0ece157-6d05-4f53-a2c6-3bd703335caa"
  },
  {
   "cell_type": "code",
   "execution_count": null,
   "metadata": {},
   "outputs": [],
   "source": [
    "for train_data in train_dataset_augmented:\n",
    "    best_accuracy = 0\n",
    "    best_lr = learning_rates[0]\n",
    "    for lr in learning_rates:\n",
    "        args = create_training_arguments(lr)\n",
    "        accuracy = train_model(train_data, args, val_dataset, test_dataset)\n",
    "        if accuracy>best_accuracy:\n",
    "          best_lr = lr\n",
    "          best_accuracy = max(accuracy, best_accuracy)\n",
    "print(f\"Best Accuracy:{best_accuracy}\\n Best Learning Rate: {best_lr}\")"
   ],
   "id": "333c78eb-84f7-4424-8f3e-04b278133bde"
  }
 ],
 "nbformat": 4,
 "nbformat_minor": 5,
 "metadata": {}
}
