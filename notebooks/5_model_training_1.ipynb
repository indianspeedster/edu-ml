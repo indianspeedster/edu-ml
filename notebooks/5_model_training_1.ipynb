{
 "cells": [
  {
   "cell_type": "markdown",
   "metadata": {},
   "source": [
    "## Model training\n",
    "\n",
    "Here we are at the Stage where we are ready with the data and in the stage where we have to train the model but before that we need to make some modification to the Bert Large model as mentioned in the training and evaluation section in the paper. Bert large uncased model can be finetuned for specific tasks and in our case we are trying to implement a classification model with 64 classes.\n",
    "\n",
    "The code in the notebook will be performing the following steps:\n",
    "\n",
    "-   Load the dataset\n",
    "\n",
    "-   Load BERT Large uncased model from Huggingface’s transformer library\n",
    "\n",
    "-   Modify the architecture of the model\n",
    "\n",
    "-   set up the metrics for evaluating the model\n",
    "\n",
    "-   Train the model with three different datasets\n",
    "\n",
    "This notebook uses hyper parameter tuning for all three models and the results produced may have different hyperparameter for all three models."
   ],
   "id": "15344a96-e76c-47eb-880e-ce88e90729d0"
  },
  {
   "cell_type": "code",
   "execution_count": null,
   "metadata": {},
   "outputs": [],
   "source": [
    "from transformers import TrainingArguments, Trainer\n",
    "import pickle\n",
    "from transformers import (\n",
    "    AutoModelForSequenceClassification,\n",
    "    AutoModelForSeq2SeqLM,\n",
    "    AutoConfig,\n",
    "    BertModel,\n",
    ")\n",
    "from transformers import AutoTokenizer\n",
    "from sklearn.metrics import accuracy_score, precision_recall_fscore_support\n",
    "import torch\n",
    "import torch.nn as nn\n",
    "from transformers.modeling_outputs import SequenceClassifierOutput\n",
    "from transformers import AdamW\n",
    "import torch.optim as optim "
   ],
   "id": "c47368bb-f86d-4370-bbb2-6e8f1b589539"
  },
  {
   "cell_type": "markdown",
   "metadata": {},
   "source": [
    "### Loading the data"
   ],
   "id": "62ef46d7-dea5-464f-bc94-6dfa1e1e522f"
  },
  {
   "cell_type": "code",
   "execution_count": null,
   "metadata": {},
   "outputs": [],
   "source": [
    "with open('train_dataset_tokenized.pkl', 'rb') as file:\n",
    "    train_dataset = pickle.load(file)\n",
    "\n",
    "with open('val_data_tokenized.pkl', 'rb') as file:\n",
    "    val_dataset = pickle.load(file)\n",
    "\n",
    "with open('test_data_tokenized.pkl', 'rb') as file:\n",
    "    test_dataset = pickle.load(file)\n",
    "\n",
    "with open('train_dataset_full_tokenized.pkl', 'rb') as file:\n",
    "    train_dataset_full = [pickle.load(file)]\n",
    "\n",
    "with open('augmented_train_dataset_tokenized.pkl', 'rb') as file:\n",
    "    train_dataset_augmented = pickle.load(file)\n",
    "\n",
    "with open('function_pickle.pkl', 'rb') as f:\n",
    "    create_training_arguments_and_optimizer = pickle.load(f)"
   ],
   "id": "a77ca060-7d2e-4de0-a0c5-c5e1a723bae3"
  },
  {
   "cell_type": "markdown",
   "metadata": {},
   "source": [
    "### Setting up the training arguments"
   ],
   "id": "08bd6b38-39d1-4034-bc78-c46017babd8d"
  },
  {
   "cell_type": "code",
   "execution_count": null,
   "metadata": {},
   "outputs": [],
   "source": [
    "learning_rates = [5e-5, 4e-5, 3e-5, 2e-5]\n",
    "\n",
    "pre_trained_BERTmodel='bert-large-uncased'\n",
    "BERT_tokenizer=AutoTokenizer.from_pretrained(pre_trained_BERTmodel)"
   ],
   "id": "2916d036-8d0b-4b7d-acdf-3281e4d55786"
  },
  {
   "cell_type": "markdown",
   "metadata": {},
   "source": [
    "### Modifying Bert for our classification Task"
   ],
   "id": "b5c62c0b-8985-4e25-b604-4a1ee2037f46"
  },
  {
   "cell_type": "code",
   "execution_count": null,
   "metadata": {},
   "outputs": [],
   "source": [
    "class BertModelWithCustomLossFunction(nn.Module):\n",
    "    def __init__(self):\n",
    "        super(BertModelWithCustomLossFunction, self).__init__()\n",
    "        self.num_labels = 64\n",
    "        self.bert = BertModel.from_pretrained(\n",
    "            pre_trained_BERTmodel, num_labels=self.num_labels\n",
    "        )\n",
    "        self.dropout = nn.Dropout(0.1)\n",
    "        self.classifier = nn.Linear(1024, self.num_labels)\n",
    "\n",
    "    def forward(self, input_ids, attention_mask, labels=None):\n",
    "        outputs = self.bert(\n",
    "            input_ids=input_ids,\n",
    "            attention_mask=attention_mask,\n",
    "        )\n",
    "\n",
    "        output = self.dropout(outputs.pooler_output)\n",
    "        logits = self.classifier(output)\n",
    "\n",
    "        loss = None\n",
    "        if labels is not None:\n",
    "            loss_fct = nn.CrossEntropyLoss()\n",
    "            loss = loss_fct(logits.view(-1, self.num_labels), labels)\n",
    "\n",
    "        return SequenceClassifierOutput(\n",
    "            loss=loss,\n",
    "            logits=logits,\n",
    "            hidden_states=outputs.hidden_states,\n",
    "            attentions=outputs.attentions,\n",
    "        )"
   ],
   "id": "ad7e2197-a990-477f-9907-6a780c7fe965"
  },
  {
   "cell_type": "markdown",
   "metadata": {},
   "source": [
    "### Create train_model function"
   ],
   "id": "6c046372-87d5-44ce-a474-23a2d7ed427c"
  },
  {
   "cell_type": "code",
   "execution_count": null,
   "metadata": {},
   "outputs": [],
   "source": [
    "def train_model(train_data, args, val_dataset, test_dataset):\n",
    "    BERT_model = BertModelWithCustomLossFunction()\n",
    "    optimizer = AdamW(BERT_model.parameters(), lr=args.learning_rate, weight_decay=args.weight_decay)\n",
    "    trainer = Trainer(\n",
    "        model=BERT_model,\n",
    "        args=args,\n",
    "        train_dataset=train_data,\n",
    "        eval_dataset=val_dataset,\n",
    "        tokenizer=BERT_tokenizer,\n",
    "        compute_metrics=compute_metrics,\n",
    "        optimizers=(optimizer,),\n",
    "    )\n",
    "    trainer.train()\n",
    "    evaluation_metrics = trainer.predict(test_dataset)\n",
    "    accuracy = evaluation_metrics.metrics['test_accuracy']\n",
    "    torch.cuda.empty_cache()\n",
    "    return accuracy"
   ],
   "id": "ba7d8c9e-e4f7-470b-8dee-8f5b69b8e1cb"
  },
  {
   "cell_type": "markdown",
   "metadata": {},
   "source": [
    "### Setting up metrics for accuracy, precision, recall and f1"
   ],
   "id": "81db261b-da2c-49b5-bca3-4ac9b113af85"
  },
  {
   "cell_type": "code",
   "execution_count": null,
   "metadata": {},
   "outputs": [],
   "source": [
    "def compute_metrics(pred):\n",
    "    labels = pred.label_ids\n",
    "    preds = pred.predictions.argmax(-1)\n",
    "    accuracy = accuracy_score(labels, preds)\n",
    "    precision, recall, f1, _ = precision_recall_fscore_support(labels, preds, average='weighted')\n",
    "\n",
    "    return {\n",
    "        'accuracy': accuracy,\n",
    "        'precision': precision,\n",
    "        'recall': recall,\n",
    "        'f1': f1\n",
    "    }"
   ],
   "id": "3430667f-bbfd-4d76-857a-dfcb1496f000"
  },
  {
   "cell_type": "markdown",
   "metadata": {},
   "source": [
    "### Training the model"
   ],
   "id": "a4dc728b-e4fa-40de-b1b4-453aee77cd47"
  },
  {
   "cell_type": "code",
   "execution_count": null,
   "metadata": {},
   "outputs": [],
   "source": [
    "import warnings\n",
    "warnings.filterwarnings(\"ignore\")"
   ],
   "id": "6a279886-51a2-442a-8eae-adb7f44654a4"
  },
  {
   "cell_type": "markdown",
   "metadata": {},
   "source": [
    "#### Training Full dataset Model"
   ],
   "id": "4eabb9da-edb6-493f-966d-b69cf07ec48b"
  },
  {
   "cell_type": "code",
   "execution_count": null,
   "metadata": {},
   "outputs": [],
   "source": [
    "for train_data in train_dataset_full:\n",
    "    best_accuracy = 0\n",
    "    best_lr = learning_rates[0]\n",
    "    for lr in learning_rates:\n",
    "        args = create_training_arguments(lr)\n",
    "        accuracy = train_model(train_data, args, val_dataset, test_dataset)\n",
    "        if accuracy>best_accuracy:\n",
    "          best_lr = lr\n",
    "          best_accuracy = max(accuracy, best_accuracy)\n",
    "print(f\"Best Accuracy:{best_accuracy}\\n Best Learning Rate: {best_lr}\")"
   ],
   "id": "1ef9ab15-fadc-40f1-ad14-ef7cc7b30ecc"
  },
  {
   "cell_type": "markdown",
   "metadata": {},
   "source": [
    "#### Training full few shot dataset model"
   ],
   "id": "11d699b0-da4d-43d2-80c8-816cffc801f2"
  },
  {
   "cell_type": "code",
   "execution_count": null,
   "metadata": {},
   "outputs": [],
   "source": [
    "for train_data in train_dataset:\n",
    "    best_accuracy = 0\n",
    "    best_lr = learning_rates[0]\n",
    "    for lr in learning_rates:\n",
    "        args, optimizer = create_training_arguments(lr)\n",
    "        accuracy = train_model(train_data, args, val_dataset, test_dataset)\n",
    "        if accuracy>best_accuracy:\n",
    "          best_lr = lr\n",
    "          best_accuracy = max(accuracy, best_accuracy)\n",
    "print(f\"Best Accuracy:{best_accuracy}\\n Best Learning Rate: {best_lr}\")"
   ],
   "id": "0d32831e-8a52-4d58-9122-38fdda831b0f"
  },
  {
   "cell_type": "markdown",
   "metadata": {},
   "source": [
    "#### Training Model on Full few shot + Augmented dataset"
   ],
   "id": "4dbf2f03-50f0-49fe-8f1f-017f96c1974c"
  },
  {
   "cell_type": "code",
   "execution_count": null,
   "metadata": {},
   "outputs": [],
   "source": [
    "for train_data in train_dataset_augmented:\n",
    "    best_accuracy = 0\n",
    "    best_lr = learning_rates[0]\n",
    "    for lr in learning_rates:\n",
    "        args = create_training_arguments(lr)\n",
    "        accuracy = train_model(train_data, args, val_dataset, test_dataset)\n",
    "        if accuracy>best_accuracy:\n",
    "          best_lr = lr\n",
    "          best_accuracy = max(accuracy, best_accuracy)\n",
    "print(f\"Best Accuracy:{best_accuracy}\\n Best Learning Rate: {best_lr}\")"
   ],
   "id": "ad0a39e4-4eee-418b-8f06-9d2fbced0a54"
  }
 ],
 "nbformat": 4,
 "nbformat_minor": 5,
 "metadata": {}
}
