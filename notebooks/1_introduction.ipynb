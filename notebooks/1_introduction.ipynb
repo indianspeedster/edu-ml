{
 "cells": [
  {
   "cell_type": "markdown",
   "metadata": {},
   "source": [
    "# Re: Impact of Data Augmentation on Full few shot learning for intent classification.\n",
    "\n",
    "------------------------------------------------------------------------"
   ],
   "id": "b1a0394f-1e84-4b55-9657-cb7d28f7129f"
  },
  {
   "cell_type": "markdown",
   "metadata": {},
   "source": [
    "## Introduction\n",
    "\n",
    "The research paper **Impact of Data Augmentation on Full few shot learning for intent classification** centers around evaluating the effects of employing a particular data augmentation strategy on intent classification using full few-shot learning. The author focuses on three different machine learning models trained under three different scenarios. 1) Full data 2) Full few shot data (10 samples of each intent) 3) Full few shot data + Augmented data (20 samples of each intent). Before moving ahead let’s understand some of the terminologies which will be often used"
   ],
   "id": "7cfe9569-8497-41cf-bf9b-aacb9162d5d6"
  },
  {
   "cell_type": "markdown",
   "metadata": {},
   "source": [
    "### Intent classification\n",
    "\n",
    "Intent classification is like teaching a computer to understand what someone wants. Imagine you’re chatting with a virtual assistant, and you say, “Set an alarm for 7 AM.” Intent classification helps the computer figure out that your intention is to set an alarm. It’s about training the computer to recognize different purposes or intentions behind what people say. This skill is essential for making chatbots and voice assistants work better. By learning from lots of examples, the computer becomes good at identifying different intentions, making conversations with machines more helpful and natural."
   ],
   "id": "5f71f65c-fbeb-45ca-a0ca-c8a87b6a2e6a"
  },
  {
   "cell_type": "markdown",
   "metadata": {},
   "source": [
    "### Full few shot learning\n",
    "\n",
    "Full few-shot learning improves models’ abilities with less data. Unlike standard few-shot learning that uses a few examples per task, full few-shot learning gets more examples for each task. This helps models understand tasks better and work well with limited data. It’s like learning from a complete picture instead of just a small part. This approach makes models smarter across different tasks, from recognizing pictures to understanding language. By learning from a broader perspective, full few-shot learning solves the problem of having not much data and helps AI do a great job even with a small amount of information."
   ],
   "id": "600ca21a-d588-4569-b9c1-188390a96472"
  },
  {
   "cell_type": "markdown",
   "metadata": {},
   "source": [
    "## Claims of the paper:\n",
    "\n",
    "The above paper claims that “There is a minor improvement while training full few-shot learning models with data augmentation.” Further we will try to reproduce the paper and see if the claim is valid or not ?"
   ],
   "id": "693a1c82-522a-481c-8115-c7e4565b8ac6"
  },
  {
   "cell_type": "markdown",
   "metadata": {},
   "source": [
    "## Requirements\n",
    "\n",
    "Below are some of the libraries that are mandatory to install.\n",
    "\n",
    "-   [transformers](https://pypi.org/project/transformers/)\n",
    "\n",
    "-   [datasets](https://pypi.org/project/datasets/)\n",
    "\n",
    "-   [accelerate](https://pypi.org/project/accelerate/)\n",
    "\n",
    "-   [nltk](https://pypi.org/project/nltk/)\n",
    "\n",
    "------------------------------------------------------------------------"
   ],
   "id": "7c8acae7-56aa-472e-92c9-a92aea2d9000"
  },
  {
   "cell_type": "code",
   "execution_count": null,
   "metadata": {},
   "outputs": [],
   "source": [
    "!pip install transformers\n",
    "!pip install datasets\n",
    "!pip install accelerate -U\n",
    "!pip install nltk"
   ],
   "id": "4855c51e-7e4b-46dc-bae6-2b1f682200ba"
  },
  {
   "cell_type": "markdown",
   "metadata": {},
   "source": [
    "### Datasets\n",
    "\n",
    "As mentioned by the author that they used [HWU64](https://github.com/xliuhw/NLU-Evaluation-Data/) dataset and the sourcw of the data is [this](https://github.com/xliuhw/NLU-Evaluation-Data/) official Github repository and it contains natural language data for human-robot interaction in home domain which was collected and annotated for evaluating NLU Services/platforms.\n",
    "\n",
    "The above github link contains\n",
    "\n",
    "-   [Collected-Original-Data](https://github.com/xliuhw/NLU-Evaluation-Data/tree/master/Collected-Original-Data)\n",
    "\n",
    "-   [CrossValidation-Data](https://github.com/xliuhw/NLU-Evaluation-Data/tree/master/CrossValidation/autoGeneFromRealAnno/autoGene_2018_03_22-13_01_25_169/CrossValidation)\n",
    "\n",
    "In the paper it’s given that the author used a given number of training and test data but you are not sure that from which of the above data they obtained that number.\n",
    "\n",
    "Below we have 2 notebooks that have code to load data from any of all two datafolder and you can give a try to both and see through which data we are able to get equivalent results to what the author mentioned.\n",
    "\n",
    "-   [Notebook(Collected-Original-Data)](/)\n",
    "\n",
    "-   [Notebook(CrossValidation-Data)](/)"
   ],
   "id": "c8d6a853-7f37-41aa-a6d5-f68f0a38e167"
  }
 ],
 "nbformat": 4,
 "nbformat_minor": 5,
 "metadata": {}
}
