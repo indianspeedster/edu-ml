{
 "cells": [
  {
   "cell_type": "markdown",
   "metadata": {},
   "source": [
    "## Reproducing the paper “Full few shot learning for intent classification.”"
   ],
   "id": "4f8d0fdd-b9fe-4ab6-9f22-112c6af2fff8"
  },
  {
   "cell_type": "markdown",
   "metadata": {},
   "source": [
    "### Few shot learning"
   ],
   "id": "32724f06-18a3-4e30-aed2-3656cc30270b"
  },
  {
   "cell_type": "markdown",
   "metadata": {},
   "source": [
    "### Full few shot learning"
   ],
   "id": "f7bc5ade-073b-4b60-ab25-3cf0a3208c93"
  },
  {
   "cell_type": "markdown",
   "metadata": {},
   "source": [
    "### Intent classification"
   ],
   "id": "0c7a975b-236f-4cb4-856d-571e6b7721ae"
  },
  {
   "cell_type": "markdown",
   "metadata": {},
   "source": [
    "### BERT (Bidirectional Encoder Representation for Transformers)"
   ],
   "id": "5189da35-7459-4e67-9566-d24751563df9"
  },
  {
   "cell_type": "markdown",
   "metadata": {},
   "source": [
    "### Requirements\n",
    "\n",
    "Below are some of the libraries that are mandatory to install.\n",
    "\n",
    "-   [transformers](https://pypi.org/project/transformers/)\n",
    "\n",
    "-   [datasets](https://pypi.org/project/datasets/)\n",
    "\n",
    "-   [accelerate](https://pypi.org/project/accelerate/)\n",
    "\n",
    "-   [nltk](https://pypi.org/project/nltk/)"
   ],
   "id": "ff83803e-1c97-4d3b-8a34-a4182388f84f"
  },
  {
   "cell_type": "code",
   "execution_count": null,
   "metadata": {},
   "outputs": [],
   "source": [
    "!pip install transformers\n",
    "!pip install datasets\n",
    "!pip install accelerate -U\n",
    "!pip install nltk"
   ],
   "id": "e106fc54-a148-47d4-afc2-e4d2eb08bb06"
  },
  {
   "cell_type": "markdown",
   "metadata": {},
   "source": [
    "### Datasets\n",
    "\n",
    "[HWU64](https://github.com/xliuhw/NLU-Evaluation-Data/) dataset is used by the paper we are going to reproduce and it contains natural language data for human-robot interaction in home domain which was collected and annotated for evaluating NLU Services/platforms.\n",
    "\n",
    "The above github link contains\n",
    "\n",
    "-   [Collected-Original-Data](https://github.com/xliuhw/NLU-Evaluation-Data/tree/master/Collected-Original-Data)\n",
    "\n",
    "-   [CrossValidation-Data](https://github.com/xliuhw/NLU-Evaluation-Data/tree/master/CrossValidation/autoGeneFromRealAnno/autoGene_2018_03_22-13_01_25_169/CrossValidation)\n",
    "\n",
    "In the paper it’s given that the author used a given number of training and test data but you are not sure that from which of the above data they obtained that number.\n",
    "\n",
    "Below we have 2 notebooks that have code to load data from any of all three datafolder and you can give a try to both and see through which data we are able to get equivalent results to what the author mentioned.\n",
    "\n",
    "-   [Notebook(Collected-Original-Data)](/)\n",
    "\n",
    "-   [Notebook(CrossValidation-Data)](/)"
   ],
   "id": "2a9dfde3-bd8e-44f2-8e6d-41a10fd3446f"
  }
 ],
 "nbformat": 4,
 "nbformat_minor": 5,
 "metadata": {}
}
