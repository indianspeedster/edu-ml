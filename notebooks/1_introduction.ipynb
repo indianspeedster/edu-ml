{
 "cells": [
  {
   "cell_type": "markdown",
   "metadata": {},
   "source": [
    "## Reproducing the paper “Full few shot learning for intent classification.”"
   ],
   "id": "0ab1240f-812a-42f2-b7aa-7ee04c2010e0"
  },
  {
   "cell_type": "markdown",
   "metadata": {},
   "source": [
    "### Few shot learning"
   ],
   "id": "50a1dd60-3534-4016-9359-5c45d8c4ef83"
  },
  {
   "cell_type": "markdown",
   "metadata": {},
   "source": [
    "### Full few shot learning"
   ],
   "id": "e04a5513-7247-42b5-8a6f-9580dbc62b99"
  },
  {
   "cell_type": "markdown",
   "metadata": {},
   "source": [
    "### Intent classification"
   ],
   "id": "5595e497-accf-4d7b-a647-1af8dbb826d1"
  },
  {
   "cell_type": "markdown",
   "metadata": {},
   "source": [
    "### BERT (Bidirectional Encoder Representation for Transformers)"
   ],
   "id": "62f85930-4077-4f4b-a940-0585738debf5"
  },
  {
   "cell_type": "markdown",
   "metadata": {},
   "source": [
    "### Requirements\n",
    "\n",
    "Below are some of the libraries that are mandatory to install.\n",
    "\n",
    "-   [transformers](https://pypi.org/project/transformers/)\n",
    "\n",
    "-   [datasets](https://pypi.org/project/datasets/)\n",
    "\n",
    "-   [accelerate](https://pypi.org/project/accelerate/)\n",
    "\n",
    "-   [nltk](https://pypi.org/project/nltk/)"
   ],
   "id": "2bf7b403-358f-43dd-b13d-4efe80d6697b"
  },
  {
   "cell_type": "code",
   "execution_count": null,
   "metadata": {},
   "outputs": [],
   "source": [
    "!pip install transformers\n",
    "!pip install datasets\n",
    "!pip install accelerate -U\n",
    "!pip install nltk"
   ],
   "id": "6bc3408e-c35e-44cf-a31f-a5b700f999de"
  },
  {
   "cell_type": "markdown",
   "metadata": {},
   "source": [
    "### Datasets\n",
    "\n",
    "[HWU64](https://github.com/xliuhw/NLU-Evaluation-Data/) dataset is used by the paper we are going to reproduce and it contains natural language data for human-robot interaction in home domain which was collected and annotated for evaluating NLU Services/platforms.\n",
    "\n",
    "The above github link contains\n",
    "\n",
    "-   [Collected-Original-Data](https://github.com/xliuhw/NLU-Evaluation-Data/tree/master/Collected-Original-Data)\n",
    "\n",
    "-   [CrossValidation-Data](https://github.com/xliuhw/NLU-Evaluation-Data/tree/master/CrossValidation/autoGeneFromRealAnno/autoGene_2018_03_22-13_01_25_169/CrossValidation)\n",
    "\n",
    "In the paper it’s given that the author used a given number of training and test data but you are not sure that from which of the above data they obtained that number.\n",
    "\n",
    "Below we have 2 notebooks that have code to load data from any of all three datafolder and you can give a try to both and see through which data we are able to get equivalent results to what the author mentioned.\n",
    "\n",
    "-   [Notebook(Collected-Original-Data)](/)\n",
    "\n",
    "-   [Notebook(CrossValidation-Data)](/)"
   ],
   "id": "f2310ac9-f8b2-4f6f-b847-576466e72ddc"
  }
 ],
 "nbformat": 4,
 "nbformat_minor": 5,
 "metadata": {}
}
