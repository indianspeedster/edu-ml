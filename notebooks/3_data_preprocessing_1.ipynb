{
 "cells": [
  {
   "cell_type": "markdown",
   "metadata": {},
   "source": [
    "# Data Augmentation, Preprocessing and Tokenization\n",
    "\n",
    "If you are on this notebook then you have made a choice in the previous section to go ahead with floor value while calculating n.\n",
    "\n",
    "Let’s understand this data augmentation strategy in depth with an example,\n",
    "\n",
    "since alpha is a constant , we will fix alpha as 0.75\n",
    "\n",
    "example 1: “what do you know about Fringe in Edinburgh next year?”\n",
    "\n",
    "step1 : count the length of total words without stopwords. So we have l = 7\n",
    "\n",
    "step2 : calculate n using n = alpha \\* l, substituting the value of n and alpha we have n = 0.75\\*7, n = 5.25.\n",
    "\n",
    "step3 : Since we choosed to go with the floor value for n, we will take n = 5.\n",
    "\n",
    "step4 : we will pick 5 random words and then subsitute them with their synonyms.\n",
    "\n",
    "Now, what difference would it make if we pick the ceil value instead of the floor ?\n",
    "\n",
    "So, when we see our data, the speech text is short where the number of words lies in the range (4, 16) so one word can make a difference in the model, It is important note that ceil value or floor value while calculating “n” may create an impact in the final results.\n",
    "\n",
    "Let’s implement the augmentation strategy with floor value of “n” while calculating n = alpha\\*l"
   ],
   "id": "84442e64-3945-457a-a560-298292e6bd44"
  },
  {
   "cell_type": "markdown",
   "metadata": {},
   "source": [
    "### Importing relevent libraries"
   ],
   "id": "134c34f2-0b97-449f-a2dd-67885fd8b13f"
  },
  {
   "cell_type": "code",
   "execution_count": null,
   "metadata": {},
   "outputs": [],
   "source": [
    "import pandas as pd\n",
    "import nltk\n",
    "nltk.download('stopwords')\n",
    "nltk.download('wordnet')\n",
    "from nltk.corpus import stopwords\n",
    "from nltk.corpus import wordnet\n",
    "import random\n",
    "from sklearn.model_selection import train_test_split\n",
    "from sklearn.preprocessing import LabelEncoder\n",
    "import pickle\n",
    "from transformers import AutoTokenizer\n",
    "import datasets\n",
    "from tqdm import tqdm\n",
    "seed=123"
   ],
   "id": "aa3635f1-6f26-4a8b-9e50-1516702348ee"
  },
  {
   "cell_type": "markdown",
   "metadata": {},
   "source": [
    "#### Data Augmentation function"
   ],
   "id": "8c89c67f-09a3-468b-9e02-f7a8d98f5bdc"
  },
  {
   "cell_type": "code",
   "execution_count": null,
   "metadata": {},
   "outputs": [],
   "source": [
    "def augmentation(sentence, alpha=0.75 ):\n",
    "  sentence = sentence.split(\" \")\n",
    "  word_index = [i for i in range(len(sentence)) if sentence[i].lower() not in stop_words]\n",
    "  n = int(alpha*len(word_index))\n",
    "  n_random = random.sample(word_index, n)\n",
    "  for num in n_random:\n",
    "    word = sentence[num]\n",
    "    synonyms = []\n",
    "    for synset in wordnet.synsets(word):\n",
    "      for synonym in synset.lemmas():\n",
    "        synonyms.append(synonym.name())\n",
    "    if len(synonyms)>=2:\n",
    "      sentence[num] = synonyms[1]\n",
    "    else:\n",
    "      pass\n",
    "  return \" \".join(sentence)"
   ],
   "id": "6846e12f-1b8b-4fd6-80a8-77c0829b75fa"
  },
  {
   "cell_type": "markdown",
   "metadata": {},
   "source": [
    "Now, we are done with our data augmentation function, next we will work on data preprocessing, applying data augmentation strategy and tokenizing the data which will make our data ready to be trained.\n",
    "\n",
    "------------------------------------------------------------------------"
   ],
   "id": "9a230286-8b11-450f-a846-cd17b5941cdb"
  },
  {
   "cell_type": "markdown",
   "metadata": {},
   "source": [
    "From the last Notebook we obtained train.csv and test.csv file, these files contains raw data and the data preprocessing step will act as a bridge between raw data and the final result which we are focused to achieve. Data preprocessing can have a major impact on the final results so it’s crucial to thoroughly understand what the authors did and how you could follow the same strategy.\n",
    "\n",
    "From our understanding of the paper, The author did these three major steps:\n",
    "\n",
    "-   Encoding the labels: A machine learning model always needs a number as input instead of raw text data, so label encoding is a crucial step here.\n",
    "\n",
    "-   Sampling for full few shot Learning : The full few shot setup requires 10 samples for each label, so the author randomly took 10 samples from the dataset. it’s important to make sure that you are picking unique samples. Since the author is experimenting on a 3 fold data so we will pick 30 samples and make 3 fold dataset with 10 samples each.\n",
    "\n",
    "-   Data Augmentation : The next step which author followed was implementing the data augmentation strategy and then apply the same of the previously selected 10 samples for each intent. Again the augmentation will be applied on 3 fold dataset.\n",
    "\n",
    "-   Tokenization : The last step in this notebook will be to tokenize the data, since machine learning model only understands numerical form of data, so it’s necessary to make the data in the form of tokens and this process is known as tokenization.\n",
    "\n",
    "Once we are done with the above 4 steps we will store the data and make it available for use in the next part of Reproducibility.\n",
    "\n",
    "------------------------------------------------------------------------"
   ],
   "id": "09f37e32-8ad7-40d8-a937-1c7846533d3e"
  },
  {
   "cell_type": "markdown",
   "metadata": {},
   "source": [
    "### Loading the train and test data"
   ],
   "id": "7a77bafd-0c26-4122-a65b-60f52a1ea7a3"
  },
  {
   "cell_type": "code",
   "execution_count": null,
   "metadata": {},
   "outputs": [],
   "source": [
    "train_data = pd.read_csv(\"train.csv\")\n",
    "test_data = pd.read_csv(\"test.csv\")"
   ],
   "id": "298c8f83-cc35-4c41-85e9-d4764860810f"
  },
  {
   "cell_type": "markdown",
   "metadata": {},
   "source": [
    "### Encode the labels"
   ],
   "id": "96407512-9eba-4c91-8d3f-eee0dc3acf8e"
  },
  {
   "cell_type": "code",
   "execution_count": null,
   "metadata": {},
   "outputs": [],
   "source": [
    "le=LabelEncoder()\n",
    "train_data['intent']=le.fit_transform(train_data['intent'])\n",
    "test_data['intent']=le.transform(test_data['intent'])\n",
    "train_data = train_data.drop(\"Unnamed: 0\", axis=1)"
   ],
   "id": "863dadd9-e339-4275-b5e7-150fd9790505"
  },
  {
   "cell_type": "markdown",
   "metadata": {},
   "source": [
    "### Split the training data to train and validation\n",
    "\n",
    "we are again spliting the data into train and validation as when we train our model the best model while training will be selected on the basis of the validation data accuracy. ie(The model will be considered as the best model on a specific epoch when that epoch has the highest validation accuraccy.)"
   ],
   "id": "c3cecea3-4e4f-4c41-8ae1-7928beb45674"
  },
  {
   "cell_type": "code",
   "execution_count": null,
   "metadata": {},
   "outputs": [],
   "source": [
    "df_train,val_data=train_test_split(train_data,test_size=0.10 ,random_state=seed, shuffle=True)"
   ],
   "id": "2fd702f3-7e7a-4144-9ce9-3766b0d22fd0"
  },
  {
   "cell_type": "markdown",
   "metadata": {},
   "source": [
    "### Get random 30 samples from training data"
   ],
   "id": "142da3d2-57d8-4835-b0e3-a1db09b951d0"
  },
  {
   "cell_type": "code",
   "execution_count": null,
   "metadata": {},
   "outputs": [],
   "source": [
    "# Getting the unique intent\n",
    "unique_labels = df_train['intent'].unique()\n",
    "# Creating an empty dataframe to store all the values\n",
    "sampled_df = pd.DataFrame()\n",
    "#Iterating through each label and take random 30 samples from it\n",
    "for label in unique_labels:\n",
    "    label_df = df_train[df_train['intent'] == label]\n",
    "    samples = label_df.sample(n=30, random_state=seed)\n",
    "    sampled_df = sampled_df.append(samples)\n",
    "sampled_df.reset_index(drop=True, inplace=True)"
   ],
   "id": "826632b7-3796-4411-b3e4-5214ef4a010a"
  },
  {
   "cell_type": "markdown",
   "metadata": {},
   "source": [
    "### create 3 unique 10-shot dataset from previous sampled data"
   ],
   "id": "878c68e1-cb82-43ec-a3dd-ccbbc06eee40"
  },
  {
   "cell_type": "code",
   "execution_count": null,
   "metadata": {},
   "outputs": [],
   "source": [
    "df = sampled_df\n",
    "# Create a column sample and mark it all as False and when you pick a sample mark them as True. This will make sure that you are not repeating the same sample again.\n",
    "df['sampled'] = False\n",
    "\n",
    "#creating a list to store the 10 shot dataset\n",
    "training_datasets = []\n",
    "\n",
    "for i in range(3):\n",
    "    dataset = pd.DataFrame()\n",
    "    for label in df['intent'].unique():\n",
    "        label_df = df[(df['intent'] == label) & (df['sampled'] == False)]\n",
    "        if len(label_df) >= 10:\n",
    "            samples = label_df.sample(n=10)\n",
    "            df.loc[samples.index, 'sampled'] = True\n",
    "            dataset = pd.concat([dataset, samples])\n",
    "        else:\n",
    "            samples = label_df\n",
    "            df.loc[samples.index, 'sampled'] = True\n",
    "            dataset = pd.concat([dataset, samples])\n",
    "    dataset = dataset.drop(\"sampled\",axis=1)\n",
    "    dataset = dataset.reset_index(drop=True)\n",
    "    training_datasets.append(dataset)\n",
    "\n",
    "# The output of this cell will create a list training_datasets which contains 3 10-shot dataset"
   ],
   "id": "9dd4e074-7bcd-40e5-b108-dd6dc6c33d87"
  },
  {
   "cell_type": "code",
   "execution_count": null,
   "metadata": {},
   "outputs": [],
   "source": [
    "train_data_full = train_data"
   ],
   "id": "210f1451-ed9c-4a45-b023-dbcd64f79f4b"
  },
  {
   "cell_type": "markdown",
   "metadata": {},
   "source": [
    "## Augmentating data"
   ],
   "id": "8d7b363e-ee48-4feb-b604-9914e99431d4"
  },
  {
   "cell_type": "code",
   "execution_count": null,
   "metadata": {},
   "outputs": [],
   "source": [
    "#loading stop words\n",
    "stop_words = set(stopwords.words('english'))"
   ],
   "id": "dabde933-106a-4110-b8f1-a711ef0d5a56"
  },
  {
   "cell_type": "markdown",
   "metadata": {},
   "source": [
    "### Apply data augmentation on each of the three training datasets"
   ],
   "id": "421ecd7d-2465-4f64-a538-e10cecbcb3a1"
  },
  {
   "cell_type": "code",
   "execution_count": null,
   "metadata": {},
   "outputs": [],
   "source": [
    "augmented_datasets = []\n",
    "for train_data in training_datasets:\n",
    "  augmented_data = train_data.copy()\n",
    "  augmented_data[\"speech_text\"] = augmented_data[\"speech_text\"].apply(augmentation, alpha=0.6)\n",
    "  augmented_data = pd.concat([train_data, augmented_data])\n",
    "  augmented_datasets.append(augmented_data)"
   ],
   "id": "a1ee2239-8fb7-4f1d-8f9e-c0d548bf4153"
  },
  {
   "cell_type": "markdown",
   "metadata": {},
   "source": [
    "## Tokenization\n",
    "\n",
    "Tokenization is a fundamental process in natural language processing that plays an important role in results that any of the language model produces. All the major language models have their specific tokenizer. Since the author of the paper used Bert Large Uncased so for our reproducibility process by default we have only one choice of tokenizer. Below are some of the specific task that Bert Large tokenizer will perform:\n",
    "\n",
    "-   Text Segmentation\n",
    "\n",
    "-   Vocabulary Mapping\n",
    "\n",
    "-   Subword Tokenization\n",
    "\n",
    "-   Special Tokens\n",
    "\n",
    "In the next section of this notebook we will be implementing the tokenization step.\n",
    "\n",
    ":::"
   ],
   "id": "114e6332-8a4e-4e41-8853-3de7b72e174b"
  },
  {
   "cell_type": "markdown",
   "metadata": {},
   "source": [
    "### Setting up tokenizer"
   ],
   "id": "db155d95-30a1-42cc-882e-8557add082b1"
  },
  {
   "cell_type": "code",
   "execution_count": null,
   "metadata": {},
   "outputs": [],
   "source": [
    "pre_trained_BERTmodel='bert-large-uncased'\n",
    "BERT_tokenizer=AutoTokenizer.from_pretrained(pre_trained_BERTmodel)"
   ],
   "id": "fa80838f-6807-4c2e-83f6-1f59ff3b7916"
  },
  {
   "cell_type": "markdown",
   "metadata": {},
   "source": [
    "We have below mentioned 5 dataset to tokenize\n",
    "\n",
    "-   **training_datasets** : This contains a list which has 3 full few shot data of 10 samples each.\n",
    "\n",
    "-   **val_data** : This contains data in the form of a pandas dataframe which will be used as validation data while training the model.\n",
    "\n",
    "-   **test_data** : This contains data in the form of a pandas dataframe whille be used as test data for the model.\n",
    "\n",
    "-   **augmented_datasets** : This contains a list of 3 pandas datafram where each dataframe has 20 samples which contains 10 original and 10 augmented version of the original data.\n",
    "\n",
    "-   **train_data_full** : This contains a pandas data frame with entire training data."
   ],
   "id": "f193a659-077b-4807-b580-03d9db498465"
  },
  {
   "cell_type": "markdown",
   "metadata": {},
   "source": [
    "### Function to tokenize the data"
   ],
   "id": "3d1abce2-c466-4e27-99f1-ab580c4a9242"
  },
  {
   "cell_type": "code",
   "execution_count": null,
   "metadata": {},
   "outputs": [],
   "source": [
    "def tokenize_data(example):\n",
    "    encoded_input = BERT_tokenizer(example[\"speech_text\"], padding=\"max_length\", truncation=True)\n",
    "    return {\"input_ids\": encoded_input[\"input_ids\"], \"attention_mask\": encoded_input[\"attention_mask\"], \"labels\": example[\"intent\"]}"
   ],
   "id": "369cb76c-0edd-48c6-9fb6-71f59feb88cf"
  },
  {
   "cell_type": "markdown",
   "metadata": {},
   "source": [
    "#### Tokenizing non augmented training data"
   ],
   "id": "e9ba55b2-4553-419d-9b4e-75fde70cc0b9"
  },
  {
   "cell_type": "code",
   "execution_count": null,
   "metadata": {},
   "outputs": [],
   "source": [
    "train_dataset=[]\n",
    "for train_data_ in training_datasets:\n",
    "  traindataset = datasets.Dataset.from_pandas(train_data_)\n",
    "  train_dataset.append(traindataset.map(tokenize_data))"
   ],
   "id": "359ec510-fa29-4736-bc22-0e0d998900e9"
  },
  {
   "cell_type": "markdown",
   "metadata": {},
   "source": [
    "#### Tokenizing augmented training data"
   ],
   "id": "fd168035-ea00-44d1-94b8-7148e2595347"
  },
  {
   "cell_type": "code",
   "execution_count": null,
   "metadata": {},
   "outputs": [],
   "source": [
    "augmented_train_dataset=[]\n",
    "for train_data_ in augmented_datasets:\n",
    "  traindataset = datasets.Dataset.from_pandas(train_data_)\n",
    "  augmented_train_dataset.append(traindataset.map(tokenize_data))"
   ],
   "id": "3794016b-1cc5-4d21-b1e8-fb22c0f9a00f"
  },
  {
   "cell_type": "markdown",
   "metadata": {},
   "source": [
    "#### Tokenizing validation data"
   ],
   "id": "997832a0-997a-47cb-9dd1-0d3bc941e1ba"
  },
  {
   "cell_type": "code",
   "execution_count": null,
   "metadata": {},
   "outputs": [],
   "source": [
    "val_data = datasets.Dataset.from_pandas(val_data)\n",
    "val_data = val_data.map(tokenize_data)"
   ],
   "id": "7c75082c-44ae-4b4e-9978-0b6b6ef4d30e"
  },
  {
   "cell_type": "markdown",
   "metadata": {},
   "source": [
    "#### Tokenizing test data"
   ],
   "id": "e8acfd6f-8eff-4268-8967-b989448dcdc1"
  },
  {
   "cell_type": "code",
   "execution_count": null,
   "metadata": {},
   "outputs": [],
   "source": [
    "testdataset = datasets.Dataset.from_pandas(test_data)\n",
    "test_dataset = testdataset.map(tokenize_data)"
   ],
   "id": "338115ac-aefa-44bb-a4be-4f14cec69323"
  },
  {
   "cell_type": "markdown",
   "metadata": {},
   "source": [
    "#### Tokenize full train dataset"
   ],
   "id": "ab7f4c24-73d0-414d-8e2b-29ab45aa8d5b"
  },
  {
   "cell_type": "code",
   "execution_count": null,
   "metadata": {},
   "outputs": [],
   "source": [
    "train_data_full = datasets.Dataset.from_pandas(train_data_full)\n",
    "train_data_full = train_data_full.map(tokenize_data)"
   ],
   "id": "80ab0bfd-47b3-460b-8513-bf768c552828"
  },
  {
   "cell_type": "markdown",
   "metadata": {},
   "source": [
    "### Store tokenized data"
   ],
   "id": "4cee8c71-23a3-4eef-9c38-c2b52f1ff029"
  },
  {
   "cell_type": "code",
   "execution_count": null,
   "metadata": {},
   "outputs": [],
   "source": [
    "with open('train_dataset_tokenized.pkl', 'wb') as file:\n",
    "    pickle.dump(train_dataset, file)\n",
    "with open('val_data_tokenized.pkl', 'wb') as file:\n",
    "    pickle.dump(val_data, file)\n",
    "with open('test_data_tokenized.pkl', 'wb') as file:\n",
    "    pickle.dump(test_dataset, file)\n",
    "with open('augmented_train_dataset_tokenized.pkl', 'wb') as file:\n",
    "    pickle.dump(augmented_train_dataset, file)\n",
    "with open('train_dataset_full_tokenized.pkl', 'wb') as file:\n",
    "    pickle.dump(list(train_data_full), file)"
   ],
   "id": "694171be-4e31-43f6-93ee-385f06594933"
  },
  {
   "cell_type": "markdown",
   "metadata": {},
   "source": [
    "## Output of this Notebook\n",
    "\n",
    "This notebook will generate 4 files as mentioned below :\n",
    "\n",
    "-   training_datasets.pkl\n",
    "\n",
    "-   val_data.pkl\n",
    "\n",
    "-   test_data.pkl\n",
    "\n",
    "-   augmented_datasets.pkl"
   ],
   "id": "060fc07d-8a7f-4224-bdca-8822f341e1b0"
  },
  {
   "cell_type": "markdown",
   "metadata": {},
   "source": [
    "During our data preprocessing steps we made sure the three things cleaning, transforming, and organizing data before it’s fed into a model. It’s important to follow the exact same preprocessing pipeline to ensure that the data is consistent and prepared in the same way as in the original study. If we have made a wrong assumption then it would lead to a different outcome and inaccurate results.\n",
    "\n",
    "------------------------------------------------------------------------"
   ],
   "id": "dfcac8d6-c3e0-48de-9cbb-7f59aa5bee39"
  },
  {
   "cell_type": "markdown",
   "metadata": {},
   "source": [
    "## Next steps\n",
    "\n",
    "Now we are done with data preprocessing, data augmentation and tokenization. Now our data is ready to be fed to the model for training. But befor that we need to set up the training parameters and hyper parameters for our model.\n",
    "\n",
    "When we see the paper, the paper talked about the hyperparameters such as epochs and batch size but for rest they said they used standard hyperparameters for Bert Large models. But when we researched we found that there is no specific optimizer for BERT large models, it depends upon task. so for our Classification task we were left with many choices but when it comes to picking two standard optimizer for this task we are left with two below mentioned options:\n",
    "\n",
    "-   [SGD (Stochastic Gradient Descent)](/): It is an optimization algorithm used to train machine learning models by iteratively adjusting model parameters using randomly selected mini-batches of data, with the goal of minimizing the loss function.\n",
    "\n",
    "-   [Adamw](/) : AdamW optimization is a stochastic gradient descent method that is based on adaptive estimation of first-order and second-order moments with an added method to decay weights per the techniques discussed in the paper, ‘Decoupled Weight Decay Regularization’ by Loshchilov, Hutter et al., 2019.\n",
    "\n",
    "Considering the above mentioned 2 choices we have created two notebooks, The first notebook uses AdamW and the second notebook uses SGD. You can pick your own choice and see what are the results :\n",
    "\n",
    "-   [Notebook(Tokenization + Adamw as optimizer)](/4_train_args_1.ipynb)\n",
    "\n",
    "-   [Notebook(Tokenization + SGD as optimizer)](/4_train_args_2.ipynb)\n",
    "\n",
    "------------------------------------------------------------------------"
   ],
   "id": "4e501141-d855-49d6-9079-911ce30ff9a4"
  }
 ],
 "nbformat": 4,
 "nbformat_minor": 5,
 "metadata": {}
}
