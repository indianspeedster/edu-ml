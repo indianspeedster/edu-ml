{
 "cells": [
  {
   "cell_type": "markdown",
   "metadata": {},
   "source": [
    "# Data Augmentation, Preprocessing and Tokenization\n",
    "\n",
    "If you are on this notebook then you have made a choice in the previous section to go ahead with floor value while calculating n.\n",
    "\n",
    "Let’s understand this data augmentation strategy in depth with an example,\n",
    "\n",
    "since alpha is a constant , we will fix alpha as 0.75\n",
    "\n",
    "example 1: “what do you know about Fringe in Edinburgh next year?”\n",
    "\n",
    "step1 : count the length of total words without stopwords. So we have l = 7\n",
    "\n",
    "step2 : calculate n using n = alpha \\* l, substituting the value of n and alpha we have n = 0.75\\*7, n = 5.25.\n",
    "\n",
    "step3 : Since we choosed to go with the floor value for n, we will take n = 5.\n",
    "\n",
    "step4 : we will pick 5 random words and then subsitute them with their synonyms.\n",
    "\n",
    "Now, what difference would it make if we pick the ceil value instead of the floor ?\n",
    "\n",
    "So, when we see our data, the speech text is short where the number of words lies in the range (4, 16) so one word can make a difference in the model, It is important note that ceil value or floor value while calculating “n” may create an impact in the final results.\n",
    "\n",
    "Let’s implement the augmentation strategy with floor value of “n” while calculating n = alpha\\*l"
   ],
   "id": "22bdb743-e97d-4f74-9aec-281780107350"
  },
  {
   "cell_type": "markdown",
   "metadata": {},
   "source": [
    "### Importing relevent libraries"
   ],
   "id": "f5b385fb-6670-44c9-b29e-6bc2ebe60c5b"
  },
  {
   "cell_type": "code",
   "execution_count": null,
   "metadata": {},
   "outputs": [],
   "source": [
    "import pandas as pd\n",
    "import nltk\n",
    "nltk.download('stopwords')\n",
    "nltk.download('wordnet')\n",
    "from nltk.corpus import stopwords\n",
    "from nltk.corpus import wordnet\n",
    "import random\n",
    "from sklearn.model_selection import train_test_split\n",
    "from sklearn.preprocessing import LabelEncoder\n",
    "import pickle\n",
    "from transformers import AutoTokenizer\n",
    "import datasets\n",
    "from tqdm import tqdm\n",
    "seed=123"
   ],
   "id": "2485b8f1-f5a9-4662-a7f2-c0671f1786bd"
  },
  {
   "cell_type": "markdown",
   "metadata": {},
   "source": [
    "#### Data Augmentation function"
   ],
   "id": "26a623db-0ca5-4e8f-b6c8-198304b7707c"
  },
  {
   "cell_type": "code",
   "execution_count": null,
   "metadata": {},
   "outputs": [],
   "source": [
    "def augmentation(sentence, alpha=0.75 ):\n",
    "  sentence = sentence.split(\" \")\n",
    "  word_index = [i for i in range(len(sentence)) if sentence[i].lower() not in stop_words]\n",
    "  n = int(alpha*len(word_index))\n",
    "  n_random = random.sample(word_index, n)\n",
    "  for num in n_random:\n",
    "    word = sentence[num]\n",
    "    synonyms = []\n",
    "    for synset in wordnet.synsets(word):\n",
    "      for synonym in synset.lemmas():\n",
    "        synonyms.append(synonym.name())\n",
    "    if len(synonyms)>=2:\n",
    "      sentence[num] = synonyms[1]\n",
    "    else:\n",
    "      pass\n",
    "  return \" \".join(sentence)"
   ],
   "id": "0b5cc9a7-1c1f-4513-8bba-8a96ca527772"
  },
  {
   "cell_type": "markdown",
   "metadata": {},
   "source": [
    "Now, we are done with our data augmentation function, next we will work on data preprocessing, applying data augmentation strategy and tokenizing the data which will make our data ready to be trained.\n",
    "\n",
    "------------------------------------------------------------------------"
   ],
   "id": "9eb0a135-0b6c-4ca7-ab4d-ea7b60617e1e"
  },
  {
   "cell_type": "markdown",
   "metadata": {},
   "source": [
    "From the last Notebook we obtained train.csv and test.csv file, these files contains raw data and the data preprocessing step will act as a bridge between raw data and the final result which we are focused to achieve. Data preprocessing can have a major impact on the final results so it’s crucial to thoroughly understand what the authors did and how you could follow the same strategy.\n",
    "\n",
    "From our understanding of the paper, The author did these three major steps:\n",
    "\n",
    "-   Encoding the labels: A machine learning model always needs a number as input instead of raw text data, so label encoding is a crucial step here.\n",
    "\n",
    "-   Sampling for full few shot Learning : The full few shot setup requires 10 samples for each label, so the author randomly took 10 samples from the dataset. it’s important to make sure that you are picking unique samples. Since the author is experimenting on a 3 fold data so we will pick 30 samples and make 3 fold dataset with 10 samples each.\n",
    "\n",
    "-   Data Augmentation : The next step which author followed was implementing the data augmentation strategy and then apply the same of the previously selected 10 samples for each intent. Again the augmentation will be applied on 3 fold dataset.\n",
    "\n",
    "-   Tokenization : The last step in this notebook will be to tokenize the data, since machine learning model only understands numerical form of data, so it’s necessary to make the data in the form of tokens and this process is known as tokenization.\n",
    "\n",
    "Once we are done with the above 4 steps we will store the data and make it available for use in the next part of Reproducibility.\n",
    "\n",
    "------------------------------------------------------------------------"
   ],
   "id": "5c718951-e73b-4723-a21f-ae6d5f380114"
  },
  {
   "cell_type": "markdown",
   "metadata": {},
   "source": [
    "### Loading the train and test data"
   ],
   "id": "cd43eefd-369d-477c-b374-c6da62d26711"
  },
  {
   "cell_type": "code",
   "execution_count": null,
   "metadata": {},
   "outputs": [],
   "source": [
    "train_data = pd.read_csv(\"train.csv\")\n",
    "test_data = pd.read_csv(\"test.csv\")"
   ],
   "id": "314bf6f6-0f64-4d71-b20f-57b172178514"
  },
  {
   "cell_type": "markdown",
   "metadata": {},
   "source": [
    "### Encode the labels"
   ],
   "id": "47b84738-c82a-4de9-ba2f-f85e4f44d603"
  },
  {
   "cell_type": "code",
   "execution_count": null,
   "metadata": {},
   "outputs": [],
   "source": [
    "le=LabelEncoder()\n",
    "train_data['intent']=le.fit_transform(train_data['intent'])\n",
    "test_data['intent']=le.transform(test_data['intent'])\n",
    "train_data = train_data.drop(\"Unnamed: 0\", axis=1)"
   ],
   "id": "6095a930-d157-4378-8bfe-516528a0c9c8"
  },
  {
   "cell_type": "markdown",
   "metadata": {},
   "source": [
    "### Split the training data to train and validation\n",
    "\n",
    "we are again spliting the data into train and validation as when we train our model the best model while training will be selected on the basis of the validation data accuracy. ie(The model will be considered as the best model on a specific epoch when that epoch has the highest validation accuraccy.)"
   ],
   "id": "ba7b8966-867b-4fb5-b69b-23efaac0bc47"
  },
  {
   "cell_type": "code",
   "execution_count": null,
   "metadata": {},
   "outputs": [],
   "source": [
    "df_train,val_data=train_test_split(train_data,test_size=0.10 ,random_state=seed, shuffle=True)"
   ],
   "id": "8b28522c-43b8-4f2a-9e3d-6c6cd00e6a2b"
  },
  {
   "cell_type": "markdown",
   "metadata": {},
   "source": [
    "### Get random 30 samples from training data"
   ],
   "id": "3ce96ec3-3320-4460-93ac-930191786c03"
  },
  {
   "cell_type": "code",
   "execution_count": null,
   "metadata": {},
   "outputs": [],
   "source": [
    "# Getting the unique intent\n",
    "unique_labels = df_train['intent'].unique()\n",
    "# Creating an empty dataframe to store all the values\n",
    "sampled_df = pd.DataFrame()\n",
    "#Iterating through each label and take random 30 samples from it\n",
    "for label in unique_labels:\n",
    "    label_df = df_train[df_train['intent'] == label]\n",
    "    samples = label_df.sample(n=30, random_state=seed)\n",
    "    sampled_df = sampled_df.append(samples)\n",
    "sampled_df.reset_index(drop=True, inplace=True)"
   ],
   "id": "60cba936-72d7-4544-ae25-dfb4f4a963cc"
  },
  {
   "cell_type": "markdown",
   "metadata": {},
   "source": [
    "### create 3 unique 10-shot dataset from previous sampled data"
   ],
   "id": "566a2ac9-9a86-4f6d-ac7b-2d7c95d4f15f"
  },
  {
   "cell_type": "code",
   "execution_count": null,
   "metadata": {},
   "outputs": [],
   "source": [
    "df = sampled_df\n",
    "# Create a column sample and mark it all as False and when you pick a sample mark them as True. This will make sure that you are not repeating the same sample again.\n",
    "df['sampled'] = False\n",
    "\n",
    "#creating a list to store the 10 shot dataset\n",
    "training_datasets = []\n",
    "\n",
    "for i in range(3):\n",
    "    dataset = pd.DataFrame()\n",
    "    for label in df['intent'].unique():\n",
    "        label_df = df[(df['intent'] == label) & (df['sampled'] == False)]\n",
    "        if len(label_df) >= 10:\n",
    "            samples = label_df.sample(n=10)\n",
    "            df.loc[samples.index, 'sampled'] = True\n",
    "            dataset = pd.concat([dataset, samples])\n",
    "        else:\n",
    "            samples = label_df\n",
    "            df.loc[samples.index, 'sampled'] = True\n",
    "            dataset = pd.concat([dataset, samples])\n",
    "    dataset = dataset.drop(\"sampled\",axis=1)\n",
    "    dataset = dataset.reset_index(drop=True)\n",
    "    training_datasets.append(dataset)\n",
    "\n",
    "# The output of this cell will create a list training_datasets which contains 3 10-shot dataset"
   ],
   "id": "05b892cd-3855-4fc5-b4d3-b1451599414b"
  },
  {
   "cell_type": "code",
   "execution_count": null,
   "metadata": {},
   "outputs": [],
   "source": [
    "train_data_full = train_data"
   ],
   "id": "e4215a12-762e-45cb-91f7-4fcf6fc52004"
  },
  {
   "cell_type": "markdown",
   "metadata": {},
   "source": [
    "## Augmentating data"
   ],
   "id": "80dbe228-9fec-4ee3-89dc-98fc3d5d0d12"
  },
  {
   "cell_type": "code",
   "execution_count": null,
   "metadata": {},
   "outputs": [],
   "source": [
    "#loading stop words\n",
    "stop_words = set(stopwords.words('english'))"
   ],
   "id": "e3acafb7-12fd-4b66-94ed-87ad7d4d69b3"
  },
  {
   "cell_type": "markdown",
   "metadata": {},
   "source": [
    "### Apply data augmentation on each of the three training datasets"
   ],
   "id": "c9d86f6a-2803-41d7-a940-5287b7efa629"
  },
  {
   "cell_type": "code",
   "execution_count": null,
   "metadata": {},
   "outputs": [],
   "source": [
    "augmented_datasets = []\n",
    "for train_data in training_datasets:\n",
    "  augmented_data = train_data.copy()\n",
    "  augmented_data[\"speech_text\"] = augmented_data[\"speech_text\"].apply(augmentation, alpha=0.6)\n",
    "  augmented_data = pd.concat([train_data, augmented_data])\n",
    "  augmented_datasets.append(augmented_data)"
   ],
   "id": "9f9b5da5-88ca-4a3f-a575-fa514092c936"
  },
  {
   "cell_type": "markdown",
   "metadata": {},
   "source": [
    "## Tokenization\n",
    "\n",
    "Tokenization is a fundamental process in natural language processing that plays an important role in results that any of the language model produces. All the major language models have their specific tokenizer. Since the author of the paper used Bert Large Uncased so for our reproducibility process by default we have only one choice of tokenizer. Below are some of the specific task that Bert Large tokenizer will perform:\n",
    "\n",
    "-   Text Segmentation\n",
    "\n",
    "-   Vocabulary Mapping\n",
    "\n",
    "-   Subword Tokenization\n",
    "\n",
    "-   Special Tokens\n",
    "\n",
    "In the next section of this notebook we will be implementing the tokenization step.\n",
    "\n",
    ":::"
   ],
   "id": "a2ae7d02-6cdb-4a09-b43a-b553ae226215"
  },
  {
   "cell_type": "markdown",
   "metadata": {},
   "source": [
    "### Setting up tokenizer"
   ],
   "id": "7063b821-c6c5-4326-bc22-3832b658e06a"
  },
  {
   "cell_type": "code",
   "execution_count": null,
   "metadata": {},
   "outputs": [],
   "source": [
    "pre_trained_BERTmodel='bert-large-uncased'\n",
    "BERT_tokenizer=AutoTokenizer.from_pretrained(pre_trained_BERTmodel)"
   ],
   "id": "a99944bc-3a0e-47ab-a55c-6c5e2de62661"
  },
  {
   "cell_type": "markdown",
   "metadata": {},
   "source": [
    "We have below mentioned 5 dataset to tokenize\n",
    "\n",
    "-   **training_datasets** : This contains a list which has 3 full few shot data of 10 samples each.\n",
    "\n",
    "-   **val_data** : This contains data in the form of a pandas dataframe which will be used as validation data while training the model.\n",
    "\n",
    "-   **test_data** : This contains data in the form of a pandas dataframe whille be used as test data for the model.\n",
    "\n",
    "-   **augmented_datasets** : This contains a list of 3 pandas datafram where each dataframe has 20 samples which contains 10 original and 10 augmented version of the original data.\n",
    "\n",
    "-   **train_data_full** : This contains a pandas data frame with entire training data."
   ],
   "id": "5f9eda58-1f18-48ea-9b35-d7200b6342b9"
  },
  {
   "cell_type": "markdown",
   "metadata": {},
   "source": [
    "### Function to tokenize the data"
   ],
   "id": "db29d560-9aba-485f-9747-fad566d9e740"
  },
  {
   "cell_type": "code",
   "execution_count": null,
   "metadata": {},
   "outputs": [],
   "source": [
    "def tokenize_data(example):\n",
    "    encoded_input = BERT_tokenizer(example[\"speech_text\"], padding=\"max_length\", truncation=True)\n",
    "    return {\"input_ids\": encoded_input[\"input_ids\"], \"attention_mask\": encoded_input[\"attention_mask\"], \"labels\": example[\"intent\"]}"
   ],
   "id": "d5777d33-510b-4123-852c-4615df4a826b"
  },
  {
   "cell_type": "markdown",
   "metadata": {},
   "source": [
    "#### Tokenizing non augmented training data"
   ],
   "id": "5cce6d24-2b9a-44b0-a3da-21e8bb67a23c"
  },
  {
   "cell_type": "code",
   "execution_count": null,
   "metadata": {},
   "outputs": [],
   "source": [
    "train_dataset=[]\n",
    "for train_data_ in training_datasets:\n",
    "  traindataset = datasets.Dataset.from_pandas(train_data_)\n",
    "  train_dataset.append(traindataset.map(tokenize_data))"
   ],
   "id": "34cdbefd-6d96-42a2-ba51-768a9151fcdd"
  },
  {
   "cell_type": "markdown",
   "metadata": {},
   "source": [
    "#### Tokenizing augmented training data"
   ],
   "id": "f2c80d04-d34c-4d2e-a8c3-301c395f3215"
  },
  {
   "cell_type": "code",
   "execution_count": null,
   "metadata": {},
   "outputs": [],
   "source": [
    "augmented_train_dataset=[]\n",
    "for train_data_ in augmented_datasets:\n",
    "  traindataset = datasets.Dataset.from_pandas(train_data_)\n",
    "  augmented_train_dataset.append(traindataset.map(tokenize_data))"
   ],
   "id": "a376b406-59b9-4d45-a754-2552396d426b"
  },
  {
   "cell_type": "markdown",
   "metadata": {},
   "source": [
    "#### Tokenizing validation data"
   ],
   "id": "422d81ca-746c-480e-89f8-b67d13049cc6"
  },
  {
   "cell_type": "code",
   "execution_count": null,
   "metadata": {},
   "outputs": [],
   "source": [
    "val_data = datasets.Dataset.from_pandas(val_data)\n",
    "val_data = val_data.map(tokenize_data)"
   ],
   "id": "09fa4206-5702-474a-ac62-b1ced9de4a8b"
  },
  {
   "cell_type": "markdown",
   "metadata": {},
   "source": [
    "#### Tokenizing test data"
   ],
   "id": "1bbfd44b-696b-459f-8cd7-95b34685f55c"
  },
  {
   "cell_type": "code",
   "execution_count": null,
   "metadata": {},
   "outputs": [],
   "source": [
    "testdataset = datasets.Dataset.from_pandas(test_data)\n",
    "test_dataset = testdataset.map(tokenize_data)"
   ],
   "id": "c132346c-fc0b-4fb6-a50a-e106419d8e78"
  },
  {
   "cell_type": "markdown",
   "metadata": {},
   "source": [
    "#### Tokenize full train dataset"
   ],
   "id": "e0173797-99c9-4793-80a5-0d4a4fa41519"
  },
  {
   "cell_type": "code",
   "execution_count": null,
   "metadata": {},
   "outputs": [],
   "source": [
    "train_data_full = datasets.Dataset.from_pandas(train_data_full)\n",
    "train_data_full = train_data_full.map(tokenize_data)"
   ],
   "id": "efd2ccb7-ba43-4f27-88eb-2d268de39286"
  },
  {
   "cell_type": "markdown",
   "metadata": {},
   "source": [
    "### Store tokenized data"
   ],
   "id": "aa468d0e-5f7a-4e9c-88c6-9c576e61f2f8"
  },
  {
   "cell_type": "code",
   "execution_count": null,
   "metadata": {},
   "outputs": [],
   "source": [
    "with open('train_dataset_tokenized.pkl', 'wb') as file:\n",
    "    pickle.dump(train_dataset, file)\n",
    "with open('val_data_tokenized.pkl', 'wb') as file:\n",
    "    pickle.dump(val_data, file)\n",
    "with open('test_data_tokenized.pkl', 'wb') as file:\n",
    "    pickle.dump(test_dataset, file)\n",
    "with open('augmented_train_dataset_tokenized.pkl', 'wb') as file:\n",
    "    pickle.dump(augmented_train_dataset, file)\n",
    "with open('train_dataset_full_tokenized.pkl', 'wb') as file:\n",
    "    pickle.dump(list(train_data_full), file)"
   ],
   "id": "5f4da1af-2af6-4341-b3ac-fa3a68d37769"
  },
  {
   "cell_type": "markdown",
   "metadata": {},
   "source": [
    "## Output of this Notebook\n",
    "\n",
    "This notebook will generate 4 files as mentioned below :\n",
    "\n",
    "-   training_datasets.pkl\n",
    "\n",
    "-   val_data.pkl\n",
    "\n",
    "-   test_data.pkl\n",
    "\n",
    "-   augmented_datasets.pkl"
   ],
   "id": "afa6a28b-0854-4c76-a02f-e5d88b8a064c"
  },
  {
   "cell_type": "markdown",
   "metadata": {},
   "source": [
    "During our data preprocessing steps we made sure the three things cleaning, transforming, and organizing data before it’s fed into a model. It’s important to follow the exact same preprocessing pipeline to ensure that the data is consistent and prepared in the same way as in the original study. If we have made a wrong assumption then it would lead to a different outcome and inaccurate results.\n",
    "\n",
    "------------------------------------------------------------------------"
   ],
   "id": "b33b7564-122d-4486-9ed0-c6bf521c31a0"
  },
  {
   "cell_type": "markdown",
   "metadata": {},
   "source": [
    "## Next steps\n",
    "\n",
    "Now we are done with data preprocessing, data augmentation and tokenization. Now our data is ready to be fed to the model for training. But befor that we need to set up the training parameters and hyper parameters for our model.\n",
    "\n",
    "When we see the paper, the paper talked about the hyperparameters such as epochs and batch size but for rest they said they used standard hyperparameters for Bert Large models. But when we researched we found that there is no specific optimizer for BERT large models, it depends upon task. so for our Classification task we were left with many choices but when it comes to picking two standard optimizer for this task we are left with two below mentioned options:\n",
    "\n",
    "-   [SGD (Stochastic Gradient Descent)](/): It is an optimization algorithm used to train machine learning models by iteratively adjusting model parameters using randomly selected mini-batches of data, with the goal of minimizing the loss function.\n",
    "\n",
    "-   [Adamw](/) : AdamW optimization is a stochastic gradient descent method that is based on adaptive estimation of first-order and second-order moments with an added method to decay weights per the techniques discussed in the paper, ‘Decoupled Weight Decay Regularization’ by Loshchilov, Hutter et al., 2019.\n",
    "\n",
    "Considering the above mentioned 2 choices we have created two notebooks, The first notebook uses AdamW and the second notebook uses SGD. You can pick your own choice and see what are the results :\n",
    "\n",
    "-   [Notebook(Tokenization + Adamw as optimizer)](/4_train_args_1.ipynb)\n",
    "\n",
    "-   [Notebook(Tokenization + SGD as optimizer)](/4_train_args_2.ipynb)\n",
    "\n",
    "------------------------------------------------------------------------"
   ],
   "id": "c9e85e4e-6277-4184-83ad-619a77d46550"
  }
 ],
 "nbformat": 4,
 "nbformat_minor": 5,
 "metadata": {}
}
