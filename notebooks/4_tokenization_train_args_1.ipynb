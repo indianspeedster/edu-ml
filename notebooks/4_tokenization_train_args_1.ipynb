{
 "cells": [
  {
   "cell_type": "markdown",
   "metadata": {},
   "source": [
    "## Tokenization\n",
    "\n",
    "Tokenization is a fundamental process in natural language processing that plays an important role in results that any of the language model produces. All the major language models have their specific tokenizer. Since the author of the paper used Bert Large Uncased so for our reproducibility process by default we have only one choice of tokenizer. Below are some of the specific task that Bert Large tokenizer will perform:\n",
    "\n",
    "-   Text Segmentation\n",
    "\n",
    "-   Vocabulary Mapping\n",
    "\n",
    "-   Subword Tokenization\n",
    "\n",
    "-   Special Tokens\n",
    "\n",
    "In the next section of this notebook we will be implementing the tokenization step."
   ],
   "id": "1aa03087-3e9c-4ecf-93cf-1f6d514026c4"
  },
  {
   "cell_type": "markdown",
   "metadata": {},
   "source": [
    "### Importing the relevant libraries"
   ],
   "id": "faf97c72-3613-47dd-aefa-f7548e3d5afa"
  },
  {
   "cell_type": "code",
   "execution_count": null,
   "metadata": {},
   "outputs": [],
   "source": [
    "from transformers import AutoTokenizer\n",
    "import datasets\n",
    "import pickle\n",
    "from tqdm import tqdm"
   ],
   "id": "a2f04964-ba30-4353-b033-3e9fd0f5d61a"
  },
  {
   "cell_type": "markdown",
   "metadata": {},
   "source": [
    "### Setting up tokenizer"
   ],
   "id": "93e853be-30a6-4332-a5ed-6d81098efc37"
  },
  {
   "cell_type": "code",
   "execution_count": null,
   "metadata": {},
   "outputs": [],
   "source": [
    "pre_trained_BERTmodel='bert-large-uncased'\n",
    "BERT_tokenizer=AutoTokenizer.from_pretrained(pre_trained_BERTmodel)"
   ],
   "id": "11fdf159-a1af-4ed4-aa7f-d6c4b992eff8"
  },
  {
   "cell_type": "markdown",
   "metadata": {},
   "source": [
    "### Loading data"
   ],
   "id": "9d1cff4f-d664-4bc2-a833-674b32f092b7"
  },
  {
   "cell_type": "code",
   "execution_count": null,
   "metadata": {},
   "outputs": [],
   "source": [
    "with open('training_datasets.pkl', 'rb') as file:\n",
    "    training_datasets = pickle.load(file)\n",
    "with open('val_data.pkl', 'rb') as file:\n",
    "    val_data = pickle.load(file)\n",
    "with open('test_data.pkl', 'rb') as file:\n",
    "    test_data = pickle.load(file)\n",
    "with open('augmented_datasets.pkl', 'rb') as file:\n",
    "    augmented_datasets = pickle.load(file)\n",
    "with open('train_data_full.pkl', 'rb') as file:\n",
    "    train_data_full = pickle.load(file)"
   ],
   "id": "916331cc-f73c-48a8-a4a2-692180ee8258"
  },
  {
   "cell_type": "markdown",
   "metadata": {},
   "source": [
    "### Function to tokenize the data"
   ],
   "id": "954897e3-c4d3-42aa-981a-9b44df7c19d8"
  },
  {
   "cell_type": "code",
   "execution_count": null,
   "metadata": {},
   "outputs": [],
   "source": [
    "def tokenize_data(example):\n",
    "    encoded_input = BERT_tokenizer(example[\"speech_text\"], padding=\"max_length\", truncation=True)\n",
    "    return {\"input_ids\": encoded_input[\"input_ids\"], \"attention_mask\": encoded_input[\"attention_mask\"], \"labels\": example[\"intent\"]}"
   ],
   "id": "e8061568-e0d3-44d5-a70a-524608fdf343"
  },
  {
   "cell_type": "markdown",
   "metadata": {},
   "source": [
    "#### Tokenizing non augmented training data"
   ],
   "id": "2957747e-51fc-4e75-b5b6-f6f1d7abc634"
  },
  {
   "cell_type": "code",
   "execution_count": null,
   "metadata": {},
   "outputs": [],
   "source": [
    "train_dataset=[]\n",
    "for train_data_ in training_datasets:\n",
    "  traindataset = datasets.Dataset.from_pandas(train_data_)\n",
    "  train_dataset.append(traindataset.map(tokenize_data))"
   ],
   "id": "915a2169-4067-4f04-b536-86b0dacc1145"
  },
  {
   "cell_type": "markdown",
   "metadata": {},
   "source": [
    "#### Tokenizing augmented training data"
   ],
   "id": "2071b88e-6231-4725-b5ae-933e5896630b"
  },
  {
   "cell_type": "code",
   "execution_count": null,
   "metadata": {},
   "outputs": [],
   "source": [
    "augmented_train_dataset=[]\n",
    "for train_data_ in augmented_datasets:\n",
    "  traindataset = datasets.Dataset.from_pandas(train_data_)\n",
    "  augmented_train_dataset.append(traindataset.map(tokenize_data))"
   ],
   "id": "ecb21448-ba16-41e4-a382-b3f0dbb96f1a"
  },
  {
   "cell_type": "markdown",
   "metadata": {},
   "source": [
    "#### Tokenizing validation data"
   ],
   "id": "1ba8492b-4309-483a-85af-313ae6f9aea0"
  },
  {
   "cell_type": "code",
   "execution_count": null,
   "metadata": {},
   "outputs": [],
   "source": [
    "val_data = datasets.Dataset.from_pandas(val_data)\n",
    "val_data = val_data.map(tokenize_data)"
   ],
   "id": "eea477a4-067a-4d4c-a8ce-6eb4cae0a502"
  },
  {
   "cell_type": "markdown",
   "metadata": {},
   "source": [
    "#### Tokenizing test data"
   ],
   "id": "951fbc99-1ac1-4ebf-8946-02afd773cb5e"
  },
  {
   "cell_type": "code",
   "execution_count": null,
   "metadata": {},
   "outputs": [],
   "source": [
    "testdataset = datasets.Dataset.from_pandas(test_data)\n",
    "test_dataset = testdataset.map(tokenize_data)"
   ],
   "id": "77a3ec93-47ac-499f-8fb5-9b9b0b294f03"
  },
  {
   "cell_type": "markdown",
   "metadata": {},
   "source": [
    "#### Tokenize full train dataset"
   ],
   "id": "cd027b5d-154f-4a0d-ae66-8aa782c21b44"
  },
  {
   "cell_type": "code",
   "execution_count": null,
   "metadata": {},
   "outputs": [],
   "source": [
    "train_data_full = datasets.Dataset.from_pandas(train_data_full)\n",
    "train_data_full = train_data_full.map(tokenize_data)"
   ],
   "id": "6216c30e-6c93-4665-a403-8b873bbd0acd"
  },
  {
   "cell_type": "markdown",
   "metadata": {},
   "source": [
    "## Setting up Training arguments\n",
    "\n",
    "All the steps that we have been performing till now, we are making sure that it follows the exact same as mentioned by the author, The next important step in the process is to set up the model training arguments, different arguments may produce different results so it’s important to make sure that the implementation is same as what author did. also in the last notebook we had to make assumption on using the specific optimizer, here we will be using that optimizer and see that how it effects the final result."
   ],
   "id": "f766fe44-2ae7-4216-aa40-1fdb830fbb6f"
  },
  {
   "cell_type": "markdown",
   "metadata": {},
   "source": [
    "### Training Arguments Explanation\n",
    "\n",
    "1.  **`output_dir`**: Specifies the directory where model checkpoints and training logs will be saved.\n",
    "\n",
    "2.  **`evaluation_strategy`**: Defines the strategy for evaluating the model during training. Here, it's set to \"epoch,\" meaning evaluation occurs after each epoch.\n",
    "\n",
    "3.  **`save_strategy`**: Specifies when to save model checkpoints. In this case, it's set to \"epoch,\" indicating checkpoints are saved after each epoch.\n",
    "\n",
    "4.  **`learning_rate`**: Determines the step size at which the optimizer adjusts model weights during training.\n",
    "\n",
    "5.  **`per_device_train_batch_size`**: Specifies the batch size for training data per GPU, impacting memory usage and computational efficiency.\n",
    "\n",
    "6.  **`per_device_eval_batch_size`**: Sets the batch size for evaluation data per GPU, affecting memory and computation during evaluation.\n",
    "\n",
    "7.  **`num_train_epochs`**: Indicates the total number of training epochs, which are complete passes through the training dataset.\n",
    "\n",
    "8.  **`warmup_ratio`**: Determines the ratio of warmup steps to the total number of training steps, helping the optimizer to smoothly adapt in the initial stages of training.\n",
    "\n",
    "9.  **`weight_decay`**: Introduces L2 regularization to the optimizer, helping to prevent overfitting by penalizing large model weights.\n",
    "\n",
    "10. **`load_best_model_at_end`**: Specifies whether to load the best model based on the chosen evaluation metric at the end of training.\n",
    "\n",
    "11. **`metric_for_best_model`**: Specifies the evaluation metric used to determine the best model, which is set to \"accuracy\" in this case.\n",
    "\n",
    "12. **`save_total_limit`**: Sets the maximum number of model checkpoints to keep, preventing excessive storage usage.\n",
    "\n",
    "13. **`logging_dir`**: Designates the directory where training logs, such as training progress and performance metrics, will be stored.\n",
    "\n",
    "14. **`optimizers`**: Specifies the optimizers used for model parameter updates during training, allowing for gradient-based optimization algorithms like AdamW, SGD and many more."
   ],
   "id": "8e8c2abe-e3b2-4d43-a5d3-61eba2d2a2a9"
  },
  {
   "cell_type": "code",
   "execution_count": null,
   "metadata": {},
   "outputs": [],
   "source": [
    "def create_training_arguments_and_optimizer(lr):\n",
    "    args = TrainingArguments(\n",
    "        output_dir=\"./output\",\n",
    "        evaluation_strategy=\"epoch\",\n",
    "        save_strategy=\"epoch\",\n",
    "        learning_rate=lr,\n",
    "        per_device_train_batch_size=8,\n",
    "        per_device_eval_batch_size=8,\n",
    "        num_train_epochs=3,\n",
    "        warmup_ratio=0.1,\n",
    "        weight_decay=0.001,\n",
    "        load_best_model_at_end=True,\n",
    "        metric_for_best_model=\"accuracy\",\n",
    "        save_total_limit=1,\n",
    "        logging_dir=\"./logs\",\n",
    "    )\n",
    "\n",
    "    optimizer = AdamW(args.model.parameters(), lr=args.learning_rate, weight_decay=args.weight_decay)\n",
    "\n",
    "    return args, optimizer"
   ],
   "id": "d88d1a80-8cc2-4514-aec9-1c1a90505199"
  },
  {
   "cell_type": "markdown",
   "metadata": {},
   "source": [
    "### Store tokenized data and Training Arguments"
   ],
   "id": "7e718790-1483-401d-8be8-3d9b0efb17ba"
  },
  {
   "cell_type": "code",
   "execution_count": null,
   "metadata": {},
   "outputs": [],
   "source": [
    "with open('train_dataset_tokenized.pkl', 'wb') as file:\n",
    "    pickle.dump(train_dataset, file)\n",
    "with open('val_data_tokenized.pkl', 'wb') as file:\n",
    "    pickle.dump(val_data, file)\n",
    "with open('test_data_tokenized.pkl', 'wb') as file:\n",
    "    pickle.dump(test_dataset, file)\n",
    "with open('augmented_train_dataset_tokenized.pkl', 'wb') as file:\n",
    "    pickle.dump(augmented_train_dataset, file)\n",
    "with open('train_dataset_full_tokenized.pkl', 'wb') as file:\n",
    "    pickle.dump(list(train_data_full), file)\n",
    "with open('function_train_args.pkl', 'wb') as f:\n",
    "    pickle.dump(create_training_arguments_and_optimizer, f)"
   ],
   "id": "rYLLCvlbNn0b"
  },
  {
   "cell_type": "markdown",
   "metadata": {},
   "source": [
    "### Output\n",
    "\n",
    "This notebook will generate 6 files as mentioned below :\n",
    "\n",
    "-   train_dataset_tokenized.pkl\n",
    "\n",
    "-   val_data_tokenized.pkl\n",
    "\n",
    "-   test_data_tokenized.pkl\n",
    "\n",
    "-   augmented_train_dataset_tokenized.pkl\n",
    "\n",
    "-   train_dataset_full_tokenized.pkl\n",
    "\n",
    "-   function_train_args.pkl\n",
    "\n",
    "------------------------------------------------------------------------"
   ],
   "id": "31925075-421f-40fb-a4a5-e5b463ed892d"
  },
  {
   "cell_type": "markdown",
   "metadata": {},
   "source": [
    "## Next Steps:\n",
    "\n",
    "Now we have completed all the steps needed before training a model, The next step is Training the model and obtaining the final result. But wait, the author talked in the paper in Training and evaluation section that they did hyperparameter tuning but they never mentioned that they did it on all three models or just the largest model. Again why this doubt comes because if they are comparing then are they comparing it on the same ground or the models specific performance ?\n",
    "\n",
    "So again now we are left with two choices\n",
    "\n",
    "-   Hyperparameter tuning on the largest model\n",
    "\n",
    "-   Hyperparameter tuining on all three models\n",
    "\n",
    "It’s upto you that what you are picking, below we have two notebook each with a different choice. Pick your own adventure and see how similar are your results.\n",
    "\n",
    "-   [Notebook(Hyperparameter tuning on the largest model)](/)\n",
    "\n",
    "-   [Notebook(Hyperparameter tuining on all three models)](/)"
   ],
   "id": "878091ee-2dec-4150-9263-df0af81045ca"
  }
 ],
 "nbformat": 4,
 "nbformat_minor": 5,
 "metadata": {}
}
