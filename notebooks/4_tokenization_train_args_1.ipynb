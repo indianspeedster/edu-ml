{
 "cells": [
  {
   "cell_type": "markdown",
   "metadata": {},
   "source": [
    "## Tokenization"
   ],
   "id": "f6ffab01-9176-484d-9667-ac2c6a667ddd"
  },
  {
   "cell_type": "markdown",
   "metadata": {},
   "source": [
    "### Importing the relevant libraries"
   ],
   "id": "fec2bfea-4474-4798-b295-924cdf117fa7"
  },
  {
   "cell_type": "code",
   "execution_count": null,
   "metadata": {},
   "outputs": [],
   "source": [
    "from transformers import AutoTokenizer\n",
    "import datasets\n",
    "import pickle\n",
    "from tqdm import tqdm"
   ],
   "id": "e99373cb-75e0-4175-ada6-d3a8a17792db"
  },
  {
   "cell_type": "markdown",
   "metadata": {},
   "source": [
    "### Setting up tokenizer"
   ],
   "id": "30f24fef-bb4b-40a5-adf2-22ab5585b4f3"
  },
  {
   "cell_type": "code",
   "execution_count": null,
   "metadata": {},
   "outputs": [],
   "source": [
    "pre_trained_BERTmodel='bert-large-uncased'\n",
    "BERT_tokenizer=AutoTokenizer.from_pretrained(pre_trained_BERTmodel)"
   ],
   "id": "6fb92319-dc31-4999-a695-b91d1bcbda19"
  },
  {
   "cell_type": "markdown",
   "metadata": {},
   "source": [
    "### Loading data"
   ],
   "id": "098197f9-c223-42aa-be86-f163bf416a78"
  },
  {
   "cell_type": "code",
   "execution_count": null,
   "metadata": {},
   "outputs": [],
   "source": [
    "with open('training_datasets.pkl', 'rb') as file:\n",
    "    training_datasets = pickle.load(file)\n",
    "with open('val_data.pkl', 'rb') as file:\n",
    "    val_data = pickle.load(file)\n",
    "with open('test_data.pkl', 'rb') as file:\n",
    "    test_data = pickle.load(file)\n",
    "with open('augmented_datasets.pkl', 'rb') as file:\n",
    "    augmented_datasets = pickle.load(file)\n",
    "with open('train_data_full.pkl', 'rb') as file:\n",
    "    train_data_full = pickle.load(file)"
   ],
   "id": "198604e1-8641-4f71-aba4-f7964fc2ff89"
  },
  {
   "cell_type": "markdown",
   "metadata": {},
   "source": [
    "### Function to tokenize the data"
   ],
   "id": "5163dcbc-3bdd-4940-a5ce-850e73ea408b"
  },
  {
   "cell_type": "code",
   "execution_count": null,
   "metadata": {},
   "outputs": [],
   "source": [
    "def tokenize_data(example):\n",
    "    encoded_input = BERT_tokenizer(example[\"speech_text\"], padding=\"max_length\", truncation=True)\n",
    "    return {\"input_ids\": encoded_input[\"input_ids\"], \"attention_mask\": encoded_input[\"attention_mask\"], \"labels\": example[\"intent\"]}"
   ],
   "id": "9aba3507-7939-457e-9976-cde8023914a2"
  },
  {
   "cell_type": "markdown",
   "metadata": {},
   "source": [
    "#### Tokenizing non augmented training data"
   ],
   "id": "a500251d-b31b-4630-afde-1bd76ef2c93a"
  },
  {
   "cell_type": "code",
   "execution_count": null,
   "metadata": {},
   "outputs": [],
   "source": [
    "train_dataset=[]\n",
    "for train_data_ in training_datasets:\n",
    "  traindataset = datasets.Dataset.from_pandas(train_data_)\n",
    "  train_dataset.append(traindataset.map(tokenize_data))"
   ],
   "id": "3cf2816e-ef30-406b-a220-dc5944caa3f3"
  },
  {
   "cell_type": "markdown",
   "metadata": {},
   "source": [
    "#### Tokenizing augmented training data"
   ],
   "id": "1e948021-b4d3-49e0-8bba-ff54a062ae9c"
  },
  {
   "cell_type": "code",
   "execution_count": null,
   "metadata": {},
   "outputs": [],
   "source": [
    "augmented_train_dataset=[]\n",
    "for train_data_ in augmented_datasets:\n",
    "  traindataset = datasets.Dataset.from_pandas(train_data_)\n",
    "  augmented_train_dataset.append(traindataset.map(tokenize_data))"
   ],
   "id": "7613f49f-2895-4134-9fb2-720bfe311c81"
  },
  {
   "cell_type": "markdown",
   "metadata": {},
   "source": [
    "#### Tokenizing validation data"
   ],
   "id": "a89aad64-4ff4-483e-acd0-b5e77d361d11"
  },
  {
   "cell_type": "code",
   "execution_count": null,
   "metadata": {},
   "outputs": [],
   "source": [
    "val_data = datasets.Dataset.from_pandas(val_data)\n",
    "val_data = val_data.map(tokenize_data)"
   ],
   "id": "4bb55aa6-c1d8-46ed-a6eb-b1974ebc3c2e"
  },
  {
   "cell_type": "markdown",
   "metadata": {},
   "source": [
    "#### Tokenizing test data"
   ],
   "id": "0422d3d0-f843-4507-ae1b-ef7438e8b9da"
  },
  {
   "cell_type": "code",
   "execution_count": null,
   "metadata": {},
   "outputs": [],
   "source": [
    "testdataset = datasets.Dataset.from_pandas(test_data)\n",
    "test_dataset = testdataset.map(tokenize_data)"
   ],
   "id": "dfa28a4b-c009-49ec-8be8-4f1d9e9c9139"
  },
  {
   "cell_type": "markdown",
   "metadata": {},
   "source": [
    "#### Tokenize full train dataset"
   ],
   "id": "66e4b4c4-3cda-4159-8ecd-e438832d06e3"
  },
  {
   "cell_type": "code",
   "execution_count": null,
   "metadata": {},
   "outputs": [],
   "source": [
    "train_data_full = datasets.Dataset.from_pandas(train_data_full)\n",
    "train_data_full = train_data_full.map(tokenize_data)"
   ],
   "id": "460b1cb2-d84e-4c14-9311-5ee219145b42"
  },
  {
   "cell_type": "markdown",
   "metadata": {},
   "source": [
    "### Setting up Training arguments\n",
    "\n",
    "#### Training Arguments Explanation\n",
    "\n",
    "1.  **`output_dir`**: Specifies the directory where model checkpoints and training logs will be saved.\n",
    "\n",
    "2.  **`evaluation_strategy`**: Defines the strategy for evaluating the model during training. Here, it's set to \"epoch,\" meaning evaluation occurs after each epoch.\n",
    "\n",
    "3.  **`save_strategy`**: Specifies when to save model checkpoints. In this case, it's set to \"epoch,\" indicating checkpoints are saved after each epoch.\n",
    "\n",
    "4.  **`learning_rate`**: Determines the step size at which the optimizer adjusts model weights during training.\n",
    "\n",
    "5.  **`per_device_train_batch_size`**: Specifies the batch size for training data per GPU, impacting memory usage and computational efficiency.\n",
    "\n",
    "6.  **`per_device_eval_batch_size`**: Sets the batch size for evaluation data per GPU, affecting memory and computation during evaluation.\n",
    "\n",
    "7.  **`num_train_epochs`**: Indicates the total number of training epochs, which are complete passes through the training dataset.\n",
    "\n",
    "8.  **`warmup_ratio`**: Determines the ratio of warmup steps to the total number of training steps, helping the optimizer to smoothly adapt in the initial stages of training.\n",
    "\n",
    "9.  **`weight_decay`**: Introduces L2 regularization to the optimizer, helping to prevent overfitting by penalizing large model weights.\n",
    "\n",
    "10. **`load_best_model_at_end`**: Specifies whether to load the best model based on the chosen evaluation metric at the end of training.\n",
    "\n",
    "11. **`metric_for_best_model`**: Specifies the evaluation metric used to determine the best model, which is set to \"accuracy\" in this case.\n",
    "\n",
    "12. **`save_total_limit`**: Sets the maximum number of model checkpoints to keep, preventing excessive storage usage.\n",
    "\n",
    "13. **`logging_dir`**: Designates the directory where training logs, such as training progress and performance metrics, will be stored.\n",
    "\n",
    "14. **`optimizers`**: Specifies the optimizers used for model parameter updates during training, allowing for gradient-based optimization algorithms like AdamW, SGD and many more."
   ],
   "id": "f994dbae-d4c9-41f1-a5a0-9228744c21c5"
  },
  {
   "cell_type": "code",
   "execution_count": null,
   "metadata": {},
   "outputs": [],
   "source": [
    "def create_training_arguments_and_optimizer(lr):\n",
    "    args = TrainingArguments(\n",
    "        output_dir=\"./output\",\n",
    "        evaluation_strategy=\"epoch\",\n",
    "        save_strategy=\"epoch\",\n",
    "        learning_rate=lr,\n",
    "        per_device_train_batch_size=8,\n",
    "        per_device_eval_batch_size=8,\n",
    "        num_train_epochs=3,\n",
    "        warmup_ratio=0.1,\n",
    "        weight_decay=0.001,\n",
    "        load_best_model_at_end=True,\n",
    "        metric_for_best_model=\"accuracy\",\n",
    "        save_total_limit=1,\n",
    "        logging_dir=\"./logs\",\n",
    "    )\n",
    "\n",
    "    optimizer = AdamW(args.model.parameters(), lr=args.learning_rate, weight_decay=args.weight_decay)\n",
    "\n",
    "    return args, optimizer"
   ],
   "id": "a47ba88f-b0bb-4d01-840a-2bd422e6da93"
  },
  {
   "cell_type": "markdown",
   "metadata": {},
   "source": [
    "### Store tokenized data and Training Arguments"
   ],
   "id": "9ba4bbf2-32f5-4d4a-acf8-79add4796dee"
  },
  {
   "cell_type": "code",
   "execution_count": null,
   "metadata": {},
   "outputs": [],
   "source": [
    "with open('train_dataset_tokenized.pkl', 'wb') as file:\n",
    "    pickle.dump(train_dataset, file)\n",
    "with open('val_data_tokenized.pkl', 'wb') as file:\n",
    "    pickle.dump(val_data, file)\n",
    "with open('test_data_tokenized.pkl', 'wb') as file:\n",
    "    pickle.dump(test_dataset, file)\n",
    "with open('augmented_train_dataset_tokenized.pkl', 'wb') as file:\n",
    "    pickle.dump(augmented_train_dataset, file)\n",
    "with open('train_dataset_full_tokenized.pkl', 'wb') as file:\n",
    "    pickle.dump(list(train_data_full), file)\n",
    "with open('function_train_args.pkl', 'wb') as f:\n",
    "    pickle.dump(create_training_arguments_and_optimizer, f)"
   ],
   "id": "rYLLCvlbNn0b"
  },
  {
   "cell_type": "markdown",
   "metadata": {},
   "source": [
    "### Output\n",
    "\n",
    "This notebook will generate 6 files as mentioned below :\n",
    "\n",
    "-   train_dataset_tokenized.pkl\n",
    "\n",
    "-   val_data_tokenized.pkl\n",
    "\n",
    "-   test_data_tokenized.pkl\n",
    "\n",
    "-   augmented_train_dataset_tokenized.pkl\n",
    "\n",
    "-   train_dataset_full_tokenized.pkl\n",
    "\n",
    "-   function_train_args.pkl"
   ],
   "id": "415acf37-1729-41f5-a3e8-1d17c03ad142"
  }
 ],
 "nbformat": 4,
 "nbformat_minor": 5,
 "metadata": {}
}
