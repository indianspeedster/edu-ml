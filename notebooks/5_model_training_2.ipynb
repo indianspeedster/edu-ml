{
 "cells": [
  {
   "cell_type": "markdown",
   "metadata": {},
   "source": [
    "## Model training\n",
    "\n",
    "Here we are at the Stage where we are ready with the data and in the stage where we have to train the model but before that we need to make some modification to the Bert Large model as mentioned in the training and evaluation section in the paper. Bert large uncased model can be finetuned for specific tasks and in our case we are trying to implement a classification model with 64 classes.\n",
    "\n",
    "The code in the notebook will be performing the following steps:\n",
    "\n",
    "-   Load the dataset\n",
    "\n",
    "-   Load BERT Large uncased model from Huggingface’s transformer library\n",
    "\n",
    "-   Modify the architecture of the model\n",
    "\n",
    "-   set up the metrics for evaluating the model\n",
    "\n",
    "-   Train the model with three different datasets\n",
    "\n",
    "This notebook uses hyper parameter tuning for all three models and the results produced may have different hyperparameter for all three models."
   ],
   "id": "41a31e05-4df3-4cf0-923a-6e49cac47df1"
  },
  {
   "cell_type": "code",
   "execution_count": null,
   "metadata": {},
   "outputs": [],
   "source": [
    "from transformers import TrainingArguments, Trainer\n",
    "import pickle\n",
    "from transformers import (\n",
    "    AutoModelForSequenceClassification,\n",
    "    AutoModelForSeq2SeqLM,\n",
    "    AutoConfig,\n",
    "    BertModel,\n",
    ")\n",
    "from transformers import AutoTokenizer\n",
    "from sklearn.metrics import accuracy_score, precision_recall_fscore_support\n",
    "import torch\n",
    "import torch.nn as nn\n",
    "from transformers.modeling_outputs import SequenceClassifierOutput\n",
    "from transformers import AdamW\n",
    "from torch.optim import SGD\n",
    "import json"
   ],
   "id": "fd511233-c7ce-4a9c-a712-f9773c95e4aa"
  },
  {
   "cell_type": "markdown",
   "metadata": {},
   "source": [
    "### Loading the data"
   ],
   "id": "2cc5a55d-6371-4074-aa01-0bc7c11a642c"
  },
  {
   "cell_type": "code",
   "execution_count": null,
   "metadata": {},
   "outputs": [],
   "source": [
    "with open('train_dataset_tokenized.pkl', 'rb') as file:\n",
    "    train_dataset = pickle.load(file)\n",
    "\n",
    "with open('val_data_tokenized.pkl', 'rb') as file:\n",
    "    val_dataset = pickle.load(file)\n",
    "\n",
    "with open('test_data_tokenized.pkl', 'rb') as file:\n",
    "    test_dataset = pickle.load(file)\n",
    "\n",
    "with open('train_dataset_full_tokenized.pkl', 'rb') as file:\n",
    "    train_dataset_full = [pickle.load(file)]\n",
    "\n",
    "with open('augmented_train_dataset_tokenized.pkl', 'rb') as file:\n",
    "    train_dataset_augmented = pickle.load(file)\n",
    "\n",
    "with open('args.json', 'r') as file:\n",
    "    args_dict = json.load(file)"
   ],
   "id": "028d34e5-68c3-4066-8dea-7dc39a89510f"
  },
  {
   "cell_type": "markdown",
   "metadata": {},
   "source": [
    "### Setting up standard learning rates and tokenizer"
   ],
   "id": "5b65d4af-296f-4b5f-adf9-a44c4f79f677"
  },
  {
   "cell_type": "code",
   "execution_count": null,
   "metadata": {},
   "outputs": [],
   "source": [
    "learning_rates = [5e-5, 4e-5, 3e-5, 2e-5]\n",
    "\n",
    "pre_trained_BERTmodel='bert-large-uncased'\n",
    "BERT_tokenizer=AutoTokenizer.from_pretrained(pre_trained_BERTmodel)"
   ],
   "id": "10b94252-24d1-49aa-9bf7-2a207bafa964"
  },
  {
   "cell_type": "markdown",
   "metadata": {},
   "source": [
    "### Training Argument function"
   ],
   "id": "5176149e-fea3-4531-afcb-2d7b6c1bd18a"
  },
  {
   "cell_type": "code",
   "execution_count": null,
   "metadata": {},
   "outputs": [],
   "source": [
    "def create_training_arguments(args_dict, lr):\n",
    "    training_args = TrainingArguments(\n",
    "        output_dir=args_dict[\"output_dir\"],\n",
    "        evaluation_strategy=args_dict[\"evaluation_strategy\"],\n",
    "        save_strategy=args_dict[\"save_strategy\"],\n",
    "        learning_rate= lr,\n",
    "        per_device_train_batch_size=args_dict[\"per_device_train_batch_size\"],\n",
    "        per_device_eval_batch_size=args_dict[\"per_device_eval_batch_size\"],\n",
    "        num_train_epochs=args_dict[\"num_train_epochs\"],\n",
    "        warmup_ratio=args_dict[\"warmup_ratio\"],\n",
    "        weight_decay=args_dict[\"weight_decay\"],\n",
    "        load_best_model_at_end=args_dict[\"load_best_model_at_end\"],\n",
    "        metric_for_best_model=args_dict[\"metric_for_best_model\"],\n",
    "        save_total_limit=args_dict[\"save_total_limit\"],\n",
    "    )\n",
    "    return training_args"
   ],
   "id": "df0e7189-c9b5-4a66-b6f0-e581e2161731"
  },
  {
   "cell_type": "markdown",
   "metadata": {},
   "source": [
    "### Modifying Bert for our classification Task"
   ],
   "id": "4db3ea4a-2ea5-4ca6-96ee-426c9601f518"
  },
  {
   "cell_type": "code",
   "execution_count": null,
   "metadata": {},
   "outputs": [],
   "source": [
    "class BertModelWithCustomLossFunction(nn.Module):\n",
    "    def __init__(self):\n",
    "        super(BertModelWithCustomLossFunction, self).__init__()\n",
    "        self.num_labels = 64\n",
    "        self.bert = BertModel.from_pretrained(\n",
    "            pre_trained_BERTmodel, num_labels=self.num_labels\n",
    "        )\n",
    "        self.dropout = nn.Dropout(0.1)\n",
    "        self.classifier = nn.Linear(1024, self.num_labels)\n",
    "\n",
    "    def forward(self, input_ids, attention_mask, labels=None):\n",
    "        outputs = self.bert(\n",
    "            input_ids=input_ids,\n",
    "            attention_mask=attention_mask,\n",
    "        )\n",
    "\n",
    "        output = self.dropout(outputs.pooler_output)\n",
    "        logits = self.classifier(output)\n",
    "\n",
    "        loss = None\n",
    "        if labels is not None:\n",
    "            loss_fct = nn.CrossEntropyLoss()\n",
    "            loss = loss_fct(logits.view(-1, self.num_labels), labels)\n",
    "\n",
    "        return SequenceClassifierOutput(\n",
    "            loss=loss,\n",
    "            logits=logits,\n",
    "            hidden_states=outputs.hidden_states,\n",
    "            attentions=outputs.attentions,\n",
    "        )"
   ],
   "id": "c817e08e-a961-421a-941c-a71d86f0df20"
  },
  {
   "cell_type": "markdown",
   "metadata": {},
   "source": [
    "### Create train_model function"
   ],
   "id": "6afa2488-dbac-47d5-b14f-e490ae481895"
  },
  {
   "cell_type": "code",
   "execution_count": null,
   "metadata": {},
   "outputs": [],
   "source": [
    "def train_model(train_data, args, val_dataset, test_dataset, lr):\n",
    "    BERT_model = BertModelWithCustomLossFunction()\n",
    "    trainer = Trainer(\n",
    "        model=BERT_model,\n",
    "        args=args,\n",
    "        train_dataset=train_data,\n",
    "        eval_dataset=val_dataset,\n",
    "        tokenizer=BERT_tokenizer,\n",
    "        compute_metrics=compute_metrics,\n",
    "    )\n",
    "    if args_dict[\"optimizer\"] == \"sgd\":\n",
    "      trainer.optimizer = SGD(BERT_model.parameters(), lr=lr , momentum=0.9)\n",
    "    trainer.train()\n",
    "    evaluation_metrics = trainer.predict(test_dataset)\n",
    "    accuracy = evaluation_metrics.metrics['test_accuracy']\n",
    "    torch.cuda.empty_cache()\n",
    "    return accuracy"
   ],
   "id": "9afef358-c7e0-46c5-9f78-a18206f5c98b"
  },
  {
   "cell_type": "markdown",
   "metadata": {},
   "source": [
    "### Setting up metrics for accuracy, precision, recall and f1"
   ],
   "id": "473b03d2-9cfc-4eca-87e4-47ecad23331a"
  },
  {
   "cell_type": "code",
   "execution_count": null,
   "metadata": {},
   "outputs": [],
   "source": [
    "def compute_metrics(pred):\n",
    "    labels = pred.label_ids\n",
    "    preds = pred.predictions.argmax(-1)\n",
    "    accuracy = accuracy_score(labels, preds)\n",
    "    precision, recall, f1, _ = precision_recall_fscore_support(labels, preds, average='weighted')\n",
    "\n",
    "    return {\n",
    "        'accuracy': accuracy,\n",
    "        'precision': precision,\n",
    "        'recall': recall,\n",
    "        'f1': f1\n",
    "    }"
   ],
   "id": "e97a31a1-d0cf-4347-b0f2-cccb6014006a"
  },
  {
   "cell_type": "markdown",
   "metadata": {},
   "source": [
    "### Training the model"
   ],
   "id": "d1c9ee58-63d4-4d00-8380-dd252ecd6d1b"
  },
  {
   "cell_type": "code",
   "execution_count": null,
   "metadata": {},
   "outputs": [],
   "source": [
    "import warnings\n",
    "warnings.filterwarnings(\"ignore\")"
   ],
   "id": "22532579-c699-41b6-92ba-c44567f317c4"
  },
  {
   "cell_type": "markdown",
   "metadata": {},
   "source": [
    "#### Training Full dataset Model"
   ],
   "id": "ce688c58-3426-40db-9498-d3b51beb240a"
  },
  {
   "cell_type": "code",
   "execution_count": null,
   "metadata": {},
   "outputs": [],
   "source": [
    "for train_data in train_dataset_full:\n",
    "    best_accuracy = 0\n",
    "    best_lr = learning_rates[0]\n",
    "    for lr in learning_rates:\n",
    "        args = create_training_arguments(args_dict, lr)\n",
    "        accuracy = train_model(train_data, args, val_dataset, test_dataset, lr)\n",
    "        if accuracy>best_accuracy:\n",
    "          best_lr = lr\n",
    "          best_accuracy = max(accuracy, best_accuracy)\n",
    "    print(f\"Best Accuracy:{best_accuracy}\\n Best Learning Rate: {best_lr}\")"
   ],
   "id": "482f8d3f-9fad-46de-9208-3bcdd344656c"
  },
  {
   "cell_type": "markdown",
   "metadata": {},
   "source": [
    "#### Training full few shot dataset model"
   ],
   "id": "01ac3156-c4a3-496d-8c1f-d627af50cd29"
  },
  {
   "cell_type": "code",
   "execution_count": null,
   "metadata": {},
   "outputs": [],
   "source": [
    "for train_data in train_dataset:\n",
    "    best_accuracy = 0\n",
    "    for lr in [best_lr]:\n",
    "        args = create_training_arguments(args_dict, lr)\n",
    "        accuracy = train_model(train_data, args, val_dataset, test_dataset, lr)\n",
    "        if accuracy>best_accuracy:\n",
    "          best_lr = lr\n",
    "          best_accuracy = max(accuracy, best_accuracy)\n",
    "    print(f\"Best Accuracy:{best_accuracy}\\n Best Learning Rate: {best_lr}\")"
   ],
   "id": "743dfa26-7a61-4d74-84f7-0c548272cb2c"
  },
  {
   "cell_type": "markdown",
   "metadata": {},
   "source": [
    "#### Training Model on Full few shot + Augmented dataset"
   ],
   "id": "26c3cc53-4ba6-4b9d-b428-25db91098041"
  },
  {
   "cell_type": "code",
   "execution_count": null,
   "metadata": {},
   "outputs": [],
   "source": [
    "for train_data in train_dataset_augmented:\n",
    "    best_accuracy = 0\n",
    "    for lr in [best_lr]:\n",
    "        args = create_training_arguments(args_dict, lr)\n",
    "        accuracy = train_model(train_data, args, val_dataset, test_dataset, lr)\n",
    "        if accuracy>best_accuracy:\n",
    "          best_lr = lr\n",
    "          best_accuracy = max(accuracy, best_accuracy)\n",
    "    print(f\"Best Accuracy:{best_accuracy}\\n Best Learning Rate: {best_lr}\")"
   ],
   "id": "119c9c8c-3e13-4d47-a7ba-310685dee800"
  }
 ],
 "nbformat": 4,
 "nbformat_minor": 5,
 "metadata": {}
}
