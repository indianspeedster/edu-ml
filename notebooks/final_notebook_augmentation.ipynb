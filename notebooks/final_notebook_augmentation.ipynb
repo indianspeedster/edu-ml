{
 "cells": [
  {
   "cell_type": "markdown",
   "metadata": {},
   "source": [
    "### Install relevent libraries"
   ],
   "id": "9f7a53c6-7b6c-480f-a7d5-62533d0043dc"
  },
  {
   "cell_type": "code",
   "execution_count": null,
   "metadata": {},
   "outputs": [],
   "source": [
    "!pip install transformers\n",
    "!pip install datasets\n",
    "!pip install accelerate -U\n",
    "!pip install nltk"
   ],
   "id": "160d703e-4f47-4860-9c59-e63ab252800f"
  },
  {
   "cell_type": "markdown",
   "metadata": {},
   "source": [
    "### Additional step\n",
    "\n",
    "Restart the kernel as accelerate requires restart once it’s been installed"
   ],
   "id": "9a31ad24-9d43-4ff5-b816-de0f7d889e4b"
  },
  {
   "cell_type": "markdown",
   "metadata": {},
   "source": [
    "### Import relevent libraries"
   ],
   "id": "5c31064b-9418-49e1-a91d-870f9d209f08"
  },
  {
   "cell_type": "code",
   "execution_count": null,
   "metadata": {},
   "outputs": [],
   "source": [
    "import pandas as pd\n",
    "import numpy as np\n",
    "import seaborn as sns\n",
    "import re\n",
    "import matplotlib.pyplot as plt\n",
    "from collections import defaultdict\n",
    "import csv\n",
    "import io\n",
    "import json\n",
    "import os\n",
    "import nltk\n",
    "nltk.download('stopwords')\n",
    "nltk.download('wordnet')\n",
    "from nltk.corpus import stopwords\n",
    "from nltk.corpus import wordnet\n",
    "import requests\n",
    "from tqdm import tqdm\n",
    "\n",
    "from transformers import (\n",
    "    AutoModelForSequenceClassification,\n",
    "    AutoModelForSeq2SeqLM,\n",
    "    AutoConfig,\n",
    "    BertModel,\n",
    ")\n",
    "\n",
    "import torch.nn as nn\n",
    "from transformers.modeling_outputs import SequenceClassifierOutput\n",
    "\n",
    "\n",
    "\n",
    "from sklearn.model_selection import train_test_split\n",
    "from sklearn.preprocessing import LabelEncoder\n",
    "import datasets\n",
    "import transformers\n",
    "from transformers import BertModel, BertTokenizerFast\n",
    "from transformers import AdamW, AdamWeightDecay, get_linear_schedule_with_warmup\n",
    "from transformers import AutoTokenizer, TrainingArguments, Trainer\n",
    "import torch\n",
    "from torch import optim, nn\n",
    "from torch.utils.data import DataLoader, Dataset\n",
    "import torch.nn.functional as F\n",
    "from statistics import median\n",
    "from sklearn.metrics import accuracy_score, precision_recall_fscore_support\n",
    "seed = 1331"
   ],
   "id": "0d48e6be-c24f-4581-82fc-4786389f6942"
  },
  {
   "cell_type": "code",
   "execution_count": null,
   "metadata": {},
   "outputs": [],
   "source": [
    "device=torch.device('cuda:0')\n",
    "torch.cuda.get_device_name(0)"
   ],
   "id": "08b4216b-c852-4828-aa56-721ddc6f62ea"
  },
  {
   "cell_type": "markdown",
   "metadata": {},
   "source": [
    "### Fetch and store the data"
   ],
   "id": "b37bad50-88ec-46da-b1cd-0d4d742afe91"
  },
  {
   "cell_type": "code",
   "execution_count": null,
   "metadata": {},
   "outputs": [],
   "source": [
    "_HEADER = [\"text\", \"category\"]\n",
    "PATTERNS = {\n",
    "    \"train\": \"https://raw.githubusercontent.com/xliuhw/NLU-Evaluation-Data\"\n",
    "             \"/master/CrossValidation/autoGeneFromRealAnno/autoGene_2018_03_\"\n",
    "             \"22-13_01_25_169/CrossValidation/KFold_1/trainset/{f}\",\n",
    "    \"test\": \"https://raw.githubusercontent.com/xliuhw/NLU-Evaluation-Data/\"\n",
    "            \"master/CrossValidation/autoGeneFromRealAnno/autoGene_2018_03_\"\n",
    "            \"22-13_01_25_169/CrossValidation/KFold_1/testset/csv/{f}\"\n",
    "}\n",
    "\n",
    "LIST_OF_FILES = (\n",
    "    'alarm_query.csv\\nalarm_remove.csv\\nalarm_set.csv\\naudio_volum'\n",
    "    'e_down.csv\\naudio_volume_mute.csv\\naudio_volume_up.csv\\ncalend'\n",
    "    'ar_query.csv\\t\\ncalendar_remove.csv\\t\\ncalendar_set.csv\\t\\ncoo'\n",
    "    'king_recipe.csv\\t\\ndatetime_convert.csv\\t\\ndatetime_query.csv'\n",
    "    '\\t\\nemail_addcontact.csv\\t\\nemail_query.csv\\t\\nemail_querycon'\n",
    "    'tact.csv\\t\\nemail_sendemail.csv\\t\\ngeneral_affirm.csv\\t\\ngener'\n",
    "    'al_commandstop.csv\\t\\ngeneral_confirm.csv\\t\\ngeneral_dontcare.'\n",
    "    'csv\\t\\ngeneral_explain.csv\\t\\ngeneral_joke.csv\\t\\ngeneral_neg'\n",
    "    'ate.csv\\t\\ngeneral_praise.csv\\t\\ngeneral_quirky.csv\\t\\ngenera'\n",
    "    'l_repeat.csv\\t\\niot_cleaning.csv\\t\\niot_coffee.csv\\t\\niot_hue'\n",
    "    '_lightchange.csv\\t\\niot_hue_lightdim.csv\\t\\niot_hue_lightoff.'\n",
    "    'csv\\t\\niot_hue_lighton.csv\\t\\niot_hue_lightup.csv\\t\\niot_wemo_'\n",
    "    'off.csv\\t\\niot_wemo_on.csv\\t\\nlists_createoradd.csv\\t\\nlists_'\n",
    "    'query.csv\\t\\nlists_remove.csv\\t\\nmusic_likeness.csv\\t\\nmusic_q'\n",
    "    'uery.csv\\t\\nmusic_settings.csv\\t\\nnews_query.csv\\t\\nplay_audio'\n",
    "    'book.csv\\t\\nplay_game.csv\\t\\nplay_music.csv\\t\\nplay_podcasts.'\n",
    "    'csv\\t\\nplay_radio.csv\\t\\nqa_currency.csv\\t\\nqa_definition.csv'\n",
    "    '\\t\\nqa_factoid.csv\\t\\nqa_maths.csv\\t\\nqa_stock.csv\\t\\nrecomme'\n",
    "    'ndation_events.csv\\t\\nrecommendation_locations.csv\\t\\nrecomme'\n",
    "    'ndation_movies.csv\\t\\nsocial_post.csv\\t\\nsocial_query.csv\\t\\n'\n",
    "    'takeaway_order.csv\\t\\ntakeaway_query.csv\\t\\ntransport_query.c'\n",
    "    'sv\\t\\ntransport_taxi.csv\\t\\ntransport_ticket.csv\\t\\ntransport'\n",
    "    '_traffic.csv\\t\\nweather_query.csv\\t'.split())\n",
    "\n",
    "\n",
    "\n",
    "\n",
    "def _get_category_rows(fname: str, set_name: str):\n",
    "    pattern = PATTERNS[set_name]\n",
    "    url = pattern.format(f=fname)\n",
    "    request = requests.get(url)\n",
    "\n",
    "    reader = csv.reader(\n",
    "        io.StringIO(request.content.decode(\"utf-8\")), delimiter=\";\"\n",
    "    )\n",
    "    first_row = next(reader)\n",
    "    scenario_i, intent_i = first_row.index(\"scenario\"), first_row.index(\n",
    "        \"intent\")\n",
    "    answer_i = first_row.index(\"answer_from_anno\")\n",
    "\n",
    "    rows = []\n",
    "    for row in reader:\n",
    "        text = row[answer_i]\n",
    "        category = f\"{row[scenario_i]}_{row[intent_i]}\"\n",
    "        rows.append([text, category])\n",
    "    return rows\n",
    "\n",
    "\n",
    "def _get_final_rows(set_name: str):\n",
    "    final_rows = [_HEADER]\n",
    "    for f in tqdm(LIST_OF_FILES):\n",
    "        final_rows += _get_category_rows(f, set_name)\n",
    "    return final_rows\n",
    "\n",
    "\n",
    "def _write_data_into_file(path, rows):\n",
    "    with open(path, \"w\") as data_file:\n",
    "        writer = csv.writer(data_file, quoting=csv.QUOTE_ALL)\n",
    "        writer.writerows(rows)\n",
    "\n",
    "\n",
    "def _main():\n",
    "    data_dir = os.getcwd()\n",
    "\n",
    "    if not os.path.exists(data_dir):\n",
    "        os.mkdir(data_dir)\n",
    "\n",
    "    print(\"Getting train data\")\n",
    "    train_rows = _get_final_rows(set_name=\"train\")\n",
    "    _write_data_into_file(\n",
    "        path=os.path.join(data_dir, \"train.csv\"),\n",
    "        rows=train_rows\n",
    "    )\n",
    "\n",
    "    print(\"Getting test data\")\n",
    "    test_rows = _get_final_rows(set_name=\"test\")\n",
    "    _write_data_into_file(\n",
    "        path=os.path.join(data_dir, \"test.csv\"),\n",
    "        rows=test_rows\n",
    "    )\n",
    "\n",
    "    print(\"Creating categories.json file\")\n",
    "    _, train_cats = zip(*train_rows[1:])\n",
    "    _, test_cats = zip(*test_rows[1:])\n",
    "    categories = sorted(list(\n",
    "        set(train_cats) | set(test_cats)\n",
    "    ))\n",
    "    with open(os.path.join(data_dir, \"categories.json\"), \"w\") as f:\n",
    "        json.dump(categories, f)\n",
    "\n",
    "\n",
    "if __name__ == \"__main__\":\n",
    "    _main()\n"
   ],
   "id": "344a0c49-9a7a-464b-afdc-1ad2efefcd00"
  },
  {
   "cell_type": "markdown",
   "metadata": {},
   "source": [
    "### Load and visualize data"
   ],
   "id": "9760da7b-6ba7-4415-9664-754039b6e0c9"
  },
  {
   "cell_type": "code",
   "execution_count": null,
   "metadata": {},
   "outputs": [],
   "source": [
    "train_data = pd.read_csv(\"train.csv\")\n",
    "test_data = pd.read_csv(\"test.csv\")\n",
    "train_data.columns = [\"speech_text\",\"intent\"]\n",
    "test_data.columns = [\"speech_text\",\"intent\"]"
   ],
   "id": "902b37f9-2080-4fca-b5fc-418225ab7e51"
  },
  {
   "cell_type": "code",
   "execution_count": null,
   "metadata": {},
   "outputs": [],
   "source": [
    "train_data.describe()"
   ],
   "id": "0ceec315-e78d-40d8-9470-20aab4a54cb9"
  },
  {
   "cell_type": "code",
   "execution_count": null,
   "metadata": {},
   "outputs": [],
   "source": [
    "intent_counts = train_data['intent'].value_counts()\n",
    "plt.figure(figsize=(10, 6))\n",
    "intent_counts.plot(kind='bar')\n",
    "plt.title('Intent Counts')\n",
    "plt.xlabel('Intent')\n",
    "plt.ylabel('Count')\n",
    "plt.show()"
   ],
   "id": "a79effac-9078-4c99-9d3c-a75b76d53ffe"
  },
  {
   "cell_type": "markdown",
   "metadata": {},
   "source": [
    "### Data Augmentation"
   ],
   "id": "5ead41ac-54e6-4123-b04f-469719962e04"
  },
  {
   "cell_type": "code",
   "execution_count": null,
   "metadata": {},
   "outputs": [],
   "source": [
    "stop_words = set(stopwords.words('english'))"
   ],
   "id": "5d07ac97-484f-40ca-8cdc-dcf4bc40529a"
  },
  {
   "cell_type": "markdown",
   "metadata": {},
   "source": [
    "#### Function to generate random integers"
   ],
   "id": "91a3122b-1f36-4c17-8f96-fad174214a51"
  },
  {
   "cell_type": "code",
   "execution_count": null,
   "metadata": {},
   "outputs": [],
   "source": [
    "import random\n",
    "def generate_random_integer(n):\n",
    "    numbers = list(range(n))\n",
    "    random.shuffle(numbers)\n",
    "    for number in numbers:\n",
    "        yield number"
   ],
   "id": "2eaafd0e-cd72-4fb8-a628-07fd2e6c5f57"
  },
  {
   "cell_type": "markdown",
   "metadata": {},
   "source": [
    "#### function to implement the augmentation strategy"
   ],
   "id": "147fdfc0-6e9d-46df-8129-7c5e6a4d02bf"
  },
  {
   "cell_type": "code",
   "execution_count": null,
   "metadata": {},
   "outputs": [],
   "source": [
    "def augmentation(sentence):\n",
    "  alpha = 0.5\n",
    "  sentence = sentence.split(\" \")\n",
    "  n = int(alpha*len(sentence))\n",
    "  random_generator = generate_random_integer(len(sentence))\n",
    "  random_n = []\n",
    "  for _ in range(len(sentence)):\n",
    "    random_number = next(random_generator)\n",
    "    if sentence[random_number].lower() not in stop_words:\n",
    "      random_n.append(random_number)\n",
    "      if len(random_n) == n:\n",
    "        break\n",
    "  for num in random_n:\n",
    "    word = sentence[num]\n",
    "    synonyms = []\n",
    "    for synset in wordnet.synsets(word):\n",
    "      for synonym in synset.lemmas():\n",
    "        synonyms.append(synonym.name())\n",
    "    if len(synonyms)>=2:\n",
    "      sentence[num] = synonyms[1]\n",
    "    else:\n",
    "      pass\n",
    "  return \" \".join(sentence)"
   ],
   "id": "ae05cddd-93e1-44cd-84a9-761ef82b493f"
  },
  {
   "cell_type": "code",
   "execution_count": null,
   "metadata": {},
   "outputs": [],
   "source": [
    "augmented_data = train_data.copy()\n",
    "augmented_data[\"intent\"] = augmented_data[\"intent\"].apply(augmentation)\n",
    "train_data = pd.concat([train_data, augmented_data], axis=0)\n"
   ],
   "id": "ddd10788-fe70-45ec-9c90-b958411a2fe7"
  },
  {
   "cell_type": "markdown",
   "metadata": {},
   "source": [
    "Plotting value counts post data augmentation"
   ],
   "id": "c93d629b-e778-4cd3-b848-24831f8a5379"
  },
  {
   "cell_type": "code",
   "execution_count": null,
   "metadata": {},
   "outputs": [],
   "source": [
    "intent_counts = train_data['intent'].value_counts()\n",
    "plt.figure(figsize=(10, 6))\n",
    "intent_counts.plot(kind='bar')\n",
    "plt.title('Intent Counts')\n",
    "plt.xlabel('Intent')\n",
    "plt.ylabel('Count')\n",
    "plt.show()\n"
   ],
   "id": "be3b0e44-d476-4703-a40f-46efd80eb1a2"
  },
  {
   "cell_type": "markdown",
   "metadata": {},
   "source": [
    "### Splitting the data into train and validation"
   ],
   "id": "daf54eeb-4767-498a-a39a-9d6df1a2c934"
  },
  {
   "cell_type": "code",
   "execution_count": null,
   "metadata": {},
   "outputs": [],
   "source": [
    "df_train,df_val=train_test_split(train_data,test_size=0.10 ,random_state=seed)"
   ],
   "id": "3a76df65-61ad-4234-8365-1d7d39c819ae"
  },
  {
   "cell_type": "markdown",
   "metadata": {},
   "source": [
    "### Extracting 60 sample of each intent"
   ],
   "id": "f3b66a5b-b4d3-4627-8384-6febac5f3307"
  },
  {
   "cell_type": "code",
   "execution_count": null,
   "metadata": {},
   "outputs": [],
   "source": [
    "unique_labels = df_train['intent'].unique()\n",
    "sampled_df = pd.DataFrame()\n",
    "for label in unique_labels:\n",
    "    label_df = df_train[df_train['intent'] == label]\n",
    "    samples = label_df.sample(n=60, random_state=seed)\n",
    "    sampled_df = sampled_df.append(samples)\n",
    "sampled_df.reset_index(drop=True, inplace=True)"
   ],
   "id": "16b25971-499c-4d55-92dc-2746166568c3"
  },
  {
   "cell_type": "markdown",
   "metadata": {},
   "source": [
    "### Creating different dataset of 10 samples each with different data points."
   ],
   "id": "2ff9c95e-5ae9-4ca1-854e-d94518614ce4"
  },
  {
   "cell_type": "code",
   "execution_count": null,
   "metadata": {},
   "outputs": [],
   "source": [
    "df = sampled_df\n",
    "df['sampled'] = False\n",
    "\n",
    "label_counts = df['intent'].value_counts()\n",
    "\n",
    "max_count = label_counts.max()\n",
    "min_count = label_counts.min()\n",
    "\n",
    "num_datasets = max_count // 10\n",
    "\n",
    "training_datasets = []\n",
    "\n",
    "for i in range(num_datasets):\n",
    "    dataset = pd.DataFrame()\n",
    "    for label in df['intent'].unique():\n",
    "        label_df = df[(df['intent'] == label) & (df['sampled'] == False)]\n",
    "        if len(label_df) >= 10:\n",
    "            samples = label_df.sample(n=10)\n",
    "            df.loc[samples.index, 'sampled'] = True\n",
    "            dataset = pd.concat([dataset, samples])\n",
    "        else:\n",
    "            samples = label_df\n",
    "            df.loc[samples.index, 'sampled'] = True\n",
    "            dataset = pd.concat([dataset, samples])\n",
    "    training_datasets.append(dataset)\n",
    "val_data = df_val"
   ],
   "id": "1c9fe6f7-d6ac-425e-ae4c-d6f3f8655f6b"
  },
  {
   "cell_type": "code",
   "execution_count": null,
   "metadata": {},
   "outputs": [],
   "source": [
    "\n"
   ],
   "id": "af689faa-96e5-437a-9376-0695bcbccd8e"
  },
  {
   "cell_type": "markdown",
   "metadata": {},
   "source": [
    "### Encode the labels"
   ],
   "id": "ff553c57-7de3-4652-bf3f-c7d05a26fa73"
  },
  {
   "cell_type": "code",
   "execution_count": null,
   "metadata": {},
   "outputs": [],
   "source": [
    "le=LabelEncoder()\n",
    "for train_data in training_datasets:\n",
    "  train_data['intent']=le.fit_transform(train_data['intent'])\n",
    "val_data['intent']=le.fit_transform(val_data['intent'])\n",
    "test_data['intent']=le.transform(test_data['intent'])"
   ],
   "id": "a0903053-a1e4-4090-9ce8-596a545283e7"
  },
  {
   "cell_type": "markdown",
   "metadata": {},
   "source": [
    "### Setting up BERT Tokenizer and data loader"
   ],
   "id": "522565c1-58a7-4ff1-9f53-27253206f7e0"
  },
  {
   "cell_type": "code",
   "execution_count": null,
   "metadata": {},
   "outputs": [],
   "source": [
    "pre_trained_BERTmodel='bert-large-uncased'\n",
    "BERT_tokenizer=AutoTokenizer.from_pretrained(pre_trained_BERTmodel)\n"
   ],
   "id": "81cbe412-3b48-479f-81ed-6b2eb521dc42"
  },
  {
   "cell_type": "code",
   "execution_count": null,
   "metadata": {},
   "outputs": [],
   "source": [
    "def tokenize_data(example):\n",
    "    encoded_input = BERT_tokenizer(example[\"speech_text\"], padding=\"max_length\", truncation=True)\n",
    "    return {\"input_ids\": encoded_input[\"input_ids\"], \"attention_mask\": encoded_input[\"attention_mask\"], \"labels\": example[\"intent\"]}"
   ],
   "id": "28dd4e17-dcbf-42ad-9e87-d151d68bf090"
  },
  {
   "cell_type": "code",
   "execution_count": null,
   "metadata": {},
   "outputs": [],
   "source": [
    "train_dataset=[]\n",
    "for train_data_ in training_datasets:\n",
    "  traindataset = datasets.Dataset.from_pandas(train_data_)\n",
    "  train_dataset.append(traindataset.map(tokenize_data))\n",
    "\n",
    "testdataset = datasets.Dataset.from_pandas(test_data)\n",
    "test_dataset = testdataset.map(tokenize_data)\n",
    "\n",
    "valdataset = datasets.Dataset.from_pandas(val_data)\n",
    "eval_dataset = valdataset.map(tokenize_data)"
   ],
   "id": "cc8f0cb3-7820-41ce-956b-7b04d6775446"
  },
  {
   "cell_type": "code",
   "execution_count": null,
   "metadata": {},
   "outputs": [],
   "source": [
    "train_dataset=[]\n",
    "for train_data_ in training_datasets:\n",
    "  traindataset = datasets.Dataset.from_pandas(train_data_)\n",
    "  train_dataset.append(traindataset.map(tokenize_data))\n",
    "\n",
    "testdataset = datasets.Dataset.from_pandas(test_data)\n",
    "test_dataset = testdataset.map(tokenize_data)\n",
    "\n",
    "valdataset = datasets.Dataset.from_pandas(val_data)\n",
    "eval_dataset = valdataset.map(tokenize_data)"
   ],
   "id": "2d077e9a-6e99-42c1-b0a5-310b85500cc0"
  },
  {
   "cell_type": "markdown",
   "metadata": {},
   "source": [
    "### Setting up trainer arguments"
   ],
   "id": "b8e6e23b-86de-418c-bbcf-ea4da308eca0"
  },
  {
   "cell_type": "code",
   "execution_count": null,
   "metadata": {},
   "outputs": [],
   "source": [
    "args = TrainingArguments(\n",
    "        output_dir=\"./output\",\n",
    "        evaluation_strategy=\"epoch\",\n",
    "        save_strategy=\"epoch\",\n",
    "        learning_rate=3e-5,\n",
    "        per_device_train_batch_size=8 ,\n",
    "        per_device_eval_batch_size=8 ,\n",
    "        num_train_epochs=20,\n",
    "        warmup_ratio= 0.1,\n",
    "        weight_decay= 0.001,\n",
    "        load_best_model_at_end=True,\n",
    "        metric_for_best_model=\"accuracy\",\n",
    "        save_total_limit=1,\n",
    "            )"
   ],
   "id": "680b84bb-e81a-44e3-926e-ee7028d8c04f"
  },
  {
   "cell_type": "markdown",
   "metadata": {},
   "source": [
    "### Setting up Bert classifier"
   ],
   "id": "cc5590d1-789f-40f0-9ff9-906f1cc57c25"
  },
  {
   "cell_type": "code",
   "execution_count": null,
   "metadata": {},
   "outputs": [],
   "source": [
    "class BertModelWithCustomLossFunction(nn.Module):\n",
    "    def __init__(self):\n",
    "        super(BertModelWithCustomLossFunction, self).__init__()\n",
    "        self.num_labels = len(df_train[\"intent\"].unique())\n",
    "        self.bert = BertModel.from_pretrained(\n",
    "            pre_trained_BERTmodel, num_labels=self.num_labels\n",
    "        )\n",
    "        self.dropout = nn.Dropout(0.1)\n",
    "        self.classifier = nn.Linear(1024, self.num_labels)\n",
    "\n",
    "    def forward(self, input_ids, attention_mask, labels=None):\n",
    "        outputs = self.bert(\n",
    "            input_ids=input_ids,\n",
    "            attention_mask=attention_mask,\n",
    "        )\n",
    "\n",
    "        output = self.dropout(outputs.pooler_output)\n",
    "        logits = self.classifier(output)\n",
    "\n",
    "        loss = None\n",
    "        if labels is not None:\n",
    "            # you can define any loss function here yourself\n",
    "            # see https://pytorch.org/docs/stable/nn.html#loss-functions for an overview\n",
    "            loss_fct = nn.CrossEntropyLoss()\n",
    "            # next, compute the loss based on logits + ground-truth labels\n",
    "            loss = loss_fct(logits.view(-1, self.num_labels), labels)\n",
    "\n",
    "        return SequenceClassifierOutput(\n",
    "            loss=loss,\n",
    "            logits=logits,\n",
    "            hidden_states=outputs.hidden_states,\n",
    "            attentions=outputs.attentions,\n",
    "        )"
   ],
   "id": "3f7a723c-99e6-469c-bd5d-4094650978fe"
  },
  {
   "cell_type": "markdown",
   "metadata": {},
   "source": [
    "### Setting up compute metrics"
   ],
   "id": "144ec3da-1276-4ba9-9dc9-de2a9bde3325"
  },
  {
   "cell_type": "code",
   "execution_count": null,
   "metadata": {},
   "outputs": [],
   "source": [
    "def compute_metrics(pred):\n",
    "    labels = pred.label_ids\n",
    "    preds = pred.predictions.argmax(-1)\n",
    "    accuracy = accuracy_score(labels, preds)\n",
    "    precision, recall, f1, _ = precision_recall_fscore_support(labels, preds, average='weighted')\n",
    "\n",
    "    return {\n",
    "        'accuracy': accuracy,\n",
    "        'precision': precision,\n",
    "        'recall': recall,\n",
    "        'f1': f1\n",
    "    }"
   ],
   "id": "62be02b4-4fb3-4f91-b238-8118cbf16bab"
  },
  {
   "cell_type": "markdown",
   "metadata": {},
   "source": [
    "### Training the model"
   ],
   "id": "8b56920d-1cf7-4269-98d0-f9e4463427ae"
  },
  {
   "cell_type": "code",
   "execution_count": null,
   "metadata": {},
   "outputs": [],
   "source": [
    "best_accuracy = 0\n",
    "for train_dat in train_dataset:\n",
    "  BERT_model = BertModelWithCustomLossFunction()\n",
    "  trainer = Trainer(\n",
    "        model = BERT_model,\n",
    "        args = args,\n",
    "        train_dataset=train_dat,\n",
    "        eval_dataset=eval_dataset,\n",
    "        tokenizer=BERT_tokenizer,\n",
    "        compute_metrics=compute_metrics,)\n",
    "  trainer.train()\n",
    "  evaluation_metrics = trainer.predict(test_dataset)\n",
    "  accuracy = evaluation_metrics.metrics['test_accuracy']\n",
    "  best_accuracy = max(accuracy, best_accuracy)\n",
    "  print(f\"Best Test Accuracy for this training dataset: {accuracy}\")\n",
    "  torch.cuda.empty_cache()"
   ],
   "id": "6a833d31-bf97-48b2-bf3e-44ab7065d436"
  }
 ],
 "nbformat": 4,
 "nbformat_minor": 5,
 "metadata": {}
}
