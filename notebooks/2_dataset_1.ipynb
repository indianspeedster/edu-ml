{
 "cells": [
  {
   "cell_type": "markdown",
   "metadata": {},
   "source": [
    "## Dataset\n",
    "\n",
    "If you are on this notebook then you have made a choice in the previous section to go ahead with **CrossValidation-Data**. Let’s understand in more depth what is inside this dataset directory.\n",
    "\n",
    "The CrossValidation-Data directory contains these 4 folder:\n",
    "\n",
    "-   autoGeneFromRealAnno/autoGene_2018_03_22-13_01_25_169/CrossValidation\n",
    "\n",
    "-   out4ApiaiReal/Apiai_trainset_2018_03_22-13_01_25_169/CrossValidation\n",
    "\n",
    "-   out4LuisReal/Luis_trainset_2018_03_22-13_01_25_169/CrossValidation\n",
    "\n",
    "-   out4RasaReal/rasa_json_2018_03_22-13_01_25_169_80Train/CrossValidation\n",
    "\n",
    "-   out4WatsonReal/Watson_2018_03_22-13_01_25_169_trainset/CrossValidation\n",
    "\n",
    "The first directory (autoGeneFromRealAnno/:) contains generated trainset and testset from the annotated csv file. The other four subdirectories (out4ApiaiReal, out4LuisReal, out4RasaReal and out4WatsonReal) in CrossValidation/ are the converted NLU service input data for Dialogflow, LUIS, Rasa and Watson respectively. So we will only be picking the first directory for our use case.\n",
    "\n",
    "Inside the directory “autoGeneFromRealAnno” we have 10 fold data among which we wcan choose any of the fold to train but for now we can go ahead with 1st fold. Inside First fold we have train and test directory respectively and inside the repositories we have 64 csv files which contains intent data for each of the 64 intent.\n",
    "\n",
    "Next we will try to collect the data and store it in a pandas dataframe and then a csv file.\n",
    "\n",
    "------------------------------------------------------------------------"
   ],
   "id": "69371be6-f1ca-40f6-bd1b-0b54512add67"
  },
  {
   "cell_type": "markdown",
   "metadata": {},
   "source": [
    "### importing libraries"
   ],
   "id": "66705720-830a-446b-ada5-e08384ac36c0"
  },
  {
   "cell_type": "code",
   "execution_count": null,
   "metadata": {},
   "outputs": [],
   "source": [
    "import os\n",
    "import pandas as pd\n",
    "import requests\n",
    "from zipfile import ZipFile"
   ],
   "id": "3f21a812-7f91-431b-98c6-07a59b290d5e"
  },
  {
   "cell_type": "markdown",
   "metadata": {},
   "source": [
    "### Clone the Github repository"
   ],
   "id": "878aca63-5eb9-4a0c-b78d-7920f0952ba0"
  },
  {
   "cell_type": "code",
   "execution_count": null,
   "metadata": {},
   "outputs": [],
   "source": [
    "repository_url = 'https://github.com/xliuhw/NLU-Evaluation-Data/archive/refs/heads/master.zip'\n",
    "\n",
    "response = requests.get(repository_url)\n",
    "with open('repository.zip', 'wb') as file:\n",
    "    file.write(response.content)\n",
    "\n",
    "with ZipFile('repository.zip', 'r') as zip_ref:\n",
    "    zip_ref.extractall('repository')"
   ],
   "id": "30f43db9-f57b-4f6e-b7f0-c3e44e9b1612"
  },
  {
   "cell_type": "markdown",
   "metadata": {},
   "source": [
    "### Arranging the relevant data\n",
    "\n",
    "There are two subfolders inside the repository (train and test) and these folder contains many csv files with name as intent.csv where intent is the different types of intents.\n",
    "\n",
    "We will be looping through all the csv files and then create a single file which would contain all the data."
   ],
   "id": "d8ca5ceb-a6b8-41f3-9e49-804f4622832e"
  },
  {
   "cell_type": "code",
   "execution_count": null,
   "metadata": {},
   "outputs": [],
   "source": [
    "data = []\n",
    "for folder in [\"trainset\", \"testset/csv\"]:\n",
    "  csv_files = [file for file in os.listdir(f'repository/NLU-Evaluation-Data-master/CrossValidation/autoGeneFromRealAnno/autoGene_2018_03_22-13_01_25_169/CrossValidation/KFold_1/{folder}') if file.endswith('.csv')]\n",
    "  merged_df = pd.DataFrame()\n",
    "  for csv_file in csv_files:\n",
    "      file_path = f'repository/NLU-Evaluation-Data-master/CrossValidation/autoGeneFromRealAnno/autoGene_2018_03_22-13_01_25_169/CrossValidation/KFold_1/{folder}' '/' + csv_file\n",
    "      df = pd.read_csv(file_path,delimiter=\";\")\n",
    "      merged_df = pd.concat([merged_df, df], ignore_index=True)\n",
    "  data.append(merged_df)"
   ],
   "id": "54cf76b5-6fd9-4c72-b518-1379e5671a87"
  },
  {
   "cell_type": "markdown",
   "metadata": {},
   "source": [
    "### Extracting the relevent columns and then saving the dataframes to a csv file"
   ],
   "id": "5af27304-f2ea-4267-9235-14174e68a015"
  },
  {
   "cell_type": "code",
   "execution_count": null,
   "metadata": {},
   "outputs": [],
   "source": [
    "for i, merged_df in enumerate(data):\n",
    "  merged_df[\"merged\"] = merged_df[\"scenario\"] + \"_\" + merged_df[\"intent\"]\n",
    "  merged_df = merged_df[[\"answer_from_user\", \"merged\"]]\n",
    "  merged_df.columns = [\"speech_text\",\"intent\"]\n",
    "  if i == 0:\n",
    "    merged_df.to_csv('train.csv')\n",
    "  else:\n",
    "    merged_df.to_csv('test.csv')"
   ],
   "id": "e54676fb-c280-4bce-8fed-8d7cbe73933e"
  },
  {
   "cell_type": "markdown",
   "metadata": {},
   "source": [
    "The above cell will produce two csv files as output.\n",
    "\n",
    "-   train.csv\n",
    "\n",
    "-   test.csv\n",
    "\n",
    "------------------------------------------------------------------------"
   ],
   "id": "5ec99d76-f446-4b62-b62b-5461f82b6f4d"
  },
  {
   "cell_type": "markdown",
   "metadata": {},
   "source": [
    "Once we have the data ready, then we can now focus on Augmenting the data.\n",
    "\n",
    "As discussed in the paper, the Authors are following synonym replacement strategy with a special formulae n = α \\* l where n is the number of words that is going to be replaced, α is a constant whose value lies between 0 and 1 and l is the length of the sentence."
   ],
   "id": "f7ced1e3-c38c-4c8a-b7f2-eee101111d64"
  },
  {
   "cell_type": "markdown",
   "metadata": {},
   "source": [
    "Now let’s understand how this synonym replacement works.\n",
    "\n",
    "Suppose we have a sentence “is there an alarm for ten am” Step 1 is to remove the stopwords from the sentence, so now the sentence would be “there alarm ten am”.\n",
    "\n",
    "The length of the sentence now is 4 which is l.\n",
    "\n",
    "Let’s take alpha as 0.6, So, now when we perform calculation we get n = 0.75\\*4, which is equal to 3, So now we will pick three random words and replace then with their synonyms."
   ],
   "id": "68de8a64-e52a-4226-abed-d0ad65a1ce76"
  },
  {
   "cell_type": "markdown",
   "metadata": {},
   "source": [
    "Now when calculating n, there is high probability that the value will be a decimal value and since n can be only an integer, the author never specified that which value of n we are supposed to pick. ie (ceil or floor). Intent classification task has less number of words as input and even if there is difference of one word in the the augmented text due to this ceil, floor confusion, then it may lead to different results.\n",
    "\n",
    "For the data preprocessing we have two notebooks which will focus on both the scenarios taking a ceil value for n and taking a floor value for n.\n",
    "\n",
    "-   [Notebook(DataPreProcess_floor(n))](/3_data_preprocessing_1.ipynb)\n",
    "\n",
    "-   [Notebook(DataPreProcess_ceil(n))](/3_data_preprocessing_2.ipynb)"
   ],
   "id": "ae88b9a3-6461-4f52-a1bd-94fa4a3e6484"
  }
 ],
 "nbformat": 4,
 "nbformat_minor": 5,
 "metadata": {}
}
