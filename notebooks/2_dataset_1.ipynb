{
 "cells": [
  {
   "cell_type": "markdown",
   "metadata": {},
   "source": [
    "### importing libraries"
   ],
   "id": "3bc70787-3a29-4059-982e-3de6e0e06a5e"
  },
  {
   "cell_type": "code",
   "execution_count": null,
   "metadata": {},
   "outputs": [],
   "source": [
    "import os\n",
    "import pandas as pd\n",
    "import requests\n",
    "from zipfile import ZipFile"
   ],
   "id": "fb02d7f7-ee11-451f-ac9b-1587530b2c47"
  },
  {
   "cell_type": "markdown",
   "metadata": {},
   "source": [
    "### Clone the Github repository"
   ],
   "id": "6cd5cee0-0a26-4ab9-8991-da0bef3ab9f7"
  },
  {
   "cell_type": "code",
   "execution_count": null,
   "metadata": {},
   "outputs": [],
   "source": [
    "repository_url = 'https://github.com/xliuhw/NLU-Evaluation-Data/archive/refs/heads/master.zip'\n",
    "\n",
    "response = requests.get(repository_url)\n",
    "with open('repository.zip', 'wb') as file:\n",
    "    file.write(response.content)\n",
    "\n",
    "with ZipFile('repository.zip', 'r') as zip_ref:\n",
    "    zip_ref.extractall('repository')"
   ],
   "id": "0a546155-fb80-4dd3-909b-bc1394fb7946"
  },
  {
   "cell_type": "markdown",
   "metadata": {},
   "source": [
    "### Arranging the relevant data\n",
    "\n",
    "There are two subfolders inside the repository (train and test) and these folder contains many csv files with name as inten.csv where intent is the different types of intents.\n",
    "\n",
    "We will be looping through all the csv files and then create a single file which would contain all the data."
   ],
   "id": "726dc098-90ce-4bde-822d-90998725aacd"
  },
  {
   "cell_type": "code",
   "execution_count": null,
   "metadata": {},
   "outputs": [],
   "source": [
    "data = []\n",
    "for folder in [\"trainset\", \"testset/csv\"]:\n",
    "  csv_files = [file for file in os.listdir(f'repository/NLU-Evaluation-Data-master/CrossValidation/autoGeneFromRealAnno/autoGene_2018_03_22-13_01_25_169/CrossValidation/KFold_1/{folder}') if file.endswith('.csv')]\n",
    "  merged_df = pd.DataFrame()\n",
    "  for csv_file in csv_files:\n",
    "      file_path = f'repository/NLU-Evaluation-Data-master/CrossValidation/autoGeneFromRealAnno/autoGene_2018_03_22-13_01_25_169/CrossValidation/KFold_1/{folder}' '/' + csv_file\n",
    "      df = pd.read_csv(file_path,delimiter=\";\")\n",
    "      merged_df = pd.concat([merged_df, df], ignore_index=True)\n",
    "  data.append(merged_df)"
   ],
   "id": "8da7dafd-71e6-463b-8198-55b00f9f6338"
  },
  {
   "cell_type": "markdown",
   "metadata": {},
   "source": [
    "### Extracting the relevent columns and then saving the dataframes to a csv file"
   ],
   "id": "57d6b6e1-d570-4606-a668-e952a5edc2ca"
  },
  {
   "cell_type": "code",
   "execution_count": null,
   "metadata": {},
   "outputs": [],
   "source": [
    "for i, merged_df in enumerate(data):\n",
    "  merged_df[\"merged\"] = merged_df[\"scenario\"] + \"_\" + merged_df[\"intent\"]\n",
    "  merged_df = merged_df[[\"answer_from_user\", \"merged\"]]\n",
    "  merged_df.columns = [\"speech_text\",\"intent\"]\n",
    "  if i == 0:\n",
    "    merged_df.to_csv('train.csv')\n",
    "  else:\n",
    "    merged_df.to_csv('test.csv')"
   ],
   "id": "6b147b72-8783-47b9-bcad-01efb60055ff"
  },
  {
   "cell_type": "markdown",
   "metadata": {},
   "source": [
    "The above cell will produce two csv files as output.\n",
    "\n",
    "-   train.csv\n",
    "\n",
    "-   test.csv"
   ],
   "id": "e40bc2ed-37ed-4b43-8ad2-f6cf9f01c026"
  }
 ],
 "nbformat": 4,
 "nbformat_minor": 5,
 "metadata": {}
}
