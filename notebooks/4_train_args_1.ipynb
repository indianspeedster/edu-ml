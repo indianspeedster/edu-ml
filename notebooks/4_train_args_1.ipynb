{
 "cells": [
  {
   "cell_type": "markdown",
   "metadata": {},
   "source": [
    "## Setting up Training parameters and Hyperparameters\n",
    "\n",
    "If you have selected this notebook then it is assumed that you have selected to go ahead with SGD (Stochastic Gradient Descent) as the optimizer."
   ],
   "id": "3f66076c-d8dd-4439-8d55-96674502a425"
  },
  {
   "cell_type": "markdown",
   "metadata": {},
   "source": [
    "### Training Parameters and Hyperparameters Explanation\n",
    "\n",
    "1.  **`output_dir`**: Specifies the directory where model checkpoints and training logs will be saved.\n",
    "\n",
    "2.  **`evaluation_strategy`**: Defines the strategy for evaluating the model during training.\n",
    "\n",
    "3.  **`save_strategy`**: Specifies when to save model checkpoints.\n",
    "\n",
    "4.  **`learning_rate`**: Determines the step size at which the optimizer adjusts model weights during training.\n",
    "\n",
    "5.  **`per_device_train_batch_size`**: Specifies the batch size for training data per GPU, impacting memory usage and computational efficiency.\n",
    "\n",
    "6.  **`per_device_eval_batch_size`**: Sets the batch size for evaluation data per GPU, affecting memory and computation during evaluation.\n",
    "\n",
    "7.  **`num_train_epochs`**: Indicates the total number of training epochs, which are complete passes through the training dataset.\n",
    "\n",
    "8.  **`warmup_ratio`**: Determines the ratio of warmup steps to the total number of training steps, helping the optimizer to smoothly adapt in the initial stages of training.\n",
    "\n",
    "9.  **`weight_decay`**: Introduces L2 regularization to the optimizer, helping to prevent overfitting by penalizing large model weights.\n",
    "\n",
    "10. **`load_best_model_at_end`**: Specifies whether to load the best model based on the chosen evaluation metric at the end of training.\n",
    "\n",
    "11. **`metric_for_best_model`**: Specifies the evaluation metric used to determine the best model, which is set to \"accuracy\" in this case.\n",
    "\n",
    "12. **`save_total_limit`**: Sets the maximum number of model checkpoints to keep, preventing excessive storage usage.\n",
    "\n",
    "13. **`logging_dir`**: Designates the directory where training logs, such as training progress and performance metrics, will be stored.\n",
    "\n",
    "14. **`optimizers`**: Specifies the optimizers used for model parameter updates during training, allowing for gradient-based optimization algorithms like AdamW, SGD and many more."
   ],
   "id": "77fc36e6-50a9-4485-8e01-77aafa528308"
  },
  {
   "cell_type": "markdown",
   "metadata": {},
   "source": [
    "## Implementation"
   ],
   "id": "7104870a-e7c5-45ab-9016-fdd38bd71150"
  },
  {
   "cell_type": "markdown",
   "metadata": {},
   "source": [
    "### Importing relevent Library"
   ],
   "id": "73b808c7-bf7d-4f83-aa94-49e5ee3e275a"
  },
  {
   "cell_type": "code",
   "execution_count": null,
   "metadata": {},
   "outputs": [],
   "source": [
    "import json\n"
   ],
   "id": "66e3096d-a325-4fa2-ae0f-edf61f101542"
  },
  {
   "cell_type": "markdown",
   "metadata": {},
   "source": [
    "### Setting up the training arguments"
   ],
   "id": "1bbcb22f-801b-4f1a-82df-e59f8c0ed5ec"
  },
  {
   "cell_type": "code",
   "execution_count": null,
   "metadata": {},
   "outputs": [],
   "source": [
    "args = {\n",
    "    \"output_dir\": \"./output\",\n",
    "    \"evaluation_strategy\": \"epoch\",\n",
    "    \"save_strategy\": \"epoch\",\n",
    "    \"per_device_train_batch_size\": 8,\n",
    "    \"per_device_eval_batch_size\": 8,\n",
    "    \"num_train_epochs\": 10,\n",
    "    \"warmup_ratio\": 0.1,\n",
    "    \"weight_decay\": 0.001,\n",
    "    \"load_best_model_at_end\": True,\n",
    "    \"metric_for_best_model\": \"accuracy\",\n",
    "    \"save_total_limit\": 1,\n",
    "    \"logging_dir\": \"./logs\",\n",
    "    \"optimizer\": \"sgd\"\n",
    "}\n",
    "\n"
   ],
   "id": "e27772c2-6de5-457c-aba3-f2a32d1fe06e"
  },
  {
   "cell_type": "markdown",
   "metadata": {},
   "source": [
    "### Storing the dictionary to a json file"
   ],
   "id": "d2cf5574-644d-4f66-b1ed-61d9198abfd9"
  },
  {
   "cell_type": "code",
   "execution_count": null,
   "metadata": {},
   "outputs": [],
   "source": [
    "\n",
    "with open('args.json', 'w') as args_file:\n",
    "    json.dump(args, args_file, indent=4)\n"
   ],
   "id": "21b89d33-64f3-4b53-bf3b-3d2e9ef65eb8"
  },
  {
   "cell_type": "markdown",
   "metadata": {},
   "source": [
    "## Next Steps:\n",
    "\n",
    "Now we have completed all the steps needed before training a model, The next step is Training the model and obtaining the final result. But wait, the author talked in the paper in Training and evaluation section that they did hyperparameter tuning but they never mentioned that they did it on all three models or just the largest model. Again why this doubt comes because if they are comparing then are they comparing it on the same ground or the models specific performance ?\n",
    "\n",
    "Let’s understand this in details. In our scenario, we are training three models 1) model trained on largest dataset. 2) model trained on full few shot data 3) model trained on full few shot data and it’s augmented version. We are performing hyper parameter search on Learning rate as the author mentioned that they performed search on 4 standard learning rates used for training bert classifier. Now we are confused if we need to perform search on the standard dataset and then use the same on the other two or we are performing seperately on different datasets.\n",
    "\n",
    "So inshort we are left with two choices :\n",
    "\n",
    "-   Hyperparameter tuning on the largest model\n",
    "\n",
    "-   Hyperparameter tuining on all three models\n",
    "\n",
    "It’s upto you that what you are picking, below we have two notebook each with a different choice. Pick your own adventure and see how similar are your results.\n",
    "\n",
    "-   [Notebook(Hyperparameter tuning on the largest model)](/5_model_training_1.ipynb)\n",
    "\n",
    "-   [Notebook(Hyperparameter tuining on all three models)](/5_model_training_2.ipynb)"
   ],
   "id": "9a9954f9-047e-42f0-8cd8-08d50ea316b2"
  }
 ],
 "nbformat": 4,
 "nbformat_minor": 5,
 "metadata": {}
}
