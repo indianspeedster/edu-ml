{
 "cells": [
  {
   "cell_type": "markdown",
   "metadata": {},
   "source": [
    "## Tokenization\n",
    "\n",
    "Tokenization is a fundamental process in natural language processing that plays an important role in results that any of the language model produces. All the major language models have their specific tokenizer. Since the author of the paper used Bert Large Uncased so for our reproducibility process by default we have only one choice of tokenizer. Below are some of the specific task that Bert Large tokenizer will perform:\n",
    "\n",
    "-   Text Segmentation\n",
    "\n",
    "-   Vocabulary Mapping\n",
    "\n",
    "-   Subword Tokenization\n",
    "\n",
    "-   Special Tokens\n",
    "\n",
    "In the next section of this notebook we will be implementing the tokenization step."
   ],
   "id": "1561048c-8d77-4caf-bb99-2457b928b2f4"
  },
  {
   "cell_type": "markdown",
   "metadata": {},
   "source": [
    "### Importing the relevant libraries"
   ],
   "id": "bd33b71d-51db-4935-a82b-9cac0444abee"
  },
  {
   "cell_type": "code",
   "execution_count": null,
   "metadata": {},
   "outputs": [],
   "source": [
    "from transformers import AutoTokenizer\n",
    "import datasets\n",
    "import pickle\n",
    "from tqdm import tqdm"
   ],
   "id": "6755f30d-1a25-4235-a405-b3e22ec4f1b5"
  },
  {
   "cell_type": "markdown",
   "metadata": {},
   "source": [
    "### Setting up tokenizer"
   ],
   "id": "82f278b1-ddeb-4abe-a315-468dc8a6d62d"
  },
  {
   "cell_type": "code",
   "execution_count": null,
   "metadata": {},
   "outputs": [],
   "source": [
    "pre_trained_BERTmodel='bert-large-uncased'\n",
    "BERT_tokenizer=AutoTokenizer.from_pretrained(pre_trained_BERTmodel)"
   ],
   "id": "f6c259b9-1678-4c56-8a13-bef15014c6e6"
  },
  {
   "cell_type": "markdown",
   "metadata": {},
   "source": [
    "### Loading data"
   ],
   "id": "f99aa79f-6575-4b6b-b978-d79b73f5afa9"
  },
  {
   "cell_type": "code",
   "execution_count": null,
   "metadata": {},
   "outputs": [],
   "source": [
    "with open('training_datasets.pkl', 'rb') as file:\n",
    "    training_datasets = pickle.load(file)\n",
    "with open('val_data.pkl', 'rb') as file:\n",
    "    val_data = pickle.load(file)\n",
    "with open('test_data.pkl', 'rb') as file:\n",
    "    test_data = pickle.load(file)\n",
    "with open('augmented_datasets.pkl', 'rb') as file:\n",
    "    augmented_datasets = pickle.load(file)\n",
    "with open('train_data_full.pkl', 'rb') as file:\n",
    "    train_data_full = pickle.load(file)"
   ],
   "id": "c1f90b3b-be67-4d22-acb7-c23e60043dd1"
  },
  {
   "cell_type": "markdown",
   "metadata": {},
   "source": [
    "### Function to tokenize the data"
   ],
   "id": "70625b54-1987-4ebf-9f80-52208f391b1a"
  },
  {
   "cell_type": "code",
   "execution_count": null,
   "metadata": {},
   "outputs": [],
   "source": [
    "def tokenize_data(example):\n",
    "    encoded_input = BERT_tokenizer(example[\"speech_text\"], padding=\"max_length\", truncation=True)\n",
    "    return {\"input_ids\": encoded_input[\"input_ids\"], \"attention_mask\": encoded_input[\"attention_mask\"], \"labels\": example[\"intent\"]}"
   ],
   "id": "8d775feb-8854-4de4-927b-a72e84650eb4"
  },
  {
   "cell_type": "markdown",
   "metadata": {},
   "source": [
    "#### Tokenizing non augmented training data"
   ],
   "id": "60131245-b879-4a39-98a3-d58291523a27"
  },
  {
   "cell_type": "code",
   "execution_count": null,
   "metadata": {},
   "outputs": [],
   "source": [
    "train_dataset=[]\n",
    "for train_data_ in training_datasets:\n",
    "  traindataset = datasets.Dataset.from_pandas(train_data_)\n",
    "  train_dataset.append(traindataset.map(tokenize_data))"
   ],
   "id": "6b520199-78aa-40fe-9f0b-a45c3ef0cc91"
  },
  {
   "cell_type": "markdown",
   "metadata": {},
   "source": [
    "#### Tokenizing augmented training data"
   ],
   "id": "7a6dd896-382e-4e23-bf14-61d8aba6db68"
  },
  {
   "cell_type": "code",
   "execution_count": null,
   "metadata": {},
   "outputs": [],
   "source": [
    "augmented_train_dataset=[]\n",
    "for train_data_ in augmented_datasets:\n",
    "  traindataset = datasets.Dataset.from_pandas(train_data_)\n",
    "  augmented_train_dataset.append(traindataset.map(tokenize_data))"
   ],
   "id": "2b8f1274-003d-4777-8b7d-08babd254f35"
  },
  {
   "cell_type": "markdown",
   "metadata": {},
   "source": [
    "#### Tokenizing validation data"
   ],
   "id": "77a5df8f-0220-4c09-8092-6691c3c06754"
  },
  {
   "cell_type": "code",
   "execution_count": null,
   "metadata": {},
   "outputs": [],
   "source": [
    "val_data = datasets.Dataset.from_pandas(val_data)\n",
    "val_data = val_data.map(tokenize_data)"
   ],
   "id": "02756855-b1ec-4446-a8c7-7284afc63724"
  },
  {
   "cell_type": "markdown",
   "metadata": {},
   "source": [
    "#### Tokenizing test data"
   ],
   "id": "e1b12ea6-2c9e-4f74-a9e2-b3a716bc88a9"
  },
  {
   "cell_type": "code",
   "execution_count": null,
   "metadata": {},
   "outputs": [],
   "source": [
    "testdataset = datasets.Dataset.from_pandas(test_data)\n",
    "test_dataset = testdataset.map(tokenize_data)"
   ],
   "id": "689ed97a-ce5f-452e-94f6-3dc1c2613283"
  },
  {
   "cell_type": "markdown",
   "metadata": {},
   "source": [
    "#### Tokenize full train dataset"
   ],
   "id": "83e60535-4a0f-4d95-b67b-13d0bc7706ed"
  },
  {
   "cell_type": "code",
   "execution_count": null,
   "metadata": {},
   "outputs": [],
   "source": [
    "train_data_full = datasets.Dataset.from_pandas(train_data_full)\n",
    "train_data_full = train_data_full.map(tokenize_data)"
   ],
   "id": "148181a6-c07e-4229-a46f-6b5463bf726f"
  },
  {
   "cell_type": "markdown",
   "metadata": {},
   "source": [
    "## Setting up Training arguments\n",
    "\n",
    "All the steps that we have been performing till now, we are making sure that it follows the exact same as mentioned by the author, The next important step in the process is to set up the model training arguments, different arguments may produce different results so it’s important to make sure that the implementation is same as what author did. also in the last notebook we had to make assumption on using the specific optimizer, here we will be using that optimizer and see that how it effects the final result."
   ],
   "id": "f9769ee8-3fc6-4e13-aab3-a154aabf1749"
  },
  {
   "cell_type": "markdown",
   "metadata": {},
   "source": [
    "#### Training Arguments Explanation\n",
    "\n",
    "1.  **`output_dir`**: Specifies the directory where model checkpoints and training logs will be saved.\n",
    "\n",
    "2.  **`evaluation_strategy`**: Defines the strategy for evaluating the model during training. Here, it's set to \"epoch,\" meaning evaluation occurs after each epoch.\n",
    "\n",
    "3.  **`save_strategy`**: Specifies when to save model checkpoints. In this case, it's set to \"epoch,\" indicating checkpoints are saved after each epoch.\n",
    "\n",
    "4.  **`learning_rate`**: Determines the step size at which the optimizer adjusts model weights during training.\n",
    "\n",
    "5.  **`per_device_train_batch_size`**: Specifies the batch size for training data per GPU, impacting memory usage and computational efficiency.\n",
    "\n",
    "6.  **`per_device_eval_batch_size`**: Sets the batch size for evaluation data per GPU, affecting memory and computation during evaluation.\n",
    "\n",
    "7.  **`num_train_epochs`**: Indicates the total number of training epochs, which are complete passes through the training dataset.\n",
    "\n",
    "8.  **`warmup_ratio`**: Determines the ratio of warmup steps to the total number of training steps, helping the optimizer to smoothly adapt in the initial stages of training.\n",
    "\n",
    "9.  **`weight_decay`**: Introduces L2 regularization to the optimizer, helping to prevent overfitting by penalizing large model weights.\n",
    "\n",
    "10. **`load_best_model_at_end`**: Specifies whether to load the best model based on the chosen evaluation metric at the end of training.\n",
    "\n",
    "11. **`metric_for_best_model`**: Specifies the evaluation metric used to determine the best model, which is set to \"accuracy\" in this case.\n",
    "\n",
    "12. **`save_total_limit`**: Sets the maximum number of model checkpoints to keep, preventing excessive storage usage.\n",
    "\n",
    "13. **`logging_dir`**: Designates the directory where training logs, such as training progress and performance metrics, will be stored.\n",
    "\n",
    "14. **`optimizers`**: Specifies the optimizers used for model parameter updates during training, allowing for gradient-based optimization algorithms like AdamW, SGD and many more."
   ],
   "id": "9250a4fa-1718-451a-83e9-3667c7142888"
  },
  {
   "cell_type": "code",
   "execution_count": null,
   "metadata": {},
   "outputs": [],
   "source": [
    "def create_training_arguments_and_optimizer(lr):\n",
    "    args = TrainingArguments(\n",
    "        output_dir=\"./output\",\n",
    "        evaluation_strategy=\"epoch\",\n",
    "        save_strategy=\"epoch\",\n",
    "        learning_rate=lr,\n",
    "        per_device_train_batch_size=8,\n",
    "        per_device_eval_batch_size=8,\n",
    "        num_train_epochs=3,\n",
    "        warmup_ratio=0.1,\n",
    "        weight_decay=0.001,\n",
    "        load_best_model_at_end=True,\n",
    "        metric_for_best_model=\"accuracy\",\n",
    "        save_total_limit=1,\n",
    "        logging_dir=\"./logs\",\n",
    "    )\n",
    "\n",
    "    optimizer = optim.SGD(args.model.parameters(), lr=args.learning_rate, weight_decay=args.weight_decay, momentum=0.9)\n",
    "\n",
    "    return args, optimizer"
   ],
   "id": "54fe4df7-3309-4228-9aa1-1547163ad6de"
  },
  {
   "cell_type": "markdown",
   "metadata": {},
   "source": [
    "### Store tokenized data and Training Arguments"
   ],
   "id": "68f8b7c0-dfe4-43be-a313-412555c72f3c"
  },
  {
   "cell_type": "code",
   "execution_count": null,
   "metadata": {},
   "outputs": [],
   "source": [
    "with open('train_dataset_tokenized.pkl', 'wb') as file:\n",
    "    pickle.dump(train_dataset, file)\n",
    "with open('val_data_tokenized.pkl', 'wb') as file:\n",
    "    pickle.dump(val_data, file)\n",
    "with open('test_data_tokenized.pkl', 'wb') as file:\n",
    "    pickle.dump(test_dataset, file)\n",
    "with open('augmented_train_dataset_tokenized.pkl', 'wb') as file:\n",
    "    pickle.dump(augmented_train_dataset, file)\n",
    "with open('train_dataset_full_tokenized.pkl', 'wb') as file:\n",
    "    pickle.dump(list(train_data_full), file)\n",
    "with open('function_train_args.pkl', 'wb') as f:\n",
    "    pickle.dump(create_training_arguments_and_optimizer, f)"
   ],
   "id": "0dff0751-e38a-4818-a4de-c37820314443"
  },
  {
   "cell_type": "markdown",
   "metadata": {},
   "source": [
    "### Output\n",
    "\n",
    "This notebook will generate 6 files as mentioned below :\n",
    "\n",
    "-   train_dataset_tokenized.pkl\n",
    "\n",
    "-   val_data_tokenized.pkl\n",
    "\n",
    "-   test_data_tokenized.pkl\n",
    "\n",
    "-   augmented_train_dataset_tokenized.pkl\n",
    "\n",
    "-   train_dataset_full_tokenized.pkl\n",
    "\n",
    "-   function_train_args.pkl"
   ],
   "id": "4e559d65-1c69-48c9-981e-3556e9f6577f"
  },
  {
   "cell_type": "markdown",
   "metadata": {},
   "source": [
    "## Next Steps:\n",
    "\n",
    "Now we have completed all the steps needed before training a model, The next step is Training the model and obtaining the final result. But wait, the author talked in the paper in Training and evaluation section that they did hyperparameter tuning but they never mentioned that they did it on all three models or just the largest model. Again why this doubt comes because if they are comparing then are they comparing it on the same ground or the models specific performance ?\n",
    "\n",
    "So again now we are left with two choices\n",
    "\n",
    "-   Hyperparameter tuning on the largest model\n",
    "\n",
    "-   Hyperparameter tuining on all three models\n",
    "\n",
    "It’s upto you that what you are picking, below we have two notebook each with a different choice. Pick your own adventure and see how similar are your results.\n",
    "\n",
    "-   [Notebook(Hyperparameter tuning on the largest model)](/)\n",
    "\n",
    "-   [Notebook(Hyperparameter tuining on all three models)](/)"
   ],
   "id": "5fec7aaa-ee5f-4624-8a33-c8b975c9580b"
  }
 ],
 "nbformat": 4,
 "nbformat_minor": 5,
 "metadata": {}
}
