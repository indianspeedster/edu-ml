{
 "cells": [
  {
   "cell_type": "markdown",
   "metadata": {},
   "source": [
    "## Setting up Training parameters and Hyperparameters\n",
    "\n",
    "If you have selected this notebook then it is assumed that you have selected to go ahead with AdamW (Adam with weight decay) as the optimizer."
   ],
   "id": "8b607c1a-61e4-4351-98cf-414583522320"
  },
  {
   "cell_type": "markdown",
   "metadata": {},
   "source": [
    "### Training Parameters and Hyperparameters Explanation\n",
    "\n",
    "1.  **`output_dir`**: Specifies the directory where model checkpoints and training logs will be saved.\n",
    "\n",
    "2.  **`evaluation_strategy`**: Defines the strategy for evaluating the model during training.\n",
    "\n",
    "3.  **`save_strategy`**: Specifies when to save model checkpoints.\n",
    "\n",
    "4.  **`learning_rate`**: Determines the step size at which the optimizer adjusts model weights during training.\n",
    "\n",
    "5.  **`per_device_train_batch_size`**: Specifies the batch size for training data per GPU, impacting memory usage and computational efficiency.\n",
    "\n",
    "6.  **`per_device_eval_batch_size`**: Sets the batch size for evaluation data per GPU, affecting memory and computation during evaluation.\n",
    "\n",
    "7.  **`num_train_epochs`**: Indicates the total number of training epochs, which are complete passes through the training dataset.\n",
    "\n",
    "8.  **`warmup_ratio`**: Determines the ratio of warmup steps to the total number of training steps, helping the optimizer to smoothly adapt in the initial stages of training.\n",
    "\n",
    "9.  **`weight_decay`**: Introduces L2 regularization to the optimizer, helping to prevent overfitting by penalizing large model weights.\n",
    "\n",
    "10. **`load_best_model_at_end`**: Specifies whether to load the best model based on the chosen evaluation metric at the end of training.\n",
    "\n",
    "11. **`metric_for_best_model`**: Specifies the evaluation metric used to determine the best model, which is set to \"accuracy\" in this case.\n",
    "\n",
    "12. **`save_total_limit`**: Sets the maximum number of model checkpoints to keep, preventing excessive storage usage.\n",
    "\n",
    "13. **`logging_dir`**: Designates the directory where training logs, such as training progress and performance metrics, will be stored.\n",
    "\n",
    "14. **`optimizers`**: Specifies the optimizers used for model parameter updates during training, allowing for gradient-based optimization algorithms like AdamW, SGD and many more."
   ],
   "id": "972a0aef-1b96-481a-9e2b-6d637558f4a0"
  },
  {
   "cell_type": "markdown",
   "metadata": {},
   "source": [
    "## Implementation"
   ],
   "id": "87fd9407-e23f-4a50-8de3-5c2757a68bb6"
  },
  {
   "cell_type": "markdown",
   "metadata": {},
   "source": [
    "### Importing relevent Library"
   ],
   "id": "21267a1e-611b-4010-bca9-75fbb757cc5a"
  },
  {
   "cell_type": "code",
   "execution_count": null,
   "metadata": {},
   "outputs": [],
   "source": [
    "import json\n"
   ],
   "id": "b678d32a-bab8-4084-9c39-eae48df9aa35"
  },
  {
   "cell_type": "markdown",
   "metadata": {},
   "source": [
    "### Setting up the training arguments"
   ],
   "id": "2a20b91e-60d9-4281-9e7f-68cc171c0fa8"
  },
  {
   "cell_type": "code",
   "execution_count": null,
   "metadata": {},
   "outputs": [],
   "source": [
    "args = {\n",
    "    \"output_dir\": \"./output\",\n",
    "    \"evaluation_strategy\": \"epoch\",\n",
    "    \"save_strategy\": \"epoch\",\n",
    "    \"per_device_train_batch_size\": 8,\n",
    "    \"per_device_eval_batch_size\": 8,\n",
    "    \"num_train_epochs\": 10,\n",
    "    \"warmup_ratio\": 0.1,\n",
    "    \"weight_decay\": 0.001,\n",
    "    \"load_best_model_at_end\": True,\n",
    "    \"metric_for_best_model\": \"accuracy\",\n",
    "    \"save_total_limit\": 1,\n",
    "    \"logging_dir\": \"./logs\",\n",
    "    \"optimizer\": \"AdamW\"\n",
    "}\n",
    "\n"
   ],
   "id": "dde7c698-6bbd-4a8b-a3ad-202e1b2845aa"
  },
  {
   "cell_type": "markdown",
   "metadata": {},
   "source": [
    "### Storing the dictionary to a json file"
   ],
   "id": "8060c009-6f9f-469c-b7dd-2f7919aec65f"
  },
  {
   "cell_type": "code",
   "execution_count": null,
   "metadata": {},
   "outputs": [],
   "source": [
    "\n",
    "with open('args.json', 'w') as args_file:\n",
    "    json.dump(args, args_file, indent=4)\n"
   ],
   "id": "e11b6dfa-461e-4897-a775-574777961ea2"
  },
  {
   "cell_type": "markdown",
   "metadata": {},
   "source": [
    "## Next Steps:\n",
    "\n",
    "Now we have completed all the steps needed before training a model, The next step is Training the model and obtaining the final result. But wait, the author talked in the paper in Training and evaluation section that they did hyperparameter tuning but they never mentioned that they did it on all three models or just the largest model. Again why this doubt comes because if they are comparing then are they comparing it on the same ground or the models specific performance ?\n",
    "\n",
    "Let’s understand this in details. In our scenario, we are training three models 1) model trained on largest dataset. 2) model trained on full few shot data 3) model trained on full few shot data and it’s augmented version. We are performing hyper parameter search on Learning rate as the author mentioned that they performed search on 4 standard learning rates used for training bert classifier. Now we are confused if we need to perform search on the standard dataset and then use the same on the other two or we are performing seperately on different datasets.\n",
    "\n",
    "So inshort we are left with two choices :\n",
    "\n",
    "-   Hyperparameter tuning on the largest model\n",
    "\n",
    "-   Hyperparameter tuining on all three models\n",
    "\n",
    "It’s upto you that what you are picking, below we have two notebook each with a different choice. Pick your own adventure and see how similar are your results.\n",
    "\n",
    "-   [Notebook(Hyperparameter tuning on the largest model)](/5_model_training_1.ipynb)\n",
    "\n",
    "-   [Notebook(Hyperparameter tuining on all three models)](/5_model_training_2.ipynb)"
   ],
   "id": "1799c335-f1b8-42a6-9a25-586b73d1ed66"
  }
 ],
 "nbformat": 4,
 "nbformat_minor": 5,
 "metadata": {}
}
