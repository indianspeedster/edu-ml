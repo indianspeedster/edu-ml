{
 "cells": [
  {
   "cell_type": "markdown",
   "metadata": {},
   "source": [
    "# Data Augmentation, Preprocessing and Tokenization\n",
    "\n",
    "If you are on this notebook then you have made a choice in the previous section to go ahead with ceil value while calculating n.\n",
    "\n",
    "Let’s understand this data augmentation strategy in depth with an example,\n",
    "\n",
    "since alpha is a constant , we will fix alpha as 0.75\n",
    "\n",
    "example 1: “what do you know about Fringe in Edinburgh next year?”\n",
    "\n",
    "step1 : count the length of total words without stopwords. So we have l = 7\n",
    "\n",
    "step2 : calculate n using n = alpha \\* l, substituting the value of n and alpha we have n = 0.75\\*7, n = 5.25.\n",
    "\n",
    "step3 : Since we choosed to go with the ceil value for n, we will take n = 6.\n",
    "\n",
    "step4 : we will pick 6 random words and then subsitute them with their synonyms.\n",
    "\n",
    "Now, what difference would it make if we pick the ceil value instead of the floor ?\n",
    "\n",
    "So, when we see our data, the speech text is short where the number of words lies in the range (4, 16) so one word can make a difference in the model, It is important note that ceil value or floor value while calculating “n” may create an impact in the final results.\n",
    "\n",
    "Let’s implement the augmentation strategy with ceil value of “n” while calculating n = alpha\\*l"
   ],
   "id": "971f37af-c0e0-4821-be97-7da4b1a16abe"
  },
  {
   "cell_type": "markdown",
   "metadata": {},
   "source": [
    "### Importing relevent libraries\n",
    "\n",
    "The imports also include libraries which will be used further in different sections of the notebook."
   ],
   "id": "97eb2044-1a25-416a-8174-b0d0c159a574"
  },
  {
   "cell_type": "code",
   "execution_count": null,
   "metadata": {},
   "outputs": [],
   "source": [
    "import pandas as pd\n",
    "import nltk\n",
    "nltk.download('stopwords')\n",
    "nltk.download('wordnet')\n",
    "from nltk.corpus import stopwords\n",
    "from nltk.corpus import wordnet\n",
    "import random\n",
    "from sklearn.model_selection import train_test_split\n",
    "from sklearn.preprocessing import LabelEncoder\n",
    "import pickle\n",
    "from transformers import AutoTokenizer\n",
    "import datasets\n",
    "from tqdm import tqdm\n",
    "import math\n",
    "seed=123"
   ],
   "id": "689fb360-3ec1-4865-8870-e1e327ff0ba8"
  },
  {
   "cell_type": "markdown",
   "metadata": {},
   "source": [
    "#### Data Augmentation function"
   ],
   "id": "1b71c1b2-1275-4e3c-bceb-af2069bdbf6b"
  },
  {
   "cell_type": "code",
   "execution_count": null,
   "metadata": {},
   "outputs": [],
   "source": [
    "def augmentation(sentence, alpha=0.75 ):\n",
    "  sentence = sentence.split(\" \")\n",
    "  word_index = [i for i in range(len(sentence)) if sentence[i].lower() not in stop_words]\n",
    "  n = math.ceil(alpha*len(word_index))\n",
    "  n_random = random.sample(word_index, n)\n",
    "  for num in n_random:\n",
    "    word = sentence[num]\n",
    "    synonyms = []\n",
    "    for synset in wordnet.synsets(word):\n",
    "      for synonym in synset.lemmas():\n",
    "        synonyms.append(synonym.name())\n",
    "    if len(synonyms)>=2:\n",
    "      sentence[num] = synonyms[1]\n",
    "    else:\n",
    "      pass\n",
    "  return \" \".join(sentence)"
   ],
   "id": "09cac3be-8646-4116-ad47-0708945a4f90"
  },
  {
   "cell_type": "markdown",
   "metadata": {},
   "source": [
    "Now, we are done with our data augmentation function, next we will work on data preprocessing, applying data augmentation strategy and tokenizing the data which will make our data ready to be trained.\n",
    "\n",
    "------------------------------------------------------------------------"
   ],
   "id": "4e47723d-71a0-4920-abb5-b2cc19d7466b"
  },
  {
   "cell_type": "markdown",
   "metadata": {},
   "source": [
    "From the last Notebook we obtained train.csv and test.csv file, these files contains raw data and the data preprocessing step will act as a bridge between raw data and the final result which we are focused to achieve. Data preprocessing can have a major impact on the final results so it’s crucial to thoroughly understand what the authors did and how you could follow the same strategy.\n",
    "\n",
    "From our understanding of the paper, The author did these three major steps:\n",
    "\n",
    "-   Encoding the labels: A machine learning model always needs a number as input instead of raw text data, so label encoding is a crucial step here.\n",
    "\n",
    "-   Sampling for full few shot Learning : The full few shot setup requires 10 samples for each label, so the author randomly took 10 samples from the dataset. it’s important to make sure that you are picking unique samples. Since the author is experimenting on a 3 fold data so we will pick 30 samples and make 3 fold dataset with 10 samples each.\n",
    "\n",
    "-   Data Augmentation : The next step which author followed was implementing the data augmentation strategy and then apply the same of the previously selected 10 samples for each intent. Again the augmentation will be applied on 3 fold dataset.\n",
    "\n",
    "-   Tokenization : The last step in this notebook will be to tokenize the data, since machine learning model only understands numerical form of data, so it’s necessary to make the data in the form of tokens and this process is known as tokenization.\n",
    "\n",
    "Once we are done with the above 4 steps we will store the data and make it available for use in the next part of Reproducibility.\n",
    "\n",
    "------------------------------------------------------------------------"
   ],
   "id": "2c0fe1a1-d504-47f2-a5d1-332a662004e2"
  },
  {
   "cell_type": "markdown",
   "metadata": {},
   "source": [
    "### Loading the train and test data"
   ],
   "id": "9ad37e88-ee58-4081-b710-6fd9a05d7e44"
  },
  {
   "cell_type": "code",
   "execution_count": null,
   "metadata": {},
   "outputs": [],
   "source": [
    "train_data = pd.read_csv(\"train.csv\")\n",
    "test_data = pd.read_csv(\"test.csv\")"
   ],
   "id": "96f9fd76-860e-43f7-b264-c6696a424abf"
  },
  {
   "cell_type": "markdown",
   "metadata": {},
   "source": [
    "### Encode the labels"
   ],
   "id": "16c8c689-ca29-4511-9c8a-61fa09902e6c"
  },
  {
   "cell_type": "code",
   "execution_count": null,
   "metadata": {},
   "outputs": [],
   "source": [
    "le=LabelEncoder()\n",
    "train_data['intent']=le.fit_transform(train_data['intent'])\n",
    "test_data['intent']=le.transform(test_data['intent'])\n",
    "train_data = train_data.drop(\"Unnamed: 0\", axis=1)"
   ],
   "id": "81080654-350d-4fbd-9f43-cd968c376180"
  },
  {
   "cell_type": "markdown",
   "metadata": {},
   "source": [
    "### Split the training data to train and validation\n",
    "\n",
    "we are again spliting the data into train and validation as when we train our model the best model while training will be selected on the basis of the validation data accuracy. ie(The model will be considered as the best model on a specific epoch when that epoch has the highest validation accuraccy.)"
   ],
   "id": "5d682af4-818f-4b72-9186-1e55d94370f6"
  },
  {
   "cell_type": "code",
   "execution_count": null,
   "metadata": {},
   "outputs": [],
   "source": [
    "df_train,val_data=train_test_split(train_data,test_size=0.10 ,random_state=seed, shuffle=True)"
   ],
   "id": "6bea15ee-c49a-4c45-91b7-2af2bbab83e6"
  },
  {
   "cell_type": "markdown",
   "metadata": {},
   "source": [
    "### Get random 30 samples from training data"
   ],
   "id": "d8e67763-fb53-42f1-acd6-48e50e7fb248"
  },
  {
   "cell_type": "code",
   "execution_count": null,
   "metadata": {},
   "outputs": [],
   "source": [
    "# Getting the unique intent\n",
    "unique_labels = df_train['intent'].unique()\n",
    "# Creating an empty dataframe to store all the values\n",
    "sampled_df = pd.DataFrame()\n",
    "#Iterating through each label and take random 30 samples from it\n",
    "for label in unique_labels:\n",
    "    label_df = df_train[df_train['intent'] == label]\n",
    "    samples = label_df.sample(n=30, random_state=seed)\n",
    "    sampled_df = sampled_df.append(samples)\n",
    "sampled_df.reset_index(drop=True, inplace=True)"
   ],
   "id": "819e9183-b96e-450c-9361-d872a16d7721"
  },
  {
   "cell_type": "markdown",
   "metadata": {},
   "source": [
    "### create 3 unique 10-shot dataset from previous sampled data"
   ],
   "id": "9fee211b-d984-4134-b7c2-e21a11f42f07"
  },
  {
   "cell_type": "code",
   "execution_count": null,
   "metadata": {},
   "outputs": [],
   "source": [
    "df = sampled_df\n",
    "# Create a column sample and mark it all as False and when you pick a sample mark them as True. This will make sure that you are not repeating the same sample again.\n",
    "df['sampled'] = False\n",
    "\n",
    "#creating a list to store the 10 shot dataset\n",
    "training_datasets = []\n",
    "\n",
    "for i in range(3):\n",
    "    dataset = pd.DataFrame()\n",
    "    for label in df['intent'].unique():\n",
    "        label_df = df[(df['intent'] == label) & (df['sampled'] == False)]\n",
    "        if len(label_df) >= 10:\n",
    "            samples = label_df.sample(n=10)\n",
    "            df.loc[samples.index, 'sampled'] = True\n",
    "            dataset = pd.concat([dataset, samples])\n",
    "        else:\n",
    "            samples = label_df\n",
    "            df.loc[samples.index, 'sampled'] = True\n",
    "            dataset = pd.concat([dataset, samples])\n",
    "    dataset = dataset.drop(\"sampled\",axis=1)\n",
    "    dataset = dataset.reset_index(drop=True)\n",
    "    training_datasets.append(dataset)\n",
    "\n",
    "# The output of this cell will create a list training_datasets which contains 3 10-shot dataset"
   ],
   "id": "d211a76e-1e0c-44fe-8ce7-ffb72613aad3"
  },
  {
   "cell_type": "markdown",
   "metadata": {},
   "source": [
    "### Store data"
   ],
   "id": "2cb239f6-f92d-4b46-a5a3-f87407375a93"
  },
  {
   "cell_type": "code",
   "execution_count": null,
   "metadata": {},
   "outputs": [],
   "source": [
    "with open('training_datasets.pkl', 'wb') as file:\n",
    "    pickle.dump(training_datasets, file)\n",
    "with open('val_data.pkl', 'wb') as file:\n",
    "    pickle.dump(val_data, file)\n",
    "with open('test_data.pkl', 'wb') as file:\n",
    "    pickle.dump(test_data, file)\n",
    "with open('train_data_full.pkl', 'wb') as file:\n",
    "    pickle.dump(train_data, file)"
   ],
   "id": "e54a8c43-5bba-485d-8447-9d57bb29af96"
  },
  {
   "cell_type": "markdown",
   "metadata": {},
   "source": [
    "## Augmentating data"
   ],
   "id": "adca65a8-870b-41a1-97c2-e5f7e58ac369"
  },
  {
   "cell_type": "code",
   "execution_count": null,
   "metadata": {},
   "outputs": [],
   "source": [
    "#loading stop words\n",
    "stop_words = set(stopwords.words('english'))"
   ],
   "id": "4cd8cd53-8a9e-4ee5-a0a3-624467cd3b17"
  },
  {
   "cell_type": "markdown",
   "metadata": {},
   "source": [
    "### Apply data augmentation on each of the three training datasets"
   ],
   "id": "60117e7f-f080-4053-900e-3cdf52b6c4ed"
  },
  {
   "cell_type": "code",
   "execution_count": null,
   "metadata": {},
   "outputs": [],
   "source": [
    "augmented_datasets = []\n",
    "for train_data in training_datasets:\n",
    "  augmented_data = train_data.copy()\n",
    "  augmented_data[\"speech_text\"] = augmented_data[\"speech_text\"].apply(augmentation, alpha=0.6)\n",
    "  augmented_data = pd.concat([train_data, augmented_data])\n",
    "  augmented_datasets.append(augmented_data)"
   ],
   "id": "8fdb2bc3-abc2-432c-8e19-de92d0ae9f40"
  },
  {
   "cell_type": "markdown",
   "metadata": {},
   "source": [
    "## Tokenization\n",
    "\n",
    "Tokenization is a fundamental process in natural language processing that plays an important role in results that any of the language model produces. All the major language models have their specific tokenizer. Since the author of the paper used Bert Large Uncased so for our reproducibility process by default we have only one choice of tokenizer. Below are some of the specific task that Bert Large tokenizer will perform:\n",
    "\n",
    "-   Text Segmentation\n",
    "\n",
    "-   Vocabulary Mapping\n",
    "\n",
    "-   Subword Tokenization\n",
    "\n",
    "-   Special Tokens\n",
    "\n",
    "In the next section of this notebook we will be implementing the tokenization step.\n",
    "\n",
    ":::"
   ],
   "id": "200d9180-46fa-4c58-afe3-bea5e1c53c72"
  },
  {
   "cell_type": "markdown",
   "metadata": {},
   "source": [
    "### Setting up tokenizer"
   ],
   "id": "d0d72240-c624-4eea-8774-d5d7d51271e5"
  },
  {
   "cell_type": "code",
   "execution_count": null,
   "metadata": {},
   "outputs": [],
   "source": [
    "pre_trained_BERTmodel='bert-large-uncased'\n",
    "BERT_tokenizer=AutoTokenizer.from_pretrained(pre_trained_BERTmodel)"
   ],
   "id": "9e7a323f-790f-4d93-82f9-2e7b6cd7e848"
  },
  {
   "cell_type": "markdown",
   "metadata": {},
   "source": [
    "We have below mentioned 5 dataset to tokenize\n",
    "\n",
    "-   **training_datasets** : This contains a list which has 3 full few shot data of 10 samples each.\n",
    "\n",
    "-   **val_data** : This contains data in the form of a pandas dataframe which will be used as validation data while training the model.\n",
    "\n",
    "-   **test_data** : This contains data in the form of a pandas dataframe whille be used as test data for the model.\n",
    "\n",
    "-   **augmented_datasets** : This contains a list of 3 pandas datafram where each dataframe has 20 samples which contains 10 original and 10 augmented version of the original data.\n",
    "\n",
    "-   **train_data_full** : This contains a pandas data frame with entire training data."
   ],
   "id": "0ad70b52-3729-4fe5-ac11-aa2c9b319fd2"
  },
  {
   "cell_type": "markdown",
   "metadata": {},
   "source": [
    "### Function to tokenize the data"
   ],
   "id": "4f83c5b3-7219-485f-8de7-77bd329f20cc"
  },
  {
   "cell_type": "code",
   "execution_count": null,
   "metadata": {},
   "outputs": [],
   "source": [
    "def tokenize_data(example):\n",
    "    encoded_input = BERT_tokenizer(example[\"speech_text\"], padding=\"max_length\", truncation=True)\n",
    "    return {\"input_ids\": encoded_input[\"input_ids\"], \"attention_mask\": encoded_input[\"attention_mask\"], \"labels\": example[\"intent\"]}"
   ],
   "id": "5bd40314-fd8d-4642-b15e-78c25066c70c"
  },
  {
   "cell_type": "markdown",
   "metadata": {},
   "source": [
    "#### Tokenizing non augmented training data"
   ],
   "id": "1bb85a58-8ead-4842-affe-41a5e9c049ad"
  },
  {
   "cell_type": "code",
   "execution_count": null,
   "metadata": {},
   "outputs": [],
   "source": [
    "train_dataset=[]\n",
    "for train_data_ in training_datasets:\n",
    "  traindataset = datasets.Dataset.from_pandas(train_data_)\n",
    "  train_dataset.append(traindataset.map(tokenize_data))"
   ],
   "id": "687c76de-d29e-4496-af0e-58b3a148799e"
  },
  {
   "cell_type": "markdown",
   "metadata": {},
   "source": [
    "#### Tokenizing augmented training data"
   ],
   "id": "14c234c0-8b4f-4583-a1bf-abe5ff2769a9"
  },
  {
   "cell_type": "code",
   "execution_count": null,
   "metadata": {},
   "outputs": [],
   "source": [
    "augmented_train_dataset=[]\n",
    "for train_data_ in augmented_datasets:\n",
    "  traindataset = datasets.Dataset.from_pandas(train_data_)\n",
    "  augmented_train_dataset.append(traindataset.map(tokenize_data))"
   ],
   "id": "4e7b08f4-72ff-43a4-8741-d8ab32e0f3ff"
  },
  {
   "cell_type": "markdown",
   "metadata": {},
   "source": [
    "#### Tokenizing validation data"
   ],
   "id": "c626a225-3ce4-496b-a0e1-f264b07b8604"
  },
  {
   "cell_type": "code",
   "execution_count": null,
   "metadata": {},
   "outputs": [],
   "source": [
    "val_data = datasets.Dataset.from_pandas(val_data)\n",
    "val_data = val_data.map(tokenize_data)"
   ],
   "id": "ebf049fa-f4fa-4df4-9bff-5631b487e09e"
  },
  {
   "cell_type": "markdown",
   "metadata": {},
   "source": [
    "#### Tokenizing test data"
   ],
   "id": "5728c173-60cd-4f65-9435-558253ae0a6b"
  },
  {
   "cell_type": "code",
   "execution_count": null,
   "metadata": {},
   "outputs": [],
   "source": [
    "testdataset = datasets.Dataset.from_pandas(test_data)\n",
    "test_dataset = testdataset.map(tokenize_data)"
   ],
   "id": "8325c5c2-c75b-483d-9733-fef97cb736a3"
  },
  {
   "cell_type": "markdown",
   "metadata": {},
   "source": [
    "#### Tokenize full train dataset"
   ],
   "id": "d949c7ba-0590-485d-94e6-f36a9c607b25"
  },
  {
   "cell_type": "code",
   "execution_count": null,
   "metadata": {},
   "outputs": [],
   "source": [
    "train_data_full = datasets.Dataset.from_pandas(train_data_full)\n",
    "train_data_full = train_data_full.map(tokenize_data)"
   ],
   "id": "b9055b94-ee70-4e08-8b04-ce9ca9ea85f0"
  },
  {
   "cell_type": "markdown",
   "metadata": {},
   "source": [
    "### Store tokenized data"
   ],
   "id": "50f9d5c5-0ca2-497b-b4ac-25a7876d4e93"
  },
  {
   "cell_type": "code",
   "execution_count": null,
   "metadata": {},
   "outputs": [],
   "source": [
    "with open('train_dataset_tokenized.pkl', 'wb') as file:\n",
    "    pickle.dump(train_dataset, file)\n",
    "with open('val_data_tokenized.pkl', 'wb') as file:\n",
    "    pickle.dump(val_data, file)\n",
    "with open('test_data_tokenized.pkl', 'wb') as file:\n",
    "    pickle.dump(test_dataset, file)\n",
    "with open('augmented_train_dataset_tokenized.pkl', 'wb') as file:\n",
    "    pickle.dump(augmented_train_dataset, file)\n",
    "with open('train_dataset_full_tokenized.pkl', 'wb') as file:\n",
    "    pickle.dump(list(train_data_full), file)"
   ],
   "id": "2baa10f3-e433-44d8-ab62-3a4d4b0f155a"
  },
  {
   "cell_type": "markdown",
   "metadata": {},
   "source": [
    "## Output of this Notebook\n",
    "\n",
    "This notebook will generate 4 files as mentioned below :\n",
    "\n",
    "-   training_datasets.pkl\n",
    "\n",
    "-   val_data.pkl\n",
    "\n",
    "-   test_data.pkl\n",
    "\n",
    "-   augmented_datasets.pkl"
   ],
   "id": "d7f075b1-7a57-445a-8bf5-73cfbfa6cb55"
  },
  {
   "cell_type": "markdown",
   "metadata": {},
   "source": [
    "During our data preprocessing steps we made sure the three things cleaning, transforming, and organizing data before it’s fed into a model. It’s important to follow the exact same preprocessing pipeline to ensure that the data is consistent and prepared in the same way as in the original study. If we have made a wrong assumption then it would lead to a different outcome and inaccurate results.\n",
    "\n",
    "------------------------------------------------------------------------"
   ],
   "id": "1df38d87-ed63-447f-af58-f12094c19495"
  },
  {
   "cell_type": "markdown",
   "metadata": {},
   "source": [
    "## Next steps\n",
    "\n",
    "Now we are done with data preprocessing, data augmentation and tokenization. Now our data is ready to be fed to the model for training. But befor that we need to set up the training parameters and hyper parameters for our model.\n",
    "\n",
    "When we see the paper, the paper talked about the hyperparameters such as epochs and batch size but for rest they said they used standard hyperparameters for Bert Large models. But when we researched we found that there is no specific optimizer for BERT large models, it depends upon task. so for our Classification task we were left with many choices but when it comes to picking two standard optimizer for this task we are left with two below mentioned options:\n",
    "\n",
    "-   [SGD (Stochastic Gradient Descent)](/): It is an optimization algorithm used to train machine learning models by iteratively adjusting model parameters using randomly selected mini-batches of data, with the goal of minimizing the loss function.\n",
    "\n",
    "-   [Adamw](/) : AdamW optimization is a stochastic gradient descent method that is based on adaptive estimation of first-order and second-order moments with an added method to decay weights per the techniques discussed in the paper, ‘Decoupled Weight Decay Regularization’ by Loshchilov, Hutter et al., 2019.\n",
    "\n",
    "Considering the above mentioned 2 choices we have created two notebooks, The first notebook uses AdamW and the second notebook uses SGD. You can pick your own choice and see what are the results :\n",
    "\n",
    "-   [Notebook(Tokenization + Adamw as optimizer)](/4_train_args_1.ipynb)\n",
    "\n",
    "-   [Notebook(Tokenization + SGD as optimizer)](/4_train_args_2.ipynb)\n",
    "\n",
    "------------------------------------------------------------------------"
   ],
   "id": "9526fff5-1a03-4a7e-9128-7c1afc3f8b17"
  }
 ],
 "nbformat": 4,
 "nbformat_minor": 5,
 "metadata": {}
}
