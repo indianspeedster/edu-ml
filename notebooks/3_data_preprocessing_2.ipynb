{
 "cells": [
  {
   "cell_type": "markdown",
   "metadata": {},
   "source": [
    "# Data Augmentation, Preprocessing and Tokenization\n",
    "\n",
    "If you are on this notebook then you have made a choice in the previous section to go ahead with ceil value while calculating n.\n",
    "\n",
    "Let’s understand this data augmentation strategy in depth with an example,\n",
    "\n",
    "since alpha is a constant , we will fix alpha as 0.75\n",
    "\n",
    "example 1: “what do you know about Fringe in Edinburgh next year?”\n",
    "\n",
    "step1 : count the length of total words without stopwords. So we have l = 7\n",
    "\n",
    "step2 : calculate n using n = alpha \\* l, substituting the value of n and alpha we have n = 0.75\\*7, n = 5.25.\n",
    "\n",
    "step3 : Since we choosed to go with the ceil value for n, we will take n = 6.\n",
    "\n",
    "step4 : we will pick 6 random words and then subsitute them with their synonyms.\n",
    "\n",
    "Now, what difference would it make if we pick the ceil value instead of the floor ?\n",
    "\n",
    "So, when we see our data, the speech text is short where the number of words lies in the range (4, 16) so one word can make a difference in the model, It is important note that ceil value or floor value while calculating “n” may create an impact in the final results.\n",
    "\n",
    "Let’s implement the augmentation strategy with ceil value of “n” while calculating n = alpha\\*l"
   ],
   "id": "8df74924-2fe0-421b-ae16-f888b5deab53"
  },
  {
   "cell_type": "markdown",
   "metadata": {},
   "source": [
    "### Importing relevent libraries\n",
    "\n",
    "The imports also include libraries which will be used further in different sections of the notebook."
   ],
   "id": "a9e4d9f6-ff33-4986-a0ad-f895a235540a"
  },
  {
   "cell_type": "code",
   "execution_count": null,
   "metadata": {},
   "outputs": [],
   "source": [
    "import pandas as pd\n",
    "import nltk\n",
    "nltk.download('stopwords')\n",
    "nltk.download('wordnet')\n",
    "from nltk.corpus import stopwords\n",
    "from nltk.corpus import wordnet\n",
    "import random\n",
    "from sklearn.model_selection import train_test_split\n",
    "from sklearn.preprocessing import LabelEncoder\n",
    "import pickle\n",
    "from transformers import AutoTokenizer\n",
    "import datasets\n",
    "from tqdm import tqdm\n",
    "import math\n",
    "seed=123"
   ],
   "id": "cf0077e9-ad77-4195-95c6-c404b751d6ab"
  },
  {
   "cell_type": "markdown",
   "metadata": {},
   "source": [
    "#### Data Augmentation function"
   ],
   "id": "5532ef04-3858-4ca1-b7e7-6e2f6cafb009"
  },
  {
   "cell_type": "code",
   "execution_count": null,
   "metadata": {},
   "outputs": [],
   "source": [
    "def augmentation(sentence, alpha=0.75 ):\n",
    "  sentence = sentence.split(\" \")\n",
    "  word_index = [i for i in range(len(sentence)) if sentence[i].lower() not in stop_words]\n",
    "  n = math.ceil(alpha*len(word_index))\n",
    "  n_random = random.sample(word_index, n)\n",
    "  for num in n_random:\n",
    "    word = sentence[num]\n",
    "    synonyms = []\n",
    "    for synset in wordnet.synsets(word):\n",
    "      for synonym in synset.lemmas():\n",
    "        synonyms.append(synonym.name())\n",
    "    if len(synonyms)>=2:\n",
    "      sentence[num] = synonyms[1]\n",
    "    else:\n",
    "      pass\n",
    "  return \" \".join(sentence)"
   ],
   "id": "2c0858e2-35e4-4710-b9af-2079af4b218c"
  },
  {
   "cell_type": "markdown",
   "metadata": {},
   "source": [
    "Now, we are done with our data augmentation function, next we will work on data preprocessing, applying data augmentation strategy and tokenizing the data which will make our data ready to be trained.\n",
    "\n",
    "------------------------------------------------------------------------"
   ],
   "id": "42ef2f53-a74d-484e-a3bc-61f581dd544f"
  },
  {
   "cell_type": "markdown",
   "metadata": {},
   "source": [
    "From the last Notebook we obtained train.csv and test.csv file, these files contains raw data and the data preprocessing step will act as a bridge between raw data and the final result which we are focused to achieve. Data preprocessing can have a major impact on the final results so it’s crucial to thoroughly understand what the authors did and how you could follow the same strategy.\n",
    "\n",
    "From our understanding of the paper, The author did these three major steps:\n",
    "\n",
    "-   Encoding the labels: A machine learning model always needs a number as input instead of raw text data, so label encoding is a crucial step here.\n",
    "\n",
    "-   Sampling for full few shot Learning : The full few shot setup requires 10 samples for each label, so the author randomly took 10 samples from the dataset. it’s important to make sure that you are picking unique samples. Since the author is experimenting on a 3 fold data so we will pick 30 samples and make 3 fold dataset with 10 samples each.\n",
    "\n",
    "-   Data Augmentation : The next step which author followed was implementing the data augmentation strategy and then apply the same of the previously selected 10 samples for each intent. Again the augmentation will be applied on 3 fold dataset.\n",
    "\n",
    "-   Tokenization : The last step in this notebook will be to tokenize the data, since machine learning model only understands numerical form of data, so it’s necessary to make the data in the form of tokens and this process is known as tokenization.\n",
    "\n",
    "Once we are done with the above 4 steps we will store the data and make it available for use in the next part of Reproducibility.\n",
    "\n",
    "------------------------------------------------------------------------"
   ],
   "id": "62fd1e94-39fc-45bf-8da6-f160b3978aa6"
  },
  {
   "cell_type": "markdown",
   "metadata": {},
   "source": [
    "### Loading the train and test data"
   ],
   "id": "c841b0e4-920a-471a-8b92-867c35caa635"
  },
  {
   "cell_type": "code",
   "execution_count": null,
   "metadata": {},
   "outputs": [],
   "source": [
    "train_data = pd.read_csv(\"train.csv\")\n",
    "test_data = pd.read_csv(\"test.csv\")"
   ],
   "id": "1b52b58c-037f-49e7-bf9d-97380b36f705"
  },
  {
   "cell_type": "markdown",
   "metadata": {},
   "source": [
    "### Encode the labels"
   ],
   "id": "7496d6de-abe8-4532-ab64-99dc623d17e4"
  },
  {
   "cell_type": "code",
   "execution_count": null,
   "metadata": {},
   "outputs": [],
   "source": [
    "le=LabelEncoder()\n",
    "train_data['intent']=le.fit_transform(train_data['intent'])\n",
    "test_data['intent']=le.transform(test_data['intent'])\n",
    "train_data = train_data.drop(\"Unnamed: 0\", axis=1)"
   ],
   "id": "8dd593aa-8120-4f04-aba6-dd1a00e4e7a5"
  },
  {
   "cell_type": "markdown",
   "metadata": {},
   "source": [
    "### Split the training data to train and validation\n",
    "\n",
    "we are again spliting the data into train and validation as when we train our model the best model while training will be selected on the basis of the validation data accuracy. ie(The model will be considered as the best model on a specific epoch when that epoch has the highest validation accuraccy.)"
   ],
   "id": "9ddcf4bf-0966-49eb-93b1-ad090559f4fd"
  },
  {
   "cell_type": "code",
   "execution_count": null,
   "metadata": {},
   "outputs": [],
   "source": [
    "df_train,val_data=train_test_split(train_data,test_size=0.10 ,random_state=seed, shuffle=True)"
   ],
   "id": "dd8f4bfa-f9eb-4a3e-847c-caa96db42115"
  },
  {
   "cell_type": "markdown",
   "metadata": {},
   "source": [
    "### Get random 30 samples from training data"
   ],
   "id": "5ab8c69a-0deb-427a-b7b7-1f3fbc9964c8"
  },
  {
   "cell_type": "code",
   "execution_count": null,
   "metadata": {},
   "outputs": [],
   "source": [
    "# Getting the unique intent\n",
    "unique_labels = df_train['intent'].unique()\n",
    "# Creating an empty dataframe to store all the values\n",
    "sampled_df = pd.DataFrame()\n",
    "#Iterating through each label and take random 30 samples from it\n",
    "for label in unique_labels:\n",
    "    label_df = df_train[df_train['intent'] == label]\n",
    "    samples = label_df.sample(n=30, random_state=seed)\n",
    "    sampled_df = sampled_df.append(samples)\n",
    "sampled_df.reset_index(drop=True, inplace=True)"
   ],
   "id": "479b7670-a6f4-4998-94db-0b60b0a28ca9"
  },
  {
   "cell_type": "markdown",
   "metadata": {},
   "source": [
    "### create 3 unique 10-shot dataset from previous sampled data"
   ],
   "id": "6776b0fa-9d3b-4c0b-b94a-a593790cbda1"
  },
  {
   "cell_type": "code",
   "execution_count": null,
   "metadata": {},
   "outputs": [],
   "source": [
    "df = sampled_df\n",
    "# Create a column sample and mark it all as False and when you pick a sample mark them as True. This will make sure that you are not repeating the same sample again.\n",
    "df['sampled'] = False\n",
    "\n",
    "#creating a list to store the 10 shot dataset\n",
    "training_datasets = []\n",
    "\n",
    "for i in range(3):\n",
    "    dataset = pd.DataFrame()\n",
    "    for label in df['intent'].unique():\n",
    "        label_df = df[(df['intent'] == label) & (df['sampled'] == False)]\n",
    "        if len(label_df) >= 10:\n",
    "            samples = label_df.sample(n=10)\n",
    "            df.loc[samples.index, 'sampled'] = True\n",
    "            dataset = pd.concat([dataset, samples])\n",
    "        else:\n",
    "            samples = label_df\n",
    "            df.loc[samples.index, 'sampled'] = True\n",
    "            dataset = pd.concat([dataset, samples])\n",
    "    dataset = dataset.drop(\"sampled\",axis=1)\n",
    "    dataset = dataset.reset_index(drop=True)\n",
    "    training_datasets.append(dataset)\n",
    "\n",
    "# The output of this cell will create a list training_datasets which contains 3 10-shot dataset"
   ],
   "id": "a5aeea89-694c-491d-9fa3-913bd4544ab2"
  },
  {
   "cell_type": "markdown",
   "metadata": {},
   "source": [
    "### Store data"
   ],
   "id": "02e1fb66-da39-4d4e-82d6-86fa440f96eb"
  },
  {
   "cell_type": "code",
   "execution_count": null,
   "metadata": {},
   "outputs": [],
   "source": [
    "with open('training_datasets.pkl', 'wb') as file:\n",
    "    pickle.dump(training_datasets, file)\n",
    "with open('val_data.pkl', 'wb') as file:\n",
    "    pickle.dump(val_data, file)\n",
    "with open('test_data.pkl', 'wb') as file:\n",
    "    pickle.dump(test_data, file)\n",
    "with open('train_data_full.pkl', 'wb') as file:\n",
    "    pickle.dump(train_data, file)"
   ],
   "id": "5b53bc69-ec1d-4e74-b9ca-c624e2b57edb"
  },
  {
   "cell_type": "markdown",
   "metadata": {},
   "source": [
    "## Augmentating data"
   ],
   "id": "88e00cb6-7a71-43b3-bf3a-16551410f836"
  },
  {
   "cell_type": "code",
   "execution_count": null,
   "metadata": {},
   "outputs": [],
   "source": [
    "#loading stop words\n",
    "stop_words = set(stopwords.words('english'))"
   ],
   "id": "11f2bad9-9966-4cdc-8dfe-183a82aaa232"
  },
  {
   "cell_type": "markdown",
   "metadata": {},
   "source": [
    "### Apply data augmentation on each of the three training datasets"
   ],
   "id": "7f514470-68f6-4e51-ac0a-146157198d84"
  },
  {
   "cell_type": "code",
   "execution_count": null,
   "metadata": {},
   "outputs": [],
   "source": [
    "augmented_datasets = []\n",
    "for train_data in training_datasets:\n",
    "  augmented_data = train_data.copy()\n",
    "  augmented_data[\"speech_text\"] = augmented_data[\"speech_text\"].apply(augmentation, alpha=0.6)\n",
    "  augmented_data = pd.concat([train_data, augmented_data])\n",
    "  augmented_datasets.append(augmented_data)"
   ],
   "id": "bcff63fd-3960-480f-b9d4-a15757871948"
  },
  {
   "cell_type": "markdown",
   "metadata": {},
   "source": [
    "## Tokenization\n",
    "\n",
    "Tokenization is a fundamental process in natural language processing that plays an important role in results that any of the language model produces. All the major language models have their specific tokenizer. Since the author of the paper used Bert Large Uncased so for our reproducibility process by default we have only one choice of tokenizer. Below are some of the specific task that Bert Large tokenizer will perform:\n",
    "\n",
    "-   Text Segmentation\n",
    "\n",
    "-   Vocabulary Mapping\n",
    "\n",
    "-   Subword Tokenization\n",
    "\n",
    "-   Special Tokens\n",
    "\n",
    "In the next section of this notebook we will be implementing the tokenization step.\n",
    "\n",
    ":::"
   ],
   "id": "8902c097-8c28-4130-9049-8106a0a0c662"
  },
  {
   "cell_type": "markdown",
   "metadata": {},
   "source": [
    "### Setting up tokenizer"
   ],
   "id": "3923e90e-6965-4757-84e3-b042e086ea57"
  },
  {
   "cell_type": "code",
   "execution_count": null,
   "metadata": {},
   "outputs": [],
   "source": [
    "pre_trained_BERTmodel='bert-large-uncased'\n",
    "BERT_tokenizer=AutoTokenizer.from_pretrained(pre_trained_BERTmodel)"
   ],
   "id": "fa72623d-c8eb-46f3-baad-facfeee4f68d"
  },
  {
   "cell_type": "markdown",
   "metadata": {},
   "source": [
    "We have below mentioned 5 dataset to tokenize\n",
    "\n",
    "-   **training_datasets** : This contains a list which has 3 full few shot data of 10 samples each.\n",
    "\n",
    "-   **val_data** : This contains data in the form of a pandas dataframe which will be used as validation data while training the model.\n",
    "\n",
    "-   **test_data** : This contains data in the form of a pandas dataframe whille be used as test data for the model.\n",
    "\n",
    "-   **augmented_datasets** : This contains a list of 3 pandas datafram where each dataframe has 20 samples which contains 10 original and 10 augmented version of the original data.\n",
    "\n",
    "-   **train_data_full** : This contains a pandas data frame with entire training data."
   ],
   "id": "6ac40491-5be2-4397-abf5-3d5dd2059530"
  },
  {
   "cell_type": "markdown",
   "metadata": {},
   "source": [
    "### Function to tokenize the data"
   ],
   "id": "d720f0bb-1aa1-4c4e-8617-d3d0079b015b"
  },
  {
   "cell_type": "code",
   "execution_count": null,
   "metadata": {},
   "outputs": [],
   "source": [
    "def tokenize_data(example):\n",
    "    encoded_input = BERT_tokenizer(example[\"speech_text\"], padding=\"max_length\", truncation=True)\n",
    "    return {\"input_ids\": encoded_input[\"input_ids\"], \"attention_mask\": encoded_input[\"attention_mask\"], \"labels\": example[\"intent\"]}"
   ],
   "id": "5997b63a-2090-42d3-94cf-05ba1f71c99c"
  },
  {
   "cell_type": "markdown",
   "metadata": {},
   "source": [
    "#### Tokenizing non augmented training data"
   ],
   "id": "3de265e8-c717-4882-8cfa-4ec29a0ca05c"
  },
  {
   "cell_type": "code",
   "execution_count": null,
   "metadata": {},
   "outputs": [],
   "source": [
    "train_dataset=[]\n",
    "for train_data_ in training_datasets:\n",
    "  traindataset = datasets.Dataset.from_pandas(train_data_)\n",
    "  train_dataset.append(traindataset.map(tokenize_data))"
   ],
   "id": "f92fc5b6-c65f-492d-89a1-61a0be1f6d2a"
  },
  {
   "cell_type": "markdown",
   "metadata": {},
   "source": [
    "#### Tokenizing augmented training data"
   ],
   "id": "9e8fec7f-1a47-45a8-9064-c4b116009bc8"
  },
  {
   "cell_type": "code",
   "execution_count": null,
   "metadata": {},
   "outputs": [],
   "source": [
    "augmented_train_dataset=[]\n",
    "for train_data_ in augmented_datasets:\n",
    "  traindataset = datasets.Dataset.from_pandas(train_data_)\n",
    "  augmented_train_dataset.append(traindataset.map(tokenize_data))"
   ],
   "id": "88b6c857-c036-4736-aace-615bac8b9760"
  },
  {
   "cell_type": "markdown",
   "metadata": {},
   "source": [
    "#### Tokenizing validation data"
   ],
   "id": "87ff7a79-dc40-456b-9868-4365f17202c3"
  },
  {
   "cell_type": "code",
   "execution_count": null,
   "metadata": {},
   "outputs": [],
   "source": [
    "val_data = datasets.Dataset.from_pandas(val_data)\n",
    "val_data = val_data.map(tokenize_data)"
   ],
   "id": "3c495392-228d-4bcd-bc93-897cbb332dbf"
  },
  {
   "cell_type": "markdown",
   "metadata": {},
   "source": [
    "#### Tokenizing test data"
   ],
   "id": "0fd57116-c475-463b-b48a-0d018382ab13"
  },
  {
   "cell_type": "code",
   "execution_count": null,
   "metadata": {},
   "outputs": [],
   "source": [
    "testdataset = datasets.Dataset.from_pandas(test_data)\n",
    "test_dataset = testdataset.map(tokenize_data)"
   ],
   "id": "b463a9dd-94de-479c-a9de-961ac3f59ad1"
  },
  {
   "cell_type": "markdown",
   "metadata": {},
   "source": [
    "#### Tokenize full train dataset"
   ],
   "id": "09ab1762-c231-4968-9602-49f84494d15e"
  },
  {
   "cell_type": "code",
   "execution_count": null,
   "metadata": {},
   "outputs": [],
   "source": [
    "train_data_full = datasets.Dataset.from_pandas(train_data_full)\n",
    "train_data_full = train_data_full.map(tokenize_data)"
   ],
   "id": "fbf145b3-fc01-4857-9869-62a6ffe7bd23"
  },
  {
   "cell_type": "markdown",
   "metadata": {},
   "source": [
    "### Store tokenized data"
   ],
   "id": "eff1af69-6a9a-4ee4-a1f0-f70fefeb7b6c"
  },
  {
   "cell_type": "code",
   "execution_count": null,
   "metadata": {},
   "outputs": [],
   "source": [
    "with open('train_dataset_tokenized.pkl', 'wb') as file:\n",
    "    pickle.dump(train_dataset, file)\n",
    "with open('val_data_tokenized.pkl', 'wb') as file:\n",
    "    pickle.dump(val_data, file)\n",
    "with open('test_data_tokenized.pkl', 'wb') as file:\n",
    "    pickle.dump(test_dataset, file)\n",
    "with open('augmented_train_dataset_tokenized.pkl', 'wb') as file:\n",
    "    pickle.dump(augmented_train_dataset, file)\n",
    "with open('train_dataset_full_tokenized.pkl', 'wb') as file:\n",
    "    pickle.dump(list(train_data_full), file)"
   ],
   "id": "17e323bb-cc1b-4d9c-8798-439be67e39d6"
  },
  {
   "cell_type": "markdown",
   "metadata": {},
   "source": [
    "## Output of this Notebook\n",
    "\n",
    "This notebook will generate 4 files as mentioned below :\n",
    "\n",
    "-   training_datasets.pkl\n",
    "\n",
    "-   val_data.pkl\n",
    "\n",
    "-   test_data.pkl\n",
    "\n",
    "-   augmented_datasets.pkl"
   ],
   "id": "58bfd380-cf90-4a90-826e-cb417237269a"
  },
  {
   "cell_type": "markdown",
   "metadata": {},
   "source": [
    "During our data preprocessing steps we made sure the three things cleaning, transforming, and organizing data before it’s fed into a model. It’s important to follow the exact same preprocessing pipeline to ensure that the data is consistent and prepared in the same way as in the original study. If we have made a wrong assumption then it would lead to a different outcome and inaccurate results.\n",
    "\n",
    "------------------------------------------------------------------------"
   ],
   "id": "5fa99e72-8a5f-4dd4-b912-73f59c5b39a8"
  },
  {
   "cell_type": "markdown",
   "metadata": {},
   "source": [
    "## Next steps\n",
    "\n",
    "Now we are done with data preprocessing, data augmentation and tokenization. Now our data is ready to be fed to the model for training. But befor that we need to set up the training parameters and hyper parameters for our model.\n",
    "\n",
    "When we see the paper, the paper talked about the hyperparameters such as epochs and batch size but for rest they said they used standard hyperparameters for Bert Large models. But when we researched we found that there is no specific optimizer for BERT large models, it depends upon task. so for our Classification task we were left with many choices but when it comes to picking two standard optimizer for this task we are left with two below mentioned options:\n",
    "\n",
    "-   [SGD (Stochastic Gradient Descent)](/): It is an optimization algorithm used to train machine learning models by iteratively adjusting model parameters using randomly selected mini-batches of data, with the goal of minimizing the loss function.\n",
    "\n",
    "-   [Adamw](/) : AdamW optimization is a stochastic gradient descent method that is based on adaptive estimation of first-order and second-order moments with an added method to decay weights per the techniques discussed in the paper, ‘Decoupled Weight Decay Regularization’ by Loshchilov, Hutter et al., 2019.\n",
    "\n",
    "Considering the above mentioned 2 choices we have created two notebooks, The first notebook uses AdamW and the second notebook uses SGD. You can pick your own choice and see what are the results :\n",
    "\n",
    "-   [Notebook(Tokenization + Adamw as optimizer)](/)\n",
    "\n",
    "-   [Notebook(Tokenization + SGD as optimizer)](/)\n",
    "\n",
    "------------------------------------------------------------------------"
   ],
   "id": "aaae448e-ff50-40c7-a5a8-124175f6b953"
  }
 ],
 "nbformat": 4,
 "nbformat_minor": 5,
 "metadata": {}
}
