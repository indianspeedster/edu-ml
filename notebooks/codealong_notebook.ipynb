{
  "nbformat": 4,
  "nbformat_minor": 0,
  "metadata": {
    "colab": {
      "provenance": [],
      "gpuType": "T4"
    },
    "kernelspec": {
      "name": "python3",
      "display_name": "Python 3"
    },
    "language_info": {
      "name": "python"
    },
    "accelerator": "GPU"
  },
  "cells": [
    {
      "cell_type": "code",
      "source": [
        "!pip install transformers"
      ],
      "metadata": {
        "id": "g9W13vKQvEBP",
        "outputId": "c20bf4e5-873d-4d04-9166-17860275607a",
        "colab": {
          "base_uri": "https://localhost:8080/"
        }
      },
      "execution_count": 1,
      "outputs": [
        {
          "output_type": "stream",
          "name": "stdout",
          "text": [
            "Looking in indexes: https://pypi.org/simple, https://us-python.pkg.dev/colab-wheels/public/simple/\n",
            "Requirement already satisfied: transformers in /usr/local/lib/python3.10/dist-packages (4.30.1)\n",
            "Requirement already satisfied: filelock in /usr/local/lib/python3.10/dist-packages (from transformers) (3.12.0)\n",
            "Requirement already satisfied: huggingface-hub<1.0,>=0.14.1 in /usr/local/lib/python3.10/dist-packages (from transformers) (0.15.1)\n",
            "Requirement already satisfied: numpy>=1.17 in /usr/local/lib/python3.10/dist-packages (from transformers) (1.22.4)\n",
            "Requirement already satisfied: packaging>=20.0 in /usr/local/lib/python3.10/dist-packages (from transformers) (23.1)\n",
            "Requirement already satisfied: pyyaml>=5.1 in /usr/local/lib/python3.10/dist-packages (from transformers) (6.0)\n",
            "Requirement already satisfied: regex!=2019.12.17 in /usr/local/lib/python3.10/dist-packages (from transformers) (2022.10.31)\n",
            "Requirement already satisfied: requests in /usr/local/lib/python3.10/dist-packages (from transformers) (2.27.1)\n",
            "Requirement already satisfied: tokenizers!=0.11.3,<0.14,>=0.11.1 in /usr/local/lib/python3.10/dist-packages (from transformers) (0.13.3)\n",
            "Requirement already satisfied: safetensors>=0.3.1 in /usr/local/lib/python3.10/dist-packages (from transformers) (0.3.1)\n",
            "Requirement already satisfied: tqdm>=4.27 in /usr/local/lib/python3.10/dist-packages (from transformers) (4.65.0)\n",
            "Requirement already satisfied: fsspec in /usr/local/lib/python3.10/dist-packages (from huggingface-hub<1.0,>=0.14.1->transformers) (2023.4.0)\n",
            "Requirement already satisfied: typing-extensions>=3.7.4.3 in /usr/local/lib/python3.10/dist-packages (from huggingface-hub<1.0,>=0.14.1->transformers) (4.5.0)\n",
            "Requirement already satisfied: urllib3<1.27,>=1.21.1 in /usr/local/lib/python3.10/dist-packages (from requests->transformers) (1.26.15)\n",
            "Requirement already satisfied: certifi>=2017.4.17 in /usr/local/lib/python3.10/dist-packages (from requests->transformers) (2022.12.7)\n",
            "Requirement already satisfied: charset-normalizer~=2.0.0 in /usr/local/lib/python3.10/dist-packages (from requests->transformers) (2.0.12)\n",
            "Requirement already satisfied: idna<4,>=2.5 in /usr/local/lib/python3.10/dist-packages (from requests->transformers) (3.4)\n"
          ]
        }
      ]
    },
    {
      "cell_type": "markdown",
      "source": [
        "## Import Libraries"
      ],
      "metadata": {
        "id": "2UkmlrdIsC8B"
      }
    },
    {
      "cell_type": "code",
      "execution_count": 2,
      "metadata": {
        "id": "E3_rBfT0o8MJ"
      },
      "outputs": [],
      "source": [
        "import pandas as pd\n",
        "import numpy as np\n",
        "import seaborn as sns\n",
        "import re\n",
        "import matplotlib.pyplot as plt\n",
        "from collections import defaultdict\n",
        "\n",
        "from sklearn.model_selection import train_test_split\n",
        "from sklearn.preprocessing import LabelEncoder,label_binarize\n",
        "from sklearn.metrics import confusion_matrix,classification_report\n",
        "from sklearn.metrics import precision_recall_curve,roc_auc_score,roc_curve\n",
        "\n",
        "\n",
        "from imblearn.over_sampling import SMOTE\n",
        "\n",
        "import transformers\n",
        "from transformers import BertModel, BertTokenizerFast\n",
        "from transformers import AdamW, AdamWeightDecay, get_linear_schedule_with_warmup\n",
        "\n",
        "import torch\n",
        "from torch import optim, nn\n",
        "from torch.utils.data import DataLoader, Dataset\n",
        "import torch.nn.functional as F \n",
        "seed = 1331"
      ]
    },
    {
      "cell_type": "code",
      "source": [
        "device=torch.device('cuda:0')\n",
        "torch.cuda.get_device_name(0)"
      ],
      "metadata": {
        "id": "3Bx-YUlYp2TF",
        "outputId": "bd7ae706-00b4-455b-c1fd-5b63e94cf9a7",
        "colab": {
          "base_uri": "https://localhost:8080/",
          "height": 35
        }
      },
      "execution_count": 3,
      "outputs": [
        {
          "output_type": "execute_result",
          "data": {
            "text/plain": [
              "'Tesla T4'"
            ],
            "application/vnd.google.colaboratory.intrinsic+json": {
              "type": "string"
            }
          },
          "metadata": {},
          "execution_count": 3
        }
      ]
    },
    {
      "cell_type": "markdown",
      "source": [
        "## Getting data\n",
        "source: https://github.com/xliuhw/NLU-Evaluation-Data"
      ],
      "metadata": {
        "id": "WUcIg7jBv3Jc"
      }
    },
    {
      "cell_type": "code",
      "source": [
        "!wget https://raw.githubusercontent.com/xliuhw/NLU-Evaluation-Data/master/Collected-Original-Data/paraphrases_and_intents_26k_normalised_all.csv -O intent_data.csv"
      ],
      "metadata": {
        "id": "lfL2YZrcvzJH",
        "outputId": "92ae3502-d2e9-44f9-83a1-0ac852c81c0e",
        "colab": {
          "base_uri": "https://localhost:8080/"
        }
      },
      "execution_count": 4,
      "outputs": [
        {
          "output_type": "stream",
          "name": "stdout",
          "text": [
            "--2023-06-11 19:07:42--  https://raw.githubusercontent.com/xliuhw/NLU-Evaluation-Data/master/Collected-Original-Data/paraphrases_and_intents_26k_normalised_all.csv\n",
            "Resolving raw.githubusercontent.com (raw.githubusercontent.com)... 185.199.108.133, 185.199.110.133, 185.199.109.133, ...\n",
            "Connecting to raw.githubusercontent.com (raw.githubusercontent.com)|185.199.108.133|:443... connected.\n",
            "HTTP request sent, awaiting response... 200 OK\n",
            "Length: 5151481 (4.9M) [text/plain]\n",
            "Saving to: ‘intent_data.csv’\n",
            "\n",
            "\rintent_data.csv       0%[                    ]       0  --.-KB/s               \rintent_data.csv     100%[===================>]   4.91M  --.-KB/s    in 0.01s   \n",
            "\n",
            "2023-06-11 19:07:42 (334 MB/s) - ‘intent_data.csv’ saved [5151481/5151481]\n",
            "\n"
          ]
        }
      ]
    },
    {
      "cell_type": "markdown",
      "source": [
        "## Loading data into Pandas Dataframe"
      ],
      "metadata": {
        "id": "qgZF-WEWwxhW"
      }
    },
    {
      "cell_type": "code",
      "source": [
        "dataframe = pd.read_csv(\"intent_data.csv\", delimiter=\";\")\n",
        "dataframe.head()"
      ],
      "metadata": {
        "id": "6kAzllPDu3PF",
        "outputId": "887397b5-b515-476b-f25c-9f4aec42607a",
        "colab": {
          "base_uri": "https://localhost:8080/",
          "height": 206
        }
      },
      "execution_count": 5,
      "outputs": [
        {
          "output_type": "execute_result",
          "data": {
            "text/plain": [
              "   answerid                             answer_normalised  \\\n",
              "0         1               wake me up at five am this week   \n",
              "1         2               wake me up at nine am on friday   \n",
              "2         3           set an alarm for two hours from now   \n",
              "3         4          cancel business meeting on wednesday   \n",
              "4         5  delete the richard's wedding event next year   \n",
              "\n",
              "                                         answer  \\\n",
              "0                   wake me up at 5am this week   \n",
              "1                   wake me up at 9am on Friday   \n",
              "2           set an alarm for two hours from now   \n",
              "3     Olly cancel business meeting on wednesday   \n",
              "4  delete the Richard's wedding event next year   \n",
              "\n",
              "                                            question  scenario        intent  \\\n",
              "0  Write what you would tell your PDA in the foll...     alarm           set   \n",
              "1  Write what you would tell your PDA in the foll...     alarm           set   \n",
              "2  Write what you would tell your PDA in the foll...     alarm           set   \n",
              "3  How would you ask your PDA to remove a specifi...  calendar  delete_event   \n",
              "4  How would you ask your PDA to remove a specifi...  calendar  delete_event   \n",
              "\n",
              "   userid suggested_entities  \n",
              "0       1         date, time  \n",
              "1       1         date, time  \n",
              "2       1         date, time  \n",
              "3       1         event_name  \n",
              "4       1         event_name  "
            ],
            "text/html": [
              "\n",
              "  <div id=\"df-2be9daed-c8e4-4557-8115-6873d1f2e166\">\n",
              "    <div class=\"colab-df-container\">\n",
              "      <div>\n",
              "<style scoped>\n",
              "    .dataframe tbody tr th:only-of-type {\n",
              "        vertical-align: middle;\n",
              "    }\n",
              "\n",
              "    .dataframe tbody tr th {\n",
              "        vertical-align: top;\n",
              "    }\n",
              "\n",
              "    .dataframe thead th {\n",
              "        text-align: right;\n",
              "    }\n",
              "</style>\n",
              "<table border=\"1\" class=\"dataframe\">\n",
              "  <thead>\n",
              "    <tr style=\"text-align: right;\">\n",
              "      <th></th>\n",
              "      <th>answerid</th>\n",
              "      <th>answer_normalised</th>\n",
              "      <th>answer</th>\n",
              "      <th>question</th>\n",
              "      <th>scenario</th>\n",
              "      <th>intent</th>\n",
              "      <th>userid</th>\n",
              "      <th>suggested_entities</th>\n",
              "    </tr>\n",
              "  </thead>\n",
              "  <tbody>\n",
              "    <tr>\n",
              "      <th>0</th>\n",
              "      <td>1</td>\n",
              "      <td>wake me up at five am this week</td>\n",
              "      <td>wake me up at 5am this week</td>\n",
              "      <td>Write what you would tell your PDA in the foll...</td>\n",
              "      <td>alarm</td>\n",
              "      <td>set</td>\n",
              "      <td>1</td>\n",
              "      <td>date, time</td>\n",
              "    </tr>\n",
              "    <tr>\n",
              "      <th>1</th>\n",
              "      <td>2</td>\n",
              "      <td>wake me up at nine am on friday</td>\n",
              "      <td>wake me up at 9am on Friday</td>\n",
              "      <td>Write what you would tell your PDA in the foll...</td>\n",
              "      <td>alarm</td>\n",
              "      <td>set</td>\n",
              "      <td>1</td>\n",
              "      <td>date, time</td>\n",
              "    </tr>\n",
              "    <tr>\n",
              "      <th>2</th>\n",
              "      <td>3</td>\n",
              "      <td>set an alarm for two hours from now</td>\n",
              "      <td>set an alarm for two hours from now</td>\n",
              "      <td>Write what you would tell your PDA in the foll...</td>\n",
              "      <td>alarm</td>\n",
              "      <td>set</td>\n",
              "      <td>1</td>\n",
              "      <td>date, time</td>\n",
              "    </tr>\n",
              "    <tr>\n",
              "      <th>3</th>\n",
              "      <td>4</td>\n",
              "      <td>cancel business meeting on wednesday</td>\n",
              "      <td>Olly cancel business meeting on wednesday</td>\n",
              "      <td>How would you ask your PDA to remove a specifi...</td>\n",
              "      <td>calendar</td>\n",
              "      <td>delete_event</td>\n",
              "      <td>1</td>\n",
              "      <td>event_name</td>\n",
              "    </tr>\n",
              "    <tr>\n",
              "      <th>4</th>\n",
              "      <td>5</td>\n",
              "      <td>delete the richard's wedding event next year</td>\n",
              "      <td>delete the Richard's wedding event next year</td>\n",
              "      <td>How would you ask your PDA to remove a specifi...</td>\n",
              "      <td>calendar</td>\n",
              "      <td>delete_event</td>\n",
              "      <td>1</td>\n",
              "      <td>event_name</td>\n",
              "    </tr>\n",
              "  </tbody>\n",
              "</table>\n",
              "</div>\n",
              "      <button class=\"colab-df-convert\" onclick=\"convertToInteractive('df-2be9daed-c8e4-4557-8115-6873d1f2e166')\"\n",
              "              title=\"Convert this dataframe to an interactive table.\"\n",
              "              style=\"display:none;\">\n",
              "        \n",
              "  <svg xmlns=\"http://www.w3.org/2000/svg\" height=\"24px\"viewBox=\"0 0 24 24\"\n",
              "       width=\"24px\">\n",
              "    <path d=\"M0 0h24v24H0V0z\" fill=\"none\"/>\n",
              "    <path d=\"M18.56 5.44l.94 2.06.94-2.06 2.06-.94-2.06-.94-.94-2.06-.94 2.06-2.06.94zm-11 1L8.5 8.5l.94-2.06 2.06-.94-2.06-.94L8.5 2.5l-.94 2.06-2.06.94zm10 10l.94 2.06.94-2.06 2.06-.94-2.06-.94-.94-2.06-.94 2.06-2.06.94z\"/><path d=\"M17.41 7.96l-1.37-1.37c-.4-.4-.92-.59-1.43-.59-.52 0-1.04.2-1.43.59L10.3 9.45l-7.72 7.72c-.78.78-.78 2.05 0 2.83L4 21.41c.39.39.9.59 1.41.59.51 0 1.02-.2 1.41-.59l7.78-7.78 2.81-2.81c.8-.78.8-2.07 0-2.86zM5.41 20L4 18.59l7.72-7.72 1.47 1.35L5.41 20z\"/>\n",
              "  </svg>\n",
              "      </button>\n",
              "      \n",
              "  <style>\n",
              "    .colab-df-container {\n",
              "      display:flex;\n",
              "      flex-wrap:wrap;\n",
              "      gap: 12px;\n",
              "    }\n",
              "\n",
              "    .colab-df-convert {\n",
              "      background-color: #E8F0FE;\n",
              "      border: none;\n",
              "      border-radius: 50%;\n",
              "      cursor: pointer;\n",
              "      display: none;\n",
              "      fill: #1967D2;\n",
              "      height: 32px;\n",
              "      padding: 0 0 0 0;\n",
              "      width: 32px;\n",
              "    }\n",
              "\n",
              "    .colab-df-convert:hover {\n",
              "      background-color: #E2EBFA;\n",
              "      box-shadow: 0px 1px 2px rgba(60, 64, 67, 0.3), 0px 1px 3px 1px rgba(60, 64, 67, 0.15);\n",
              "      fill: #174EA6;\n",
              "    }\n",
              "\n",
              "    [theme=dark] .colab-df-convert {\n",
              "      background-color: #3B4455;\n",
              "      fill: #D2E3FC;\n",
              "    }\n",
              "\n",
              "    [theme=dark] .colab-df-convert:hover {\n",
              "      background-color: #434B5C;\n",
              "      box-shadow: 0px 1px 3px 1px rgba(0, 0, 0, 0.15);\n",
              "      filter: drop-shadow(0px 1px 2px rgba(0, 0, 0, 0.3));\n",
              "      fill: #FFFFFF;\n",
              "    }\n",
              "  </style>\n",
              "\n",
              "      <script>\n",
              "        const buttonEl =\n",
              "          document.querySelector('#df-2be9daed-c8e4-4557-8115-6873d1f2e166 button.colab-df-convert');\n",
              "        buttonEl.style.display =\n",
              "          google.colab.kernel.accessAllowed ? 'block' : 'none';\n",
              "\n",
              "        async function convertToInteractive(key) {\n",
              "          const element = document.querySelector('#df-2be9daed-c8e4-4557-8115-6873d1f2e166');\n",
              "          const dataTable =\n",
              "            await google.colab.kernel.invokeFunction('convertToInteractive',\n",
              "                                                     [key], {});\n",
              "          if (!dataTable) return;\n",
              "\n",
              "          const docLinkHtml = 'Like what you see? Visit the ' +\n",
              "            '<a target=\"_blank\" href=https://colab.research.google.com/notebooks/data_table.ipynb>data table notebook</a>'\n",
              "            + ' to learn more about interactive tables.';\n",
              "          element.innerHTML = '';\n",
              "          dataTable['output_type'] = 'display_data';\n",
              "          await google.colab.output.renderOutput(dataTable, element);\n",
              "          const docLink = document.createElement('div');\n",
              "          docLink.innerHTML = docLinkHtml;\n",
              "          element.appendChild(docLink);\n",
              "        }\n",
              "      </script>\n",
              "    </div>\n",
              "  </div>\n",
              "  "
            ]
          },
          "metadata": {},
          "execution_count": 5
        }
      ]
    },
    {
      "cell_type": "code",
      "source": [
        "unique_values = dataframe[\"intent\"].unique()\n",
        "print(unique_values)"
      ],
      "metadata": {
        "id": "fBOK8i5DxA8I",
        "outputId": "2c53e223-f9f4-4ccc-fafe-8ab9683799c2",
        "colab": {
          "base_uri": "https://localhost:8080/"
        }
      },
      "execution_count": 6,
      "outputs": [
        {
          "output_type": "stream",
          "name": "stdout",
          "text": [
            "['set' 'delete_event' 'send_email' 'query_event' 'query' 'set_event'\n",
            " 'mute' 'play' 'hue' 'cleaning' 'confirmation' 'mistake' 'feedback'\n",
            " 'conversation' 'taxi' 'train' 'convert' 'recipe' 'order' 'remove' 'reply'\n",
            " 'preferences' 'question' 'events ' 'request' 'settings' 'locations '\n",
            " 'joke' 'directions' 'factoid' 'maths' 'definition' 'movies' 'coffee'\n",
            " 'confusion' 'creating' 'set_notification' 'volume' 'celebrity' 'wemo'\n",
            " 'traffic' 'adding' 'open_query' 'notification' 'post' 'stock']\n"
          ]
        }
      ]
    },
    {
      "cell_type": "code",
      "source": [
        "unique_values_scenario = dataframe[\"scenario\"].unique()\n",
        "print(unique_values_scenario)"
      ],
      "metadata": {
        "id": "yd39e0gBxxSG",
        "outputId": "d44ab3c0-2a0b-43c6-932b-895bc0d4fac3",
        "colab": {
          "base_uri": "https://localhost:8080/"
        }
      },
      "execution_count": 7,
      "outputs": [
        {
          "output_type": "stream",
          "name": "stdout",
          "text": [
            "['alarm' 'calendar' 'email' 'reminder' 'audio' 'podcasts' 'IOT' 'general'\n",
            " 'lists' 'transport' 'datetime' 'cooking' 'takeaway' 'contacts' 'news'\n",
            " 'music' 'radio' 'recommendation' 'weather' 'QA' 'social' 'audiobook'\n",
            " 'game']\n"
          ]
        }
      ]
    },
    {
      "cell_type": "code",
      "source": [
        "dataframe[\"merged\"] = dataframe[\"scenario\"] + \"_\" + dataframe[\"intent\"]"
      ],
      "metadata": {
        "id": "MGtgd3gGyAHO"
      },
      "execution_count": 8,
      "outputs": []
    },
    {
      "cell_type": "code",
      "source": [
        "unique_value_merged = dataframe[\"merged\"].unique()\n",
        "intent = sorted(unique_value_merged, key= lambda x : x.lower() )"
      ],
      "metadata": {
        "id": "bPJOJIQ82-dw"
      },
      "execution_count": 9,
      "outputs": []
    },
    {
      "cell_type": "code",
      "source": [],
      "metadata": {
        "id": "YcB9xuqy3Ady"
      },
      "execution_count": 9,
      "outputs": []
    },
    {
      "cell_type": "code",
      "source": [
        "labels = dataframe[\"merged\"].value_counts().to_frame().reset_index()\n",
        "labels.columns = [\"name\",\"count\"]\n",
        "labels[\"count\"].head(10).sum()"
      ],
      "metadata": {
        "id": "iiTGn1334xYi",
        "outputId": "a217d153-3a9d-42c7-e5dd-35f3b3b7faad",
        "colab": {
          "base_uri": "https://localhost:8080/"
        }
      },
      "execution_count": 10,
      "outputs": [
        {
          "output_type": "execute_result",
          "data": {
            "text/plain": [
              "8924"
            ]
          },
          "metadata": {},
          "execution_count": 10
        }
      ]
    },
    {
      "cell_type": "code",
      "source": [
        "labels_included = labels[\"name\"].head(12).to_list()"
      ],
      "metadata": {
        "id": "O2gHX_ynd4as"
      },
      "execution_count": 11,
      "outputs": []
    },
    {
      "cell_type": "code",
      "source": [
        "new_df = dataframe[[\"answer\", \"merged\"]]"
      ],
      "metadata": {
        "id": "DO-RzgGPfq81"
      },
      "execution_count": 12,
      "outputs": []
    },
    {
      "cell_type": "code",
      "source": [
        "new_df = new_df[new_df[\"merged\"].isin(labels_included)]"
      ],
      "metadata": {
        "id": "qWzhQLUigKus"
      },
      "execution_count": 13,
      "outputs": []
    },
    {
      "cell_type": "code",
      "source": [
        "new_df.columns = [\"speech_text\",\"intent\"]"
      ],
      "metadata": {
        "id": "reLBJ6xJgVEj"
      },
      "execution_count": 14,
      "outputs": []
    },
    {
      "cell_type": "code",
      "source": [
        "import random\n",
        "\n",
        "def train_test_split_(df, test_ratio):\n",
        "    random.seed(seed)  \n",
        "    indices = df.index.tolist()\n",
        "    random.shuffle(indices) \n",
        "    split_index = int(len(indices) * test_ratio)\n",
        "    test_indices = indices[:split_index]\n",
        "    train_indices = indices[split_index:]\n",
        "    train_data = df.loc[train_indices].reset_index(drop=True)\n",
        "    test_data = df.loc[test_indices].reset_index(drop=True)\n",
        "    return train_data, test_data\n",
        "\n",
        "\n"
      ],
      "metadata": {
        "id": "KyPxkv56gttj"
      },
      "execution_count": 15,
      "outputs": []
    },
    {
      "cell_type": "code",
      "source": [
        "train_data, test_data = train_test_split_(new_df, test_ratio=0.2, )"
      ],
      "metadata": {
        "id": "Q0Fiyzl_hiW5"
      },
      "execution_count": 16,
      "outputs": []
    },
    {
      "cell_type": "code",
      "source": [
        "label_counts = train_data['intent'].value_counts()\n",
        "num_labels = len(label_counts)\n",
        "color_palette = plt.cm.get_cmap('Set3', num_labels)\n",
        "plt.figure(figsize=(8, 6))\n",
        "label_counts.plot(kind='bar', color=color_palette(np.arange(num_labels)))\n",
        "plt.xlabel('Label')\n",
        "plt.ylabel('Count')\n",
        "plt.title('Label Count')\n",
        "plt.show()"
      ],
      "metadata": {
        "id": "rdxnw0V9iDew",
        "outputId": "ec93bb50-fa8c-4e09-e034-68ed17fe493f",
        "colab": {
          "base_uri": "https://localhost:8080/",
          "height": 763
        }
      },
      "execution_count": 17,
      "outputs": [
        {
          "output_type": "stream",
          "name": "stderr",
          "text": [
            "<ipython-input-17-9c788e46f0b4>:3: MatplotlibDeprecationWarning: The get_cmap function was deprecated in Matplotlib 3.7 and will be removed two minor releases later. Use ``matplotlib.colormaps[name]`` or ``matplotlib.colormaps.get_cmap(obj)`` instead.\n",
            "  color_palette = plt.cm.get_cmap('Set3', num_labels)\n"
          ]
        },
        {
          "output_type": "display_data",
          "data": {
            "text/plain": [
              "<Figure size 800x600 with 1 Axes>"
            ],
            "image/png": "[encoded data removed]"
          },
          "metadata": {}
        }
      ]
    },
    {
      "cell_type": "code",
      "source": [
        "le=LabelEncoder()\n",
        "train_data['intent']=le.fit_transform(train_data['intent'])\n",
        "test_data['intent']=le.transform(test_data['intent'])\n"
      ],
      "metadata": {
        "id": "gUSnRlIdiUSo"
      },
      "execution_count": 18,
      "outputs": []
    },
    {
      "cell_type": "code",
      "source": [
        "le.classes_"
      ],
      "metadata": {
        "id": "LgI3go2BlFXb",
        "outputId": "0ac97d97-7ff1-42f1-9fc8-dd1c53c8131e",
        "colab": {
          "base_uri": "https://localhost:8080/"
        }
      },
      "execution_count": 19,
      "outputs": [
        {
          "output_type": "execute_result",
          "data": {
            "text/plain": [
              "array(['IOT_hue', 'QA_factoid', 'calendar_delete_event',\n",
              "       'calendar_set_event', 'datetime_query', 'email_query',\n",
              "       'general_conversation', 'general_feedback', 'music_play',\n",
              "       'news_query', 'radio_play', 'weather_request'], dtype=object)"
            ]
          },
          "metadata": {},
          "execution_count": 19
        }
      ]
    },
    {
      "cell_type": "markdown",
      "source": [
        "##Bert"
      ],
      "metadata": {
        "id": "aKaBqamTlRMg"
      }
    },
    {
      "cell_type": "code",
      "source": [
        "pre_trained_BERTmodel='bert-base-uncased'\n",
        "BERT_tokenizer=BertTokenizerFast.from_pretrained(pre_trained_BERTmodel)"
      ],
      "metadata": {
        "id": "1AqFc98ClJEN"
      },
      "execution_count": 20,
      "outputs": []
    },
    {
      "cell_type": "code",
      "source": [
        "text= \"I was on cloud nine, when I got a new project.\"\n",
        "\n",
        "#Convert text to tokens & token_ids\n",
        "tokens=BERT_tokenizer.tokenize(text)\n",
        "token_ids=BERT_tokenizer.convert_tokens_to_ids(tokens)\n",
        "\n",
        "print(f'Sentence : {text}')\n",
        "print(f'Tokens :{tokens}')\n",
        "print(f'Token IDs : {token_ids}')"
      ],
      "metadata": {
        "id": "81A9iiuUlWrO",
        "outputId": "f8d2bf6a-36e4-4450-bfb1-b4b3688743d1",
        "colab": {
          "base_uri": "https://localhost:8080/"
        }
      },
      "execution_count": 21,
      "outputs": [
        {
          "output_type": "stream",
          "name": "stdout",
          "text": [
            "Sentence : I was on cloud nine, when I got a new project.\n",
            "Tokens :['i', 'was', 'on', 'cloud', 'nine', ',', 'when', 'i', 'got', 'a', 'new', 'project', '.']\n",
            "Token IDs : [1045, 2001, 2006, 6112, 3157, 1010, 2043, 1045, 2288, 1037, 2047, 2622, 1012]\n"
          ]
        }
      ]
    },
    {
      "cell_type": "code",
      "source": [
        "encoding=BERT_tokenizer.encode_plus(\n",
        "    text,\n",
        "    max_length=32,\n",
        "    add_special_tokens=True,   # 'Add [SEP] & [CLS]'\n",
        "    padding=\"max_length\",\n",
        "    truncation=True,\n",
        "    return_attention_mask=True,  # Reurns array of 0's & 1's to distinguish padded tokens from real tokens.\n",
        "    return_token_type_ids=False,\n",
        "    return_tensors='pt'         # Returns pytorch tensors\n",
        ")\n",
        "\n",
        "encoding.keys()"
      ],
      "metadata": {
        "id": "B30lbY_glaTR",
        "outputId": "978f2f9c-144b-4acb-e78d-477d7a2a64ba",
        "colab": {
          "base_uri": "https://localhost:8080/"
        }
      },
      "execution_count": 22,
      "outputs": [
        {
          "output_type": "execute_result",
          "data": {
            "text/plain": [
              "dict_keys(['input_ids', 'attention_mask'])"
            ]
          },
          "metadata": {},
          "execution_count": 22
        }
      ]
    },
    {
      "cell_type": "code",
      "source": [
        "# Check input_ids\n",
        "print('Maximum length of input_ids for each sentence : {}'.format(len(encoding['input_ids'][0])))\n",
        "encoding['input_ids'][0]"
      ],
      "metadata": {
        "id": "hDBNgjGRlhOA",
        "outputId": "595534d9-bc4a-48fc-92e9-8d1f41ddbe1e",
        "colab": {
          "base_uri": "https://localhost:8080/"
        }
      },
      "execution_count": 23,
      "outputs": [
        {
          "output_type": "stream",
          "name": "stdout",
          "text": [
            "Maximum length of input_ids for each sentence : 32\n"
          ]
        },
        {
          "output_type": "execute_result",
          "data": {
            "text/plain": [
              "tensor([ 101, 1045, 2001, 2006, 6112, 3157, 1010, 2043, 1045, 2288, 1037, 2047,\n",
              "        2622, 1012,  102,    0,    0,    0,    0,    0,    0,    0,    0,    0,\n",
              "           0,    0,    0,    0,    0,    0,    0,    0])"
            ]
          },
          "metadata": {},
          "execution_count": 23
        }
      ]
    },
    {
      "cell_type": "code",
      "source": [
        "print(f\"Maximum length of attention mask for each sentence : {len(encoding['attention_mask'][0])}\")\n",
        "encoding['attention_mask'][0]"
      ],
      "metadata": {
        "id": "__454k8blkUw",
        "outputId": "78fc60a6-df90-46c4-c10f-e4e4bdfc25d1",
        "colab": {
          "base_uri": "https://localhost:8080/"
        }
      },
      "execution_count": 24,
      "outputs": [
        {
          "output_type": "stream",
          "name": "stdout",
          "text": [
            "Maximum length of attention mask for each sentence : 32\n"
          ]
        },
        {
          "output_type": "execute_result",
          "data": {
            "text/plain": [
              "tensor([1, 1, 1, 1, 1, 1, 1, 1, 1, 1, 1, 1, 1, 1, 1, 0, 0, 0, 0, 0, 0, 0, 0, 0,\n",
              "        0, 0, 0, 0, 0, 0, 0, 0])"
            ]
          },
          "metadata": {},
          "execution_count": 24
        }
      ]
    },
    {
      "cell_type": "code",
      "source": [
        "special_tokens=BERT_tokenizer.convert_ids_to_tokens(encoding['input_ids'][0])\n",
        "special_tokens"
      ],
      "metadata": {
        "id": "nk7cxtEXloFR",
        "outputId": "15bd767b-f866-405d-ed18-ce66f12e66e0",
        "colab": {
          "base_uri": "https://localhost:8080/"
        }
      },
      "execution_count": 25,
      "outputs": [
        {
          "output_type": "execute_result",
          "data": {
            "text/plain": [
              "['[CLS]',\n",
              " 'i',\n",
              " 'was',\n",
              " 'on',\n",
              " 'cloud',\n",
              " 'nine',\n",
              " ',',\n",
              " 'when',\n",
              " 'i',\n",
              " 'got',\n",
              " 'a',\n",
              " 'new',\n",
              " 'project',\n",
              " '.',\n",
              " '[SEP]',\n",
              " '[PAD]',\n",
              " '[PAD]',\n",
              " '[PAD]',\n",
              " '[PAD]',\n",
              " '[PAD]',\n",
              " '[PAD]',\n",
              " '[PAD]',\n",
              " '[PAD]',\n",
              " '[PAD]',\n",
              " '[PAD]',\n",
              " '[PAD]',\n",
              " '[PAD]',\n",
              " '[PAD]',\n",
              " '[PAD]',\n",
              " '[PAD]',\n",
              " '[PAD]',\n",
              " '[PAD]']"
            ]
          },
          "metadata": {},
          "execution_count": 25
        }
      ]
    },
    {
      "cell_type": "code",
      "source": [
        "token_lens=[]\n",
        "for text in train_data.speech_text:\n",
        "  tokens_text=BERT_tokenizer.encode(text,max_length=150,truncation=True)\n",
        "  token_lens.append(len(tokens_text))"
      ],
      "metadata": {
        "id": "9H583xEplsyA"
      },
      "execution_count": 26,
      "outputs": []
    },
    {
      "cell_type": "code",
      "source": [
        "#Plot the tokens\n",
        "plt.figure(figsize=(8,6))\n",
        "sns.distplot(token_lens)\n",
        "plt.xlim([0,150])\n",
        "plt.xlabel('Token count')"
      ],
      "metadata": {
        "id": "AF_d5eUYl6dv",
        "outputId": "4508c2d7-43bf-415d-c224-9e6a9355b98b",
        "colab": {
          "base_uri": "https://localhost:8080/",
          "height": 750
        }
      },
      "execution_count": 27,
      "outputs": [
        {
          "output_type": "stream",
          "name": "stderr",
          "text": [
            "<ipython-input-27-d32ff3e56e92>:3: UserWarning: \n",
            "\n",
            "`distplot` is a deprecated function and will be removed in seaborn v0.14.0.\n",
            "\n",
            "Please adapt your code to use either `displot` (a figure-level function with\n",
            "similar flexibility) or `histplot` (an axes-level function for histograms).\n",
            "\n",
            "For a guide to updating your code to use the new functions, please see\n",
            "https://gist.github.com/mwaskom/de44147ed2974457ad6372750bbe5751\n",
            "\n",
            "  sns.distplot(token_lens)\n"
          ]
        },
        {
          "output_type": "execute_result",
          "data": {
            "text/plain": [
              "Text(0.5, 0, 'Token count')"
            ]
          },
          "metadata": {},
          "execution_count": 27
        },
        {
          "output_type": "display_data",
          "data": {
            "text/plain": [
              "<Figure size 800x600 with 1 Axes>"
            ],
            "image/png": "[encoded data removed]"
          },
          "metadata": {}
        }
      ]
    },
    {
      "cell_type": "markdown",
      "source": [
        "## Create a Pytorch Dataset"
      ],
      "metadata": {
        "id": "SAQZChlCmEqZ"
      }
    },
    {
      "cell_type": "code",
      "source": [
        "class Speech_text_Dataset(Dataset):\n",
        "\n",
        "  def __init__(self,text,intent,tokenizer,max_length):\n",
        "    self.text=text\n",
        "    self.intent=intent\n",
        "    self.tokenizer=tokenizer\n",
        "    self.max_length=max_length\n",
        "\n",
        "  def __len__(self):\n",
        "    return len(self.text)\n",
        "\n",
        "  def __getitem__(self,item):\n",
        "    text = str(self.text[item])\n",
        "    intent = self.intent[item]\n",
        "\n",
        "    encoding = self.tokenizer.encode_plus(\n",
        "        text,\n",
        "        max_length=Max_length,\n",
        "        add_special_tokens=True,\n",
        "        padding=\"max_length\",\n",
        "        truncation=True,\n",
        "        return_attention_mask=True,\n",
        "        return_token_type_ids=False,\n",
        "        return_tensors='pt'\n",
        "       )\n",
        "           \n",
        "    return {\n",
        "        'speech_text':text,\n",
        "        'input_ids':encoding['input_ids'].flatten(),\n",
        "        'attention_mask':encoding['attention_mask'].flatten(),\n",
        "        'intent' : torch.tensor(intent,dtype=torch.long)\n",
        "    }"
      ],
      "metadata": {
        "id": "wUS99FAMl-RY"
      },
      "execution_count": 28,
      "outputs": []
    },
    {
      "cell_type": "markdown",
      "source": [
        "## let's split the train data to train and val"
      ],
      "metadata": {
        "id": "lTSWBaKFmOZL"
      }
    },
    {
      "cell_type": "code",
      "source": [
        "df_train,df_val=train_test_split(train_data,test_size=0.15 ,random_state=123)\n",
        "\n",
        "print('Print the shape of datasets...')\n",
        "print(f'Training dataset : {df_train.shape} ')\n",
        "print(f'Testing dataset : {test_data.shape}') \n",
        "print(f'Validation dataset : {df_val.shape}')"
      ],
      "metadata": {
        "id": "xA4tAiZ4mIJv",
        "outputId": "483ab65d-8723-4564-bd1e-b398b98c7ef6",
        "colab": {
          "base_uri": "https://localhost:8080/"
        }
      },
      "execution_count": 29,
      "outputs": [
        {
          "output_type": "stream",
          "name": "stdout",
          "text": [
            "Print the shape of datasets...\n",
            "Training dataset : (7000, 2) \n",
            "Testing dataset : (2058, 2)\n",
            "Validation dataset : (1236, 2)\n"
          ]
        }
      ]
    },
    {
      "cell_type": "code",
      "source": [
        "batch_size=8\n",
        "Max_length= 120\n",
        "def data_loader(df,tokenizer, max_length, batch):\n",
        "  ds=Speech_text_Dataset(\n",
        "      text=df.speech_text.to_numpy(),\n",
        "      intent=df.intent.to_numpy(),\n",
        "      tokenizer=tokenizer,\n",
        "      max_length=Max_length\n",
        "  )\n",
        "\n",
        "  return DataLoader(\n",
        "      ds,\n",
        "      batch_size=batch_size,\n",
        "      num_workers=4\n",
        "  )\n",
        "\n",
        "# Load datasets\n",
        "train_DataLoader=data_loader(df_train, BERT_tokenizer,Max_length,batch_size)\n",
        "test_DataLoader=data_loader(test_data, BERT_tokenizer,Max_length,batch_size)\n",
        "valid_DataLoader=data_loader(df_val, BERT_tokenizer,Max_length,batch_size)"
      ],
      "metadata": {
        "id": "B-eF2XIRmc2A",
        "outputId": "5a6d4008-f384-4864-f27d-1ad1de27297b",
        "colab": {
          "base_uri": "https://localhost:8080/"
        }
      },
      "execution_count": 30,
      "outputs": [
        {
          "output_type": "stream",
          "name": "stderr",
          "text": [
            "/usr/local/lib/python3.10/dist-packages/torch/utils/data/dataloader.py:560: UserWarning: This DataLoader will create 4 worker processes in total. Our suggested max number of worker in current system is 2, which is smaller than what this DataLoader is going to create. Please be aware that excessive worker creation might get DataLoader running slow or even freeze, lower the worker number to avoid potential slowness/freeze if necessary.\n",
            "  warnings.warn(_create_warning_msg(\n"
          ]
        }
      ]
    },
    {
      "cell_type": "code",
      "source": [
        "BERT_data=next(iter(train_DataLoader))\n",
        "BERT_data.keys()"
      ],
      "metadata": {
        "id": "_oqS3aClm1xv",
        "outputId": "67cb2e59-6c50-4efc-95eb-ab4740ca055f",
        "colab": {
          "base_uri": "https://localhost:8080/"
        }
      },
      "execution_count": 31,
      "outputs": [
        {
          "output_type": "execute_result",
          "data": {
            "text/plain": [
              "dict_keys(['speech_text', 'input_ids', 'attention_mask', 'intent'])"
            ]
          },
          "metadata": {},
          "execution_count": 31
        }
      ]
    },
    {
      "cell_type": "code",
      "source": [
        "print('Shape of the BERT_data keys...')\n",
        "print(f\"Input_ids : {BERT_data['input_ids'].shape}\")\n",
        "print(f\"Attention_mask : {BERT_data['attention_mask'].shape}\")\n",
        "print(f\"targets : {BERT_data['intent'].shape}\")"
      ],
      "metadata": {
        "id": "1PoZcPQyoY4O",
        "outputId": "2c302899-417c-4240-c58f-c3ec4ea7cf54",
        "colab": {
          "base_uri": "https://localhost:8080/"
        }
      },
      "execution_count": 32,
      "outputs": [
        {
          "output_type": "stream",
          "name": "stdout",
          "text": [
            "Shape of the BERT_data keys...\n",
            "Input_ids : torch.Size([8, 120])\n",
            "Attention_mask : torch.Size([8, 120])\n",
            "targets : torch.Size([8])\n"
          ]
        }
      ]
    },
    {
      "cell_type": "code",
      "source": [
        "input_ids = BERT_data['input_ids'].to(device)\n",
        "attention_mask = BERT_data['attention_mask'].to(device)\n",
        "targets=BERT_data['intent'].to(device)\n",
        "print(input_ids.shape)      # batch size x seq length\n",
        "print(attention_mask.shape) # batch size x seq length"
      ],
      "metadata": {
        "id": "1UsSjKg_ocAJ",
        "outputId": "a5fd3a1c-b3b0-449b-b99b-7f88304da12d",
        "colab": {
          "base_uri": "https://localhost:8080/"
        }
      },
      "execution_count": 33,
      "outputs": [
        {
          "output_type": "stream",
          "name": "stdout",
          "text": [
            "torch.Size([8, 120])\n",
            "torch.Size([8, 120])\n"
          ]
        }
      ]
    },
    {
      "cell_type": "code",
      "source": [
        "BERT_model = BertModel.from_pretrained(pre_trained_BERTmodel)\n",
        "BERT_model=BERT_model.to(device)"
      ],
      "metadata": {
        "id": "882snkV9otFH",
        "outputId": "419ed42a-27c1-4e24-b692-dc5b62cd7d8f",
        "colab": {
          "base_uri": "https://localhost:8080/"
        }
      },
      "execution_count": 34,
      "outputs": [
        {
          "output_type": "stream",
          "name": "stderr",
          "text": [
            "Some weights of the model checkpoint at bert-base-uncased were not used when initializing BertModel: ['cls.seq_relationship.weight', 'cls.predictions.transform.LayerNorm.weight', 'cls.seq_relationship.bias', 'cls.predictions.transform.dense.weight', 'cls.predictions.bias', 'cls.predictions.transform.dense.bias', 'cls.predictions.transform.LayerNorm.bias']\n",
            "- This IS expected if you are initializing BertModel from the checkpoint of a model trained on another task or with another architecture (e.g. initializing a BertForSequenceClassification model from a BertForPreTraining model).\n",
            "- This IS NOT expected if you are initializing BertModel from the checkpoint of a model that you expect to be exactly identical (initializing a BertForSequenceClassification model from a BertForSequenceClassification model).\n"
          ]
        }
      ]
    },
    {
      "cell_type": "code",
      "source": [
        "n_classes=12"
      ],
      "metadata": {
        "id": "dPY3gKBVqXO7"
      },
      "execution_count": 35,
      "outputs": []
    },
    {
      "cell_type": "code",
      "source": [
        "class BERT_SentimentClassifier(nn.Module):\n",
        "   def __init__(self, n_classes):\n",
        "     super(BERT_SentimentClassifier, self).__init__()\n",
        "     self.bert = BertModel.from_pretrained(pre_trained_BERTmodel)\n",
        "     self.drop = nn.Dropout(p=0.35)\n",
        "     self.hidden=nn.Linear(self.bert.config.hidden_size,128)\n",
        "     self.out = nn.Linear(128, n_classes)\n",
        "     #self.softmax=nn.Softmax(dim=1)\n",
        "   def forward(self, input_ids, attention_mask):\n",
        "     _, pooled_output = self.bert(\n",
        "         input_ids=input_ids,\n",
        "         attention_mask=attention_mask,return_dict=False\n",
        "    )\n",
        "     output = self.drop(pooled_output)\n",
        "     output=self.hidden(output)\n",
        "     output=self.out(output)\n",
        "     #output=self.softmax(output)\n",
        "     return output"
      ],
      "metadata": {
        "id": "DG0_PyudqYPW"
      },
      "execution_count": 36,
      "outputs": []
    },
    {
      "cell_type": "code",
      "source": [
        "BERT_model = BERT_SentimentClassifier(12)\n",
        "BERT_model=BERT_model.to(device)"
      ],
      "metadata": {
        "id": "aUEjxROpqhb8",
        "outputId": "d687a898-6db2-49ca-e1ac-c1628d090b41",
        "colab": {
          "base_uri": "https://localhost:8080/"
        }
      },
      "execution_count": 37,
      "outputs": [
        {
          "output_type": "stream",
          "name": "stderr",
          "text": [
            "Some weights of the model checkpoint at bert-base-uncased were not used when initializing BertModel: ['cls.seq_relationship.weight', 'cls.predictions.transform.LayerNorm.weight', 'cls.seq_relationship.bias', 'cls.predictions.transform.dense.weight', 'cls.predictions.bias', 'cls.predictions.transform.dense.bias', 'cls.predictions.transform.LayerNorm.bias']\n",
            "- This IS expected if you are initializing BertModel from the checkpoint of a model trained on another task or with another architecture (e.g. initializing a BertForSequenceClassification model from a BertForPreTraining model).\n",
            "- This IS NOT expected if you are initializing BertModel from the checkpoint of a model that you expect to be exactly identical (initializing a BertForSequenceClassification model from a BertForSequenceClassification model).\n"
          ]
        }
      ]
    },
    {
      "cell_type": "code",
      "source": [
        "F.softmax(BERT_model(input_ids,attention_mask), dim=1).to(device)"
      ],
      "metadata": {
        "id": "m_LRmCCcqoSN",
        "outputId": "68415e80-9baa-466c-9071-c52321c2665a",
        "colab": {
          "base_uri": "https://localhost:8080/"
        }
      },
      "execution_count": 38,
      "outputs": [
        {
          "output_type": "execute_result",
          "data": {
            "text/plain": [
              "tensor([[0.0980, 0.0787, 0.0772, 0.0611, 0.0654, 0.1354, 0.0620, 0.0718, 0.0939,\n",
              "         0.0607, 0.0676, 0.1283],\n",
              "        [0.0961, 0.0677, 0.0576, 0.0610, 0.0956, 0.1337, 0.0679, 0.0778, 0.0784,\n",
              "         0.0891, 0.0802, 0.0949],\n",
              "        [0.1177, 0.0768, 0.0541, 0.0625, 0.0680, 0.1330, 0.0542, 0.0528, 0.0887,\n",
              "         0.0850, 0.0944, 0.1128],\n",
              "        [0.1235, 0.0764, 0.0628, 0.0703, 0.0749, 0.0922, 0.0726, 0.0669, 0.0872,\n",
              "         0.0774, 0.0842, 0.1115],\n",
              "        [0.0833, 0.0720, 0.0742, 0.0569, 0.0727, 0.0945, 0.0668, 0.0704, 0.0729,\n",
              "         0.0570, 0.1277, 0.1515],\n",
              "        [0.1041, 0.0806, 0.0767, 0.0636, 0.0775, 0.1343, 0.0625, 0.0598, 0.0685,\n",
              "         0.0960, 0.0881, 0.0882],\n",
              "        [0.0978, 0.0744, 0.0688, 0.0747, 0.0685, 0.1136, 0.0604, 0.0698, 0.0925,\n",
              "         0.0841, 0.0791, 0.1162],\n",
              "        [0.0936, 0.0815, 0.0814, 0.0625, 0.0619, 0.1249, 0.0702, 0.0578, 0.0868,\n",
              "         0.0673, 0.0852, 0.1269]], device='cuda:0', grad_fn=<SoftmaxBackward0>)"
            ]
          },
          "metadata": {},
          "execution_count": 38
        }
      ]
    },
    {
      "cell_type": "code",
      "source": [
        "\n",
        "BERT_model"
      ],
      "metadata": {
        "id": "UK2CmvKHqs4N",
        "outputId": "36c28900-d341-4a65-f275-77950a9d4322",
        "colab": {
          "base_uri": "https://localhost:8080/"
        }
      },
      "execution_count": 39,
      "outputs": [
        {
          "output_type": "execute_result",
          "data": {
            "text/plain": [
              "BERT_SentimentClassifier(\n",
              "  (bert): BertModel(\n",
              "    (embeddings): BertEmbeddings(\n",
              "      (word_embeddings): Embedding(30522, 768, padding_idx=0)\n",
              "      (position_embeddings): Embedding(512, 768)\n",
              "      (token_type_embeddings): Embedding(2, 768)\n",
              "      (LayerNorm): LayerNorm((768,), eps=1e-12, elementwise_affine=True)\n",
              "      (dropout): Dropout(p=0.1, inplace=False)\n",
              "    )\n",
              "    (encoder): BertEncoder(\n",
              "      (layer): ModuleList(\n",
              "        (0-11): 12 x BertLayer(\n",
              "          (attention): BertAttention(\n",
              "            (self): BertSelfAttention(\n",
              "              (query): Linear(in_features=768, out_features=768, bias=True)\n",
              "              (key): Linear(in_features=768, out_features=768, bias=True)\n",
              "              (value): Linear(in_features=768, out_features=768, bias=True)\n",
              "              (dropout): Dropout(p=0.1, inplace=False)\n",
              "            )\n",
              "            (output): BertSelfOutput(\n",
              "              (dense): Linear(in_features=768, out_features=768, bias=True)\n",
              "              (LayerNorm): LayerNorm((768,), eps=1e-12, elementwise_affine=True)\n",
              "              (dropout): Dropout(p=0.1, inplace=False)\n",
              "            )\n",
              "          )\n",
              "          (intermediate): BertIntermediate(\n",
              "            (dense): Linear(in_features=768, out_features=3072, bias=True)\n",
              "            (intermediate_act_fn): GELUActivation()\n",
              "          )\n",
              "          (output): BertOutput(\n",
              "            (dense): Linear(in_features=3072, out_features=768, bias=True)\n",
              "            (LayerNorm): LayerNorm((768,), eps=1e-12, elementwise_affine=True)\n",
              "            (dropout): Dropout(p=0.1, inplace=False)\n",
              "          )\n",
              "        )\n",
              "      )\n",
              "    )\n",
              "    (pooler): BertPooler(\n",
              "      (dense): Linear(in_features=768, out_features=768, bias=True)\n",
              "      (activation): Tanh()\n",
              "    )\n",
              "  )\n",
              "  (drop): Dropout(p=0.35, inplace=False)\n",
              "  (hidden): Linear(in_features=768, out_features=128, bias=True)\n",
              "  (out): Linear(in_features=128, out_features=12, bias=True)\n",
              ")"
            ]
          },
          "metadata": {},
          "execution_count": 39
        }
      ]
    },
    {
      "cell_type": "code",
      "source": [
        "epochs=5\n",
        "optimizer=AdamW(BERT_model.parameters(),lr=2e-5,correct_bias=False)\n",
        "total_steps=len(train_DataLoader)*epochs\n",
        "\n",
        "scheduler=get_linear_schedule_with_warmup(\n",
        "    optimizer,\n",
        "    num_warmup_steps=0,\n",
        "    num_training_steps=total_steps\n",
        ")\n",
        "\n",
        "loss_fn=nn.CrossEntropyLoss().to(device)"
      ],
      "metadata": {
        "id": "TNSWlmDwrnMV",
        "outputId": "ff81d8e0-4664-4a78-d728-ba2767b3fb08",
        "colab": {
          "base_uri": "https://localhost:8080/"
        }
      },
      "execution_count": 40,
      "outputs": [
        {
          "output_type": "stream",
          "name": "stderr",
          "text": [
            "/usr/local/lib/python3.10/dist-packages/transformers/optimization.py:411: FutureWarning: This implementation of AdamW is deprecated and will be removed in a future version. Use the PyTorch implementation torch.optim.AdamW instead, or set `no_deprecation_warning=True` to disable this warning\n",
            "  warnings.warn(\n"
          ]
        }
      ]
    },
    {
      "cell_type": "code",
      "source": [
        "def train(\n",
        "  model,\n",
        "  data_loader,\n",
        "  loss_fn,\n",
        "  optimizer,\n",
        "  device,\n",
        "  scheduler,\n",
        "  n_observations\n",
        "):\n",
        "  model = model.train()\n",
        "  losses = []\n",
        "  correct_predictions = 0\n",
        "  for d in data_loader:\n",
        "    input_ids = d[\"input_ids\"].to(device)\n",
        "    attention_mask = d[\"attention_mask\"].to(device)\n",
        "    targets = d[\"intent\"].to(device)\n",
        "    #Feed data to BERT model\n",
        "    outputs = model(\n",
        "      input_ids=input_ids,\n",
        "      attention_mask=attention_mask\n",
        "      )\n",
        "    _, preds = torch.max(outputs, dim=1)\n",
        "    loss = loss_fn(outputs, targets)\n",
        "    correct_predictions += torch.sum(preds == targets)\n",
        "    losses.append(loss.item())\n",
        "    torch.autograd.set_detect_anomaly(True)\n",
        "    loss.backward()\n",
        "    nn.utils.clip_grad_norm_(model.parameters(), max_norm=1.0)     # Clip gradients to avoid exploding gradient problem\n",
        "    optimizer.step()\n",
        "    scheduler.step()\n",
        "    optimizer.zero_grad()\n",
        "  return correct_predictions.double() / n_observations, np.mean(losses)"
      ],
      "metadata": {
        "id": "IWqJR2vzrx6E"
      },
      "execution_count": 41,
      "outputs": []
    },
    {
      "cell_type": "code",
      "source": [
        "def eval_model(model, data_loader,device,loss_fn, n_observations):\n",
        "  model = model.eval()\n",
        "  losses = []\n",
        "  correct_predictions = 0\n",
        "  with torch.no_grad():\n",
        "    for d in data_loader:\n",
        "      input_ids = d[\"input_ids\"].to(device)\n",
        "      attention_mask = d[\"attention_mask\"].to(device)\n",
        "      targets = d[\"intent\"].to(device)\n",
        "      # Feed data to BERT model\n",
        "      outputs = model(\n",
        "        input_ids=input_ids,\n",
        "        attention_mask=attention_mask,\n",
        "      )\n",
        "      _, preds = torch.max(outputs, dim=1)\n",
        "      loss = loss_fn(outputs, targets)\n",
        "      correct_predictions += torch.sum(preds == targets)\n",
        "      losses.append(loss.item())\n",
        "  return correct_predictions.double() / n_observations, np.mean(losses)"
      ],
      "metadata": {
        "id": "GJU4eYoZr75O"
      },
      "execution_count": 42,
      "outputs": []
    },
    {
      "cell_type": "code",
      "source": [
        "%%time\n",
        "history = defaultdict(list)\n",
        "best_accuracy = 0\n",
        "for epoch in range(epochs):\n",
        "  print(f'Epoch {epoch + 1}/{epochs}')\n",
        "  print('-' * 10)\n",
        "  train_acc, train_loss = train(\n",
        "    BERT_model,\n",
        "    train_DataLoader,\n",
        "    loss_fn,\n",
        "    optimizer,\n",
        "    device,\n",
        "    scheduler,\n",
        "    len(df_train)\n",
        "  )\n",
        "  print(f'Train loss {train_loss} accuracy {train_acc}')\n",
        "  val_acc, val_loss = eval_model(\n",
        "    BERT_model,\n",
        "    valid_DataLoader,\n",
        "    device,\n",
        "    loss_fn,\n",
        "    len(df_val)\n",
        "  )\n",
        "  print(f'Validation  loss {val_loss} accuracy {val_acc}')\n",
        "  print()\n",
        "  history['train_acc'].append(train_acc)\n",
        "  history['train_loss'].append(train_loss)\n",
        "  history['val_acc'].append(val_acc)\n",
        "  history['val_loss'].append(val_loss)\n",
        "  if val_acc > best_accuracy:\n",
        "    torch.save(BERT_model.state_dict(), 'best_model_state.bin')\n",
        "    best_accuracy = val_acc"
      ],
      "metadata": {
        "id": "TuRtlCYOr9eq",
        "outputId": "4bb339d5-e69f-483e-b58c-049f5ca965c8",
        "colab": {
          "base_uri": "https://localhost:8080/"
        }
      },
      "execution_count": 43,
      "outputs": [
        {
          "output_type": "stream",
          "name": "stdout",
          "text": [
            "Epoch 1/5\n",
            "----------\n",
            "Train loss 0.5915784578344652 accuracy 0.8465714285714286\n",
            "Validation  loss 0.3409481156437147 accuracy 0.9215210355987056\n",
            "\n",
            "Epoch 2/5\n",
            "----------\n",
            "Train loss 0.23459517253908727 accuracy 0.9477142857142857\n",
            "Validation  loss 0.3774413005148451 accuracy 0.9231391585760518\n",
            "\n",
            "Epoch 3/5\n",
            "----------\n",
            "Train loss 0.15322519287440395 accuracy 0.9675714285714286\n",
            "Validation  loss 0.3870594397052041 accuracy 0.9231391585760518\n",
            "\n",
            "Epoch 4/5\n",
            "----------\n",
            "Train loss 0.11193277571323727 accuracy 0.9757142857142858\n",
            "Validation  loss 0.3665888480323878 accuracy 0.9312297734627832\n",
            "\n",
            "Epoch 5/5\n",
            "----------\n",
            "Train loss 0.08708757237471373 accuracy 0.980857142857143\n",
            "Validation  loss 0.37787710940540437 accuracy 0.93042071197411\n",
            "\n",
            "CPU times: user 32min 39s, sys: 2min 50s, total: 35min 29s\n",
            "Wall time: 36min 9s\n"
          ]
        }
      ]
    }
  ]
}
